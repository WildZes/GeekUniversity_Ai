{
  "cells": [
    {
      "cell_type": "markdown",
      "metadata": {
        "id": "2nM3g4_RMwc8"
      },
      "source": [
        "\n",
        "# Введение в обработку естественного языка\n",
        "## Урок 15. Консультация по курсовому проекту. Создание чат-бота в Telegram\n",
        "Задание\n",
        "\n",
        "- продумать написать тему курсового проекта\n",
        "- подготовить данные для обучения ([SDSJ-2017 challenge problem B](https://github.com/sberbank-ai/data-science-journey-2017/tree/master/problem_B))\n",
        "- продумать интенты на которые вы будете обучаться\n",
        "\n",
        "Для сдачи задания необходимо написать\n",
        "\n",
        "- на какую тему ваш бот будет общаться (на каких датасетах планируете обучать модели)\n",
        "- написать на какие интенты вы будете обучать бота"
      ]
    },
    {
      "cell_type": "code",
      "source": [
        "# !pip install --q deeppavlov"
      ],
      "metadata": {
        "colab": {
          "base_uri": "https://localhost:8080/"
        },
        "id": "K9uo6vsjao0H",
        "outputId": "3e602d46-df50-4bb4-950e-0f52574c7148"
      },
      "execution_count": null,
      "outputs": [
        {
          "output_type": "stream",
          "name": "stdout",
          "text": [
            "\u001b[K     |████████████████████████████████| 878 kB 30.1 MB/s \n",
            "\u001b[K     |████████████████████████████████| 46 kB 3.6 MB/s \n",
            "\u001b[K     |████████████████████████████████| 76 kB 4.5 MB/s \n",
            "\u001b[K     |████████████████████████████████| 26.1 MB 49.7 MB/s \n",
            "\u001b[K     |████████████████████████████████| 43 kB 1.8 MB/s \n",
            "\u001b[K     |████████████████████████████████| 8.2 MB 38.8 MB/s \n",
            "\u001b[K     |████████████████████████████████| 2.1 MB 37.0 MB/s \n",
            "\u001b[K     |████████████████████████████████| 3.8 MB 23.0 MB/s \n",
            "\u001b[K     |████████████████████████████████| 7.3 MB 55.9 MB/s \n",
            "\u001b[K     |████████████████████████████████| 43 kB 2.0 MB/s \n",
            "\u001b[K     |████████████████████████████████| 57 kB 5.5 MB/s \n",
            "\u001b[K     |████████████████████████████████| 65 kB 4.6 MB/s \n",
            "\u001b[K     |████████████████████████████████| 859 kB 53.4 MB/s \n",
            "\u001b[K     |████████████████████████████████| 40 kB 22 kB/s \n",
            "\u001b[K     |████████████████████████████████| 20.1 MB 9.0 MB/s \n",
            "\u001b[K     |████████████████████████████████| 1.5 MB 42.1 MB/s \n",
            "\u001b[K     |████████████████████████████████| 510 kB 42.4 MB/s \n",
            "\u001b[K     |████████████████████████████████| 55 kB 4.2 MB/s \n",
            "\u001b[K     |████████████████████████████████| 6.7 MB 42.5 MB/s \n",
            "\u001b[K     |████████████████████████████████| 10.4 MB 51.8 MB/s \n",
            "\u001b[K     |████████████████████████████████| 2.9 MB 48.3 MB/s \n",
            "\u001b[K     |████████████████████████████████| 654 kB 43.7 MB/s \n",
            "\u001b[K     |████████████████████████████████| 46 kB 4.2 MB/s \n",
            "\u001b[K     |████████████████████████████████| 7.1 MB 42.1 MB/s \n",
            "\u001b[K     |████████████████████████████████| 4.1 MB 37.8 MB/s \n",
            "\u001b[K     |████████████████████████████████| 58 kB 6.3 MB/s \n",
            "\u001b[K     |████████████████████████████████| 79 kB 7.9 MB/s \n",
            "\u001b[K     |████████████████████████████████| 219 kB 43.7 MB/s \n",
            "\u001b[K     |████████████████████████████████| 53 kB 2.5 MB/s \n",
            "\u001b[?25h  Building wheel for nltk (setup.py) ... \u001b[?25l\u001b[?25hdone\n",
            "  Building wheel for overrides (setup.py) ... \u001b[?25l\u001b[?25hdone\n",
            "  Building wheel for prometheus-client (setup.py) ... \u001b[?25l\u001b[?25hdone\n",
            "  Building wheel for pytelegrambotapi (setup.py) ... \u001b[?25l\u001b[?25hdone\n",
            "  Building wheel for sacremoses (setup.py) ... \u001b[?25l\u001b[?25hdone\n",
            "  Building wheel for starlette (setup.py) ... \u001b[?25l\u001b[?25hdone\n",
            "\u001b[31mERROR: pip's dependency resolver does not currently take into account all the packages that are installed. This behaviour is the source of the following dependency conflicts.\n",
            "yellowbrick 1.4 requires scikit-learn>=1.0.0, but you have scikit-learn 0.21.2 which is incompatible.\n",
            "xarray 0.20.2 requires pandas>=1.1, but you have pandas 0.25.3 which is incompatible.\n",
            "xarray-einstats 0.2.2 requires numpy>=1.21, but you have numpy 1.18.0 which is incompatible.\n",
            "thinc 8.1.0 requires pydantic!=1.8,!=1.8.1,<1.10.0,>=1.7.4, but you have pydantic 1.3 which is incompatible.\n",
            "tensorflow 2.8.2+zzzcolab20220719082949 requires numpy>=1.20, but you have numpy 1.18.0 which is incompatible.\n",
            "tables 3.7.0 requires numpy>=1.19.0, but you have numpy 1.18.0 which is incompatible.\n",
            "spacy 3.4.0 requires pydantic!=1.8,!=1.8.1,<1.10.0,>=1.7.4, but you have pydantic 1.3 which is incompatible.\n",
            "pymc3 3.11.5 requires scipy<1.8.0,>=1.7.3, but you have scipy 1.4.1 which is incompatible.\n",
            "prophet 1.1 requires pandas>=1.0.4, but you have pandas 0.25.3 which is incompatible.\n",
            "kapre 0.3.7 requires numpy>=1.18.5, but you have numpy 1.18.0 which is incompatible.\n",
            "jaxlib 0.3.14+cuda11.cudnn805 requires numpy>=1.19, but you have numpy 1.18.0 which is incompatible.\n",
            "jaxlib 0.3.14+cuda11.cudnn805 requires scipy>=1.5, but you have scipy 1.4.1 which is incompatible.\n",
            "jax 0.3.14 requires numpy>=1.19, but you have numpy 1.18.0 which is incompatible.\n",
            "jax 0.3.14 requires scipy>=1.5, but you have scipy 1.4.1 which is incompatible.\n",
            "imbalanced-learn 0.8.1 requires scikit-learn>=0.24, but you have scikit-learn 0.21.2 which is incompatible.\n",
            "google-colab 1.0.0 requires pandas>=1.1.0, but you have pandas 0.25.3 which is incompatible.\n",
            "google-colab 1.0.0 requires requests~=2.23.0, but you have requests 2.22.0 which is incompatible.\n",
            "datascience 0.10.6 requires folium==0.2.1, but you have folium 0.8.3 which is incompatible.\n",
            "cmdstanpy 1.0.4 requires numpy>=1.21, but you have numpy 1.18.0 which is incompatible.\n",
            "albumentations 0.1.12 requires imgaug<0.2.7,>=0.2.5, but you have imgaug 0.2.9 which is incompatible.\u001b[0m\n"
          ]
        }
      ]
    },
    {
      "cell_type": "code",
      "source": [
        "# !python -m deeppavlov install squad_torch_bert"
      ],
      "metadata": {
        "id": "maOb90c0cp5P",
        "colab": {
          "base_uri": "https://localhost:8080/"
        },
        "outputId": "e0635607-84fa-401d-ba34-8000c378f95b"
      },
      "execution_count": null,
      "outputs": [
        {
          "output_type": "stream",
          "name": "stdout",
          "text": [
            "2022-07-28 15:06:30.187 INFO in 'deeppavlov.core.common.file'['file'] at line 32: Interpreting 'squad_torch_bert' as '/usr/local/lib/python3.7/dist-packages/deeppavlov/configs/squad/squad_torch_bert.json'\n",
            "Looking in indexes: https://pypi.org/simple, https://us-python.pkg.dev/colab-wheels/public/simple/\n",
            "Collecting transformers==4.6.0\n",
            "  Downloading transformers-4.6.0-py3-none-any.whl (2.3 MB)\n",
            "\u001b[K     |████████████████████████████████| 2.3 MB 29.1 MB/s \n",
            "\u001b[?25hRequirement already satisfied: numpy>=1.17 in /usr/local/lib/python3.7/dist-packages (from transformers==4.6.0) (1.18.0)\n",
            "Requirement already satisfied: sacremoses in /usr/local/lib/python3.7/dist-packages (from transformers==4.6.0) (0.0.35)\n",
            "Requirement already satisfied: importlib-metadata in /usr/local/lib/python3.7/dist-packages (from transformers==4.6.0) (4.12.0)\n",
            "Requirement already satisfied: packaging in /usr/local/lib/python3.7/dist-packages (from transformers==4.6.0) (21.3)\n",
            "Requirement already satisfied: tqdm>=4.27 in /usr/local/lib/python3.7/dist-packages (from transformers==4.6.0) (4.62.0)\n",
            "Collecting tokenizers<0.11,>=0.10.1\n",
            "  Downloading tokenizers-0.10.3-cp37-cp37m-manylinux_2_5_x86_64.manylinux1_x86_64.manylinux_2_12_x86_64.manylinux2010_x86_64.whl (3.3 MB)\n",
            "\u001b[K     |████████████████████████████████| 3.3 MB 47.4 MB/s \n",
            "\u001b[?25hRequirement already satisfied: filelock in /usr/local/lib/python3.7/dist-packages (from transformers==4.6.0) (3.0.12)\n",
            "Requirement already satisfied: requests in /usr/local/lib/python3.7/dist-packages (from transformers==4.6.0) (2.22.0)\n",
            "Collecting huggingface-hub==0.0.8\n",
            "  Downloading huggingface_hub-0.0.8-py3-none-any.whl (34 kB)\n",
            "Requirement already satisfied: regex!=2019.12.17 in /usr/local/lib/python3.7/dist-packages (from transformers==4.6.0) (2022.6.2)\n",
            "Requirement already satisfied: zipp>=0.5 in /usr/local/lib/python3.7/dist-packages (from importlib-metadata->transformers==4.6.0) (3.8.1)\n",
            "Requirement already satisfied: typing-extensions>=3.6.4 in /usr/local/lib/python3.7/dist-packages (from importlib-metadata->transformers==4.6.0) (4.1.1)\n",
            "Requirement already satisfied: pyparsing!=3.0.5,>=2.0.2 in /usr/local/lib/python3.7/dist-packages (from packaging->transformers==4.6.0) (3.0.9)\n",
            "Requirement already satisfied: urllib3!=1.25.0,!=1.25.1,<1.26,>=1.21.1 in /usr/local/lib/python3.7/dist-packages (from requests->transformers==4.6.0) (1.24.3)\n",
            "Requirement already satisfied: idna<2.9,>=2.5 in /usr/local/lib/python3.7/dist-packages (from requests->transformers==4.6.0) (2.8)\n",
            "Requirement already satisfied: certifi>=2017.4.17 in /usr/local/lib/python3.7/dist-packages (from requests->transformers==4.6.0) (2022.6.15)\n",
            "Requirement already satisfied: chardet<3.1.0,>=3.0.2 in /usr/local/lib/python3.7/dist-packages (from requests->transformers==4.6.0) (3.0.4)\n",
            "Requirement already satisfied: six in /usr/local/lib/python3.7/dist-packages (from sacremoses->transformers==4.6.0) (1.15.0)\n",
            "Requirement already satisfied: joblib in /usr/local/lib/python3.7/dist-packages (from sacremoses->transformers==4.6.0) (1.1.0)\n",
            "Requirement already satisfied: click in /usr/local/lib/python3.7/dist-packages (from sacremoses->transformers==4.6.0) (7.1.2)\n",
            "Installing collected packages: tokenizers, huggingface-hub, transformers\n",
            "Successfully installed huggingface-hub-0.0.8 tokenizers-0.10.3 transformers-4.6.0\n",
            "Looking in indexes: https://pypi.org/simple, https://us-python.pkg.dev/colab-wheels/public/simple/\n",
            "Collecting torch==1.6.0\n",
            "  Downloading torch-1.6.0-cp37-cp37m-manylinux1_x86_64.whl (748.8 MB)\n",
            "\u001b[K     |████████████████████████████████| 748.8 MB 15 kB/s \n",
            "\u001b[?25hRequirement already satisfied: future in /usr/local/lib/python3.7/dist-packages (from torch==1.6.0) (0.16.0)\n",
            "Requirement already satisfied: numpy in /usr/local/lib/python3.7/dist-packages (from torch==1.6.0) (1.18.0)\n",
            "Installing collected packages: torch\n",
            "  Attempting uninstall: torch\n",
            "    Found existing installation: torch 1.12.0+cu113\n",
            "    Uninstalling torch-1.12.0+cu113:\n",
            "      Successfully uninstalled torch-1.12.0+cu113\n",
            "\u001b[31mERROR: pip's dependency resolver does not currently take into account all the packages that are installed. This behaviour is the source of the following dependency conflicts.\n",
            "torchvision 0.13.0+cu113 requires torch==1.12.0, but you have torch 1.6.0 which is incompatible.\n",
            "torchtext 0.13.0 requires torch==1.12.0, but you have torch 1.6.0 which is incompatible.\n",
            "torchaudio 0.12.0+cu113 requires torch==1.12.0, but you have torch 1.6.0 which is incompatible.\n",
            "fastai 2.7.7 requires torch<1.13,>=1.7, but you have torch 1.6.0 which is incompatible.\u001b[0m\n",
            "Successfully installed torch-1.6.0\n",
            "Looking in indexes: https://pypi.org/simple, https://us-python.pkg.dev/colab-wheels/public/simple/\n",
            "Collecting torchvision==0.7.0\n",
            "  Downloading torchvision-0.7.0-cp37-cp37m-manylinux1_x86_64.whl (5.9 MB)\n",
            "\u001b[K     |████████████████████████████████| 5.9 MB 23.6 MB/s \n",
            "\u001b[?25hRequirement already satisfied: torch==1.6.0 in /usr/local/lib/python3.7/dist-packages (from torchvision==0.7.0) (1.6.0)\n",
            "Requirement already satisfied: numpy in /usr/local/lib/python3.7/dist-packages (from torchvision==0.7.0) (1.18.0)\n",
            "Requirement already satisfied: pillow>=4.1.1 in /usr/local/lib/python3.7/dist-packages (from torchvision==0.7.0) (7.1.2)\n",
            "Requirement already satisfied: future in /usr/local/lib/python3.7/dist-packages (from torch==1.6.0->torchvision==0.7.0) (0.16.0)\n",
            "Installing collected packages: torchvision\n",
            "  Attempting uninstall: torchvision\n",
            "    Found existing installation: torchvision 0.13.0+cu113\n",
            "    Uninstalling torchvision-0.13.0+cu113:\n",
            "      Successfully uninstalled torchvision-0.13.0+cu113\n",
            "\u001b[31mERROR: pip's dependency resolver does not currently take into account all the packages that are installed. This behaviour is the source of the following dependency conflicts.\n",
            "fastai 2.7.7 requires torch<1.13,>=1.7, but you have torch 1.6.0 which is incompatible.\n",
            "fastai 2.7.7 requires torchvision>=0.8.2, but you have torchvision 0.7.0 which is incompatible.\u001b[0m\n",
            "Successfully installed torchvision-0.7.0\n"
          ]
        }
      ]
    },
    {
      "cell_type": "code",
      "source": [
        "from deeppavlov import configs, build_model\n",
        "\n",
        "model = build_model(configs.squad.squad_torch_bert, download=True)"
      ],
      "metadata": {
        "colab": {
          "base_uri": "https://localhost:8080/"
        },
        "id": "w9QoDiTFb2qF",
        "outputId": "429dd8e1-99bf-4916-ee16-6ead6c59e603"
      },
      "execution_count": 99,
      "outputs": [
        {
          "output_type": "stream",
          "name": "stderr",
          "text": [
            "2022-07-28 18:21:42.147 INFO in 'deeppavlov.download'['download'] at line 138: Skipped http://files.deeppavlov.ai/v1/squad/squad_torch_bert.tar.gz download because of matching hashes\n",
            "2022-07-28 18:21:42,147 - deeppavlov.download - INFO - Skipped http://files.deeppavlov.ai/v1/squad/squad_torch_bert.tar.gz download because of matching hashes\n",
            "[nltk_data] Downloading package punkt to /root/nltk_data...\n",
            "[nltk_data]   Package punkt is already up-to-date!\n",
            "[nltk_data] Downloading package stopwords to /root/nltk_data...\n",
            "[nltk_data]   Package stopwords is already up-to-date!\n",
            "[nltk_data] Downloading package perluniprops to /root/nltk_data...\n",
            "[nltk_data]   Package perluniprops is already up-to-date!\n",
            "[nltk_data] Downloading package nonbreaking_prefixes to\n",
            "[nltk_data]     /root/nltk_data...\n",
            "[nltk_data]   Package nonbreaking_prefixes is already up-to-date!\n",
            "2022-07-28 18:21:46.649 INFO in 'deeppavlov.models.torch_bert.torch_transformers_squad'['torch_transformers_squad'] at line 246: From pretrained bert-base-uncased.\n",
            "2022-07-28 18:21:46,649 - deeppavlov.models.torch_bert.torch_transformers_squad - INFO - From pretrained bert-base-uncased.\n",
            "Some weights of the model checkpoint at bert-base-uncased were not used when initializing BertForQuestionAnswering: ['cls.predictions.bias', 'cls.predictions.transform.dense.bias', 'cls.predictions.transform.LayerNorm.weight', 'cls.predictions.transform.LayerNorm.bias', 'cls.seq_relationship.weight', 'cls.seq_relationship.bias', 'cls.predictions.transform.dense.weight', 'cls.predictions.decoder.weight']\n",
            "- This IS expected if you are initializing BertForQuestionAnswering from the checkpoint of a model trained on another task or with another architecture (e.g. initializing a BertForSequenceClassification model from a BertForPreTraining model).\n",
            "- This IS NOT expected if you are initializing BertForQuestionAnswering from the checkpoint of a model that you expect to be exactly identical (initializing a BertForSequenceClassification model from a BertForSequenceClassification model).\n",
            "Some weights of BertForQuestionAnswering were not initialized from the model checkpoint at bert-base-uncased and are newly initialized: ['qa_outputs.bias', 'qa_outputs.weight']\n",
            "You should probably TRAIN this model on a down-stream task to be able to use it for predictions and inference.\n",
            "2022-07-28 18:21:51.547 INFO in 'deeppavlov.models.torch_bert.torch_transformers_squad'['torch_transformers_squad'] at line 275: Load path /root/.deeppavlov/models/squad_torch_bert/bert-base-uncased/model is given.\n",
            "2022-07-28 18:21:51,547 - deeppavlov.models.torch_bert.torch_transformers_squad - INFO - Load path /root/.deeppavlov/models/squad_torch_bert/bert-base-uncased/model is given.\n",
            "2022-07-28 18:21:51.554 INFO in 'deeppavlov.models.torch_bert.torch_transformers_squad'['torch_transformers_squad'] at line 282: Load path /root/.deeppavlov/models/squad_torch_bert/bert-base-uncased/model.pth.tar exists.\n",
            "2022-07-28 18:21:51,554 - deeppavlov.models.torch_bert.torch_transformers_squad - INFO - Load path /root/.deeppavlov/models/squad_torch_bert/bert-base-uncased/model.pth.tar exists.\n",
            "2022-07-28 18:21:51.559 INFO in 'deeppavlov.models.torch_bert.torch_transformers_squad'['torch_transformers_squad'] at line 283: Initializing `TorchTransformersSquad` from saved.\n",
            "2022-07-28 18:21:51,559 - deeppavlov.models.torch_bert.torch_transformers_squad - INFO - Initializing `TorchTransformersSquad` from saved.\n",
            "2022-07-28 18:21:51.565 INFO in 'deeppavlov.models.torch_bert.torch_transformers_squad'['torch_transformers_squad'] at line 286: Loading weights from /root/.deeppavlov/models/squad_torch_bert/bert-base-uncased/model.pth.tar.\n",
            "2022-07-28 18:21:51,565 - deeppavlov.models.torch_bert.torch_transformers_squad - INFO - Loading weights from /root/.deeppavlov/models/squad_torch_bert/bert-base-uncased/model.pth.tar.\n",
            "2022-07-28 18:21:56.384 INFO in 'deeppavlov.core.models.torch_model'['torch_model'] at line 102: Model was successfully initialized! Model summary:\n",
            " BertForQuestionAnswering(\n",
            "  (bert): BertModel(\n",
            "    (embeddings): BertEmbeddings(\n",
            "      (word_embeddings): Embedding(30522, 768, padding_idx=0)\n",
            "      (position_embeddings): Embedding(512, 768)\n",
            "      (token_type_embeddings): Embedding(2, 768)\n",
            "      (LayerNorm): LayerNorm((768,), eps=1e-12, elementwise_affine=True)\n",
            "      (dropout): Dropout(p=0.1, inplace=False)\n",
            "    )\n",
            "    (encoder): BertEncoder(\n",
            "      (layer): ModuleList(\n",
            "        (0): BertLayer(\n",
            "          (attention): BertAttention(\n",
            "            (self): BertSelfAttention(\n",
            "              (query): Linear(in_features=768, out_features=768, bias=True)\n",
            "              (key): Linear(in_features=768, out_features=768, bias=True)\n",
            "              (value): Linear(in_features=768, out_features=768, bias=True)\n",
            "              (dropout): Dropout(p=0.1, inplace=False)\n",
            "            )\n",
            "            (output): BertSelfOutput(\n",
            "              (dense): Linear(in_features=768, out_features=768, bias=True)\n",
            "              (LayerNorm): LayerNorm((768,), eps=1e-12, elementwise_affine=True)\n",
            "              (dropout): Dropout(p=0.1, inplace=False)\n",
            "            )\n",
            "          )\n",
            "          (intermediate): BertIntermediate(\n",
            "            (dense): Linear(in_features=768, out_features=3072, bias=True)\n",
            "          )\n",
            "          (output): BertOutput(\n",
            "            (dense): Linear(in_features=3072, out_features=768, bias=True)\n",
            "            (LayerNorm): LayerNorm((768,), eps=1e-12, elementwise_affine=True)\n",
            "            (dropout): Dropout(p=0.1, inplace=False)\n",
            "          )\n",
            "        )\n",
            "        (1): BertLayer(\n",
            "          (attention): BertAttention(\n",
            "            (self): BertSelfAttention(\n",
            "              (query): Linear(in_features=768, out_features=768, bias=True)\n",
            "              (key): Linear(in_features=768, out_features=768, bias=True)\n",
            "              (value): Linear(in_features=768, out_features=768, bias=True)\n",
            "              (dropout): Dropout(p=0.1, inplace=False)\n",
            "            )\n",
            "            (output): BertSelfOutput(\n",
            "              (dense): Linear(in_features=768, out_features=768, bias=True)\n",
            "              (LayerNorm): LayerNorm((768,), eps=1e-12, elementwise_affine=True)\n",
            "              (dropout): Dropout(p=0.1, inplace=False)\n",
            "            )\n",
            "          )\n",
            "          (intermediate): BertIntermediate(\n",
            "            (dense): Linear(in_features=768, out_features=3072, bias=True)\n",
            "          )\n",
            "          (output): BertOutput(\n",
            "            (dense): Linear(in_features=3072, out_features=768, bias=True)\n",
            "            (LayerNorm): LayerNorm((768,), eps=1e-12, elementwise_affine=True)\n",
            "            (dropout): Dropout(p=0.1, inplace=False)\n",
            "          )\n",
            "        )\n",
            "        (2): BertLayer(\n",
            "          (attention): BertAttention(\n",
            "            (self): BertSelfAttention(\n",
            "              (query): Linear(in_features=768, out_features=768, bias=True)\n",
            "              (key): Linear(in_features=768, out_features=768, bias=True)\n",
            "              (value): Linear(in_features=768, out_features=768, bias=True)\n",
            "              (dropout): Dropout(p=0.1, inplace=False)\n",
            "            )\n",
            "            (output): BertSelfOutput(\n",
            "              (dense): Linear(in_features=768, out_features=768, bias=True)\n",
            "              (LayerNorm): LayerNorm((768,), eps=1e-12, elementwise_affine=True)\n",
            "              (dropout): Dropout(p=0.1, inplace=False)\n",
            "            )\n",
            "          )\n",
            "          (intermediate): BertIntermediate(\n",
            "            (dense): Linear(in_features=768, out_features=3072, bias=True)\n",
            "          )\n",
            "          (output): BertOutput(\n",
            "            (dense): Linear(in_features=3072, out_features=768, bias=True)\n",
            "            (LayerNorm): LayerNorm((768,), eps=1e-12, elementwise_affine=True)\n",
            "            (dropout): Dropout(p=0.1, inplace=False)\n",
            "          )\n",
            "        )\n",
            "        (3): BertLayer(\n",
            "          (attention): BertAttention(\n",
            "            (self): BertSelfAttention(\n",
            "              (query): Linear(in_features=768, out_features=768, bias=True)\n",
            "              (key): Linear(in_features=768, out_features=768, bias=True)\n",
            "              (value): Linear(in_features=768, out_features=768, bias=True)\n",
            "              (dropout): Dropout(p=0.1, inplace=False)\n",
            "            )\n",
            "            (output): BertSelfOutput(\n",
            "              (dense): Linear(in_features=768, out_features=768, bias=True)\n",
            "              (LayerNorm): LayerNorm((768,), eps=1e-12, elementwise_affine=True)\n",
            "              (dropout): Dropout(p=0.1, inplace=False)\n",
            "            )\n",
            "          )\n",
            "          (intermediate): BertIntermediate(\n",
            "            (dense): Linear(in_features=768, out_features=3072, bias=True)\n",
            "          )\n",
            "          (output): BertOutput(\n",
            "            (dense): Linear(in_features=3072, out_features=768, bias=True)\n",
            "            (LayerNorm): LayerNorm((768,), eps=1e-12, elementwise_affine=True)\n",
            "            (dropout): Dropout(p=0.1, inplace=False)\n",
            "          )\n",
            "        )\n",
            "        (4): BertLayer(\n",
            "          (attention): BertAttention(\n",
            "            (self): BertSelfAttention(\n",
            "              (query): Linear(in_features=768, out_features=768, bias=True)\n",
            "              (key): Linear(in_features=768, out_features=768, bias=True)\n",
            "              (value): Linear(in_features=768, out_features=768, bias=True)\n",
            "              (dropout): Dropout(p=0.1, inplace=False)\n",
            "            )\n",
            "            (output): BertSelfOutput(\n",
            "              (dense): Linear(in_features=768, out_features=768, bias=True)\n",
            "              (LayerNorm): LayerNorm((768,), eps=1e-12, elementwise_affine=True)\n",
            "              (dropout): Dropout(p=0.1, inplace=False)\n",
            "            )\n",
            "          )\n",
            "          (intermediate): BertIntermediate(\n",
            "            (dense): Linear(in_features=768, out_features=3072, bias=True)\n",
            "          )\n",
            "          (output): BertOutput(\n",
            "            (dense): Linear(in_features=3072, out_features=768, bias=True)\n",
            "            (LayerNorm): LayerNorm((768,), eps=1e-12, elementwise_affine=True)\n",
            "            (dropout): Dropout(p=0.1, inplace=False)\n",
            "          )\n",
            "        )\n",
            "        (5): BertLayer(\n",
            "          (attention): BertAttention(\n",
            "            (self): BertSelfAttention(\n",
            "              (query): Linear(in_features=768, out_features=768, bias=True)\n",
            "              (key): Linear(in_features=768, out_features=768, bias=True)\n",
            "              (value): Linear(in_features=768, out_features=768, bias=True)\n",
            "              (dropout): Dropout(p=0.1, inplace=False)\n",
            "            )\n",
            "            (output): BertSelfOutput(\n",
            "              (dense): Linear(in_features=768, out_features=768, bias=True)\n",
            "              (LayerNorm): LayerNorm((768,), eps=1e-12, elementwise_affine=True)\n",
            "              (dropout): Dropout(p=0.1, inplace=False)\n",
            "            )\n",
            "          )\n",
            "          (intermediate): BertIntermediate(\n",
            "            (dense): Linear(in_features=768, out_features=3072, bias=True)\n",
            "          )\n",
            "          (output): BertOutput(\n",
            "            (dense): Linear(in_features=3072, out_features=768, bias=True)\n",
            "            (LayerNorm): LayerNorm((768,), eps=1e-12, elementwise_affine=True)\n",
            "            (dropout): Dropout(p=0.1, inplace=False)\n",
            "          )\n",
            "        )\n",
            "        (6): BertLayer(\n",
            "          (attention): BertAttention(\n",
            "            (self): BertSelfAttention(\n",
            "              (query): Linear(in_features=768, out_features=768, bias=True)\n",
            "              (key): Linear(in_features=768, out_features=768, bias=True)\n",
            "              (value): Linear(in_features=768, out_features=768, bias=True)\n",
            "              (dropout): Dropout(p=0.1, inplace=False)\n",
            "            )\n",
            "            (output): BertSelfOutput(\n",
            "              (dense): Linear(in_features=768, out_features=768, bias=True)\n",
            "              (LayerNorm): LayerNorm((768,), eps=1e-12, elementwise_affine=True)\n",
            "              (dropout): Dropout(p=0.1, inplace=False)\n",
            "            )\n",
            "          )\n",
            "          (intermediate): BertIntermediate(\n",
            "            (dense): Linear(in_features=768, out_features=3072, bias=True)\n",
            "          )\n",
            "          (output): BertOutput(\n",
            "            (dense): Linear(in_features=3072, out_features=768, bias=True)\n",
            "            (LayerNorm): LayerNorm((768,), eps=1e-12, elementwise_affine=True)\n",
            "            (dropout): Dropout(p=0.1, inplace=False)\n",
            "          )\n",
            "        )\n",
            "        (7): BertLayer(\n",
            "          (attention): BertAttention(\n",
            "            (self): BertSelfAttention(\n",
            "              (query): Linear(in_features=768, out_features=768, bias=True)\n",
            "              (key): Linear(in_features=768, out_features=768, bias=True)\n",
            "              (value): Linear(in_features=768, out_features=768, bias=True)\n",
            "              (dropout): Dropout(p=0.1, inplace=False)\n",
            "            )\n",
            "            (output): BertSelfOutput(\n",
            "              (dense): Linear(in_features=768, out_features=768, bias=True)\n",
            "              (LayerNorm): LayerNorm((768,), eps=1e-12, elementwise_affine=True)\n",
            "              (dropout): Dropout(p=0.1, inplace=False)\n",
            "            )\n",
            "          )\n",
            "          (intermediate): BertIntermediate(\n",
            "            (dense): Linear(in_features=768, out_features=3072, bias=True)\n",
            "          )\n",
            "          (output): BertOutput(\n",
            "            (dense): Linear(in_features=3072, out_features=768, bias=True)\n",
            "            (LayerNorm): LayerNorm((768,), eps=1e-12, elementwise_affine=True)\n",
            "            (dropout): Dropout(p=0.1, inplace=False)\n",
            "          )\n",
            "        )\n",
            "        (8): BertLayer(\n",
            "          (attention): BertAttention(\n",
            "            (self): BertSelfAttention(\n",
            "              (query): Linear(in_features=768, out_features=768, bias=True)\n",
            "              (key): Linear(in_features=768, out_features=768, bias=True)\n",
            "              (value): Linear(in_features=768, out_features=768, bias=True)\n",
            "              (dropout): Dropout(p=0.1, inplace=False)\n",
            "            )\n",
            "            (output): BertSelfOutput(\n",
            "              (dense): Linear(in_features=768, out_features=768, bias=True)\n",
            "              (LayerNorm): LayerNorm((768,), eps=1e-12, elementwise_affine=True)\n",
            "              (dropout): Dropout(p=0.1, inplace=False)\n",
            "            )\n",
            "          )\n",
            "          (intermediate): BertIntermediate(\n",
            "            (dense): Linear(in_features=768, out_features=3072, bias=True)\n",
            "          )\n",
            "          (output): BertOutput(\n",
            "            (dense): Linear(in_features=3072, out_features=768, bias=True)\n",
            "            (LayerNorm): LayerNorm((768,), eps=1e-12, elementwise_affine=True)\n",
            "            (dropout): Dropout(p=0.1, inplace=False)\n",
            "          )\n",
            "        )\n",
            "        (9): BertLayer(\n",
            "          (attention): BertAttention(\n",
            "            (self): BertSelfAttention(\n",
            "              (query): Linear(in_features=768, out_features=768, bias=True)\n",
            "              (key): Linear(in_features=768, out_features=768, bias=True)\n",
            "              (value): Linear(in_features=768, out_features=768, bias=True)\n",
            "              (dropout): Dropout(p=0.1, inplace=False)\n",
            "            )\n",
            "            (output): BertSelfOutput(\n",
            "              (dense): Linear(in_features=768, out_features=768, bias=True)\n",
            "              (LayerNorm): LayerNorm((768,), eps=1e-12, elementwise_affine=True)\n",
            "              (dropout): Dropout(p=0.1, inplace=False)\n",
            "            )\n",
            "          )\n",
            "          (intermediate): BertIntermediate(\n",
            "            (dense): Linear(in_features=768, out_features=3072, bias=True)\n",
            "          )\n",
            "          (output): BertOutput(\n",
            "            (dense): Linear(in_features=3072, out_features=768, bias=True)\n",
            "            (LayerNorm): LayerNorm((768,), eps=1e-12, elementwise_affine=True)\n",
            "            (dropout): Dropout(p=0.1, inplace=False)\n",
            "          )\n",
            "        )\n",
            "        (10): BertLayer(\n",
            "          (attention): BertAttention(\n",
            "            (self): BertSelfAttention(\n",
            "              (query): Linear(in_features=768, out_features=768, bias=True)\n",
            "              (key): Linear(in_features=768, out_features=768, bias=True)\n",
            "              (value): Linear(in_features=768, out_features=768, bias=True)\n",
            "              (dropout): Dropout(p=0.1, inplace=False)\n",
            "            )\n",
            "            (output): BertSelfOutput(\n",
            "              (dense): Linear(in_features=768, out_features=768, bias=True)\n",
            "              (LayerNorm): LayerNorm((768,), eps=1e-12, elementwise_affine=True)\n",
            "              (dropout): Dropout(p=0.1, inplace=False)\n",
            "            )\n",
            "          )\n",
            "          (intermediate): BertIntermediate(\n",
            "            (dense): Linear(in_features=768, out_features=3072, bias=True)\n",
            "          )\n",
            "          (output): BertOutput(\n",
            "            (dense): Linear(in_features=3072, out_features=768, bias=True)\n",
            "            (LayerNorm): LayerNorm((768,), eps=1e-12, elementwise_affine=True)\n",
            "            (dropout): Dropout(p=0.1, inplace=False)\n",
            "          )\n",
            "        )\n",
            "        (11): BertLayer(\n",
            "          (attention): BertAttention(\n",
            "            (self): BertSelfAttention(\n",
            "              (query): Linear(in_features=768, out_features=768, bias=True)\n",
            "              (key): Linear(in_features=768, out_features=768, bias=True)\n",
            "              (value): Linear(in_features=768, out_features=768, bias=True)\n",
            "              (dropout): Dropout(p=0.1, inplace=False)\n",
            "            )\n",
            "            (output): BertSelfOutput(\n",
            "              (dense): Linear(in_features=768, out_features=768, bias=True)\n",
            "              (LayerNorm): LayerNorm((768,), eps=1e-12, elementwise_affine=True)\n",
            "              (dropout): Dropout(p=0.1, inplace=False)\n",
            "            )\n",
            "          )\n",
            "          (intermediate): BertIntermediate(\n",
            "            (dense): Linear(in_features=768, out_features=3072, bias=True)\n",
            "          )\n",
            "          (output): BertOutput(\n",
            "            (dense): Linear(in_features=3072, out_features=768, bias=True)\n",
            "            (LayerNorm): LayerNorm((768,), eps=1e-12, elementwise_affine=True)\n",
            "            (dropout): Dropout(p=0.1, inplace=False)\n",
            "          )\n",
            "        )\n",
            "      )\n",
            "    )\n",
            "  )\n",
            "  (qa_outputs): Linear(in_features=768, out_features=2, bias=True)\n",
            ")\n",
            "2022-07-28 18:21:56,384 - deeppavlov.core.models.torch_model - INFO - Model was successfully initialized! Model summary:\n",
            " BertForQuestionAnswering(\n",
            "  (bert): BertModel(\n",
            "    (embeddings): BertEmbeddings(\n",
            "      (word_embeddings): Embedding(30522, 768, padding_idx=0)\n",
            "      (position_embeddings): Embedding(512, 768)\n",
            "      (token_type_embeddings): Embedding(2, 768)\n",
            "      (LayerNorm): LayerNorm((768,), eps=1e-12, elementwise_affine=True)\n",
            "      (dropout): Dropout(p=0.1, inplace=False)\n",
            "    )\n",
            "    (encoder): BertEncoder(\n",
            "      (layer): ModuleList(\n",
            "        (0): BertLayer(\n",
            "          (attention): BertAttention(\n",
            "            (self): BertSelfAttention(\n",
            "              (query): Linear(in_features=768, out_features=768, bias=True)\n",
            "              (key): Linear(in_features=768, out_features=768, bias=True)\n",
            "              (value): Linear(in_features=768, out_features=768, bias=True)\n",
            "              (dropout): Dropout(p=0.1, inplace=False)\n",
            "            )\n",
            "            (output): BertSelfOutput(\n",
            "              (dense): Linear(in_features=768, out_features=768, bias=True)\n",
            "              (LayerNorm): LayerNorm((768,), eps=1e-12, elementwise_affine=True)\n",
            "              (dropout): Dropout(p=0.1, inplace=False)\n",
            "            )\n",
            "          )\n",
            "          (intermediate): BertIntermediate(\n",
            "            (dense): Linear(in_features=768, out_features=3072, bias=True)\n",
            "          )\n",
            "          (output): BertOutput(\n",
            "            (dense): Linear(in_features=3072, out_features=768, bias=True)\n",
            "            (LayerNorm): LayerNorm((768,), eps=1e-12, elementwise_affine=True)\n",
            "            (dropout): Dropout(p=0.1, inplace=False)\n",
            "          )\n",
            "        )\n",
            "        (1): BertLayer(\n",
            "          (attention): BertAttention(\n",
            "            (self): BertSelfAttention(\n",
            "              (query): Linear(in_features=768, out_features=768, bias=True)\n",
            "              (key): Linear(in_features=768, out_features=768, bias=True)\n",
            "              (value): Linear(in_features=768, out_features=768, bias=True)\n",
            "              (dropout): Dropout(p=0.1, inplace=False)\n",
            "            )\n",
            "            (output): BertSelfOutput(\n",
            "              (dense): Linear(in_features=768, out_features=768, bias=True)\n",
            "              (LayerNorm): LayerNorm((768,), eps=1e-12, elementwise_affine=True)\n",
            "              (dropout): Dropout(p=0.1, inplace=False)\n",
            "            )\n",
            "          )\n",
            "          (intermediate): BertIntermediate(\n",
            "            (dense): Linear(in_features=768, out_features=3072, bias=True)\n",
            "          )\n",
            "          (output): BertOutput(\n",
            "            (dense): Linear(in_features=3072, out_features=768, bias=True)\n",
            "            (LayerNorm): LayerNorm((768,), eps=1e-12, elementwise_affine=True)\n",
            "            (dropout): Dropout(p=0.1, inplace=False)\n",
            "          )\n",
            "        )\n",
            "        (2): BertLayer(\n",
            "          (attention): BertAttention(\n",
            "            (self): BertSelfAttention(\n",
            "              (query): Linear(in_features=768, out_features=768, bias=True)\n",
            "              (key): Linear(in_features=768, out_features=768, bias=True)\n",
            "              (value): Linear(in_features=768, out_features=768, bias=True)\n",
            "              (dropout): Dropout(p=0.1, inplace=False)\n",
            "            )\n",
            "            (output): BertSelfOutput(\n",
            "              (dense): Linear(in_features=768, out_features=768, bias=True)\n",
            "              (LayerNorm): LayerNorm((768,), eps=1e-12, elementwise_affine=True)\n",
            "              (dropout): Dropout(p=0.1, inplace=False)\n",
            "            )\n",
            "          )\n",
            "          (intermediate): BertIntermediate(\n",
            "            (dense): Linear(in_features=768, out_features=3072, bias=True)\n",
            "          )\n",
            "          (output): BertOutput(\n",
            "            (dense): Linear(in_features=3072, out_features=768, bias=True)\n",
            "            (LayerNorm): LayerNorm((768,), eps=1e-12, elementwise_affine=True)\n",
            "            (dropout): Dropout(p=0.1, inplace=False)\n",
            "          )\n",
            "        )\n",
            "        (3): BertLayer(\n",
            "          (attention): BertAttention(\n",
            "            (self): BertSelfAttention(\n",
            "              (query): Linear(in_features=768, out_features=768, bias=True)\n",
            "              (key): Linear(in_features=768, out_features=768, bias=True)\n",
            "              (value): Linear(in_features=768, out_features=768, bias=True)\n",
            "              (dropout): Dropout(p=0.1, inplace=False)\n",
            "            )\n",
            "            (output): BertSelfOutput(\n",
            "              (dense): Linear(in_features=768, out_features=768, bias=True)\n",
            "              (LayerNorm): LayerNorm((768,), eps=1e-12, elementwise_affine=True)\n",
            "              (dropout): Dropout(p=0.1, inplace=False)\n",
            "            )\n",
            "          )\n",
            "          (intermediate): BertIntermediate(\n",
            "            (dense): Linear(in_features=768, out_features=3072, bias=True)\n",
            "          )\n",
            "          (output): BertOutput(\n",
            "            (dense): Linear(in_features=3072, out_features=768, bias=True)\n",
            "            (LayerNorm): LayerNorm((768,), eps=1e-12, elementwise_affine=True)\n",
            "            (dropout): Dropout(p=0.1, inplace=False)\n",
            "          )\n",
            "        )\n",
            "        (4): BertLayer(\n",
            "          (attention): BertAttention(\n",
            "            (self): BertSelfAttention(\n",
            "              (query): Linear(in_features=768, out_features=768, bias=True)\n",
            "              (key): Linear(in_features=768, out_features=768, bias=True)\n",
            "              (value): Linear(in_features=768, out_features=768, bias=True)\n",
            "              (dropout): Dropout(p=0.1, inplace=False)\n",
            "            )\n",
            "            (output): BertSelfOutput(\n",
            "              (dense): Linear(in_features=768, out_features=768, bias=True)\n",
            "              (LayerNorm): LayerNorm((768,), eps=1e-12, elementwise_affine=True)\n",
            "              (dropout): Dropout(p=0.1, inplace=False)\n",
            "            )\n",
            "          )\n",
            "          (intermediate): BertIntermediate(\n",
            "            (dense): Linear(in_features=768, out_features=3072, bias=True)\n",
            "          )\n",
            "          (output): BertOutput(\n",
            "            (dense): Linear(in_features=3072, out_features=768, bias=True)\n",
            "            (LayerNorm): LayerNorm((768,), eps=1e-12, elementwise_affine=True)\n",
            "            (dropout): Dropout(p=0.1, inplace=False)\n",
            "          )\n",
            "        )\n",
            "        (5): BertLayer(\n",
            "          (attention): BertAttention(\n",
            "            (self): BertSelfAttention(\n",
            "              (query): Linear(in_features=768, out_features=768, bias=True)\n",
            "              (key): Linear(in_features=768, out_features=768, bias=True)\n",
            "              (value): Linear(in_features=768, out_features=768, bias=True)\n",
            "              (dropout): Dropout(p=0.1, inplace=False)\n",
            "            )\n",
            "            (output): BertSelfOutput(\n",
            "              (dense): Linear(in_features=768, out_features=768, bias=True)\n",
            "              (LayerNorm): LayerNorm((768,), eps=1e-12, elementwise_affine=True)\n",
            "              (dropout): Dropout(p=0.1, inplace=False)\n",
            "            )\n",
            "          )\n",
            "          (intermediate): BertIntermediate(\n",
            "            (dense): Linear(in_features=768, out_features=3072, bias=True)\n",
            "          )\n",
            "          (output): BertOutput(\n",
            "            (dense): Linear(in_features=3072, out_features=768, bias=True)\n",
            "            (LayerNorm): LayerNorm((768,), eps=1e-12, elementwise_affine=True)\n",
            "            (dropout): Dropout(p=0.1, inplace=False)\n",
            "          )\n",
            "        )\n",
            "        (6): BertLayer(\n",
            "          (attention): BertAttention(\n",
            "            (self): BertSelfAttention(\n",
            "              (query): Linear(in_features=768, out_features=768, bias=True)\n",
            "              (key): Linear(in_features=768, out_features=768, bias=True)\n",
            "              (value): Linear(in_features=768, out_features=768, bias=True)\n",
            "              (dropout): Dropout(p=0.1, inplace=False)\n",
            "            )\n",
            "            (output): BertSelfOutput(\n",
            "              (dense): Linear(in_features=768, out_features=768, bias=True)\n",
            "              (LayerNorm): LayerNorm((768,), eps=1e-12, elementwise_affine=True)\n",
            "              (dropout): Dropout(p=0.1, inplace=False)\n",
            "            )\n",
            "          )\n",
            "          (intermediate): BertIntermediate(\n",
            "            (dense): Linear(in_features=768, out_features=3072, bias=True)\n",
            "          )\n",
            "          (output): BertOutput(\n",
            "            (dense): Linear(in_features=3072, out_features=768, bias=True)\n",
            "            (LayerNorm): LayerNorm((768,), eps=1e-12, elementwise_affine=True)\n",
            "            (dropout): Dropout(p=0.1, inplace=False)\n",
            "          )\n",
            "        )\n",
            "        (7): BertLayer(\n",
            "          (attention): BertAttention(\n",
            "            (self): BertSelfAttention(\n",
            "              (query): Linear(in_features=768, out_features=768, bias=True)\n",
            "              (key): Linear(in_features=768, out_features=768, bias=True)\n",
            "              (value): Linear(in_features=768, out_features=768, bias=True)\n",
            "              (dropout): Dropout(p=0.1, inplace=False)\n",
            "            )\n",
            "            (output): BertSelfOutput(\n",
            "              (dense): Linear(in_features=768, out_features=768, bias=True)\n",
            "              (LayerNorm): LayerNorm((768,), eps=1e-12, elementwise_affine=True)\n",
            "              (dropout): Dropout(p=0.1, inplace=False)\n",
            "            )\n",
            "          )\n",
            "          (intermediate): BertIntermediate(\n",
            "            (dense): Linear(in_features=768, out_features=3072, bias=True)\n",
            "          )\n",
            "          (output): BertOutput(\n",
            "            (dense): Linear(in_features=3072, out_features=768, bias=True)\n",
            "            (LayerNorm): LayerNorm((768,), eps=1e-12, elementwise_affine=True)\n",
            "            (dropout): Dropout(p=0.1, inplace=False)\n",
            "          )\n",
            "        )\n",
            "        (8): BertLayer(\n",
            "          (attention): BertAttention(\n",
            "            (self): BertSelfAttention(\n",
            "              (query): Linear(in_features=768, out_features=768, bias=True)\n",
            "              (key): Linear(in_features=768, out_features=768, bias=True)\n",
            "              (value): Linear(in_features=768, out_features=768, bias=True)\n",
            "              (dropout): Dropout(p=0.1, inplace=False)\n",
            "            )\n",
            "            (output): BertSelfOutput(\n",
            "              (dense): Linear(in_features=768, out_features=768, bias=True)\n",
            "              (LayerNorm): LayerNorm((768,), eps=1e-12, elementwise_affine=True)\n",
            "              (dropout): Dropout(p=0.1, inplace=False)\n",
            "            )\n",
            "          )\n",
            "          (intermediate): BertIntermediate(\n",
            "            (dense): Linear(in_features=768, out_features=3072, bias=True)\n",
            "          )\n",
            "          (output): BertOutput(\n",
            "            (dense): Linear(in_features=3072, out_features=768, bias=True)\n",
            "            (LayerNorm): LayerNorm((768,), eps=1e-12, elementwise_affine=True)\n",
            "            (dropout): Dropout(p=0.1, inplace=False)\n",
            "          )\n",
            "        )\n",
            "        (9): BertLayer(\n",
            "          (attention): BertAttention(\n",
            "            (self): BertSelfAttention(\n",
            "              (query): Linear(in_features=768, out_features=768, bias=True)\n",
            "              (key): Linear(in_features=768, out_features=768, bias=True)\n",
            "              (value): Linear(in_features=768, out_features=768, bias=True)\n",
            "              (dropout): Dropout(p=0.1, inplace=False)\n",
            "            )\n",
            "            (output): BertSelfOutput(\n",
            "              (dense): Linear(in_features=768, out_features=768, bias=True)\n",
            "              (LayerNorm): LayerNorm((768,), eps=1e-12, elementwise_affine=True)\n",
            "              (dropout): Dropout(p=0.1, inplace=False)\n",
            "            )\n",
            "          )\n",
            "          (intermediate): BertIntermediate(\n",
            "            (dense): Linear(in_features=768, out_features=3072, bias=True)\n",
            "          )\n",
            "          (output): BertOutput(\n",
            "            (dense): Linear(in_features=3072, out_features=768, bias=True)\n",
            "            (LayerNorm): LayerNorm((768,), eps=1e-12, elementwise_affine=True)\n",
            "            (dropout): Dropout(p=0.1, inplace=False)\n",
            "          )\n",
            "        )\n",
            "        (10): BertLayer(\n",
            "          (attention): BertAttention(\n",
            "            (self): BertSelfAttention(\n",
            "              (query): Linear(in_features=768, out_features=768, bias=True)\n",
            "              (key): Linear(in_features=768, out_features=768, bias=True)\n",
            "              (value): Linear(in_features=768, out_features=768, bias=True)\n",
            "              (dropout): Dropout(p=0.1, inplace=False)\n",
            "            )\n",
            "            (output): BertSelfOutput(\n",
            "              (dense): Linear(in_features=768, out_features=768, bias=True)\n",
            "              (LayerNorm): LayerNorm((768,), eps=1e-12, elementwise_affine=True)\n",
            "              (dropout): Dropout(p=0.1, inplace=False)\n",
            "            )\n",
            "          )\n",
            "          (intermediate): BertIntermediate(\n",
            "            (dense): Linear(in_features=768, out_features=3072, bias=True)\n",
            "          )\n",
            "          (output): BertOutput(\n",
            "            (dense): Linear(in_features=3072, out_features=768, bias=True)\n",
            "            (LayerNorm): LayerNorm((768,), eps=1e-12, elementwise_affine=True)\n",
            "            (dropout): Dropout(p=0.1, inplace=False)\n",
            "          )\n",
            "        )\n",
            "        (11): BertLayer(\n",
            "          (attention): BertAttention(\n",
            "            (self): BertSelfAttention(\n",
            "              (query): Linear(in_features=768, out_features=768, bias=True)\n",
            "              (key): Linear(in_features=768, out_features=768, bias=True)\n",
            "              (value): Linear(in_features=768, out_features=768, bias=True)\n",
            "              (dropout): Dropout(p=0.1, inplace=False)\n",
            "            )\n",
            "            (output): BertSelfOutput(\n",
            "              (dense): Linear(in_features=768, out_features=768, bias=True)\n",
            "              (LayerNorm): LayerNorm((768,), eps=1e-12, elementwise_affine=True)\n",
            "              (dropout): Dropout(p=0.1, inplace=False)\n",
            "            )\n",
            "          )\n",
            "          (intermediate): BertIntermediate(\n",
            "            (dense): Linear(in_features=768, out_features=3072, bias=True)\n",
            "          )\n",
            "          (output): BertOutput(\n",
            "            (dense): Linear(in_features=3072, out_features=768, bias=True)\n",
            "            (LayerNorm): LayerNorm((768,), eps=1e-12, elementwise_affine=True)\n",
            "            (dropout): Dropout(p=0.1, inplace=False)\n",
            "          )\n",
            "        )\n",
            "      )\n",
            "    )\n",
            "  )\n",
            "  (qa_outputs): Linear(in_features=768, out_features=2, bias=True)\n",
            ")\n"
          ]
        }
      ]
    },
    {
      "cell_type": "code",
      "source": [
        "text = open('/content/THE FISHERMAN AND THE GOLDFISH - SOVIET CHILDREN\\'S BOOK_djvu.txt', 'rb').read().decode(encoding='cp1251')\n",
        "text = ' '.join(text.split())\n",
        "print(text)"
      ],
      "metadata": {
        "colab": {
          "base_uri": "https://localhost:8080/"
        },
        "id": "KcCSckqgc2Rd",
        "outputId": "bbadc904-b962-488b-eb46-c00f160392aa"
      },
      "execution_count": 30,
      "outputs": [
        {
          "output_type": "stream",
          "name": "stdout",
          "text": [
            "A.PUSHKIN THE FISHERMAN AND THE GOLDFISH ~<V вЂў > A. PUSHKIN THE FISHERMAN AND THE GOLDFISH MK 'AVMmwl mm wm There once lived an old man and his goodwife On the shore of the deep blue ocean; They lived in a tumble-down hovel For thirty-three summers and winters. The old man used to fish for his living, And his wife spun yarn on her distaff. He once cast his net in the ocean, And pulled it up with mud from the bottom; He again cast his net in the ocean, And this time caught nothing but seaweed; When he cast his net for the third time, One fish was all that he landed, No common fish, though, but a goldfish. Now the goldfish began to implore him, And it spoke like a real human being: вЂњPut me back, old man, into the oceanвЂ” I will pay you a right royal ransom, I will give you whatever you ask me.вЂќ The old man was astonished and frightenedвЂ” HeвЂ™d been fishing for thirty-three summers, But had not heard of any fish talking. So with care he untangled the goldfish And tenderly said as he did so: вЂњGod bless you, my dear little goldfish! Thank you kindly, I donвЂ™t want your ransom. Go back to your home in the ocean, And roam where you will without hindrance.вЂќ To his wife the old fisherman hastened To tell her about this great marvel. вЂњI caught only one fish this morningвЂ” A goldfish it was, most uncommon; It spoke like a Christian, and begged me To put it back into the ocean, And promised to pay a rich ransom, To give me whatever I asked for. But how could I ask for a ransom? I released it without any payment.вЂќ His wife started scolding her husband: вЂњOh you simpleton! Oh you great silly! CouldnвЂ™t make a mere fish pay a ransom! You at least might have asked for a wash-tubвЂ” For ours is all falling to pieces! 4 The old man returned to the seashore, Where the blue waves were frolicking lightly. He called out aloud for the goldfish, And the goldfish swam up and demanded: вЂњWhat is it, old man, you are wanting?вЂќ With a bow, the old man said in answer: вЂњForgive me, Your Majesty Goldfish! My old woman has scolded me roundlyвЂ” WonвЂ™t leave me alone for a minute, She says that she wants a new wash-tub, For ours is all falling to pieces.вЂќ The goldfish murmured in answer: вЂњDo not worry, go home, God be with youвЂ” Very well, you shall have a new wash-tub.вЂќ To his wife the old fisherman hastened, And beholdвЂ”there it was, the new wash-tub. But she scolded him louder than ever: вЂњOh you simpleton! Oh you great silly! To ask for a tubвЂ”a mere wash-tub! What good can you get from a wash-tub? Return to the goldfish, you silly, Bow down low and ask for a cottage.вЂќ (5 Again he went back to the seashore, And this time the blue sea was troubled. He called out aloud for the goldfish, And the goldfish swam up and demanded: вЂњWhat is it, old man, you are wanting?вЂќ With a bow, the old man said in answer: вЂњForgive me, Your Majesty Goldfish! My old woman is angrier than ever, WonвЂ™t leave me alone for a minuteвЂ” The old scold says she wants a new cottage.вЂќ The goldfish murmured in answer: вЂњDo not worry, go home, God be with you! So be it! YouвЂ™ll have a new cottage! вЂќ So back the old man turned his footsteps; Not a sign did he see of his hovel. In its place stood a new gabled cottage, With a chimney of brick, newly whitewashed, A fence with oak gates stood around it; And there sat his wife at a window; When she saw him, she scolded him roundly: вЂњOh you simpleton! Oh you great silly! To ask for no more than a cottage! Go and bow to the goldfish, and tell it That IвЂ™m tired of being a peasant, That I want to be made a fine lady.вЂќ 8 The old man then returned to the seashore, Where the ocean was restlessly foaming, He called out aloud for the goldfish. The goldfish swam up and demanded: вЂњWhat is it, old man, you are wanting?вЂќ With a bow, the old man said in answer: вЂњForgive me, Your Majesty Goldfish! My old woman is madder than ever, She gives me no rest for a second, Says sheвЂ™s tired of being a peasant, And wants to be made a fine lady.вЂќ The goldfish murmured in answer: вЂњDo not worry, go home, God be with you. Very well, a fine lady she shall be.вЂќ To his wife the old fisherman hastened. And what did he see?-a tall mansion; On its white marble stairsвЂ”his old woman. She was wearing a rich sable jacket, And a head-dress, in gold all embroidered; Her neck was with pearls heavy laden; She wore golden rings on her fingers; She was shod in the softest red leather; Zealous servants bowed meekly before her, As she cuffed them and rated them roundly. The old man then approached his wife, saying: вЂњGreetings, your ladyship, greetings, fine lady! Now I hope that your soul is contented! вЂќ She angrily bade him be silent And sent him to serve in the stables. 10 First a week slowly passed, then another, The old woman grew prouder than ever. One morning she sent for her husband, And said: вЂњBow to the goldfish and tell it I am tired of being a lady, And I want to be made a Tsaritsa.вЂќ Her husband implored her in terror, Saying: вЂњWoman-youвЂ™ve surely gone crazy! You canвЂ™t even talk like a lady! YouвЂ™d be mocked at all over the kingdom! вЂќ His old woman grew madder than ever, Slapped his face and then shouted in passion: вЂњHow dare you, muzhik, stand and argue, Stand and argue with me, a fine lady? Go at onceвЂ”if you donвЂ™t, then I warn you, YouвЂ™ll be dragged to the shore, willy-nilly.вЂќ The old man went down to the seashore (The ocean was swollen and sullen). He called out aloud for the goldfish, And the goldfish swam up and demanded: вЂњWhat is it, old man, you are wanting?вЂќ With a bow, the old man said in answer: вЂњForgive me, Your Majesty Goldfish! Again my old womanвЂ™s gone crazy! Now sheвЂ™s tired of being a lady! She wants to be made a Tsaritsa.вЂќ The goldfish murmured in answer: вЂњDo not worry, go home, God be with you! Very well! She shall be a Tsaritsa! в– iUrTV -1 1 lt . ! j V J&jf l V / v / _J i tin B ' il ml T _ Ir i/ jВ« g yrCo sijb'i vy , I To his wife the old fisherman hastened, And what did he see? A grand palace; In the palace he saw his old woman, At the table she sat, a Tsaritsa, Attended by nobles and boyards; They were pouring choice wines in her goblet, She was nibbling sweet gingerbread wafers; Around her, grim guards stood in silence, With halberds upon their broad shoulders. The old man was aghast when he saw this, He bowed to her feet and said humbly: вЂњGreetings, Oh mighty Tsaritsa! Now I hope that your soul is contented! вЂќ l.i But she gave not a glance at her husbandвЂ” She ordered him thrust from her presence. The boyards and nobles all hastened And drove him with blows from the chamber; The guards at the door waved their halberds And threatened to cut him to pieces. All the people derided him, saying: вЂњServes you right, now, you ill-bred old fellow. You churl-this will teach you a lesson To keep to your station in future! First a week slowly passed, then another; The old woman grew prouder than ever. She sent for her husband one morning, l'. And her chamberlain haled him before her. The old woman spoke thus to her husband: вЂњGo, bow to the goldfish, and tell it That IвЂ™m tired of being Tsaritsa, Of the seas I want to be mistress, With my home in the blue ocean waters; The goldfish I want for my servant To do my commands and my errands.вЂќ The old man durst not contradict her, Nor open his lips to make answer. He sadly set out for the seashore. A tempest raged over the ocean, Its waters were swollen and angry, Its billows were boiling with fury. He called out aloud for the goldfish. The goldfish swam up and demanded: вЂњWhat is it, old man, you are wanting?вЂќ With a bow, the old man said in answer: вЂњForgive me, Your Majesty Goldfish! What shall I do with my cursed old woman? She is tired of being Tsaritsa, Of the seas she now wants to be mistress, With her home in the blue ocean waters; She wants you to be her own servant, To do her commands and her errands.вЂќ Not a word spoke the goldfish in answer, It just swished its tail, and in silence вЂў Disappeared in the depths of the ocean. He waited in vain for an answer, And at last turned his steps to the palace; And beholdвЂ”there again stood his hovel; On the doorstep sat his old woman, With the same broken wash-tub before her. Translated from the Russian by Louis Zelikoff Illustrated by B. Dekhteryov WOGRtSSPUBLISHERS <вЂ™вЂў' ,> ; t. MOSCOW ; a. nywKHH CKA3KA O PWBART H PtIBKH Ha am/utucKOM jt3biKe First printing 1958 Second printing 1969 Third printing 1973 . V . Fourth' printing 1980 r yuA. 70802-232 016(01)-80 127-80 Milled in the Onion of Soviet Socialist Republics\n"
          ]
        }
      ]
    },
    {
      "cell_type": "code",
      "source": [
        "from transformers import FSMTForConditionalGeneration, FSMTTokenizer\n",
        "\n",
        "en_ru = \"facebook/wmt19-en-ru\"\n",
        "tokenizer_ru = FSMTTokenizer.from_pretrained(en_ru)\n",
        "to_ru = FSMTForConditionalGeneration.from_pretrained(en_ru)\n",
        "\n",
        "ru_en = \"facebook/wmt19-ru-en\"\n",
        "tokenizer_en = FSMTTokenizer.from_pretrained(ru_en)\n",
        "to_en = FSMTForConditionalGeneration.from_pretrained(ru_en)\n",
        "\n",
        "def translation(text, model, tokenizer):\n",
        "    input_ids = tokenizer.encode(text, return_tensors=\"pt\")\n",
        "    outputs = model.generate(input_ids)\n",
        "    decoded = tokenizer.decode(outputs[0], skip_special_tokens=True)\n",
        "    \n",
        "    return decoded"
      ],
      "metadata": {
        "id": "hOGR7nI4n1lP"
      },
      "execution_count": 31,
      "outputs": []
    },
    {
      "cell_type": "code",
      "source": [
        "model(['DeepPavlov is a library for NLP and dialog systems.'], ['What is DeepPavlov?'])"
      ],
      "metadata": {
        "colab": {
          "base_uri": "https://localhost:8080/"
        },
        "id": "ubdI7CMVq-Rq",
        "outputId": "9f841177-3c56-442a-84b3-76005fd4a3eb"
      },
      "execution_count": null,
      "outputs": [
        {
          "output_type": "execute_result",
          "data": {
            "text/plain": [
              "[['a library for NLP and dialog systems'], [14], [200928.578125]]"
            ]
          },
          "metadata": {},
          "execution_count": 4
        }
      ]
    },
    {
      "cell_type": "code",
      "source": [
        "model([text], ['Who is author?'])"
      ],
      "metadata": {
        "colab": {
          "base_uri": "https://localhost:8080/"
        },
        "id": "AIpyxCvQVGh8",
        "outputId": "55be520f-c24c-4b61-f5d1-a4cfa97468f7"
      },
      "execution_count": null,
      "outputs": [
        {
          "output_type": "execute_result",
          "data": {
            "text/plain": [
              "[['A.PUSHKIN THE FISHERMAN AND THE GOLDFISH'], [0], [24920.771484375]]"
            ]
          },
          "metadata": {},
          "execution_count": 5
        }
      ]
    },
    {
      "cell_type": "code",
      "source": [
        "s = 'Кто автор?'\n",
        "translation(s, to_en)"
      ],
      "metadata": {
        "colab": {
          "base_uri": "https://localhost:8080/",
          "height": 188
        },
        "id": "ZpsjF5GWVqok",
        "outputId": "c0f40ed3-b566-4ed8-9028-ef3fab225876"
      },
      "execution_count": null,
      "outputs": [
        {
          "output_type": "error",
          "ename": "TypeError",
          "evalue": "ignored",
          "traceback": [
            "\u001b[0;31m---------------------------------------------------------------------------\u001b[0m",
            "\u001b[0;31mTypeError\u001b[0m                                 Traceback (most recent call last)",
            "\u001b[0;32m<ipython-input-6-6fd6554cff2a>\u001b[0m in \u001b[0;36m<module>\u001b[0;34m()\u001b[0m\n\u001b[1;32m      1\u001b[0m \u001b[0ms\u001b[0m \u001b[0;34m=\u001b[0m \u001b[0;34m'Кто автор?'\u001b[0m\u001b[0;34m\u001b[0m\u001b[0;34m\u001b[0m\u001b[0m\n\u001b[0;32m----> 2\u001b[0;31m \u001b[0mtranslation\u001b[0m\u001b[0;34m(\u001b[0m\u001b[0ms\u001b[0m\u001b[0;34m,\u001b[0m \u001b[0mto_en\u001b[0m\u001b[0;34m)\u001b[0m\u001b[0;34m\u001b[0m\u001b[0;34m\u001b[0m\u001b[0m\n\u001b[0m",
            "\u001b[0;31mTypeError\u001b[0m: translation() missing 1 required positional argument: 'tokenizer'"
          ]
        }
      ]
    },
    {
      "cell_type": "code",
      "source": [
        "model([text], [translation(s, to_en, tokenizer_en)])"
      ],
      "metadata": {
        "colab": {
          "base_uri": "https://localhost:8080/"
        },
        "id": "BbbwD0pEWZw7",
        "outputId": "5aeb3a9e-78c9-4e3a-cda1-02930d9cd5d7"
      },
      "execution_count": null,
      "outputs": [
        {
          "output_type": "execute_result",
          "data": {
            "text/plain": [
              "[['A.PUSHKIN THE FISHERMAN AND THE GOLDFISH'], [0], [23221.205078125]]"
            ]
          },
          "metadata": {},
          "execution_count": 7
        }
      ]
    },
    {
      "cell_type": "code",
      "source": [
        "model([text], [translation('Почему разгневалась рыбка?', to_en, tokenizer_en)])"
      ],
      "metadata": {
        "colab": {
          "base_uri": "https://localhost:8080/"
        },
        "id": "fMHKeadkWgqq",
        "outputId": "8561de69-66bd-4fe7-992c-7f00cd108004"
      },
      "execution_count": null,
      "outputs": [
        {
          "output_type": "execute_result",
          "data": {
            "text/plain": [
              "[['frightened'], [842], [9.871175765991211]]"
            ]
          },
          "metadata": {},
          "execution_count": 9
        }
      ]
    },
    {
      "cell_type": "code",
      "source": [
        "model([text], [translation('Чем закончилась сказка?', to_en, tokenizer_en)])"
      ],
      "metadata": {
        "colab": {
          "base_uri": "https://localhost:8080/"
        },
        "id": "fJWsbInJWqdF",
        "outputId": "c76aad52-eec7-4401-b543-a71734a52de7"
      },
      "execution_count": null,
      "outputs": [
        {
          "output_type": "execute_result",
          "data": {
            "text/plain": [
              "[[''], [-1], [32.373741149902344]]"
            ]
          },
          "metadata": {},
          "execution_count": 10
        }
      ]
    },
    {
      "cell_type": "code",
      "source": [
        "model([text], [translation('Что было разбито?', to_en, tokenizer_en)])"
      ],
      "metadata": {
        "colab": {
          "base_uri": "https://localhost:8080/"
        },
        "id": "DnP1vzkLWyTf",
        "outputId": "f0bcf30b-b0eb-4adf-fb15-13791fbba48f"
      },
      "execution_count": null,
      "outputs": [
        {
          "output_type": "execute_result",
          "data": {
            "text/plain": [
              "[['seaweed'], [491], [1.2297698259353638]]"
            ]
          },
          "metadata": {},
          "execution_count": 11
        }
      ]
    },
    {
      "cell_type": "code",
      "source": [
        "o_t = model([text], [translation('Что было разбито?', to_en, tokenizer_en)])\n",
        "o_t[0][0]"
      ],
      "metadata": {
        "colab": {
          "base_uri": "https://localhost:8080/",
          "height": 35
        },
        "id": "Fah_Xwtit5lq",
        "outputId": "74a4cf70-a6cf-478c-cc2b-0b75e56c7190"
      },
      "execution_count": null,
      "outputs": [
        {
          "output_type": "execute_result",
          "data": {
            "text/plain": [
              "'seaweed'"
            ],
            "application/vnd.google.colaboratory.intrinsic+json": {
              "type": "string"
            }
          },
          "metadata": {},
          "execution_count": 12
        }
      ]
    },
    {
      "cell_type": "code",
      "source": [
        "translation('seaweed', to_ru, tokenizer_ru)"
      ],
      "metadata": {
        "colab": {
          "base_uri": "https://localhost:8080/",
          "height": 35
        },
        "id": "0abzgoK9W4rX",
        "outputId": "ebfe6fbe-fbf3-49f3-ebc7-38395f560f55"
      },
      "execution_count": null,
      "outputs": [
        {
          "output_type": "execute_result",
          "data": {
            "text/plain": [
              "'seaweed'"
            ],
            "application/vnd.google.colaboratory.intrinsic+json": {
              "type": "string"
            }
          },
          "metadata": {},
          "execution_count": 13
        }
      ]
    },
    {
      "cell_type": "code",
      "source": [
        "translation('food', to_ru, tokenizer_ru)"
      ],
      "metadata": {
        "colab": {
          "base_uri": "https://localhost:8080/",
          "height": 35
        },
        "id": "YwJVEWNIXx43",
        "outputId": "48d8ab5e-8563-4c8e-ae6f-d4396fdcba36"
      },
      "execution_count": null,
      "outputs": [
        {
          "output_type": "execute_result",
          "data": {
            "text/plain": [
              "'продовольствие'"
            ],
            "application/vnd.google.colaboratory.intrinsic+json": {
              "type": "string"
            }
          },
          "metadata": {},
          "execution_count": 14
        }
      ]
    },
    {
      "cell_type": "code",
      "source": [
        "# !pip install yaweather"
      ],
      "metadata": {
        "colab": {
          "base_uri": "https://localhost:8080/"
        },
        "id": "6lcpT_AQYNQl",
        "outputId": "152cc97b-9d30-4811-d694-d53c3fc61bfb"
      },
      "execution_count": null,
      "outputs": [
        {
          "output_type": "stream",
          "name": "stdout",
          "text": [
            "Looking in indexes: https://pypi.org/simple, https://us-python.pkg.dev/colab-wheels/public/simple/\n",
            "Collecting yaweather\n",
            "  Downloading yaweather-1.2.2-py3-none-any.whl (29 kB)\n",
            "Collecting requests>=2.24\n",
            "  Downloading requests-2.28.1-py3-none-any.whl (62 kB)\n",
            "\u001b[K     |████████████████████████████████| 62 kB 1.5 MB/s \n",
            "\u001b[?25hRequirement already satisfied: aiohttp>=3.6 in /usr/local/lib/python3.7/dist-packages (from yaweather) (3.8.1)\n",
            "Collecting pydantic>=1.6\n",
            "  Downloading pydantic-1.9.1-cp37-cp37m-manylinux_2_17_x86_64.manylinux2014_x86_64.whl (11.1 MB)\n",
            "\u001b[K     |████████████████████████████████| 11.1 MB 56.4 MB/s \n",
            "\u001b[?25hRequirement already satisfied: aiosignal>=1.1.2 in /usr/local/lib/python3.7/dist-packages (from aiohttp>=3.6->yaweather) (1.2.0)\n",
            "Requirement already satisfied: asynctest==0.13.0 in /usr/local/lib/python3.7/dist-packages (from aiohttp>=3.6->yaweather) (0.13.0)\n",
            "Requirement already satisfied: yarl<2.0,>=1.0 in /usr/local/lib/python3.7/dist-packages (from aiohttp>=3.6->yaweather) (1.7.2)\n",
            "Requirement already satisfied: multidict<7.0,>=4.5 in /usr/local/lib/python3.7/dist-packages (from aiohttp>=3.6->yaweather) (6.0.2)\n",
            "Requirement already satisfied: attrs>=17.3.0 in /usr/local/lib/python3.7/dist-packages (from aiohttp>=3.6->yaweather) (21.4.0)\n",
            "Requirement already satisfied: charset-normalizer<3.0,>=2.0 in /usr/local/lib/python3.7/dist-packages (from aiohttp>=3.6->yaweather) (2.1.0)\n",
            "Requirement already satisfied: async-timeout<5.0,>=4.0.0a3 in /usr/local/lib/python3.7/dist-packages (from aiohttp>=3.6->yaweather) (4.0.2)\n",
            "Requirement already satisfied: typing-extensions>=3.7.4 in /usr/local/lib/python3.7/dist-packages (from aiohttp>=3.6->yaweather) (4.1.1)\n",
            "Requirement already satisfied: frozenlist>=1.1.1 in /usr/local/lib/python3.7/dist-packages (from aiohttp>=3.6->yaweather) (1.3.0)\n",
            "Requirement already satisfied: idna<4,>=2.5 in /usr/local/lib/python3.7/dist-packages (from requests>=2.24->yaweather) (2.8)\n",
            "Requirement already satisfied: urllib3<1.27,>=1.21.1 in /usr/local/lib/python3.7/dist-packages (from requests>=2.24->yaweather) (1.24.3)\n",
            "Requirement already satisfied: certifi>=2017.4.17 in /usr/local/lib/python3.7/dist-packages (from requests>=2.24->yaweather) (2022.6.15)\n",
            "Installing collected packages: requests, pydantic, yaweather\n",
            "  Attempting uninstall: requests\n",
            "    Found existing installation: requests 2.22.0\n",
            "    Uninstalling requests-2.22.0:\n",
            "      Successfully uninstalled requests-2.22.0\n",
            "  Attempting uninstall: pydantic\n",
            "    Found existing installation: pydantic 1.3\n",
            "    Uninstalling pydantic-1.3:\n",
            "      Successfully uninstalled pydantic-1.3\n",
            "\u001b[31mERROR: pip's dependency resolver does not currently take into account all the packages that are installed. This behaviour is the source of the following dependency conflicts.\n",
            "torchtext 0.13.0 requires torch==1.12.0, but you have torch 1.6.0 which is incompatible.\n",
            "kapre 0.3.7 requires numpy>=1.18.5, but you have numpy 1.18.0 which is incompatible.\n",
            "google-colab 1.0.0 requires pandas>=1.1.0, but you have pandas 0.25.3 which is incompatible.\n",
            "google-colab 1.0.0 requires requests~=2.23.0, but you have requests 2.28.1 which is incompatible.\n",
            "fastai 2.7.7 requires torch<1.13,>=1.7, but you have torch 1.6.0 which is incompatible.\n",
            "fastai 2.7.7 requires torchvision>=0.8.2, but you have torchvision 0.7.0 which is incompatible.\n",
            "deeppavlov 0.17.4 requires pydantic==1.3, but you have pydantic 1.9.1 which is incompatible.\n",
            "deeppavlov 0.17.4 requires requests==2.22.0, but you have requests 2.28.1 which is incompatible.\n",
            "datascience 0.10.6 requires folium==0.2.1, but you have folium 0.8.3 which is incompatible.\u001b[0m\n",
            "Successfully installed pydantic-1.9.1 requests-2.28.1 yaweather-1.2.2\n"
          ]
        }
      ]
    },
    {
      "cell_type": "code",
      "source": [
        "from geopy import geocoders\n",
        "from yaweather import Russia, YaWeather\n",
        "\n",
        "def get_weather(message):\n",
        "  try:\n",
        "    geolocator = geocoders.Nominatim(user_agent=\"telebot\")\n",
        "    latitude = geolocator.geocode(message.text).latitude\n",
        "    longitude = geolocator.geocode(message.text).longitude\n",
        "    y = YaWeather(api_key='8ae9d9be-3ea5-447f-aa8e-9f168b684b0a')\n",
        "    res = y.forecast((latitude, longitude))\n",
        "    forecast = f'cейчас {res.fact.temp} °C, oщущается как {res.fact.feels_like} °C'\n",
        "    bot.send_message(message.from_user.id, forecast)\n",
        "    # return forecast\n",
        "  except e:\n",
        "    bot.send_message(message.from_user.id, 'В этот раз я не справился, но я могу лучше...')"
      ],
      "metadata": {
        "id": "Y3mPr4HQYDXD"
      },
      "execution_count": 64,
      "outputs": []
    },
    {
      "cell_type": "code",
      "source": [
        "get_weather('Санкт-Петербург')"
      ],
      "metadata": {
        "colab": {
          "base_uri": "https://localhost:8080/",
          "height": 35
        },
        "id": "PqPsgAwUYi_B",
        "outputId": "3c5f0205-0b0e-4288-dbfe-04dae5a5beb2"
      },
      "execution_count": 2,
      "outputs": [
        {
          "output_type": "execute_result",
          "data": {
            "text/plain": [
              "'cейчас 20.0 °C, oщущается как 20.0 °C'"
            ],
            "application/vnd.google.colaboratory.intrinsic+json": {
              "type": "string"
            }
          },
          "metadata": {},
          "execution_count": 2
        }
      ]
    },
    {
      "cell_type": "code",
      "source": [
        "from yaweather import UnitedKingdom, YaWeather\n",
        "\n",
        "y = YaWeather(api_key='8ae9d9be-3ea5-447f-aa8e-9f168b684b0a')\n",
        "res = y.forecast(UnitedKingdom.London)\n",
        "\n",
        "print(f'Now: {res.fact.temp} °C, feels like {res.fact.feels_like} °C')\n",
        "print(f'Condition: {res.fact.condition}')"
      ],
      "metadata": {
        "colab": {
          "base_uri": "https://localhost:8080/"
        },
        "id": "AhzPjYv5dNA5",
        "outputId": "b67e91dd-acfd-4d81-f140-dc8d64e75914"
      },
      "execution_count": 3,
      "outputs": [
        {
          "output_type": "stream",
          "name": "stdout",
          "text": [
            "Now: 21.0 °C, feels like 18.0 °C\n",
            "Condition: overcast\n"
          ]
        }
      ]
    },
    {
      "cell_type": "markdown",
      "source": [
        "## Урок 16. Консультация по курсовому проекту. Создание чат-бота в Telegram"
      ],
      "metadata": {
        "id": "khG8S3bBX9pj"
      }
    },
    {
      "cell_type": "code",
      "source": [
        "# !pip install python-telegram-bot"
      ],
      "metadata": {
        "colab": {
          "base_uri": "https://localhost:8080/",
          "height": 751
        },
        "id": "CpHhIErojrF8",
        "outputId": "7a3cdf5e-7340-44e6-eb6c-5ea75f17c51f"
      },
      "execution_count": null,
      "outputs": [
        {
          "output_type": "stream",
          "name": "stdout",
          "text": [
            "Looking in indexes: https://pypi.org/simple, https://us-python.pkg.dev/colab-wheels/public/simple/\n",
            "Collecting python-telegram-bot\n",
            "  Downloading python_telegram_bot-13.13-py3-none-any.whl (513 kB)\n",
            "\u001b[K     |████████████████████████████████| 513 kB 30.6 MB/s \n",
            "\u001b[?25hCollecting cachetools==4.2.2\n",
            "  Downloading cachetools-4.2.2-py3-none-any.whl (11 kB)\n",
            "Requirement already satisfied: pytz>=2018.6 in /usr/local/lib/python3.7/dist-packages (from python-telegram-bot) (2019.1)\n",
            "Collecting APScheduler==3.6.3\n",
            "  Downloading APScheduler-3.6.3-py2.py3-none-any.whl (58 kB)\n",
            "\u001b[K     |████████████████████████████████| 58 kB 6.7 MB/s \n",
            "\u001b[?25hRequirement already satisfied: certifi in /usr/local/lib/python3.7/dist-packages (from python-telegram-bot) (2022.6.15)\n",
            "Collecting tornado>=6.1\n",
            "  Downloading tornado-6.2-cp37-abi3-manylinux_2_5_x86_64.manylinux1_x86_64.manylinux_2_17_x86_64.manylinux2014_x86_64.whl (423 kB)\n",
            "\u001b[K     |████████████████████████████████| 423 kB 51.9 MB/s \n",
            "\u001b[?25hRequirement already satisfied: setuptools>=0.7 in /usr/local/lib/python3.7/dist-packages (from APScheduler==3.6.3->python-telegram-bot) (57.4.0)\n",
            "Requirement already satisfied: six>=1.4.0 in /usr/local/lib/python3.7/dist-packages (from APScheduler==3.6.3->python-telegram-bot) (1.15.0)\n",
            "Requirement already satisfied: tzlocal>=1.2 in /usr/local/lib/python3.7/dist-packages (from APScheduler==3.6.3->python-telegram-bot) (1.5.1)\n",
            "Installing collected packages: tornado, cachetools, APScheduler, python-telegram-bot\n",
            "  Attempting uninstall: tornado\n",
            "    Found existing installation: tornado 5.1.1\n",
            "    Uninstalling tornado-5.1.1:\n",
            "      Successfully uninstalled tornado-5.1.1\n",
            "  Attempting uninstall: cachetools\n",
            "    Found existing installation: cachetools 4.2.4\n",
            "    Uninstalling cachetools-4.2.4:\n",
            "      Successfully uninstalled cachetools-4.2.4\n",
            "\u001b[31mERROR: pip's dependency resolver does not currently take into account all the packages that are installed. This behaviour is the source of the following dependency conflicts.\n",
            "pymc3 3.11.5 requires scipy<1.8.0,>=1.7.3, but you have scipy 1.4.1 which is incompatible.\n",
            "google-colab 1.0.0 requires pandas>=1.1.0, but you have pandas 0.25.3 which is incompatible.\n",
            "google-colab 1.0.0 requires requests~=2.23.0, but you have requests 2.28.1 which is incompatible.\n",
            "google-colab 1.0.0 requires tornado~=5.1.0, but you have tornado 6.2 which is incompatible.\u001b[0m\n",
            "Successfully installed APScheduler-3.6.3 cachetools-4.2.2 python-telegram-bot-13.13 tornado-6.2\n"
          ]
        },
        {
          "output_type": "display_data",
          "data": {
            "application/vnd.colab-display-data+json": {
              "pip_warning": {
                "packages": [
                  "tornado"
                ]
              }
            }
          },
          "metadata": {}
        }
      ]
    },
    {
      "cell_type": "code",
      "source": [
        "import os\n",
        "# from telegram.ext  import Updater, CommandHandler, MessageHandler, Filters, CallbackContext\n",
        "# from telegram import Update"
      ],
      "metadata": {
        "id": "aZSlnd3xjaWk"
      },
      "execution_count": 93,
      "outputs": []
    },
    {
      "cell_type": "code",
      "source": [
        "list_for_fairytails = ['быль', 'миф', 'колобок', 'волшебство', 'рассказ', 'вымысел', 'андерсен', 'присказка', 'лес', 'легенда', 'сказание', 'сон', 'баба-яга', 'золотая', 'рыбка', 'небылица', 'фантазия', 'былина', 'золушка', 'красная', 'шапочка', 'чудо', 'добро', 'репка', 'иван', 'выдумка', 'ложь', 'сказ', 'история', 'волк', 'царь', 'салтан', 'морозко', 'кощей', 'конец', 'белоснежка', 'буратино', 'медведь', 'иванушка', 'богатырь', 'притча', 'лиса', 'басня', 'мечта', 'иван-царевич', 'радость', 'теремок', 'бабушка', 'жизнь', 'иван-дурак', 'мудрость', 'царевна', 'чудеса', 'правда', 'рассказчица', 'старик', 'хоттабыч', 'волшебница', 'предание', 'змей', 'горыныч', 'мультфильм', 'кот', 'ученый', 'лягушка', 'василиса', 'емеля', 'дурак', 'фильм', 'арина', 'родионовна', 'алёнушка', 'избушка', 'враньё', 'жар-птица', 'гуси-лебеди', 'рыбка', 'пушкин', 'повесть', 'волшебник', 'перо', 'конёк-горбунок', 'намёк', 'цветик-семицветик', 'ночь', 'сивка-бурка', 'садко', 'аладдин', 'аленький', 'цветочек', 'ковер-самолёт', 'русалка', 'лебеди', 'золотая', 'антилопа', 'чудовище', 'тысяча', 'и', 'одна', 'ночь', 'айболит', 'каменный', 'цветок', 'народ', 'василиса', 'премудрая', 'фольклор', 'лукоморье', 'щука', 'иванушка', 'дурачок', 'любовь', 'курочка', 'ряба', 'царь', 'снежная', 'королева', 'диво', 'рыба-кит', 'яга', 'песня', 'печка', 'руслан', 'и', 'людмила', 'явь', 'принцесса', 'конь-огонь', 'царевна-лягушка', 'дракон', 'серебряное', 'копытце', 'персонаж', 'бажов', 'синдбад', 'финист', 'маугли', 'три', 'желания', 'забава', 'царство', 'шахерезада', 'вечер', 'дремучий', 'лес', 'фэнтези', 'магия', 'заяц', 'изба', 'хороший', 'конец', 'прибаутка', 'лукошко', 'дед', 'море', 'сочинение', 'счастье', 'васнецов', 'марья', 'моревна', 'колыбель', 'вакула', 'леший', 'загадка', 'джинн', 'облака', 'повествование', 'рассказчик', 'три', 'богатыря', 'зима', 'месяц', 'гусли', 'диафильм', 'реальность', 'сказитель', 'рапунцель', 'ершов', 'мальчиш-кибальчиш', 'остров', 'буян', 'девушка', 'сирены', 'праздник', 'доброта', 'фантастика', 'девочка', 'поле', 'печь', 'феникс', 'маленький', 'принц', 'лампа', 'яблонька', 'птица', 'луна', 'русалочка', 'чиполлино', 'роща', 'дедушка', 'солоха', 'ступа', 'букварь', 'кот-баюн', 'космос', 'рыба', 'лепота', 'берёзовая', 'роща', 'царь', 'горы', 'окно', 'жанр', 'малахит', 'небосвод', 'неправда', 'придумка', 'хоромы', 'ауканье', 'небесная', 'твердь', 'тоторо', 'снегурочка', 'гоголь', 'феи', 'софия', 'ротару', 'челн', 'вязь', 'лубок', 'архетип', 'ящерки', 'гайдар', 'царевна', 'морская', 'чёрт', 'сказы', 'свиток', 'тридевятое', 'царство', 'единорог', 'кузнец', 'вакула', 'иван', 'билибин', 'изумруды', 'великан', 'маша', 'машенька', 'песнь', 'гном', 'терем', 'писатель', 'самоцветы', 'олимпийский', 'мишка', 'врубель', 'капитан', 'немо', 'детство', 'книга', 'скатерть-самобранка', 'репа', 'город', 'василиса', 'прекрасная', 'дети', 'двенадцать', 'месяцев', 'тридесятое', 'государство', 'карлсон', 'мораль', 'книжка', 'добрый', 'молодец', 'шапка-невидимка', 'скороходы', 'урок', 'три', 'толстяка', 'братья', 'гримм', 'балда', 'кот', 'сказочник', 'огниво', 'мойдодыр', 'хозяйка', 'медной', 'горы', 'синяя', 'птица', 'изумрудный', 'город', 'змей', 'эльфы', 'мачеха', 'данила-мастер', 'щелкунчик', 'красна', 'девица', 'бог', 'марья', 'тыква', 'бармалейкин', 'мультик', 'баюн', 'золотой', 'петушок', 'оловянный', 'солдатик', 'оле', 'лукойе', 'дюймовочка', 'мёртвая', 'вода', 'колобки', 'невод', 'волшебная', 'палочка', 'малахитовая', 'шкатулка', 'царевна-лебедь', 'принц', 'рай', 'ходжа', 'насреддин', 'клубок', 'алёша', 'попович', 'ночь', 'перед', 'рождеством', 'чудо-юдо', 'золотой', 'гребешок', 'золотой', 'дождь', 'петя', 'и', 'волк', 'кикимора', 'молодильные', 'яблоки', 'хрустальный', 'мост', 'мальчик-с-пальчик', 'петушок', 'пеппи', 'длинный', 'чулок', 'няня', 'эльф', 'русь', 'колдунья', 'медные', 'трубы', 'приключения', 'буратино', 'гусь', 'полюшко-поле', 'дед', 'мороз', 'ребёнок', 'былинка', 'фея', 'синяя', 'борода', 'чтение', 'настя', 'зурбаган', 'раскраска', 'грусть', 'водяной', 'скороход', 'дерево', 'хоббит', 'серый', 'волк', 'сюжет', 'зло', 'питер', 'пэн', 'соловей-разбойник', 'али-баба', 'муха-цокотуха', 'сказочность', 'поучение', 'гномик', 'нибиру', 'помидор', 'библия', 'старуха', 'иллюзия', 'замок', 'сусеки', 'кино', 'окошко', 'борода', 'дереза', 'индия', 'конёк', 'бессмертие', 'воображение', 'дубрава', 'русалки', 'гуси', 'зеркало', 'меч-кладенец', 'кривда', 'ведьма', 'чеширский', 'кот', 'невидаль', 'александр', 'роу', 'странствия', 'лилипут', 'иносказание', 'чудище', 'морское', 'квакушка', 'мышка-норушка', 'чуковский', 'дурачок', 'оконце', 'иван-да-марья', 'богатыри', 'чародей', 'судьба', 'алиса', 'полумесяц', 'девицы', 'медная', 'гора', 'детский', 'мир', 'марья-искусница', 'дудочка', 'страшила', 'лошадки', 'спящая', 'красавица', 'несмеяна', 'жучка', 'белка', 'огневушка-поскакушка', 'медный', 'всадник', 'семь', 'гномов', 'живая', 'вода', 'алиса', 'в', 'стране', 'чудес', 'ряба', 'корыто', 'тайга', 'подснежники', 'рыбак', 'семицветик', 'гарри', 'поттер', 'колодец', 'смазка', 'винни-пух', 'предисловие', 'обыкновенное', 'чудо', 'бабайка', 'китеж-град']\n",
        "list_for_weather = ['грязь', 'явление', 'радуга', 'порыв', 'ветра', 'осень', 'лужа', 'сводка', 'дом', 'снегопад', 'антициклон', 'гром', 'студень', 'пляж', 'тихий', 'океан', 'заклинатель', 'воздух', 'религия', 'непредсказуемость', 'неизбежность', 'паводки', 'стекло', 'станция', 'цельсий', 'плюс', 'сырость', 'раскаты', 'грома', 'питер', 'пурга', 'похолодание', 'аномалия', 'зонд', 'засада', 'утро', 'ливень', 'равноденствие', 'время', 'года', 'примета', 'стриж', 'направление', 'вологда', 'слонёнок', 'весна', 'фобос', 'флюгер', 'говно', 'облачка', 'отношения', 'клёв', 'суровость', 'хмурость', 'прояснение', 'раскаты', 'метеостанция', 'тучка', 'зима', 'мелодекламация', 'дневник', 'май', 'велосипед', 'крым', 'чёрное', 'море', 'зной', 'яндекс', 'состояние', 'туча', 'небесная', 'канцелярия', 'октябрь', 'реклама', 'мчс', 'воскресенье', 'заморозки', 'ноябрь', 'жизнь', 'ветреность', 'пейзаж', 'климатология', 'ягода', 'видимость', 'обстановка', 'погода','солнечно', 'осадка', 'дождь', 'снег', 'ливень', 'зонт', 'прогноз', 'дождь', 'природа', 'ветер', 'климат', 'холод', 'гидрометцентр', 'настроение', 'ясность', 'тучи', 'осадки', 'море', 'облачность', 'атмосфера', 'непогода', 'переменчивость', 'зонт', 'снег', 'солнце', 'лето', 'ненастье', 'синоптик', 'слякоть', 'синоптики', 'температура', 'циклон', 'туман', 'метеорология', 'пагода', 'жара', 'облако', 'новости', 'небо', 'облака', 'штиль', 'изменчивость', 'условия', 'мороз', 'пасмурность', 'перемена', 'вероятность', 'прогулка', 'благодать', 'сезон', 'улица', 'прогнозы', 'градус', 'метеоролог', 'гроза', 'термометр', 'непрогнозируемость', 'барометр', 'градусник', 'переменная', 'тепло', 'зонтик', 'шторм', 'давление', 'ведро', 'долина', 'умиротворение', 'грусть', 'вёдра', 'интерферон', 'тучность', 'изморось', 'евро', 'туманность', 'метель', 'телетекст', 'поле', 'полёт', 'чайковский', 'потепление', 'днепр', 'морепродукт', 'диктор', 'дворник', 'дерьмо', 'смерч', 'солнечность', 'тайфун', 'мир', 'капель', 'дым', 'день', 'перемены', 'праздник', 'мода']\n",
        "list_for_translation = ['перевод', 'интерпритировать', 'транслировать', 'преобрзование', 'язык', 'деньги', 'гоблин', 'словарь', 'переводчик', 'транскрипция', 'интерпретация', 'значение', 'конвертация', 'трансляция', 'банк', 'подстрочник', 'часы', 'английский', 'язык', 'транзакция', 'стрелка', 'работа', 'трудность', 'стрелки', 'трудности', 'субтитры', 'иностранец', 'управленец', 'перенос', 'вестерн', 'правило', 'слово', 'интерпретатор', 'гипертекст', 'пиркод', 'счисление', 'толмач', 'почта', 'транслитерация', 'место', 'жительства', 'зачёт', 'ну', 'погоди', 'труд', 'приход', 'трансфер', 'корректура', 'транзит', 'гранж', 'увольнение', 'уточнение', 'языки', 'бухгалтерия', 'иностранный', 'язык', 'толкование', 'юла', 'интернет', 'квартплата', 'покемон', 'текст', 'русификация', 'титры', 'адаптация', 'сложности', 'искусство', 'мера', 'штамп', 'трапеция', 'расход', 'транслятор', 'стрелочник', 'иврит', 'оригинал', 'литерация', 'объяснение', 'транс', 'фильм', 'измерение', 'сублимация', 'речь', 'озвучка', 'синхрон', 'понимание', 'перенаправление', 'синхронист', 'дубляж']"
      ],
      "metadata": {
        "id": "z6TVwlyAX-Ro"
      },
      "execution_count": 32,
      "outputs": []
    },
    {
      "cell_type": "code",
      "source": [
        "def is_in_list(text, list):\n",
        "    for word in text:\n",
        "        if word in list:\n",
        "            return True\n",
        "    return False"
      ],
      "metadata": {
        "id": "tT8rrDR_hXjJ"
      },
      "execution_count": 33,
      "outputs": []
    },
    {
      "cell_type": "code",
      "source": [
        "import re \n",
        "\n",
        "def is_english(text):\n",
        "    return bool(re.search(r'[a-zA-Z]', text))"
      ],
      "metadata": {
        "id": "HtuL9aggjG2F"
      },
      "execution_count": 34,
      "outputs": []
    },
    {
      "cell_type": "code",
      "source": [
        "updater = Updater(token='5016831506:AAEC63dtryOmIMkjl415vvMTDNCGklMI63M')\n",
        "dispatcher = updater.dispatcher"
      ],
      "metadata": {
        "id": "om-4z0oljMqO"
      },
      "execution_count": 21,
      "outputs": []
    },
    {
      "cell_type": "code",
      "source": [
        "def startCommand(update: Update, context: CallbackContext):\n",
        "    update.message.reply_text('Привет!\\nЯ ботик (простой и очень глупый бот).\\nЕсли надо, я могу пообщаться о сказках, только прошу снисхождения, я очень плохо в них разбираюсь, перевести простые предложения с английского на русский и обратно и рассказать о погоде.\\nПоехали?')\n",
        "\n",
        "def stopCommand(update: Update, context: CallbackContext):\n",
        "    update.message.reply_text('Пока')"
      ],
      "metadata": {
        "id": "Wcl5rZDck9Zk"
      },
      "execution_count": 22,
      "outputs": []
    },
    {
      "cell_type": "code",
      "source": [
        "def textMessage(update: Update, context: CallbackContext):\n",
        "    input = update.message.text\n",
        "    if is_english(input):#update.message.text):\n",
        "        update.message.reply_text(translation(input, to_ru, tokenizer_ru) + 'is_english' + input) # update.message.text\n",
        "\n",
        "    elif is_in_list(input, list_for_translation):\n",
        "        print('ru_en' + input)\n",
        "        update.message.reply_text(translation(update.message.text, to_en, tokenizer_en) + 'list_from_translation' + input) \n",
        "          \n",
        "    elif is_in_list(input.lower(), list_for_weather):\n",
        "        print('Погода' + input)\n",
        "        update.message.reply_text('Погода в каком городе интересует?')\n",
        "        input = update.message.text\n",
        "        update.message.reply_text(get_weather(input))\n",
        "            \n",
        "    elif is_in_list(input, list_for_fairytails):\n",
        "        update.message.reply_text('Прошу учесть мои скромные возможности и выбирать наиболее известные сказки и понимать, что даже самые известные сказки я знаю не все. Какую сказку хотите обсудить?')\n",
        "        input = update.message.text\n",
        "        for word in input.split():\n",
        "          file_name, hope = get_tail(word)\n",
        "          if hope:\n",
        "            text = open(file_name, 'rb').read().decode(encoding='cp1251')\n",
        "            text = ' '.join(text.split())\n",
        "            break\n",
        "        if file_name == 'Облом':\n",
        "            update.message.reply_text(file_name + ', я не знаю такой сказки...')\n",
        "        else:\n",
        "          input = update.message.text\n",
        "          update.message.reply_text('Отлично! Можно попробовать обсудить эту сказку. Готов лицезреть вопрос.' + input)\n",
        "        output = model([text], [translation(input, to_en, tokenizer_en)])\n",
        "        update.message.reply_text(translation(output[0][0], to_ru, tokenizer_ru))\n",
        "    else:\n",
        "      update.message.reply_text('Что-то я совсем глуп. Можно отдохнуть?' + input)\n",
        "            \n",
        "    return"
      ],
      "metadata": {
        "id": "2JLm3-x-ldCx"
      },
      "execution_count": 23,
      "outputs": []
    },
    {
      "cell_type": "code",
      "source": [
        "def get_tail(word):\n",
        "  for root, dirs, files in os.walk('/content'):\n",
        "    for names in files:\n",
        "        if word.lower() in names.lower():\n",
        "             return os.path.join(root, names), True\n",
        "  return 'Облом', False"
      ],
      "metadata": {
        "id": "e7fTGueApR1H"
      },
      "execution_count": 74,
      "outputs": []
    },
    {
      "cell_type": "code",
      "source": [
        "dispatcher.add_handler(CommandHandler(\"start\", startCommand))\n",
        "dispatcher.add_handler(CommandHandler(\"stop\", stopCommand))\n",
        "dispatcher.add_handler(MessageHandler(Filters.text & ~Filters.command, textMessage))\n",
        "\n",
        "updater.start_polling()\n",
        "updater.idle()"
      ],
      "metadata": {
        "id": "MmURItg2pq4P"
      },
      "execution_count": 25,
      "outputs": []
    },
    {
      "cell_type": "code",
      "source": [
        "# !pip install python-telegram-bot --pre\n",
        "# !pip install python-telegram-bot==20.0a0\n",
        "# !pip install python-telegram-bot --upgrade"
      ],
      "metadata": {
        "colab": {
          "base_uri": "https://localhost:8080/"
        },
        "id": "JLdnrYbauRg5",
        "outputId": "7be5cd23-2d98-4c22-ac52-f4cfa501b42b"
      },
      "execution_count": 2,
      "outputs": [
        {
          "output_type": "stream",
          "name": "stdout",
          "text": [
            "Looking in indexes: https://pypi.org/simple, https://us-python.pkg.dev/colab-wheels/public/simple/\n",
            "Requirement already satisfied: python-telegram-bot in /usr/local/lib/python3.7/dist-packages (20.0a0)\n",
            "Requirement already satisfied: APScheduler~=3.9.1 in /usr/local/lib/python3.7/dist-packages (from python-telegram-bot) (3.9.1)\n",
            "Requirement already satisfied: httpx~=0.22.0 in /usr/local/lib/python3.7/dist-packages (from python-telegram-bot) (0.22.0)\n",
            "Requirement already satisfied: pytz>=2018.6 in /usr/local/lib/python3.7/dist-packages (from python-telegram-bot) (2019.1)\n",
            "Requirement already satisfied: tornado~=6.1 in /usr/local/lib/python3.7/dist-packages (from python-telegram-bot) (6.2)\n",
            "Requirement already satisfied: cachetools~=5.0.0 in /usr/local/lib/python3.7/dist-packages (from python-telegram-bot) (5.0.0)\n",
            "Requirement already satisfied: six>=1.4.0 in /usr/local/lib/python3.7/dist-packages (from APScheduler~=3.9.1->python-telegram-bot) (1.15.0)\n",
            "Requirement already satisfied: setuptools>=0.7 in /usr/local/lib/python3.7/dist-packages (from APScheduler~=3.9.1->python-telegram-bot) (57.4.0)\n",
            "Requirement already satisfied: tzlocal!=3.*,>=2.0 in /usr/local/lib/python3.7/dist-packages (from APScheduler~=3.9.1->python-telegram-bot) (4.2)\n",
            "Requirement already satisfied: charset-normalizer in /usr/local/lib/python3.7/dist-packages (from httpx~=0.22.0->python-telegram-bot) (2.1.0)\n",
            "Requirement already satisfied: sniffio in /usr/local/lib/python3.7/dist-packages (from httpx~=0.22.0->python-telegram-bot) (1.2.0)\n",
            "Requirement already satisfied: httpcore<0.15.0,>=0.14.5 in /usr/local/lib/python3.7/dist-packages (from httpx~=0.22.0->python-telegram-bot) (0.14.7)\n",
            "Requirement already satisfied: rfc3986[idna2008]<2,>=1.3 in /usr/local/lib/python3.7/dist-packages (from httpx~=0.22.0->python-telegram-bot) (1.5.0)\n",
            "Requirement already satisfied: certifi in /usr/local/lib/python3.7/dist-packages (from httpx~=0.22.0->python-telegram-bot) (2022.6.15)\n",
            "Requirement already satisfied: anyio==3.* in /usr/local/lib/python3.7/dist-packages (from httpcore<0.15.0,>=0.14.5->httpx~=0.22.0->python-telegram-bot) (3.6.1)\n",
            "Requirement already satisfied: h11<0.13,>=0.11 in /usr/local/lib/python3.7/dist-packages (from httpcore<0.15.0,>=0.14.5->httpx~=0.22.0->python-telegram-bot) (0.12.0)\n",
            "Requirement already satisfied: idna>=2.8 in /usr/local/lib/python3.7/dist-packages (from anyio==3.*->httpcore<0.15.0,>=0.14.5->httpx~=0.22.0->python-telegram-bot) (2.8)\n",
            "Requirement already satisfied: typing-extensions in /usr/local/lib/python3.7/dist-packages (from anyio==3.*->httpcore<0.15.0,>=0.14.5->httpx~=0.22.0->python-telegram-bot) (4.1.1)\n",
            "Requirement already satisfied: backports.zoneinfo in /usr/local/lib/python3.7/dist-packages (from tzlocal!=3.*,>=2.0->APScheduler~=3.9.1->python-telegram-bot) (0.2.1)\n",
            "Requirement already satisfied: pytz-deprecation-shim in /usr/local/lib/python3.7/dist-packages (from tzlocal!=3.*,>=2.0->APScheduler~=3.9.1->python-telegram-bot) (0.1.0.post0)\n",
            "Requirement already satisfied: tzdata in /usr/local/lib/python3.7/dist-packages (from pytz-deprecation-shim->tzlocal!=3.*,>=2.0->APScheduler~=3.9.1->python-telegram-bot) (2022.1)\n"
          ]
        }
      ]
    },
    {
      "cell_type": "code",
      "source": [
        "# Source: https://github.com/python-telegram-bot/python-telegram-bot/blob/master/examples/conversationbot2.py\n",
        "\"\"\"\n",
        "First, a few callback functions are defined. Then, those functions are passed to\n",
        "the Application and registered at their respective places.\n",
        "Then, the bot is started and runs until we press Ctrl-C on the command line.\n",
        "\n",
        "Usage:\n",
        "Example of a bot-user conversation using ConversationHandler.\n",
        "Send /start to initiate the conversation.\n",
        "Press Ctrl-C on the command line or send a signal to the process to stop the\n",
        "bot.\n",
        "\"\"\"\n",
        "\n",
        "import logging\n",
        "from typing import Dict\n",
        "\n",
        "from telegram import __version__ as TG_VER\n",
        "\n",
        "try:\n",
        "    from telegram import __version_info__\n",
        "except ImportError:\n",
        "    __version_info__ = (0, 0, 0, 0, 0)  # type: ignore[assignment]\n",
        "\n",
        "# if __version_info__ < (20, 0, 0, \"alpha\", 1):\n",
        "#     raise RuntimeError(\n",
        "#         f\"This example is not compatible with your current PTB version {TG_VER}. To view the \"\n",
        "#         f\"{TG_VER} version of this example, \"\n",
        "#         f\"visit https://docs.python-telegram-bot.org/en/v{TG_VER}/examples.html\"\n",
        "#     )\n",
        "from telegram import ReplyKeyboardMarkup, ReplyKeyboardRemove, Update\n",
        "from telegram.ext import (\n",
        "    Application,\n",
        "    CommandHandler,\n",
        "    ContextTypes,\n",
        "    ConversationHandler,\n",
        "    MessageHandler,\n",
        "    filters,\n",
        ")\n",
        "\n",
        "# Enable logging\n",
        "# logging.basicConfig(\n",
        "#     format=\"%(asctime)s - %(name)s - %(levelname)s - %(message)s\", level=logging.INFO\n",
        "# )\n",
        "# logger = logging.getLogger(__name__)\n",
        "\n",
        "CHOOSING, TYPING_REPLY, TYPING_CHOICE = range(3)\n",
        "\n",
        "reply_keyboard = [\n",
        "    [\"Age\", \"Favourite colour\"],\n",
        "    [\"Number of siblings\", \"Something else...\"],\n",
        "    [\"Done\"],\n",
        "]\n",
        "markup = ReplyKeyboardMarkup(reply_keyboard, one_time_keyboard=True)\n",
        "\n",
        "\n",
        "def facts_to_str(user_data: Dict[str, str]) -> str:\n",
        "    \"\"\"Helper function for formatting the gathered user info.\"\"\"\n",
        "    facts = [f\"{key} - {value}\" for key, value in user_data.items()]\n",
        "    return \"\\n\".join(facts).join([\"\\n\", \"\\n\"])\n",
        "\n",
        "\n",
        "async def start(update: Update, context: ContextTypes.DEFAULT_TYPE) -> int:\n",
        "    \"\"\"Start the conversation and ask user for input.\"\"\"\n",
        "    await update.message.reply_text(\n",
        "        \"Hi! My name is Doctor Botter. I will hold a more complex conversation with you. \"\n",
        "        \"Why don't you tell me something about yourself?\",\n",
        "        reply_markup=markup,\n",
        "    )\n",
        "\n",
        "    return CHOOSING\n",
        "\n",
        "\n",
        "async def regular_choice(update: Update, context: ContextTypes.DEFAULT_TYPE) -> int:\n",
        "    \"\"\"Ask the user for info about the selected predefined choice.\"\"\"\n",
        "    text = update.message.text\n",
        "    context.user_data[\"choice\"] = text\n",
        "    await update.message.reply_text(f\"Your {text.lower()}? Yes, I would love to hear about that!\")\n",
        "\n",
        "    return TYPING_REPLY\n",
        "\n",
        "\n",
        "async def custom_choice(update: Update, context: ContextTypes.DEFAULT_TYPE) -> int:\n",
        "    \"\"\"Ask the user for a description of a custom category.\"\"\"\n",
        "    await update.message.reply_text(\n",
        "        'Alright, please send me the category first, for example \"Most impressive skill\"'\n",
        "    )\n",
        "\n",
        "    return TYPING_CHOICE\n",
        "\n",
        "\n",
        "async def received_information(update: Update, context: ContextTypes.DEFAULT_TYPE) -> int:\n",
        "    \"\"\"Store info provided by user and ask for the next category.\"\"\"\n",
        "    user_data = context.user_data\n",
        "    text = update.message.text\n",
        "    category = user_data[\"choice\"]\n",
        "    user_data[category] = text\n",
        "    del user_data[\"choice\"]\n",
        "\n",
        "    await update.message.reply_text(\n",
        "        \"Neat! Just so you know, this is what you already told me:\"\n",
        "        f\"{facts_to_str(user_data)}You can tell me more, or change your opinion\"\n",
        "        \" on something.\",\n",
        "        reply_markup=markup,\n",
        "    )\n",
        "\n",
        "    return CHOOSING\n",
        "\n",
        "\n",
        "async def done(update: Update, context: ContextTypes.) -> int:\n",
        "    \"\"\"Display the gathered info and end the conversation.\"\"\"\n",
        "    user_data = context.user_data\n",
        "    if \"choice\" in user_data:\n",
        "        del user_data[\"choice\"]\n",
        "\n",
        "    await update.message.reply_text(\n",
        "        f\"I learned these facts about you: {facts_to_str(user_data)}Until next time!\",\n",
        "        reply_markup=ReplyKeyboardRemove(),\n",
        "    )\n",
        "\n",
        "    user_data.clear()\n",
        "    return ConversationHandler.END"
      ],
      "metadata": {
        "id": "yl91W_6ywwTW",
        "colab": {
          "base_uri": "https://localhost:8080/",
          "height": 242
        },
        "outputId": "b0ce0ce3-59dc-43b9-aef5-3b1a0f07602a"
      },
      "execution_count": 4,
      "outputs": [
        {
          "output_type": "error",
          "ename": "AttributeError",
          "evalue": "ignored",
          "traceback": [
            "\u001b[0;31m---------------------------------------------------------------------------\u001b[0m",
            "\u001b[0;31mAttributeError\u001b[0m                            Traceback (most recent call last)",
            "\u001b[0;32m<ipython-input-4-69f8b55e28c2>\u001b[0m in \u001b[0;36m<module>\u001b[0;34m()\u001b[0m\n\u001b[1;32m     60\u001b[0m \u001b[0;34m\u001b[0m\u001b[0m\n\u001b[1;32m     61\u001b[0m \u001b[0;34m\u001b[0m\u001b[0m\n\u001b[0;32m---> 62\u001b[0;31m \u001b[0;32masync\u001b[0m \u001b[0;32mdef\u001b[0m \u001b[0mstart\u001b[0m\u001b[0;34m(\u001b[0m\u001b[0mupdate\u001b[0m\u001b[0;34m:\u001b[0m \u001b[0mUpdate\u001b[0m\u001b[0;34m,\u001b[0m \u001b[0mcontext\u001b[0m\u001b[0;34m:\u001b[0m \u001b[0mContextTypes\u001b[0m\u001b[0;34m.\u001b[0m\u001b[0mDEFAULT_TYPE\u001b[0m\u001b[0;34m)\u001b[0m \u001b[0;34m->\u001b[0m \u001b[0mint\u001b[0m\u001b[0;34m:\u001b[0m\u001b[0;34m\u001b[0m\u001b[0;34m\u001b[0m\u001b[0m\n\u001b[0m\u001b[1;32m     63\u001b[0m     \u001b[0;34m\"\"\"Start the conversation and ask user for input.\"\"\"\u001b[0m\u001b[0;34m\u001b[0m\u001b[0;34m\u001b[0m\u001b[0m\n\u001b[1;32m     64\u001b[0m     await update.message.reply_text(\n",
            "\u001b[0;31mAttributeError\u001b[0m: type object 'ContextTypes' has no attribute 'DEFAULT_TYPE'"
          ]
        }
      ]
    },
    {
      "cell_type": "code",
      "source": [
        "    \"\"\"Run the bot.\"\"\"\n",
        "    # Create the Application and pass it your bot's token.\n",
        "    application = Application.builder().token(\"TOKEN\").build()\n",
        "\n",
        "    # Add conversation handler with the states CHOOSING, TYPING_CHOICE and TYPING_REPLY\n",
        "    conv_handler = ConversationHandler(\n",
        "        entry_points=[CommandHandler(\"start\", start)],\n",
        "        states={\n",
        "            CHOOSING: [\n",
        "                MessageHandler(\n",
        "                    filters.Regex(\"^(Age|Favourite colour|Number of siblings)$\"), regular_choice\n",
        "                ),\n",
        "                MessageHandler(filters.Regex(\"^Something else...$\"), custom_choice),\n",
        "            ],\n",
        "            TYPING_CHOICE: [\n",
        "                MessageHandler(\n",
        "                    filters.TEXT & ~(filters.COMMAND | filters.Regex(\"^Done$\")), regular_choice\n",
        "                )\n",
        "            ],\n",
        "            TYPING_REPLY: [\n",
        "                MessageHandler(\n",
        "                    filters.TEXT & ~(filters.COMMAND | filters.Regex(\"^Done$\")),\n",
        "                    received_information,\n",
        "                )\n",
        "            ],\n",
        "        },\n",
        "        fallbacks=[MessageHandler(filters.Regex(\"^Done$\"), done)],\n",
        "    )\n",
        "\n",
        "    application.add_handler(conv_handler)\n",
        "\n",
        "    # Run the bot until the user presses Ctrl-C\n",
        "    application.run_polling()"
      ],
      "metadata": {
        "id": "Y-LJHcoSoOcf"
      },
      "execution_count": null,
      "outputs": []
    },
    {
      "cell_type": "code",
      "source": [
        "import telebot\n",
        "\n",
        "bot = telebot.TeleBot('5016831506:AAEC63dtryOmIMkjl415vvMTDNCGklMI63M')"
      ],
      "metadata": {
        "id": "LGLCblnuyfwG"
      },
      "execution_count": 120,
      "outputs": []
    },
    {
      "cell_type": "code",
      "source": [
        "@bot.message_handler(content_types=['text'])\n",
        "def start(message):\n",
        "  if message.text == '/start':\n",
        "    bot.send_message(message.from_user.id, \"'Привет!\\nЯ ботик (простой и очень глупый бот).\\nЕсли надо, я могу пообщаться о сказках, только прошу снисхождения, я очень плохо в них разбираюсь, перевести простые предложения с английского на русский и обратно и рассказать о погоде.\\nПоехали?'\")\n",
        "    bot.register_next_step_handler(message, get_choice)\n",
        "  elif message.text == '/stop':\n",
        "    bot.send_message(message.from_user.id, 'Пока')\n",
        "  else:\n",
        "    bot.send_message(message.from_user.id, 'Напиши /start, если надо начать заново...')"
      ],
      "metadata": {
        "id": "CQRU7GHqyycJ"
      },
      "execution_count": 121,
      "outputs": []
    },
    {
      "cell_type": "code",
      "source": [
        "def get_choice(message):\n",
        "  if is_english(message.text):\n",
        "    bot.send_message(message.from_user.id, 'Хорошо, будем переводить с английского эту фразу: ' + message.text)\n",
        "    bot.send_message(message.from_user.id, translation(message.text, to_ru, tokenizer_ru))\n",
        "  elif message.text.lower() in list_for_translation:\n",
        "    bot.send_message(message.from_user.id, 'Хорошо, будем переводить на английский. Воспринимаю фразу...')\n",
        "    bot.register_next_step_handler(message, to_eng)\n",
        "  elif message.text.lower() in list_for_weather:\n",
        "    bot.send_message(message.from_user.id, 'Прекрасно! В каком городе узнать погоду?')\n",
        "    bot.register_next_step_handler(message, get_weather)\n",
        "  elif message.text.lower() in list_for_fairytails:\n",
        "    bot.send_message(message.from_user.id, 'Прошу учесть мои скромные возможности и выбирать наиболее известные сказки и понимать, что даже самые известные сказки я знаю не все. Какую сказку будем обсудить?')\n",
        "    bot.register_next_step_handler(message, hard_to_tale)\n",
        "  else:\n",
        "    bot.send_message(message.from_user.id, 'Что-то я совсем глуп. Можно отдохнуть?')"
      ],
      "metadata": {
        "id": "OAjCSH380vdQ"
      },
      "execution_count": 122,
      "outputs": []
    },
    {
      "cell_type": "code",
      "source": [
        "def to_eng(message):\n",
        "  bot.send_message(message.from_user.id, translation(message.text, to_en, tokenizer_en))\n",
        "\n",
        "def hard_to_tale(message):\n",
        "  input = message.text\n",
        "  input = translation(input, to_en, tokenizer_en)\n",
        "  for word in input.split():\n",
        "    file_name, hope = get_tail(word)\n",
        "    if hope:\n",
        "      text = open(file_name, 'rb').read().decode(encoding='cp1251')\n",
        "      text = ' '.join(text.split())\n",
        "      break\n",
        "  if file_name == 'Облом':\n",
        "    bot.send_message(message.from_user.id, 'Я не знаю такой сказки...')\n",
        "  else:\n",
        "    bot.send_message(message.from_user.id, 'Отлично! Можно попробовать обсудить эту сказку. Готов лицезреть вопрос.')\n",
        "    bot.register_next_step_handler(message, tail_ans, text)\n",
        "\n",
        "def tail_ans(message, text):\n",
        "  bot.send_message(message.from_user.id, message.text)\n",
        "  output = model([text], [translation(message.text, to_en, tokenizer_en)])\n",
        "  output = translation(output[0][0], to_ru, tokenizer_ru)\n",
        "  bot.send_message(message.from_user.id, output)"
      ],
      "metadata": {
        "id": "uLO4JVyw3rFM"
      },
      "execution_count": 123,
      "outputs": []
    },
    {
      "cell_type": "code",
      "source": [
        "bot.polling(none_stop=True, interval=0)"
      ],
      "metadata": {
        "id": "Y9Ba3f490OBo"
      },
      "execution_count": 124,
      "outputs": []
    }
  ],
  "metadata": {
    "colab": {
      "name": "Lesson_15_and_16.ipynb",
      "provenance": [],
      "collapsed_sections": []
    },
    "kernelspec": {
      "display_name": "Python 3",
      "name": "python3"
    },
    "language_info": {
      "name": "python"
    }
  },
  "nbformat": 4,
  "nbformat_minor": 0
}
