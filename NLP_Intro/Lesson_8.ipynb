{
  "nbformat": 4,
  "nbformat_minor": 0,
  "metadata": {
    "colab": {
      "name": "Lesson_8.ipynb",
      "provenance": [],
      "toc_visible": true
    },
    "kernelspec": {
      "name": "python3",
      "display_name": "Python 3"
    },
    "language_info": {
      "name": "python"
    }
  },
  "cells": [
    {
      "cell_type": "markdown",
      "source": [
        "# Введение в обработку естественного языка\n",
        "## Урок 8. Рекуррентные нейронные сети RNN LSTM GRU"
      ],
      "metadata": {
        "id": "hbpteMgtIogc"
      }
    },
    {
      "cell_type": "markdown",
      "source": [
        "### Задание\n",
        "Данные берем отызывы за лето\n",
        "На вебинаре мы говорили, что долгое время CNN и RNN архитектуры были конурируещими выяснить какая архитектура больше подходит для нашей задачи\n",
        "1. построить свёрточные архитектуры\n",
        "2. построить различные архитектуры с RNN\n",
        "3. построить совместные архитектуры CNN -> RNN или (RNN -> CNN)"
      ],
      "metadata": {
        "id": "4Uc96SuAIvSC"
      }
    },
    {
      "cell_type": "code",
      "execution_count": 1,
      "metadata": {
        "colab": {
          "base_uri": "https://localhost:8080/"
        },
        "id": "8i-1z-bnIO5T",
        "outputId": "90fd90fc-23cd-4870-b3cb-d749fee0c8ac"
      },
      "outputs": [
        {
          "output_type": "stream",
          "name": "stdout",
          "text": [
            "Looking in indexes: https://pypi.org/simple, https://us-python.pkg.dev/colab-wheels/public/simple/\n",
            "Requirement already satisfied: xlrd in /usr/local/lib/python3.7/dist-packages (1.1.0)\n",
            "Collecting xlrd\n",
            "  Downloading xlrd-2.0.1-py2.py3-none-any.whl (96 kB)\n",
            "\u001b[K     |████████████████████████████████| 96 kB 4.5 MB/s \n",
            "\u001b[?25hInstalling collected packages: xlrd\n",
            "  Attempting uninstall: xlrd\n",
            "    Found existing installation: xlrd 1.1.0\n",
            "    Uninstalling xlrd-1.1.0:\n",
            "      Successfully uninstalled xlrd-1.1.0\n",
            "Successfully installed xlrd-2.0.1\n",
            "Looking in indexes: https://pypi.org/simple, https://us-python.pkg.dev/colab-wheels/public/simple/\n",
            "Collecting pymorphy2\n",
            "  Downloading pymorphy2-0.9.1-py3-none-any.whl (55 kB)\n",
            "\u001b[K     |████████████████████████████████| 55 kB 2.7 MB/s \n",
            "\u001b[?25hRequirement already satisfied: docopt>=0.6 in /usr/local/lib/python3.7/dist-packages (from pymorphy2) (0.6.2)\n",
            "Collecting dawg-python>=0.7.1\n",
            "  Downloading DAWG_Python-0.7.2-py2.py3-none-any.whl (11 kB)\n",
            "Collecting pymorphy2-dicts-ru<3.0,>=2.4\n",
            "  Downloading pymorphy2_dicts_ru-2.4.417127.4579844-py2.py3-none-any.whl (8.2 MB)\n",
            "\u001b[K     |████████████████████████████████| 8.2 MB 10.7 MB/s \n",
            "\u001b[?25hInstalling collected packages: pymorphy2-dicts-ru, dawg-python, pymorphy2\n",
            "Successfully installed dawg-python-0.7.2 pymorphy2-0.9.1 pymorphy2-dicts-ru-2.4.417127.4579844\n",
            "Looking in indexes: https://pypi.org/simple, https://us-python.pkg.dev/colab-wheels/public/simple/\n",
            "Collecting stop-words\n",
            "  Downloading stop-words-2018.7.23.tar.gz (31 kB)\n",
            "Building wheels for collected packages: stop-words\n",
            "  Building wheel for stop-words (setup.py) ... \u001b[?25l\u001b[?25hdone\n",
            "  Created wheel for stop-words: filename=stop_words-2018.7.23-py3-none-any.whl size=32911 sha256=8e21eb06608a2b4c75438b9de0bfb11801265a335f05a65bdfcc0cd84a9c1936\n",
            "  Stored in directory: /root/.cache/pip/wheels/fb/86/b2/277b10b1ce9f73ce15059bf6975d4547cc4ec3feeb651978e9\n",
            "Successfully built stop-words\n",
            "Installing collected packages: stop-words\n",
            "Successfully installed stop-words-2018.7.23\n"
          ]
        }
      ],
      "source": [
        "!pip install --upgrade xlrd\n",
        "!pip install pymorphy2\n",
        "!pip install stop-words"
      ]
    },
    {
      "cell_type": "code",
      "source": [
        "import pandas as pd\n",
        "from string import punctuation\n",
        "from stop_words import get_stop_words\n",
        "from pymorphy2 import MorphAnalyzer\n",
        "import re\n",
        "from sklearn.model_selection import train_test_split\n",
        "import keras\n",
        "from keras.models import Sequential, Model\n",
        "from keras.layers import Dense, Dropout, Activation, Input, Embedding, Conv1D, GlobalMaxPool1D, SimpleRNN, LSTM, GRU, Masking, Flatten\n",
        "from keras.preprocessing.text import Tokenizer\n",
        "from keras.preprocessing.sequence import pad_sequences\n",
        "from keras.callbacks import TensorBoard \n",
        "from keras.callbacks import EarlyStopping"
      ],
      "metadata": {
        "id": "my864osxMu7N"
      },
      "execution_count": 8,
      "outputs": []
    },
    {
      "cell_type": "code",
      "source": [
        "df = pd.read_excel('/content/отзывы за лето.xls')\n",
        "df.Content = df.Content.astype(str)"
      ],
      "metadata": {
        "id": "mNo5xhM9M2dE"
      },
      "execution_count": 3,
      "outputs": []
    },
    {
      "cell_type": "code",
      "source": [
        "sw = set(get_stop_words(\"ru\"))\n",
        "exclude = set(punctuation)\n",
        "morpher = MorphAnalyzer()\n",
        "\n",
        "def preprocess_text(txt):\n",
        "    txt = str(txt)\n",
        "    txt = \"\".join(c for c in txt if c not in exclude)\n",
        "    txt = txt.lower()\n",
        "    txt = re.sub(\"не\\s\", \"не\", txt)\n",
        "    txt = [morpher.parse(word)[0].normal_form for word in txt.split() if word not in sw]\n",
        "    return \" \".join(txt)\n",
        "\n",
        "df['Content'] = df['Content'].apply(preprocess_text)\n",
        "df.sample(5)"
      ],
      "metadata": {
        "colab": {
          "base_uri": "https://localhost:8080/",
          "height": 206
        },
        "id": "qXvl6-gTNZHd",
        "outputId": "ac04ad26-00b4-4479-8573-747623ca1f4e"
      },
      "execution_count": 4,
      "outputs": [
        {
          "output_type": "execute_result",
          "data": {
            "text/plain": [
              "       Rating                                            Content        Date\n",
              "17549       5                                  удобно оперативно  2017-07-11\n",
              "4810        5                                    отличный работа  2017-08-07\n",
              "3188        5                                  разработчик супер  2017-08-09\n",
              "11663       1  приложение нравиться прийтись сбросить настрой...  2017-07-28\n",
              "14904       4                                                😄😄😄  2017-07-22"
            ],
            "text/html": [
              "\n",
              "  <div id=\"df-12c95843-b07d-431b-9f64-43bf98b35b1c\">\n",
              "    <div class=\"colab-df-container\">\n",
              "      <div>\n",
              "<style scoped>\n",
              "    .dataframe tbody tr th:only-of-type {\n",
              "        vertical-align: middle;\n",
              "    }\n",
              "\n",
              "    .dataframe tbody tr th {\n",
              "        vertical-align: top;\n",
              "    }\n",
              "\n",
              "    .dataframe thead th {\n",
              "        text-align: right;\n",
              "    }\n",
              "</style>\n",
              "<table border=\"1\" class=\"dataframe\">\n",
              "  <thead>\n",
              "    <tr style=\"text-align: right;\">\n",
              "      <th></th>\n",
              "      <th>Rating</th>\n",
              "      <th>Content</th>\n",
              "      <th>Date</th>\n",
              "    </tr>\n",
              "  </thead>\n",
              "  <tbody>\n",
              "    <tr>\n",
              "      <th>17549</th>\n",
              "      <td>5</td>\n",
              "      <td>удобно оперативно</td>\n",
              "      <td>2017-07-11</td>\n",
              "    </tr>\n",
              "    <tr>\n",
              "      <th>4810</th>\n",
              "      <td>5</td>\n",
              "      <td>отличный работа</td>\n",
              "      <td>2017-08-07</td>\n",
              "    </tr>\n",
              "    <tr>\n",
              "      <th>3188</th>\n",
              "      <td>5</td>\n",
              "      <td>разработчик супер</td>\n",
              "      <td>2017-08-09</td>\n",
              "    </tr>\n",
              "    <tr>\n",
              "      <th>11663</th>\n",
              "      <td>1</td>\n",
              "      <td>приложение нравиться прийтись сбросить настрой...</td>\n",
              "      <td>2017-07-28</td>\n",
              "    </tr>\n",
              "    <tr>\n",
              "      <th>14904</th>\n",
              "      <td>4</td>\n",
              "      <td>😄😄😄</td>\n",
              "      <td>2017-07-22</td>\n",
              "    </tr>\n",
              "  </tbody>\n",
              "</table>\n",
              "</div>\n",
              "      <button class=\"colab-df-convert\" onclick=\"convertToInteractive('df-12c95843-b07d-431b-9f64-43bf98b35b1c')\"\n",
              "              title=\"Convert this dataframe to an interactive table.\"\n",
              "              style=\"display:none;\">\n",
              "        \n",
              "  <svg xmlns=\"http://www.w3.org/2000/svg\" height=\"24px\"viewBox=\"0 0 24 24\"\n",
              "       width=\"24px\">\n",
              "    <path d=\"M0 0h24v24H0V0z\" fill=\"none\"/>\n",
              "    <path d=\"M18.56 5.44l.94 2.06.94-2.06 2.06-.94-2.06-.94-.94-2.06-.94 2.06-2.06.94zm-11 1L8.5 8.5l.94-2.06 2.06-.94-2.06-.94L8.5 2.5l-.94 2.06-2.06.94zm10 10l.94 2.06.94-2.06 2.06-.94-2.06-.94-.94-2.06-.94 2.06-2.06.94z\"/><path d=\"M17.41 7.96l-1.37-1.37c-.4-.4-.92-.59-1.43-.59-.52 0-1.04.2-1.43.59L10.3 9.45l-7.72 7.72c-.78.78-.78 2.05 0 2.83L4 21.41c.39.39.9.59 1.41.59.51 0 1.02-.2 1.41-.59l7.78-7.78 2.81-2.81c.8-.78.8-2.07 0-2.86zM5.41 20L4 18.59l7.72-7.72 1.47 1.35L5.41 20z\"/>\n",
              "  </svg>\n",
              "      </button>\n",
              "      \n",
              "  <style>\n",
              "    .colab-df-container {\n",
              "      display:flex;\n",
              "      flex-wrap:wrap;\n",
              "      gap: 12px;\n",
              "    }\n",
              "\n",
              "    .colab-df-convert {\n",
              "      background-color: #E8F0FE;\n",
              "      border: none;\n",
              "      border-radius: 50%;\n",
              "      cursor: pointer;\n",
              "      display: none;\n",
              "      fill: #1967D2;\n",
              "      height: 32px;\n",
              "      padding: 0 0 0 0;\n",
              "      width: 32px;\n",
              "    }\n",
              "\n",
              "    .colab-df-convert:hover {\n",
              "      background-color: #E2EBFA;\n",
              "      box-shadow: 0px 1px 2px rgba(60, 64, 67, 0.3), 0px 1px 3px 1px rgba(60, 64, 67, 0.15);\n",
              "      fill: #174EA6;\n",
              "    }\n",
              "\n",
              "    [theme=dark] .colab-df-convert {\n",
              "      background-color: #3B4455;\n",
              "      fill: #D2E3FC;\n",
              "    }\n",
              "\n",
              "    [theme=dark] .colab-df-convert:hover {\n",
              "      background-color: #434B5C;\n",
              "      box-shadow: 0px 1px 3px 1px rgba(0, 0, 0, 0.15);\n",
              "      filter: drop-shadow(0px 1px 2px rgba(0, 0, 0, 0.3));\n",
              "      fill: #FFFFFF;\n",
              "    }\n",
              "  </style>\n",
              "\n",
              "      <script>\n",
              "        const buttonEl =\n",
              "          document.querySelector('#df-12c95843-b07d-431b-9f64-43bf98b35b1c button.colab-df-convert');\n",
              "        buttonEl.style.display =\n",
              "          google.colab.kernel.accessAllowed ? 'block' : 'none';\n",
              "\n",
              "        async function convertToInteractive(key) {\n",
              "          const element = document.querySelector('#df-12c95843-b07d-431b-9f64-43bf98b35b1c');\n",
              "          const dataTable =\n",
              "            await google.colab.kernel.invokeFunction('convertToInteractive',\n",
              "                                                     [key], {});\n",
              "          if (!dataTable) return;\n",
              "\n",
              "          const docLinkHtml = 'Like what you see? Visit the ' +\n",
              "            '<a target=\"_blank\" href=https://colab.research.google.com/notebooks/data_table.ipynb>data table notebook</a>'\n",
              "            + ' to learn more about interactive tables.';\n",
              "          element.innerHTML = '';\n",
              "          dataTable['output_type'] = 'display_data';\n",
              "          await google.colab.output.renderOutput(dataTable, element);\n",
              "          const docLink = document.createElement('div');\n",
              "          docLink.innerHTML = docLinkHtml;\n",
              "          element.appendChild(docLink);\n",
              "        }\n",
              "      </script>\n",
              "    </div>\n",
              "  </div>\n",
              "  "
            ]
          },
          "metadata": {},
          "execution_count": 4
        }
      ]
    },
    {
      "cell_type": "code",
      "source": [
        "train_df, test_val_df = train_test_split(df, test_size=0.3, random_state=49)\n",
        "test_df, val_df = train_test_split(test_val_df, test_size=0.5, random_state=49)\n",
        "\n",
        "text_corpus_train = train_df['Content'].values\n",
        "text_corpus_valid = val_df['Content'].values\n",
        "text_corpus_test = test_df['Content'].values"
      ],
      "metadata": {
        "id": "sbGtqYUhNhWU"
      },
      "execution_count": 6,
      "outputs": []
    },
    {
      "cell_type": "code",
      "source": [
        "num_classes = len(df['Rating'].unique())\n",
        "tokenizer = Tokenizer(num_words=None, \n",
        "                     filters='#$%&()*+-<=>@[\\\\]^_`{|}~\\t\\n',\n",
        "                     lower = False, split = ' ')\n",
        "tokenizer.fit_on_texts(text_corpus_train)\n",
        "\n",
        "sequences_train = tokenizer.texts_to_sequences(text_corpus_train)\n",
        "sequences_val = tokenizer.texts_to_sequences(text_corpus_valid)\n",
        "sequences_test = tokenizer.texts_to_sequences(text_corpus_test)\n",
        "\n",
        "word_count = len(tokenizer.index_word) + 1\n",
        "training_length = max([len(i.split()) for i in text_corpus_train])\n",
        "\n",
        "X_train = pad_sequences(sequences_train, maxlen=training_length)\n",
        "X_valid = pad_sequences(sequences_val, maxlen=training_length)\n",
        "\n",
        "y_train = keras.utils.np_utils.to_categorical(train_df['Rating'], num_classes+1)\n",
        "y_test = keras.utils.np_utils.to_categorical(test_df['Rating'], num_classes+1)\n",
        "y_val = keras.utils.np_utils.to_categorical(val_df['Rating'], num_classes+1)"
      ],
      "metadata": {
        "id": "cY2DEmfvOGDX"
      },
      "execution_count": 10,
      "outputs": []
    },
    {
      "cell_type": "markdown",
      "source": [
        "### построить различные архитектуры с RNN"
      ],
      "metadata": {
        "id": "Gudu-jJOOlpy"
      }
    },
    {
      "cell_type": "code",
      "source": [
        "model = Sequential()\n",
        "\n",
        "model.add(\n",
        "    Embedding(input_dim=word_count,\n",
        "              input_length=training_length,\n",
        "              output_dim=30,\n",
        "              trainable=True,\n",
        "              mask_zero=True))\n",
        "model.add(Masking(mask_value=0.0))\n",
        "\n",
        "model.add(SimpleRNN(132))\n",
        "model.add(Dense(132, activation='relu'))\n",
        "model.add(Dropout(0.5))\n",
        "model.add(Dense(num_classes+1, activation='softmax'))\n",
        "\n",
        "model.compile(\n",
        "    optimizer='adam', loss='categorical_crossentropy', metrics=['accuracy'])\n",
        "\n",
        "early_stopping=EarlyStopping(monitor='val_loss',patience =2,restore_best_weights=1)"
      ],
      "metadata": {
        "id": "Ep89HbCGOT_s"
      },
      "execution_count": 11,
      "outputs": []
    },
    {
      "cell_type": "code",
      "source": [
        "history = model.fit(X_train, y_train,\n",
        "                    batch_size=512,\n",
        "                    epochs=10,\n",
        "                    verbose=1,\n",
        "                    validation_split=0.1,\n",
        "                    callbacks=[early_stopping])"
      ],
      "metadata": {
        "colab": {
          "base_uri": "https://localhost:8080/"
        },
        "id": "aD7EqUzWOtmN",
        "outputId": "bba1af29-69f8-4b96-869b-4dd0f844bd95"
      },
      "execution_count": 12,
      "outputs": [
        {
          "output_type": "stream",
          "name": "stdout",
          "text": [
            "Epoch 1/10\n",
            "26/26 [==============================] - 15s 505ms/step - loss: 1.1210 - accuracy: 0.6855 - val_loss: 0.9227 - val_accuracy: 0.7291\n",
            "Epoch 2/10\n",
            "26/26 [==============================] - 13s 488ms/step - loss: 0.9929 - accuracy: 0.7007 - val_loss: 0.8119 - val_accuracy: 0.7374\n",
            "Epoch 3/10\n",
            "26/26 [==============================] - 15s 591ms/step - loss: 0.8184 - accuracy: 0.7341 - val_loss: 0.7148 - val_accuracy: 0.7616\n",
            "Epoch 4/10\n",
            "26/26 [==============================] - 14s 529ms/step - loss: 0.7167 - accuracy: 0.7593 - val_loss: 0.6808 - val_accuracy: 0.7713\n",
            "Epoch 5/10\n",
            "26/26 [==============================] - 13s 503ms/step - loss: 0.6457 - accuracy: 0.7795 - val_loss: 0.6537 - val_accuracy: 0.7761\n",
            "Epoch 6/10\n",
            "26/26 [==============================] - 13s 482ms/step - loss: 0.5917 - accuracy: 0.7928 - val_loss: 0.6563 - val_accuracy: 0.7719\n",
            "Epoch 7/10\n",
            "26/26 [==============================] - 13s 484ms/step - loss: 0.5494 - accuracy: 0.8091 - val_loss: 0.6683 - val_accuracy: 0.7754\n"
          ]
        }
      ]
    },
    {
      "cell_type": "code",
      "source": [
        "score = model.evaluate(X_valid, y_val, batch_size=512, verbose=1)\n",
        "print('Test score:', score[0])\n",
        "print('Test accuracy:', score[1])"
      ],
      "metadata": {
        "colab": {
          "base_uri": "https://localhost:8080/"
        },
        "id": "8GSoLB9oOw6N",
        "outputId": "d13ecd1f-28b9-4c80-ac4a-e9b00531726f"
      },
      "execution_count": 13,
      "outputs": [
        {
          "output_type": "stream",
          "name": "stdout",
          "text": [
            "7/7 [==============================] - 1s 133ms/step - loss: 0.6809 - accuracy: 0.7631\n",
            "Test score: 0.6809259057044983\n",
            "Test accuracy: 0.7631493806838989\n"
          ]
        }
      ]
    },
    {
      "cell_type": "code",
      "source": [
        "results = []\n",
        "results.append(['RNN', score[0], score[1]])"
      ],
      "metadata": {
        "id": "zAxhSzuiO61G"
      },
      "execution_count": 14,
      "outputs": []
    },
    {
      "cell_type": "code",
      "source": [
        "model = Sequential()\n",
        "\n",
        "model.add(\n",
        "    Embedding(input_dim=word_count,\n",
        "              input_length=training_length,\n",
        "              output_dim=30,\n",
        "              trainable=True,\n",
        "              mask_zero=True))\n",
        "model.add(Masking(mask_value=0.0))\n",
        "model.add(LSTM(132, recurrent_dropout=0.2))\n",
        "model.add(Dense(132, activation='relu'))\n",
        "model.add(Dropout(0.5))\n",
        "model.add(Dense(num_classes+1, activation='softmax'))\n",
        "\n",
        "model.compile(\n",
        "    optimizer='adam', loss='categorical_crossentropy', metrics=['accuracy'])"
      ],
      "metadata": {
        "id": "4FF3eX9wO_B9"
      },
      "execution_count": 17,
      "outputs": []
    },
    {
      "cell_type": "code",
      "source": [
        "early_stopping=EarlyStopping(monitor='val_loss',patience =2, restore_best_weights=1)  \n",
        "\n",
        "history = model.fit(X_train, y_train,\n",
        "                    batch_size=512,\n",
        "                    epochs=10,\n",
        "                    verbose=1,\n",
        "                    validation_split=0.1,\n",
        "                    callbacks=[early_stopping])"
      ],
      "metadata": {
        "colab": {
          "base_uri": "https://localhost:8080/"
        },
        "id": "iwh7MyPZPN32",
        "outputId": "43562a66-4266-4b62-eed4-b5c42874d591"
      },
      "execution_count": 18,
      "outputs": [
        {
          "output_type": "stream",
          "name": "stdout",
          "text": [
            "Epoch 1/10\n",
            "26/26 [==============================] - 56s 2s/step - loss: 1.2594 - accuracy: 0.6817 - val_loss: 0.8990 - val_accuracy: 0.7291\n",
            "Epoch 2/10\n",
            "26/26 [==============================] - 56s 2s/step - loss: 0.9158 - accuracy: 0.7062 - val_loss: 0.7688 - val_accuracy: 0.7346\n",
            "Epoch 3/10\n",
            "26/26 [==============================] - 49s 2s/step - loss: 0.7744 - accuracy: 0.7452 - val_loss: 0.6949 - val_accuracy: 0.7643\n",
            "Epoch 4/10\n",
            "26/26 [==============================] - 54s 2s/step - loss: 0.6849 - accuracy: 0.7678 - val_loss: 0.6705 - val_accuracy: 0.7713\n",
            "Epoch 5/10\n",
            "26/26 [==============================] - 54s 2s/step - loss: 0.6243 - accuracy: 0.7825 - val_loss: 0.6568 - val_accuracy: 0.7768\n",
            "Epoch 6/10\n",
            "26/26 [==============================] - 49s 2s/step - loss: 0.5840 - accuracy: 0.7935 - val_loss: 0.6549 - val_accuracy: 0.7747\n",
            "Epoch 7/10\n",
            "26/26 [==============================] - 49s 2s/step - loss: 0.5454 - accuracy: 0.8064 - val_loss: 0.6626 - val_accuracy: 0.7726\n",
            "Epoch 8/10\n",
            "26/26 [==============================] - 48s 2s/step - loss: 0.5124 - accuracy: 0.8179 - val_loss: 0.6898 - val_accuracy: 0.7692\n"
          ]
        }
      ]
    },
    {
      "cell_type": "code",
      "source": [
        "score = model.evaluate(X_valid, y_val, batch_size=512, verbose=1)\n",
        "print('Test score:', score[0])\n",
        "print('Test accuracy:', score[1])\n",
        "\n",
        "results.append(['LSTM', score[0], score[1]])"
      ],
      "metadata": {
        "colab": {
          "base_uri": "https://localhost:8080/"
        },
        "id": "Th28z1XjPYvQ",
        "outputId": "b2572be4-974c-4851-f335-c599528beb9e"
      },
      "execution_count": 19,
      "outputs": [
        {
          "output_type": "stream",
          "name": "stdout",
          "text": [
            "7/7 [==============================] - 3s 388ms/step - loss: 0.6763 - accuracy: 0.7712\n",
            "\n",
            "\n",
            "Test score: 0.6763240694999695\n",
            "Test accuracy: 0.7712165117263794\n"
          ]
        }
      ]
    },
    {
      "cell_type": "code",
      "source": [
        "model = Sequential()\n",
        "\n",
        "model.add(\n",
        "    Embedding(input_dim=word_count,\n",
        "              input_length=training_length,\n",
        "              output_dim=30,\n",
        "              trainable=True,\n",
        "              mask_zero=True))\n",
        "model.add(Masking(mask_value=0.0))\n",
        "model.add(GRU(64, recurrent_dropout=0.2))\n",
        "model.add(Dense(64, activation='relu'))\n",
        "model.add(Dropout(0.5))\n",
        "model.add(Dense(num_classes+1, activation='softmax'))\n",
        "model.compile(\n",
        "    optimizer='adam', loss='categorical_crossentropy', metrics=['accuracy'])\n",
        "\n",
        "model.summary()"
      ],
      "metadata": {
        "colab": {
          "base_uri": "https://localhost:8080/"
        },
        "id": "cEknV3_FPel1",
        "outputId": "2b39a137-01a4-4a9f-e693-dd21d75be564"
      },
      "execution_count": 20,
      "outputs": [
        {
          "output_type": "stream",
          "name": "stdout",
          "text": [
            "Model: \"sequential_3\"\n",
            "_________________________________________________________________\n",
            " Layer (type)                Output Shape              Param #   \n",
            "=================================================================\n",
            " embedding_3 (Embedding)     (None, 132, 30)           294870    \n",
            "                                                                 \n",
            " masking_3 (Masking)         (None, 132, 30)           0         \n",
            "                                                                 \n",
            " gru (GRU)                   (None, 64)                18432     \n",
            "                                                                 \n",
            " dense_6 (Dense)             (None, 64)                4160      \n",
            "                                                                 \n",
            " dropout_3 (Dropout)         (None, 64)                0         \n",
            "                                                                 \n",
            " dense_7 (Dense)             (None, 6)                 390       \n",
            "                                                                 \n",
            "=================================================================\n",
            "Total params: 317,852\n",
            "Trainable params: 317,852\n",
            "Non-trainable params: 0\n",
            "_________________________________________________________________\n"
          ]
        }
      ]
    },
    {
      "cell_type": "code",
      "source": [
        "early_stopping=EarlyStopping(monitor='val_loss',patience =2, restore_best_weights=1)  \n",
        "\n",
        "\n",
        "history = model.fit(X_train, y_train,\n",
        "                    batch_size=512,\n",
        "                    epochs=10,\n",
        "                    verbose=1,\n",
        "                    validation_split=0.1,\n",
        "                    callbacks=[early_stopping])"
      ],
      "metadata": {
        "colab": {
          "base_uri": "https://localhost:8080/"
        },
        "id": "IQmsIlYmPkj1",
        "outputId": "d5d8327d-ad60-45bb-c714-82debebbe4f6"
      },
      "execution_count": 21,
      "outputs": [
        {
          "output_type": "stream",
          "name": "stdout",
          "text": [
            "Epoch 1/10\n",
            "26/26 [==============================] - 18s 606ms/step - loss: 1.4513 - accuracy: 0.6714 - val_loss: 0.9709 - val_accuracy: 0.7291\n",
            "Epoch 2/10\n",
            "26/26 [==============================] - 15s 590ms/step - loss: 0.9444 - accuracy: 0.7052 - val_loss: 0.7923 - val_accuracy: 0.7291\n",
            "Epoch 3/10\n",
            "26/26 [==============================] - 15s 591ms/step - loss: 0.8237 - accuracy: 0.7084 - val_loss: 0.7418 - val_accuracy: 0.7415\n",
            "Epoch 4/10\n",
            "26/26 [==============================] - 15s 588ms/step - loss: 0.7528 - accuracy: 0.7423 - val_loss: 0.7087 - val_accuracy: 0.7671\n",
            "Epoch 5/10\n",
            "26/26 [==============================] - 15s 590ms/step - loss: 0.6760 - accuracy: 0.7741 - val_loss: 0.6845 - val_accuracy: 0.7692\n",
            "Epoch 6/10\n",
            "26/26 [==============================] - 15s 588ms/step - loss: 0.6168 - accuracy: 0.7892 - val_loss: 0.6660 - val_accuracy: 0.7754\n",
            "Epoch 7/10\n",
            "26/26 [==============================] - 16s 630ms/step - loss: 0.5757 - accuracy: 0.8010 - val_loss: 0.6757 - val_accuracy: 0.7733\n",
            "Epoch 8/10\n",
            "26/26 [==============================] - 15s 588ms/step - loss: 0.5356 - accuracy: 0.8167 - val_loss: 0.6906 - val_accuracy: 0.7706\n"
          ]
        }
      ]
    },
    {
      "cell_type": "code",
      "source": [
        "score = model.evaluate(X_valid, y_val, batch_size=512, verbose=1)\n",
        "print('Test score:', score[0])\n",
        "print('Test accuracy:', score[1])\n",
        "\n",
        "results.append(['GRU', score[0], score[1]])"
      ],
      "metadata": {
        "colab": {
          "base_uri": "https://localhost:8080/"
        },
        "id": "Sv3Jy3s7PtAU",
        "outputId": "3df53ed6-d299-4ece-e894-093adca940fe"
      },
      "execution_count": 22,
      "outputs": [
        {
          "output_type": "stream",
          "name": "stdout",
          "text": [
            "7/7 [==============================] - 1s 107ms/step - loss: 0.6897 - accuracy: 0.7667\n",
            "Test score: 0.6896584033966064\n",
            "Test accuracy: 0.766698956489563\n"
          ]
        }
      ]
    },
    {
      "cell_type": "markdown",
      "source": [
        "### построить совместные архитектуры CNN -> RNN или (RNN -> CNN)"
      ],
      "metadata": {
        "id": "o8zLopTtP1uA"
      }
    },
    {
      "cell_type": "code",
      "source": [
        "model = Sequential()\n",
        "\n",
        "model.add(\n",
        "    Embedding(input_dim=word_count,\n",
        "              input_length=training_length,\n",
        "              output_dim=30,\n",
        "              trainable=True,\n",
        "              mask_zero=True))\n",
        "model.add(SimpleRNN(132, recurrent_dropout=0.2, return_sequences=\"True\"))\n",
        "model.add(Conv1D(132, 3, activation=\"linear\"))\n",
        "model.add(Conv1D(64, 1, activation=\"linear\")) \n",
        "model.add(Flatten())                      \n",
        "model.add(Dropout(0.5)) \n",
        "model.add(Dense(num_classes+1, activation=\"softmax\"))      \n",
        "\n",
        "\n",
        "model.compile(\n",
        "    optimizer='adam', loss='categorical_crossentropy', metrics=['accuracy'])\n",
        "\n",
        "model.summary()"
      ],
      "metadata": {
        "colab": {
          "base_uri": "https://localhost:8080/"
        },
        "id": "Iz_kLfWBPylW",
        "outputId": "b80dc249-56ae-43be-8bcd-b4718abd1e72"
      },
      "execution_count": 23,
      "outputs": [
        {
          "output_type": "stream",
          "name": "stdout",
          "text": [
            "Model: \"sequential_4\"\n",
            "_________________________________________________________________\n",
            " Layer (type)                Output Shape              Param #   \n",
            "=================================================================\n",
            " embedding_4 (Embedding)     (None, 132, 30)           294870    \n",
            "                                                                 \n",
            " simple_rnn_1 (SimpleRNN)    (None, 132, 132)          21516     \n",
            "                                                                 \n",
            " conv1d (Conv1D)             (None, 130, 132)          52404     \n",
            "                                                                 \n",
            " conv1d_1 (Conv1D)           (None, 130, 64)           8512      \n",
            "                                                                 \n",
            " flatten (Flatten)           (None, 8320)              0         \n",
            "                                                                 \n",
            " dropout_4 (Dropout)         (None, 8320)              0         \n",
            "                                                                 \n",
            " dense_8 (Dense)             (None, 6)                 49926     \n",
            "                                                                 \n",
            "=================================================================\n",
            "Total params: 427,228\n",
            "Trainable params: 427,228\n",
            "Non-trainable params: 0\n",
            "_________________________________________________________________\n"
          ]
        }
      ]
    },
    {
      "cell_type": "code",
      "source": [
        "early_stopping=EarlyStopping(monitor='val_loss',patience =2, restore_best_weights=1)  \n",
        "\n",
        "\n",
        "history = model.fit(X_train, y_train,\n",
        "                    batch_size=512,\n",
        "                    epochs=10,\n",
        "                    verbose=1,\n",
        "                    validation_split=0.1,\n",
        "                    callbacks=[early_stopping])"
      ],
      "metadata": {
        "colab": {
          "base_uri": "https://localhost:8080/"
        },
        "id": "DIIyk2N1QD4t",
        "outputId": "286781f8-29f6-4539-aca0-d251ea86c511"
      },
      "execution_count": 24,
      "outputs": [
        {
          "output_type": "stream",
          "name": "stdout",
          "text": [
            "Epoch 1/10\n",
            "26/26 [==============================] - 32s 1s/step - loss: 1.1314 - accuracy: 0.6910 - val_loss: 0.7938 - val_accuracy: 0.7554\n",
            "Epoch 2/10\n",
            "26/26 [==============================] - 30s 1s/step - loss: 0.8097 - accuracy: 0.7343 - val_loss: 0.7184 - val_accuracy: 0.7671\n",
            "Epoch 3/10\n",
            "26/26 [==============================] - 30s 1s/step - loss: 0.6864 - accuracy: 0.7636 - val_loss: 0.6978 - val_accuracy: 0.7768\n",
            "Epoch 4/10\n",
            "26/26 [==============================] - 30s 1s/step - loss: 0.5975 - accuracy: 0.7878 - val_loss: 0.6851 - val_accuracy: 0.7768\n",
            "Epoch 5/10\n",
            "26/26 [==============================] - 30s 1s/step - loss: 0.5339 - accuracy: 0.8074 - val_loss: 0.7076 - val_accuracy: 0.7726\n",
            "Epoch 6/10\n",
            "26/26 [==============================] - 30s 1s/step - loss: 0.4882 - accuracy: 0.8237 - val_loss: 0.7929 - val_accuracy: 0.7692\n"
          ]
        }
      ]
    },
    {
      "cell_type": "code",
      "source": [
        "score = model.evaluate(X_valid, y_val, batch_size=512, verbose=1)\n",
        "print('Test score:', score[0])\n",
        "print('Test accuracy:', score[1])\n",
        "\n",
        "results.append(['RNN + CNN', score[0], score[1]])"
      ],
      "metadata": {
        "colab": {
          "base_uri": "https://localhost:8080/"
        },
        "id": "DYODNwriQJIF",
        "outputId": "85ef0538-e49b-49a5-aa2b-830edb84b7d5"
      },
      "execution_count": 25,
      "outputs": [
        {
          "output_type": "stream",
          "name": "stdout",
          "text": [
            "7/7 [==============================] - 2s 257ms/step - loss: 0.7144 - accuracy: 0.7635\n",
            "Test score: 0.7144280076026917\n",
            "Test accuracy: 0.7634720802307129\n"
          ]
        }
      ]
    },
    {
      "cell_type": "code",
      "source": [
        "results_df = pd.DataFrame(results, columns = ['Model', 'Test score', 'Test accuracy'])\n",
        "results_df"
      ],
      "metadata": {
        "colab": {
          "base_uri": "https://localhost:8080/",
          "height": 175
        },
        "id": "uTFEjdJgQOAV",
        "outputId": "98973459-6d45-45a0-d0ce-93c706e0b04c"
      },
      "execution_count": 26,
      "outputs": [
        {
          "output_type": "execute_result",
          "data": {
            "text/plain": [
              "       Model  Test score  Test accuracy\n",
              "0        RNN    0.680926       0.763149\n",
              "1       LSTM    0.676324       0.771217\n",
              "2        GRU    0.689658       0.766699\n",
              "3  RNN + CNN    0.714428       0.763472"
            ],
            "text/html": [
              "\n",
              "  <div id=\"df-b0a60f23-c533-4f5d-9805-8d90569cc5ca\">\n",
              "    <div class=\"colab-df-container\">\n",
              "      <div>\n",
              "<style scoped>\n",
              "    .dataframe tbody tr th:only-of-type {\n",
              "        vertical-align: middle;\n",
              "    }\n",
              "\n",
              "    .dataframe tbody tr th {\n",
              "        vertical-align: top;\n",
              "    }\n",
              "\n",
              "    .dataframe thead th {\n",
              "        text-align: right;\n",
              "    }\n",
              "</style>\n",
              "<table border=\"1\" class=\"dataframe\">\n",
              "  <thead>\n",
              "    <tr style=\"text-align: right;\">\n",
              "      <th></th>\n",
              "      <th>Model</th>\n",
              "      <th>Test score</th>\n",
              "      <th>Test accuracy</th>\n",
              "    </tr>\n",
              "  </thead>\n",
              "  <tbody>\n",
              "    <tr>\n",
              "      <th>0</th>\n",
              "      <td>RNN</td>\n",
              "      <td>0.680926</td>\n",
              "      <td>0.763149</td>\n",
              "    </tr>\n",
              "    <tr>\n",
              "      <th>1</th>\n",
              "      <td>LSTM</td>\n",
              "      <td>0.676324</td>\n",
              "      <td>0.771217</td>\n",
              "    </tr>\n",
              "    <tr>\n",
              "      <th>2</th>\n",
              "      <td>GRU</td>\n",
              "      <td>0.689658</td>\n",
              "      <td>0.766699</td>\n",
              "    </tr>\n",
              "    <tr>\n",
              "      <th>3</th>\n",
              "      <td>RNN + CNN</td>\n",
              "      <td>0.714428</td>\n",
              "      <td>0.763472</td>\n",
              "    </tr>\n",
              "  </tbody>\n",
              "</table>\n",
              "</div>\n",
              "      <button class=\"colab-df-convert\" onclick=\"convertToInteractive('df-b0a60f23-c533-4f5d-9805-8d90569cc5ca')\"\n",
              "              title=\"Convert this dataframe to an interactive table.\"\n",
              "              style=\"display:none;\">\n",
              "        \n",
              "  <svg xmlns=\"http://www.w3.org/2000/svg\" height=\"24px\"viewBox=\"0 0 24 24\"\n",
              "       width=\"24px\">\n",
              "    <path d=\"M0 0h24v24H0V0z\" fill=\"none\"/>\n",
              "    <path d=\"M18.56 5.44l.94 2.06.94-2.06 2.06-.94-2.06-.94-.94-2.06-.94 2.06-2.06.94zm-11 1L8.5 8.5l.94-2.06 2.06-.94-2.06-.94L8.5 2.5l-.94 2.06-2.06.94zm10 10l.94 2.06.94-2.06 2.06-.94-2.06-.94-.94-2.06-.94 2.06-2.06.94z\"/><path d=\"M17.41 7.96l-1.37-1.37c-.4-.4-.92-.59-1.43-.59-.52 0-1.04.2-1.43.59L10.3 9.45l-7.72 7.72c-.78.78-.78 2.05 0 2.83L4 21.41c.39.39.9.59 1.41.59.51 0 1.02-.2 1.41-.59l7.78-7.78 2.81-2.81c.8-.78.8-2.07 0-2.86zM5.41 20L4 18.59l7.72-7.72 1.47 1.35L5.41 20z\"/>\n",
              "  </svg>\n",
              "      </button>\n",
              "      \n",
              "  <style>\n",
              "    .colab-df-container {\n",
              "      display:flex;\n",
              "      flex-wrap:wrap;\n",
              "      gap: 12px;\n",
              "    }\n",
              "\n",
              "    .colab-df-convert {\n",
              "      background-color: #E8F0FE;\n",
              "      border: none;\n",
              "      border-radius: 50%;\n",
              "      cursor: pointer;\n",
              "      display: none;\n",
              "      fill: #1967D2;\n",
              "      height: 32px;\n",
              "      padding: 0 0 0 0;\n",
              "      width: 32px;\n",
              "    }\n",
              "\n",
              "    .colab-df-convert:hover {\n",
              "      background-color: #E2EBFA;\n",
              "      box-shadow: 0px 1px 2px rgba(60, 64, 67, 0.3), 0px 1px 3px 1px rgba(60, 64, 67, 0.15);\n",
              "      fill: #174EA6;\n",
              "    }\n",
              "\n",
              "    [theme=dark] .colab-df-convert {\n",
              "      background-color: #3B4455;\n",
              "      fill: #D2E3FC;\n",
              "    }\n",
              "\n",
              "    [theme=dark] .colab-df-convert:hover {\n",
              "      background-color: #434B5C;\n",
              "      box-shadow: 0px 1px 3px 1px rgba(0, 0, 0, 0.15);\n",
              "      filter: drop-shadow(0px 1px 2px rgba(0, 0, 0, 0.3));\n",
              "      fill: #FFFFFF;\n",
              "    }\n",
              "  </style>\n",
              "\n",
              "      <script>\n",
              "        const buttonEl =\n",
              "          document.querySelector('#df-b0a60f23-c533-4f5d-9805-8d90569cc5ca button.colab-df-convert');\n",
              "        buttonEl.style.display =\n",
              "          google.colab.kernel.accessAllowed ? 'block' : 'none';\n",
              "\n",
              "        async function convertToInteractive(key) {\n",
              "          const element = document.querySelector('#df-b0a60f23-c533-4f5d-9805-8d90569cc5ca');\n",
              "          const dataTable =\n",
              "            await google.colab.kernel.invokeFunction('convertToInteractive',\n",
              "                                                     [key], {});\n",
              "          if (!dataTable) return;\n",
              "\n",
              "          const docLinkHtml = 'Like what you see? Visit the ' +\n",
              "            '<a target=\"_blank\" href=https://colab.research.google.com/notebooks/data_table.ipynb>data table notebook</a>'\n",
              "            + ' to learn more about interactive tables.';\n",
              "          element.innerHTML = '';\n",
              "          dataTable['output_type'] = 'display_data';\n",
              "          await google.colab.output.renderOutput(dataTable, element);\n",
              "          const docLink = document.createElement('div');\n",
              "          docLink.innerHTML = docLinkHtml;\n",
              "          element.appendChild(docLink);\n",
              "        }\n",
              "      </script>\n",
              "    </div>\n",
              "  </div>\n",
              "  "
            ]
          },
          "metadata": {},
          "execution_count": 26
        }
      ]
    }
  ]
}