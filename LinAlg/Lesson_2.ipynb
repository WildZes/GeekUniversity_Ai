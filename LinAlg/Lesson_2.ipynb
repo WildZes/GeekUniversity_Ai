{
 "cells": [
  {
   "cell_type": "markdown",
   "metadata": {},
   "source": [
    "# Матрицы и матричные операции. Часть 1"
   ]
  },
  {
   "cell_type": "markdown",
   "metadata": {},
   "source": [
    "__1.__ Установить, какие произведения матриц $AB$ и $BA$ определены, и найти размерности полученных матриц:\n",
    "\n",
    "   а) $A$ — матрица $4\\times 2$, $B$ — матрица $4\\times 2$;\n",
    "    \n",
    "   б) $A$ — матрица $2\\times 5$, $B$ — матрица $5\\times 3$;\n",
    "    \n",
    "   в) $A$ — матрица $8\\times 3$, $B$ — матрица $3\\times 8$;\n",
    "    \n",
    "   г) $A$ — квадратная матрица $4\\times 4$, $B$ — квадратная матрица $4\\times 4$."
   ]
  },
  {
   "cell_type": "markdown",
   "metadata": {},
   "source": [
    "а) нет, так как количество строк А не равно количеству столбцов B в обе стороны;  \n",
    "б) нет (см.пункт а) дла А $\\times$ B и да для В $\\times$ A;  \n",
    "в) да, так как в матрице А 8 строк и 3 столбца, а в матрице В 8 столбцов и 3 строки;  \n",
    "г) да, так как обе матрицы квадратные с одинаковой размерностью."
   ]
  },
  {
   "cell_type": "code",
   "execution_count": 1,
   "metadata": {},
   "outputs": [],
   "source": [
    "import numpy as np\n",
    "def trying(A,B):\n",
    "    try:\n",
    "        result_1 = np.dot(A,B)\n",
    "    except:\n",
    "        result_1 = 'NO'\n",
    "    try:\n",
    "        result_2 = np.dot(B,A)\n",
    "    except:\n",
    "        result_2 = 'NO'\n",
    "    return (result_1, result_2)"
   ]
  },
  {
   "cell_type": "code",
   "execution_count": 2,
   "metadata": {},
   "outputs": [
    {
     "data": {
      "text/plain": [
       "('NO', 'NO')"
      ]
     },
     "execution_count": 2,
     "metadata": {},
     "output_type": "execute_result"
    }
   ],
   "source": [
    "A = np.random.rand(4,2)\n",
    "B = np.random.rand(4,2)\n",
    "trying(A,B)"
   ]
  },
  {
   "cell_type": "code",
   "execution_count": 3,
   "metadata": {},
   "outputs": [
    {
     "data": {
      "text/plain": [
       "(array([[1.12830248, 1.29780026, 1.86376828],\n",
       "        [0.94792725, 1.43944115, 1.24660443]]),\n",
       " 'NO')"
      ]
     },
     "execution_count": 3,
     "metadata": {},
     "output_type": "execute_result"
    }
   ],
   "source": [
    "A = np.random.rand(2,5)\n",
    "B = np.random.rand(5,3)\n",
    "trying(A,B)"
   ]
  },
  {
   "cell_type": "code",
   "execution_count": 4,
   "metadata": {},
   "outputs": [
    {
     "data": {
      "text/plain": [
       "(array([[0.98257909, 0.73148961, 0.79719231, 0.93075756, 0.91583082,\n",
       "         0.46773653, 0.61066889, 0.77266235],\n",
       "        [0.92957986, 0.84590724, 0.69262103, 0.83055035, 1.14208735,\n",
       "         0.52885067, 0.86548998, 0.91008916],\n",
       "        [0.77803546, 0.40559112, 0.78528745, 0.89297071, 0.62994382,\n",
       "         0.24016127, 0.48421223, 0.37337744],\n",
       "        [0.72683771, 0.53405171, 0.66715518, 0.77864221, 0.85527049,\n",
       "         0.31311314, 0.72566591, 0.53127733],\n",
       "        [0.98898012, 0.51741002, 0.99449093, 1.13098393, 0.79648906,\n",
       "         0.30746435, 0.60754955, 0.47804091],\n",
       "        [0.62632511, 0.33695609, 0.59695119, 0.67892832, 0.44665673,\n",
       "         0.21122386, 0.28996495, 0.32607334],\n",
       "        [0.33265954, 0.25869453, 0.34187611, 0.40145438, 0.52479096,\n",
       "         0.13493975, 0.52132035, 0.24160985],\n",
       "        [1.08387257, 0.54652232, 1.0686873 , 1.21151977, 0.76100437,\n",
       "         0.33685515, 0.51418006, 0.5126621 ]]),\n",
       " array([[1.27585155, 1.40070983, 1.31397801],\n",
       "        [1.31445884, 1.3608966 , 1.64636846],\n",
       "        [1.86854386, 2.2345793 , 2.79736322]]))"
      ]
     },
     "execution_count": 4,
     "metadata": {},
     "output_type": "execute_result"
    }
   ],
   "source": [
    "A = np.random.rand(8,3)\n",
    "B = np.random.rand(3,8)\n",
    "trying(A,B)"
   ]
  },
  {
   "cell_type": "code",
   "execution_count": 5,
   "metadata": {},
   "outputs": [
    {
     "data": {
      "text/plain": [
       "(array([[0.30475756, 1.17005355, 0.80797261, 0.35404406],\n",
       "        [0.30059805, 1.28523347, 0.69608681, 0.44507854],\n",
       "        [0.49901814, 1.32179001, 0.99219494, 0.62827994],\n",
       "        [0.48517862, 1.41419241, 1.16743482, 0.50414071]]),\n",
       " array([[1.00996744, 0.35772815, 0.43347764, 0.38495001],\n",
       "        [1.11679812, 0.65184673, 0.60816381, 0.64783285],\n",
       "        [1.43577661, 0.76077948, 0.82087783, 0.54749191],\n",
       "        [1.98200133, 0.93750297, 1.1047886 , 0.60363469]]))"
      ]
     },
     "execution_count": 5,
     "metadata": {},
     "output_type": "execute_result"
    }
   ],
   "source": [
    "A = np.random.rand(4,4)\n",
    "B = np.random.rand(4,4)\n",
    "trying(A,B)"
   ]
  },
  {
   "cell_type": "markdown",
   "metadata": {},
   "source": [
    "Выводы:\n",
    "- допустил серьезные ошибки в процессе выполнения задания;\n",
    "- пункт а) неверн с точки зрения формулировки, в результате проверки стало очевидно, что равняться должны столбцы первой матрицы и строки второй;\n",
    "- в пункте б) ответ обратный моему, по причине пренебрежения повторением теоретическим материалом;\n",
    "- пункт в) получил верное утверждение, что результат перемножения существует, но значимым цифрам опять было напутано, также не указаны размерности итоговых матриц (8х8 и 3х3);\n",
    "- пунтк г) получил достаточное точное утверждение, но не указаны размерности (4х4 и 4х4);\n",
    "- принято решение не корректировать неверные ответы выше, так как они отображают мой учебный процесс."
   ]
  },
  {
   "cell_type": "markdown",
   "metadata": {},
   "source": [
    "__2.__ Найти сумму и произведение матриц $A=\\begin{pmatrix}\n",
    "1 & -2\\\\ \n",
    "3 & 0\n",
    "\\end{pmatrix}$ и $B=\\begin{pmatrix}\n",
    "4 & -1\\\\ \n",
    "0 & 5\n",
    "\\end{pmatrix}.$"
   ]
  },
  {
   "cell_type": "markdown",
   "metadata": {},
   "source": [
    "$A + B =\\begin{pmatrix}\n",
    "1 + 4 & -2 - 1\\\\ \n",
    "3 + 0 & 0 + 5\n",
    "\\end{pmatrix} = \\begin{pmatrix}\n",
    "5 & -3\\\\ \n",
    "3 & 5\n",
    "\\end{pmatrix}$"
   ]
  },
  {
   "cell_type": "code",
   "execution_count": 6,
   "metadata": {},
   "outputs": [
    {
     "data": {
      "text/plain": [
       "array([[ 5, -3],\n",
       "       [ 3,  5]])"
      ]
     },
     "execution_count": 6,
     "metadata": {},
     "output_type": "execute_result"
    }
   ],
   "source": [
    "A = np.array([[1,-2], [3,0]])\n",
    "B = np.array([[4,-1], [0,5]])\n",
    "A + B"
   ]
  },
  {
   "cell_type": "markdown",
   "metadata": {},
   "source": [
    "$A * B =\\begin{pmatrix}\n",
    "1*4 + (-2)*0 & 1*(-1) + (-2)*5\\\\ \n",
    "3*4 + 0*0 & 3*(-1) + 0*(5)\n",
    "\\end{pmatrix} = \\begin{pmatrix}\n",
    "4 & -11\\\\ \n",
    "12 & -3\n",
    "\\end{pmatrix}$"
   ]
  },
  {
   "cell_type": "code",
   "execution_count": 7,
   "metadata": {},
   "outputs": [
    {
     "data": {
      "text/plain": [
       "array([[  4, -11],\n",
       "       [ 12,  -3]])"
      ]
     },
     "execution_count": 7,
     "metadata": {},
     "output_type": "execute_result"
    }
   ],
   "source": [
    "np.dot(A,B)"
   ]
  },
  {
   "cell_type": "markdown",
   "metadata": {},
   "source": [
    "__3.__ Из закономерностей сложения и умножения матриц на число можно сделать вывод, что матрицы одного размера образуют линейное пространство. Вычислить линейную комбинацию $3A-2B+4C$ для матриц $A=\\begin{pmatrix}\n",
    "1 & 7\\\\ \n",
    "3 & -6\n",
    "\\end{pmatrix}$, $B=\\begin{pmatrix}\n",
    "0 & 5\\\\ \n",
    "2 & -1\n",
    "\\end{pmatrix}$, $C=\\begin{pmatrix}\n",
    "2 & -4\\\\ \n",
    "1 & 1\n",
    "\\end{pmatrix}.$"
   ]
  },
  {
   "cell_type": "markdown",
   "metadata": {},
   "source": [
    "$3A-2B+4C = 3 * \\begin{pmatrix}\n",
    "1 & 7\\\\ \n",
    "3 & -6\n",
    "\\end{pmatrix} - 2 * \\begin{pmatrix}\n",
    "0 & 5\\\\ \n",
    "2 & -1\n",
    "\\end{pmatrix} + 4 * \\begin{pmatrix}\n",
    "2 & -4\\\\ \n",
    "1 & 1\n",
    "\\end{pmatrix} = \\begin{pmatrix}\n",
    "3 & 21\\\\ \n",
    "9 & -18\n",
    "\\end{pmatrix} - \\begin{pmatrix}\n",
    "0 & 10\\\\ \n",
    "4 & -2\n",
    "\\end{pmatrix} + \\begin{pmatrix}\n",
    "8 & -16\\\\ \n",
    "4 & 4\n",
    "\\end{pmatrix} = \\begin{pmatrix}\n",
    "11 & -5\\\\ \n",
    "9 & -12\n",
    "\\end{pmatrix}$\n"
   ]
  },
  {
   "cell_type": "code",
   "execution_count": 8,
   "metadata": {},
   "outputs": [
    {
     "data": {
      "text/plain": [
       "array([[ 11,  -5],\n",
       "       [  9, -12]])"
      ]
     },
     "execution_count": 8,
     "metadata": {},
     "output_type": "execute_result"
    }
   ],
   "source": [
    "A = np.array([[1,7], [3,-6]])\n",
    "B = np.array([[0,5], [2,-1]])\n",
    "C = np.array([[2,-4], [1,1]])\n",
    "3 * A - 2 * B + 4 * C"
   ]
  },
  {
   "cell_type": "markdown",
   "metadata": {},
   "source": [
    "__4.__ Дана матрица $A=\\begin{pmatrix}\n",
    "4 & 1\\\\ \n",
    "5 & -2\\\\ \n",
    "2 & 3\n",
    "\\end{pmatrix}$.\n",
    "Вычислить $AA^{T}$ и $A^{T}A$."
   ]
  },
  {
   "cell_type": "markdown",
   "metadata": {},
   "source": [
    "$A^{T} = \\begin{pmatrix}\n",
    "4 & 5 & 2\\\\ \n",
    "1 & -2 & 3\n",
    "\\end{pmatrix}$\n",
    "$AA^{T} = \\begin{pmatrix}\n",
    "4 & 1\\\\ \n",
    "5 & -2\\\\ \n",
    "2 & 3\n",
    "\\end{pmatrix} * \\begin{pmatrix}\n",
    "4 & 5 & 2\\\\ \n",
    "1 & -2 & 3\n",
    "\\end{pmatrix} = \\begin{pmatrix}\n",
    "4*4 + 1*1 & 4*5 + 1*(-2) & 4*2 + 1*3\\\\ \n",
    "5*4 + (-2)*1 & 5*5 + (-2)*(-2) & 5*2 + (-2)*3\\\\ \n",
    "2*4 + 3*1 & 2*5 + 3*(-2) & 2*2 + 3*3\n",
    "\\end{pmatrix} = \\begin{pmatrix}\n",
    "17 & 18 & 11\\\\ \n",
    "18 & 29 & 4\\\\ \n",
    "11 & 4 & 13\n",
    "\\end{pmatrix}$"
   ]
  },
  {
   "cell_type": "code",
   "execution_count": 9,
   "metadata": {},
   "outputs": [
    {
     "data": {
      "text/plain": [
       "array([[17, 18, 11],\n",
       "       [18, 29,  4],\n",
       "       [11,  4, 13]])"
      ]
     },
     "execution_count": 9,
     "metadata": {},
     "output_type": "execute_result"
    }
   ],
   "source": [
    "A = np.array([[4,1], [5,-2], [2,3]])\n",
    "A_T = A.T\n",
    "np.dot(A,A_T)"
   ]
  },
  {
   "cell_type": "markdown",
   "metadata": {},
   "source": [
    "$A^{T}A = \\begin{pmatrix}\n",
    "4 & 5 & 2\\\\ \n",
    "1 & -2 & 3\n",
    "\\end{pmatrix} * \\begin{pmatrix}\n",
    "4 & 1\\\\ \n",
    "5 & -2\\\\ \n",
    "2 & 3\n",
    "\\end{pmatrix} = \\begin{pmatrix}\n",
    "4*4 + 5*5 + 2*2 & 1*4 + (-2)*5 + 3*2\\\\ \n",
    "1*4 + (-2)*5 + 3*2 & 1*1 + (-2)*(-2) + 3*3\n",
    "\\end{pmatrix} = \\begin{pmatrix}\n",
    "45 & 0\\\\ \n",
    "0 & 14\n",
    "\\end{pmatrix}$"
   ]
  },
  {
   "cell_type": "code",
   "execution_count": 10,
   "metadata": {},
   "outputs": [
    {
     "data": {
      "text/plain": [
       "array([[45,  0],\n",
       "       [ 0, 14]])"
      ]
     },
     "execution_count": 10,
     "metadata": {},
     "output_type": "execute_result"
    }
   ],
   "source": [
    "np.dot(A_T,A)"
   ]
  },
  {
   "cell_type": "markdown",
   "metadata": {},
   "source": [
    "__5*.__ Написать на Python функцию для перемножения двух произвольных матриц, не используя NumPy."
   ]
  },
  {
   "cell_type": "code",
   "execution_count": 11,
   "metadata": {},
   "outputs": [],
   "source": [
    "def vector_multiplication(vector_1, vector_2):\n",
    "    return sum([int(x * y) for x, y in zip(vector_1, vector_2)])\n",
    "def vector_from_transposed(matrix, column):\n",
    "    return [vector[column] for vector in matrix]\n",
    "def matrix_multiplication(matrix_1, matrix_2):\n",
    "    m1, m2 = len(matrix_1), len(matrix_2[0])\n",
    "    if len(matrix_1[0]) != len(matrix_2):\n",
    "        return None\n",
    "    mul = [[0 for i in range(m2)] for j in range(m1)]\n",
    "    for i in range(m1):\n",
    "        for j in range(m2):\n",
    "            mul[i][j] = vector_multiplication(matrix_1[i], vector_from_transposed(matrix_2, j))\n",
    "    return mul"
   ]
  },
  {
   "cell_type": "code",
   "execution_count": 12,
   "metadata": {},
   "outputs": [
    {
     "name": "stdout",
     "output_type": "stream",
     "text": [
      "[[45, 0], [0, 14]]\n"
     ]
    }
   ],
   "source": [
    "print(matrix_multiplication(A_T,A))"
   ]
  },
  {
   "cell_type": "markdown",
   "metadata": {},
   "source": [
    "# Матрицы и матричные операции. Часть 2"
   ]
  },
  {
   "cell_type": "markdown",
   "metadata": {},
   "source": [
    "__1.__ Вычислить определитель:\n",
    "\n",
    "   a)\n",
    "\n",
    "$\\begin{vmatrix}\n",
    "sinx & -cosx\\\\ \n",
    "cosx & sinx\n",
    "\\end{vmatrix};$\n",
    "\n",
    "   б)\n",
    "    \n",
    "$\\begin{vmatrix}\n",
    "4 & 2 & 3\\\\ \n",
    "0 & 5 & 1\\\\ \n",
    "0 & 0 & 9\n",
    "\\end{vmatrix};$\n",
    "    \n",
    "   в)\n",
    "\n",
    "$\\begin{vmatrix}\n",
    "1 & 2 & 3\\\\ \n",
    "4 & 5 & 6\\\\ \n",
    "7 & 8 & 9\n",
    "\\end{vmatrix}.$"
   ]
  },
  {
   "cell_type": "markdown",
   "metadata": {},
   "source": [
    "a)\n",
    "$\\begin{vmatrix}\n",
    "sinx & -cosx\\\\ \n",
    "cosx & sinx\n",
    "\\end{vmatrix} = sinx * sinx - cosx * (-cosx) = sin^2x + cos^2x = 1$"
   ]
  },
  {
   "cell_type": "code",
   "execution_count": 13,
   "metadata": {},
   "outputs": [
    {
     "data": {
      "text/latex": [
       "$\\displaystyle \\sin^{2}{\\left(x \\right)} + \\cos^{2}{\\left(x \\right)}$"
      ],
      "text/plain": [
       "sin(x)**2 + cos(x)**2"
      ]
     },
     "execution_count": 13,
     "metadata": {},
     "output_type": "execute_result"
    }
   ],
   "source": [
    "from sympy import *\n",
    "from sympy.matrices import Matrix\n",
    "x = symbols('x')\n",
    "M = Matrix([[sin(x),-cos(x)],[cos(x),sin(x)]])\n",
    "M.det()"
   ]
  },
  {
   "cell_type": "markdown",
   "metadata": {},
   "source": [
    "б) $\\begin{vmatrix}\n",
    "4 & 2 & 3\\\\ \n",
    "0 & 5 & 1\\\\ \n",
    "0 & 0 & 9\n",
    "\\end{vmatrix} = 4*5*9 + 2*0*1 + 3*0*0 - 3*5*0 - 9*0*2 - 4*0*1 = 180$"
   ]
  },
  {
   "cell_type": "code",
   "execution_count": 14,
   "metadata": {},
   "outputs": [
    {
     "data": {
      "text/plain": [
       "180.0"
      ]
     },
     "execution_count": 14,
     "metadata": {},
     "output_type": "execute_result"
    }
   ],
   "source": [
    "A = np.array([[4,2,3], [0,5,1], [0,0,9]])\n",
    "np.linalg.det(A)"
   ]
  },
  {
   "cell_type": "markdown",
   "metadata": {},
   "source": [
    "в) $\\begin{vmatrix}\n",
    "1 & 2 & 3\\\\ \n",
    "4 & 5 & 6\\\\ \n",
    "7 & 8 & 9\n",
    "\\end{vmatrix} = 1*5*9 + 7*2*6 + 3*4*8 - 3*5*7 - 9*2*4 - 1*8*6 = 45 + 84 + 96 - 105 - 72 - 48 = 0$"
   ]
  },
  {
   "cell_type": "code",
   "execution_count": 15,
   "metadata": {},
   "outputs": [
    {
     "data": {
      "text/plain": [
       "6.66133814775094e-16"
      ]
     },
     "execution_count": 15,
     "metadata": {},
     "output_type": "execute_result"
    }
   ],
   "source": [
    "A = np.array([[1,2,3],[4,5,6],[7,8,9]])\n",
    "np.linalg.det(A)"
   ]
  },
  {
   "cell_type": "markdown",
   "metadata": {},
   "source": [
    "Не понял в чем \"подвох\", так как проверил работу np.linalg.det на нескольких матрицах, после чего проверил свое решение онлайн.  \n",
    "<img src=\"L2_t1_проверка numpy.png\">\n",
    "<img src=\"L2_t1_проверка онлайн.png\">"
   ]
  },
  {
   "cell_type": "code",
   "execution_count": 16,
   "metadata": {},
   "outputs": [
    {
     "data": {
      "text/plain": [
       "0.0"
      ]
     },
     "execution_count": 16,
     "metadata": {},
     "output_type": "execute_result"
    }
   ],
   "source": [
    "round(np.linalg.det(A), 3)"
   ]
  },
  {
   "cell_type": "markdown",
   "metadata": {},
   "source": [
    "__2.__ Определитель матрицы $A$ равен $4$. Найти:\n",
    "\n",
    "   а) $det(A^{2})$;\n",
    "    \n",
    "   б) $det(A^{T})$;\n",
    "    \n",
    "   в) $det(2A)$."
   ]
  },
  {
   "cell_type": "markdown",
   "metadata": {},
   "source": [
    "а) $det(A^{2}) = det(A) * det(A) = 4 * 4 = 16$  \n",
    "б) $det(A^{T}) = det(A) = 4$  \n",
    "в) $det(2A) = det(A) * 2^n = 2^n * 4$, где n количество строк в матрице A"
   ]
  },
  {
   "cell_type": "markdown",
   "metadata": {},
   "source": [
    "__3.__  Доказать, что матрица\n",
    "\n",
    "$$\\begin{pmatrix}\n",
    "-2 & 7 & -3\\\\ \n",
    "4 & -14 & 6\\\\ \n",
    "-3 & 7 & 13\n",
    "\\end{pmatrix}$$\n",
    "   \n",
    "вырожденная."
   ]
  },
  {
   "cell_type": "markdown",
   "metadata": {},
   "source": [
    "$\\begin{vmatrix}\n",
    "-2 & 7 & -3\\\\ \n",
    "4 & -14 & 6\\\\ \n",
    "-3 & 7 & 13\n",
    "\\end{vmatrix} = (-2)*(-14)*13 + (-3)*4*7 + (-3)*7*6 - (-3)*(-14)*(-3) - (-2)*7*6 - 13*4*7$  \n",
    "  \n",
    "$\\begin{vmatrix}\n",
    "-2 & 7 & -3\\\\ \n",
    "4 & -14 & 6\\\\ \n",
    "-3 & 7 & 13\n",
    "\\end{vmatrix} = 364 - 84 - 126 + 126 + 84 - 364 = 0$\n",
    "\n",
    "Нулевая детерминанта свидетельствует о вырожденности матрицы."
   ]
  },
  {
   "cell_type": "code",
   "execution_count": 17,
   "metadata": {},
   "outputs": [
    {
     "data": {
      "text/plain": [
       "0.0"
      ]
     },
     "execution_count": 17,
     "metadata": {},
     "output_type": "execute_result"
    }
   ],
   "source": [
    "A = np.array([[-2,7,-3], [4,-14,6], [-3,7,13]])\n",
    "np.linalg.det(A)"
   ]
  },
  {
   "cell_type": "markdown",
   "metadata": {},
   "source": [
    "__4.__ Найти ранг матрицы:\n",
    "\n",
    "   а) $\\begin{pmatrix}\n",
    "1 & 2 & 3\\\\ \n",
    "1 & 1 & 1\\\\ \n",
    "2 & 3 & 4\n",
    "\\end{pmatrix};$\n",
    "\n",
    "   б) $\\begin{pmatrix}\n",
    "0 & 0 & 2 & 1\\\\ \n",
    "0 & 0 & 2 & 2\\\\ \n",
    "0 & 0 & 4 & 3\\\\ \n",
    "2 & 3 & 5 & 6\n",
    "\\end{pmatrix}.$"
   ]
  },
  {
   "cell_type": "markdown",
   "metadata": {},
   "source": [
    "Для решения обеих подзадач буду использовать следующий алгоритм:  \n",
    "\n",
    "1. Находим не равные нулю миноры второго порядка. Если все миноры второго порядка равны нулю, то ранг матрицы будет равен единице (r =1).  \n",
    "\n",
    "2. Если существует хотя бы один минор второго порядка, не равный нулю, то составляем окаймляющие миноры третьего порядка. Если все окаймляющие миноры третьего порядка равны нулю, то ранг матрицы равен двум (r =2).  \n",
    "\n",
    "3. Если хотя бы один из окаймляющих миноров третьего порядка не равен нулю, то составляем окаймляющие его миноры. Если все окаймляющие миноры четвёртого порядка равны нулю, то ранг матрицы равен трём (r =2).  \n",
    "\n",
    "4. Продолжаем так, пока позволяет размер матрицы."
   ]
  },
  {
   "cell_type": "markdown",
   "metadata": {},
   "source": [
    "а)  \n",
    "$\\begin{vmatrix}\n",
    "1 & 2\\\\ \n",
    "1 & 1\n",
    "\\end{vmatrix} = 1 - 2 = -1 \\ne 0$  \n",
    "  \n",
    "$\\begin{vmatrix}\n",
    "1 & 2 & 3\\\\ \n",
    "1 & 1 & 1\\\\\n",
    "2 & 3 & 4\n",
    "\\end{vmatrix} = 4 + 4 + 9 - 6 - 8 - 3 = 0$\n",
    "\n",
    "Ответ: $r = 2$"
   ]
  },
  {
   "cell_type": "code",
   "execution_count": 18,
   "metadata": {},
   "outputs": [
    {
     "data": {
      "text/plain": [
       "2"
      ]
     },
     "execution_count": 18,
     "metadata": {},
     "output_type": "execute_result"
    }
   ],
   "source": [
    "A = np.array([[1,2,3], [1,1,1], [2,3,4]])\n",
    "np.linalg.matrix_rank(A)"
   ]
  },
  {
   "cell_type": "markdown",
   "metadata": {},
   "source": [
    "б)  \n",
    "$\\begin{vmatrix}\n",
    "0 & 0\\\\ \n",
    "2 & 3\n",
    "\\end{vmatrix} = 3 - 2 = 1 \\ne 0$  \n",
    "  \n",
    "$\\begin{vmatrix}\n",
    "0 & 0 & 2\\\\ \n",
    "0 & 0 & 4\\\\ \n",
    "2 & 3 & 5\n",
    "\\end{vmatrix} = 0$  \n",
    "\n",
    "$\\begin{vmatrix}\n",
    "0 & 0 & 2\\\\ \n",
    "0 & 0 & 3\\\\ \n",
    "2 & 3 & 6\n",
    "\\end{vmatrix} = 0$  \n",
    "  \n",
    "$\\begin{vmatrix}\n",
    "0 & 0 & 1\\\\ \n",
    "0 & 0 & 3\\\\ \n",
    "2 & 3 & 6\n",
    "\\end{vmatrix} = 0$  \n",
    "\n",
    "Ответ: $r = 2$"
   ]
  },
  {
   "cell_type": "code",
   "execution_count": 19,
   "metadata": {},
   "outputs": [
    {
     "data": {
      "text/plain": [
       "3"
      ]
     },
     "execution_count": 19,
     "metadata": {},
     "output_type": "execute_result"
    }
   ],
   "source": [
    "A = np.array([[0,0,2,1], [0,0,2,2], [0,0,4,3], [2,3,5,6]])\n",
    "np.linalg.matrix_rank(A)"
   ]
  },
  {
   "cell_type": "markdown",
   "metadata": {},
   "source": [
    "Скорее всего в выбранном алгоритме опечатка и ранг будет равен 3, так как миноры третьего порядка равны нулю.\n",
    "Интересно было бы разобраться: почему сайт [function-x.ru](https://function-x.ru/matrix_rang_calculator.php) утверждает, что ранг равен 4?  \n",
    "<img src=\"Исходная матрица.png\">\n",
    "<img src=\"Приведения к трапециевидной.png\">"
   ]
  }
 ],
 "metadata": {
  "kernelspec": {
   "display_name": "Python 3",
   "language": "python",
   "name": "python3"
  },
  "language_info": {
   "codemirror_mode": {
    "name": "ipython",
    "version": 3
   },
   "file_extension": ".py",
   "mimetype": "text/x-python",
   "name": "python",
   "nbconvert_exporter": "python",
   "pygments_lexer": "ipython3",
   "version": "3.7.6"
  }
 },
 "nbformat": 4,
 "nbformat_minor": 2
}
