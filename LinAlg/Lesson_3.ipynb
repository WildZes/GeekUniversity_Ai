{
 "cells": [
  {
   "cell_type": "markdown",
   "metadata": {},
   "source": [
    "# Урок 5. Линейные преобразования"
   ]
  },
  {
   "cell_type": "markdown",
   "metadata": {},
   "source": [
    "__1.__ Найти собственные векторы и собственные значения для линейного оператора, заданного матрицей\n",
    "\n",
    "$$A=\\begin{pmatrix}\n",
    "-1 & -6\\\\ \n",
    "2 & 6\n",
    "\\end{pmatrix}$$"
   ]
  },
  {
   "cell_type": "markdown",
   "metadata": {},
   "source": [
    "Решение.\n",
    "\n",
    "Найдем собственные вектора заданного линейного оператора. Число λ есть собственное число оператора A в том и только том случае, когда det(A−λE)=0. Запишем характеристическое уравнение:  \n",
    "$A - \\lambda * E = \\begin{vmatrix}\n",
    "-1 - \\lambda & -6\\\\ \n",
    "2 & 6 - \\lambda\n",
    "\\end{vmatrix} = (-1-\\lambda)*(\\lambda-6) - (2*(-6)) = \\lambda^2 - 5\\lambda + 6 = 0$  \n",
    "Решим найденное уравнение, чтобы найти собственные числа.  \n",
    "$D = 5^2 - 4*1*6 = 1$  \n",
    "$\\lambda1 = \\frac{5+1}{2} = 3$  \n",
    "$\\lambda2 = \\frac{5-1}{2} = 2$  \n",
    "Теперь найдем собственные векторы вида $\\begin{pmatrix}\n",
    "x_{1}\\\\ \n",
    "x_{2}\n",
    "\\end{pmatrix}$, подставив полученное собственное значение в выражение $\\textbf{A}X=3X$:\n",
    "$\\begin{pmatrix}\n",
    "-1 & -6\\\\ \n",
    "2 & 6\n",
    "\\end{pmatrix} * \\begin{pmatrix}\n",
    "x_{1}\\\\ \n",
    "x_{2}\n",
    "\\end{pmatrix} =  3 * \\begin{pmatrix}\n",
    "x_{1}\\\\ \n",
    "x_{2}\n",
    "\\end{pmatrix}$  \n",
    "Решим однородную систему уравнений:  \n",
    "$\\begin{cases} -x_1 - 6x_2 = 3x_1 \\\\ 2x_1 + 6x_2 = 3x_2 \\end{cases} \\Leftrightarrow \\begin{cases} x_2 = -\\frac{2x_1}{3} \\\\ 0 = 0 \\end{cases}$  \n",
    "Вторая координата $x_2 = -\\frac{2x_1}{3}$, а за первую можно принять любое ненулевое значение, например $x_{1}=1$. Проверка подстановки таких значений в систему покажет, что вектор вида $X=\\begin{pmatrix}\n",
    "1\\\\ \n",
    "-\\frac{2}{3}\n",
    "\\end{pmatrix}$ удовлетворяет каждому уравнению системы.  \n",
    "  \n",
    "Теперь найдем собственные векторы вида $\\begin{pmatrix}\n",
    "x_{1}\\\\ \n",
    "x_{2}\n",
    "\\end{pmatrix}$, подставив полученное собственное значение в выражение $\\textbf{A}X=2X$:\n",
    "$\\begin{pmatrix}\n",
    "-1 & -6\\\\ \n",
    "2 & 6\n",
    "\\end{pmatrix} * \\begin{pmatrix}\n",
    "x_{1}\\\\ \n",
    "x_{2}\n",
    "\\end{pmatrix} =  2 * \\begin{pmatrix}\n",
    "x_{1}\\\\ \n",
    "x_{2}\n",
    "\\end{pmatrix}$  \n",
    "Решим однородную систему уравнений:  \n",
    "$\\begin{cases} -x_1 - 6x_2 = 2x_1 \\\\ 2x_1 + 6x_2 = 2x_2 \\end{cases} \\Leftrightarrow \\begin{cases} x_2 = -\\frac{x_1}{2} \\\\ 0 = 0 \\end{cases}$  \n",
    "Вторая координата $x_2 = -\\frac{x_1}{2}$, а за первую можно принять любое ненулевое значение, например $x_{1}=1$. Проверка подстановки таких значений в систему покажет, что вектор вида $X=\\begin{pmatrix}\n",
    "1\\\\ \n",
    "-\\frac{1}{2}\n",
    "\\end{pmatrix}$ удовлетворяет каждому уравнению системы."
   ]
  },
  {
   "cell_type": "code",
   "execution_count": 1,
   "metadata": {},
   "outputs": [
    {
     "name": "stdout",
     "output_type": "stream",
     "text": [
      "Матрица A:\n",
      "[[-1 -6]\n",
      " [ 2  6]]\n",
      "Собственные значения:\n",
      "[2. 3.]\n",
      "Собственные векторы:\n",
      "[[-0.89442719  0.83205029]\n",
      " [ 0.4472136  -0.5547002 ]]\n"
     ]
    }
   ],
   "source": [
    "import numpy as np\n",
    "A = np.array([[-1, -6], [2, 6]])\n",
    "w, v = np.linalg.eig(A)\n",
    "\n",
    "print(f'Матрица A:\\n{A}')\n",
    "print(f'Собственные значения:\\n{w}')\n",
    "print(f'Собственные векторы:\\n{v}')"
   ]
  },
  {
   "cell_type": "markdown",
   "metadata": {},
   "source": [
    "Вывод: совсем не понимаю применимость изучаемого, поэтому затрудняюсь понять как изменить применяемую методику поиска собственных векторов, чтобы они совпадали с рассчитанными при помощи библиотеки numpy."
   ]
  },
  {
   "cell_type": "markdown",
   "metadata": {},
   "source": [
    "__2.__ Дан оператор поворота на 180 градусов, задаваемый матрицей \n",
    "\n",
    "$$A=\\begin{pmatrix}\n",
    "-1 & 0\\\\ \n",
    "0 & -1\n",
    "\\end{pmatrix}.$$ \n",
    "  \n",
    "Показать, что __любой__ вектор является для него собственным."
   ]
  },
  {
   "cell_type": "markdown",
   "metadata": {},
   "source": [
    "Решение:  \n",
    "$\\begin{vmatrix}\n",
    "-1 - \\lambda & 0\\\\ \n",
    "0 & -1 - \\lambda\n",
    "\\end{vmatrix} = 0$  \n",
    "$(-1 - \\lambda)(-1 - \\lambda) = 0$  \n",
    "$\\lambda = -1$  \n",
    "Теперь найдем собственные векторы вида $\\begin{pmatrix}\n",
    "x_{1}\\\\ \n",
    "x_{2}\n",
    "\\end{pmatrix}$, подставив полученное собственное значение в выражение $\\textbf{A}X=2X$:  \n",
    "$\\begin{pmatrix}\n",
    "-1 & 0\\\\ \n",
    "0 & -1\n",
    "\\end{pmatrix} * \\begin{pmatrix}\n",
    "x_{1}\\\\ \n",
    "x_{2}\n",
    "\\end{pmatrix} = -1 * \\begin{pmatrix}\n",
    "x_{1}\\\\ \n",
    "x_{2}\n",
    "\\end{pmatrix}$  \n",
    "Получим:  \n",
    "$\\begin{cases} -x_1 = -x_1 \\\\ -x_2 = -x_2 \\end{cases} \\Leftrightarrow \\begin{cases} 0 = 0 \\\\ 0 = 0 \\end{cases}$  \n",
    "Следовательно, любой вектор для данного оператора поворота будет собственным"
   ]
  },
  {
   "cell_type": "markdown",
   "metadata": {},
   "source": [
    "__3.__ Пусть линейный оператор задан матрицей\n",
    "\n",
    "$$A=\\begin{pmatrix}\n",
    "1 & 1\\\\ \n",
    "-1 & 3\n",
    "\\end{pmatrix}.$$\n",
    "\n",
    "Установить, является ли вектор $x = \\begin{pmatrix}\n",
    "1\\\\ \n",
    "1\n",
    "\\end{pmatrix}$ собственным вектором этого линейного оператора."
   ]
  },
  {
   "cell_type": "markdown",
   "metadata": {},
   "source": [
    "Предположим, что вектор $x$ является собственным вектором заданного линейного оператора, тогда должно существовать некоторое вещественное число $\\lambda$, при котором  \n",
    "$\\begin{pmatrix}\n",
    "1 & 1\\\\ \n",
    "-1 & 3\n",
    "\\end{pmatrix} * \\begin{pmatrix}\n",
    "1\\\\ \n",
    "1\n",
    "\\end{pmatrix} =  \\lambda * \\begin{pmatrix}\n",
    "1\\\\ \n",
    "1\n",
    "\\end{pmatrix}$  \n",
    "  \n",
    "Из этого будет следовать, что  \n",
    "$\\begin{cases} 1 + 1 = \\lambda \\\\ -1 + 3 = \\lambda \\end{cases} \\Leftrightarrow \\begin{cases} \\lambda = 2 \\\\ \\lambda = 2 \\end{cases}$  \n",
    "Следовательно, вектор $x = \\begin{pmatrix}\n",
    "1\\\\ \n",
    "1\n",
    "\\end{pmatrix}$ является собственным вектором линейного оператора, заданного матрицей $A$."
   ]
  },
  {
   "cell_type": "markdown",
   "metadata": {},
   "source": [
    "__4.__ Пусть линейный оператор задан матрицей\n",
    "\n",
    "$$A=\\begin{pmatrix}\n",
    "0 & 3 & 0\\\\ \n",
    "3 & 0 & 0\\\\\n",
    "0 & 0 & 3\n",
    "\\end{pmatrix}.$$\n",
    "\n",
    "Установить, является ли вектор $x=(3, -3, -4)$ собственным вектором этого линейного оператора."
   ]
  },
  {
   "cell_type": "markdown",
   "metadata": {},
   "source": [
    "Предположим, что вектор $x$ является собственным вектором заданного линейного оператора. Тогда получим:\n",
    "$\\begin{cases} \\lambda = -3 \\\\ \\lambda = -3 \\\\ \\lambda = 3 \\end{cases}$  \n",
    "Такая система не имеет смысла, следовательно, вектор $x=(3, -3, -4)$ не является собственным вектором линейного оператора, заданного матрицей $A$"
   ]
  }
 ],
 "metadata": {
  "kernelspec": {
   "display_name": "Python 3",
   "language": "python",
   "name": "python3"
  },
  "language_info": {
   "codemirror_mode": {
    "name": "ipython",
    "version": 3
   },
   "file_extension": ".py",
   "mimetype": "text/x-python",
   "name": "python",
   "nbconvert_exporter": "python",
   "pygments_lexer": "ipython3",
   "version": "3.7.6"
  }
 },
 "nbformat": 4,
 "nbformat_minor": 2
}
