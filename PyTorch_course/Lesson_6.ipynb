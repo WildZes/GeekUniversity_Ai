{
  "nbformat": 4,
  "nbformat_minor": 0,
  "metadata": {
    "colab": {
      "name": "Lesson_6.ipynb",
      "provenance": []
    },
    "kernelspec": {
      "name": "python3",
      "display_name": "Python 3"
    },
    "language_info": {
      "name": "python"
    }
  },
  "cells": [
    {
      "cell_type": "markdown",
      "source": [
        "# Фреймворк PyTorch для разработки искусственных нейронных сетей"
      ],
      "metadata": {
        "id": "PzS5rnd9BRtC"
      }
    },
    {
      "cell_type": "markdown",
      "source": [
        "## Урок 6. Нейросети в обработке текста"
      ],
      "metadata": {
        "id": "GNvpy3YeBZfa"
      }
    },
    {
      "cell_type": "markdown",
      "source": [
        "### Самостоятельно обучить классификатор текстов на примере 20newsgroups\n",
        "### На примере 20 newsgroups попробовать разные параметры для сверток для классификации текстов"
      ],
      "metadata": {
        "id": "SvkOTX10Bgx-"
      }
    },
    {
      "cell_type": "code",
      "source": [
        "import torch\n",
        "import pandas as pd\n",
        "import numpy as np\n",
        "from collections import Counter\n",
        "from sklearn.datasets import fetch_20newsgroups"
      ],
      "metadata": {
        "id": "Y6E9UpYkBTJU"
      },
      "execution_count": null,
      "outputs": []
    },
    {
      "cell_type": "code",
      "source": [
        "categories = ['alt.atheism',\n",
        " 'comp.graphics',\n",
        " 'comp.os.ms-windows.misc',\n",
        " 'comp.sys.ibm.pc.hardware',\n",
        " 'comp.sys.mac.hardware',\n",
        " 'comp.windows.x',\n",
        " 'misc.forsale',\n",
        " 'rec.autos',\n",
        " 'rec.motorcycles',\n",
        " 'rec.sport.baseball',\n",
        " 'rec.sport.hockey',\n",
        " 'sci.crypt',\n",
        " 'sci.electronics',\n",
        " 'sci.med',\n",
        " 'sci.space',\n",
        " 'soc.religion.christian',\n",
        " 'talk.politics.guns',\n",
        " 'talk.politics.mideast',\n",
        " 'talk.politics.misc',\n",
        " 'talk.religion.misc']"
      ],
      "metadata": {
        "id": "q1Y5tgvtB8tL"
      },
      "execution_count": null,
      "outputs": []
    },
    {
      "cell_type": "code",
      "source": [
        "newsgroups_train = fetch_20newsgroups(subset='train', categories=categories)\n",
        "newsgroups_test = fetch_20newsgroups(subset='test', categories=categories)\n",
        "\n",
        "print('words in train:',len(newsgroups_train.data))\n",
        "print('words in test:',len(newsgroups_test.data))"
      ],
      "metadata": {
        "colab": {
          "base_uri": "https://localhost:8080/"
        },
        "id": "ilhorXqWCDsY",
        "outputId": "387d284b-a406-4976-c4b9-203393678c65"
      },
      "execution_count": null,
      "outputs": [
        {
          "output_type": "stream",
          "name": "stdout",
          "text": [
            "words in train: 11314\n",
            "words in test: 7532\n"
          ]
        }
      ]
    },
    {
      "cell_type": "code",
      "source": [
        "vocab = Counter()\n",
        "\n",
        "for text in newsgroups_train.data:\n",
        "    for word in text.split(' '):\n",
        "        vocab[word.lower()]+=1\n",
        "        \n",
        "for text in newsgroups_test.data:\n",
        "    for word in text.split(' '):\n",
        "        vocab[word.lower()]+=1\n",
        "        \n",
        "total_words = len(vocab)\n",
        "\n",
        "def get_word_2_index(vocab):\n",
        "    word2index = {}\n",
        "    for i,word in enumerate(vocab):\n",
        "        word2index[word.lower()] = i\n",
        "        \n",
        "    return word2index\n",
        "\n",
        "word2index = get_word_2_index(vocab)"
      ],
      "metadata": {
        "id": "imDrKIt3CMwn"
      },
      "execution_count": null,
      "outputs": []
    },
    {
      "cell_type": "code",
      "source": [
        "def get_batch(df,i,batch_size):\n",
        "    batches = []\n",
        "    results = []\n",
        "    texts = df.data[i*batch_size:i*batch_size+batch_size]\n",
        "    categories = df.target[i*batch_size:i*batch_size+batch_size]\n",
        "    for text in texts:\n",
        "        layer = np.zeros(total_words,dtype=float)\n",
        "        for word in text.split(' '):\n",
        "            layer[word2index[word.lower()]] += 1\n",
        "            \n",
        "        batches.append(layer)\n",
        "        \n",
        "    for category in categories:\n",
        "        index_y = -1\n",
        "        if category == 0:\n",
        "            index_y = 0\n",
        "        elif category == 1:\n",
        "            index_y = 1\n",
        "        else:\n",
        "            index_y = 2\n",
        "        results.append(index_y)\n",
        "            \n",
        "     \n",
        "    return np.array(batches),np.array(results)"
      ],
      "metadata": {
        "id": "HoA08joDCShY"
      },
      "execution_count": null,
      "outputs": []
    },
    {
      "cell_type": "code",
      "source": [
        "learning_rate = 0.01\n",
        "num_epochs = 10\n",
        "batch_size = 150\n",
        "display_step = 1\n",
        "\n",
        "hidden_size = 100\n",
        "input_size = total_words\n",
        "num_classes = 20  "
      ],
      "metadata": {
        "id": "GBwCNW1HCXsJ"
      },
      "execution_count": null,
      "outputs": []
    },
    {
      "cell_type": "code",
      "source": [
        "from torch.autograd import Variable\n",
        "import torch.nn as nn\n",
        "import torch.nn.functional as F"
      ],
      "metadata": {
        "id": "KtDheR1rCg0O"
      },
      "execution_count": null,
      "outputs": []
    },
    {
      "cell_type": "code",
      "source": [
        "class pyNet(nn.Module):\n",
        "     def __init__(self, input_size, hidden_size, num_classes):\n",
        "        super(pyNet, self).__init__()\n",
        "        self.layer_1 = nn.Linear(input_size,hidden_size, bias=True)\n",
        "        self.relu = nn.ReLU()\n",
        "        self.layer_2 = nn.Linear(hidden_size, hidden_size, bias=True)\n",
        "        self.output_layer = nn.Linear(hidden_size, num_classes, bias=True)\n",
        " \n",
        "     def forward(self, x):\n",
        "        out = self.layer_1(x)\n",
        "        out = self.relu(out)\n",
        "        out = self.layer_2(out)\n",
        "        out = self.relu(out)\n",
        "        out = self.output_layer(out)\n",
        "        return out"
      ],
      "metadata": {
        "id": "zUjB0S-3CkqY"
      },
      "execution_count": null,
      "outputs": []
    },
    {
      "cell_type": "code",
      "source": [
        "net = pyNet(input_size, hidden_size, num_classes)"
      ],
      "metadata": {
        "id": "jb_aYMKTDqSd"
      },
      "execution_count": null,
      "outputs": []
    },
    {
      "cell_type": "code",
      "source": [
        "criterion = nn.CrossEntropyLoss()  \n",
        "optimizer = torch.optim.Adam(net.parameters(), lr=learning_rate)  \n",
        "valid_loss_min = np.inf\n",
        "\n",
        "for epoch in range(num_epochs):\n",
        "    total_batch = int(len(newsgroups_train.data)/batch_size)\n",
        "    net.train()\n",
        "    for i in range(total_batch):\n",
        "        batch_x,batch_y = get_batch(newsgroups_train,i,batch_size)\n",
        "        articles = Variable(torch.FloatTensor(batch_x))\n",
        "        labels = Variable(torch.LongTensor(batch_y))\n",
        "        optimizer.zero_grad()\n",
        "        outputs = net(articles)\n",
        "        loss_train = criterion(outputs, labels)\n",
        "        loss_train.backward()\n",
        "        optimizer.step()\n",
        "    \n",
        "    total_batch = int(len(newsgroups_test.data)/batch_size)\n",
        "\n",
        "    net.eval()\n",
        "    for i in range(total_batch):\n",
        "        batch_x,batch_y = get_batch(newsgroups_test,i,batch_size)\n",
        "        articles = Variable(torch.FloatTensor(batch_x))\n",
        "        labels = Variable(torch.LongTensor(batch_y))\n",
        "        outputs = net(articles)\n",
        "        loss_test = criterion(outputs, labels)\n",
        "        loss_test.backward()\n",
        "        optimizer.step()\n",
        "    print(loss_train, loss_test)\n",
        "    \n",
        "    if loss_test <= valid_loss_min:\n",
        "        print('Validation loss decreased ({:.6f} --> {:.6f}).  Saving model ...'.format(\n",
        "        valid_loss_min,\n",
        "        loss_test))\n",
        "        torch.save(net.state_dict(), 'wieghts.pt')\n",
        "        valid_loss_min = loss_test"
      ],
      "metadata": {
        "colab": {
          "base_uri": "https://localhost:8080/"
        },
        "id": "MWlI2gTpCudf",
        "outputId": "4af080ac-63fa-4ba1-84b2-b5a4ab05ed46"
      },
      "execution_count": null,
      "outputs": [
        {
          "output_type": "stream",
          "name": "stdout",
          "text": [
            "tensor(0.0892, grad_fn=<NllLossBackward0>) tensor(4.9438, grad_fn=<NllLossBackward0>)\n",
            "Validation loss decreased (inf --> 4.943755).  Saving model ...\n",
            "tensor(1.5637, grad_fn=<NllLossBackward0>) tensor(0.3826, grad_fn=<NllLossBackward0>)\n",
            "Validation loss decreased (4.943755 --> 0.382610).  Saving model ...\n",
            "tensor(8.8738, grad_fn=<NllLossBackward0>) tensor(0.6185, grad_fn=<NllLossBackward0>)\n",
            "tensor(0.5959, grad_fn=<NllLossBackward0>) tensor(1.5276, grad_fn=<NllLossBackward0>)\n",
            "tensor(0.5962, grad_fn=<NllLossBackward0>) tensor(0.4543, grad_fn=<NllLossBackward0>)\n",
            "tensor(0.2020, grad_fn=<NllLossBackward0>) tensor(0.3038, grad_fn=<NllLossBackward0>)\n",
            "Validation loss decreased (0.382610 --> 0.303805).  Saving model ...\n",
            "tensor(0.1863, grad_fn=<NllLossBackward0>) tensor(0.5992, grad_fn=<NllLossBackward0>)\n",
            "tensor(0.3114, grad_fn=<NllLossBackward0>) tensor(0.2575, grad_fn=<NllLossBackward0>)\n",
            "Validation loss decreased (0.303805 --> 0.257459).  Saving model ...\n",
            "tensor(0.2589, grad_fn=<NllLossBackward0>) tensor(0.2650, grad_fn=<NllLossBackward0>)\n",
            "tensor(0.1974, grad_fn=<NllLossBackward0>) tensor(0.2311, grad_fn=<NllLossBackward0>)\n",
            "Validation loss decreased (0.257459 --> 0.231117).  Saving model ...\n"
          ]
        }
      ]
    }
  ]
}