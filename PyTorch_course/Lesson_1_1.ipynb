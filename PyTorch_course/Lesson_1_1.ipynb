{
  "nbformat": 4,
  "nbformat_minor": 0,
  "metadata": {
    "colab": {
      "name": "Lesson_1_1.ipynb",
      "provenance": [],
      "collapsed_sections": []
    },
    "kernelspec": {
      "name": "python3",
      "display_name": "Python 3"
    },
    "language_info": {
      "name": "python"
    }
  },
  "cells": [
    {
      "cell_type": "markdown",
      "source": [
        "# Фреймворк PyTorch для разработки искусственных нейронных сетей\n",
        "## Урок 1. Основные понятия и структуры PyTorch"
      ],
      "metadata": {
        "id": "_a8lSLLdOdGz"
      }
    },
    {
      "cell_type": "markdown",
      "source": [
        "### Добиться вразумительного результата от модели, собранной на занятии (7 угаданныx картинок из 10 предложенных на семинаре). Варианты изменений:\n",
        "- изменение слоёв и их количества;\n",
        "- изменение метода оптимизации; \n",
        "- изменение процесса обучения; \n",
        "- для продвинутых: преобразование данных transform\n"
      ],
      "metadata": {
        "id": "2z0jQpCFOsLs"
      }
    },
    {
      "cell_type": "markdown",
      "source": [
        "#### From The Lesson"
      ],
      "metadata": {
        "id": "RYBXe6LoO4Yk"
      }
    },
    {
      "cell_type": "code",
      "source": [
        "import torch\n",
        "import torchvision\n",
        "import numpy as np\n",
        "from torch.autograd import Variable\n",
        "from torch import nn \n",
        "from torch import optim"
      ],
      "metadata": {
        "id": "OnpCapzDPDPq"
      },
      "execution_count": null,
      "outputs": []
    },
    {
      "cell_type": "code",
      "source": [
        "linear = nn.Linear(2, 2)"
      ],
      "metadata": {
        "id": "Et-DvezRPMkq"
      },
      "execution_count": null,
      "outputs": []
    },
    {
      "cell_type": "code",
      "source": [
        "print ('w: ', linear.weight)\n",
        "print ('b: ', linear.bias)"
      ],
      "metadata": {
        "colab": {
          "base_uri": "https://localhost:8080/"
        },
        "id": "MdtnkjUsQ99C",
        "outputId": "cf5c025a-db77-417c-94a9-8d42d935792b"
      },
      "execution_count": null,
      "outputs": [
        {
          "output_type": "stream",
          "name": "stdout",
          "text": [
            "w:  Parameter containing:\n",
            "tensor([[ 0.3067, -0.4802],\n",
            "        [ 0.3126,  0.0786]], requires_grad=True)\n",
            "b:  Parameter containing:\n",
            "tensor([-0.3066, -0.4336], requires_grad=True)\n"
          ]
        }
      ]
    },
    {
      "cell_type": "markdown",
      "source": [
        "Прекращение выполнения данного задания, в следствии отсутствия на уроке действий, которые можно определить как \"7 угаданныx картинок\"."
      ],
      "metadata": {
        "id": "I7L4XsdNRAKd"
      }
    },
    {
      "cell_type": "markdown",
      "source": [
        "#### Задание из файла HW_01.ipynb"
      ],
      "metadata": {
        "id": "CiUMAHynWkoW"
      }
    },
    {
      "cell_type": "code",
      "source": [
        "# Создайте случайный FloatTensor размера 3x4x5\n",
        "x = torch.randn(3, 4, 5).type(torch.float32)\n",
        "x"
      ],
      "metadata": {
        "colab": {
          "base_uri": "https://localhost:8080/"
        },
        "id": "V_zIz4rgWtCI",
        "outputId": "b2ea8684-3d65-4350-927d-16378b436a43"
      },
      "execution_count": null,
      "outputs": [
        {
          "output_type": "execute_result",
          "data": {
            "text/plain": [
              "tensor([[[ 0.3353,  1.6116,  0.7854,  1.0965,  0.4945],\n",
              "         [ 2.2048,  0.3716,  0.5328, -0.1841, -0.7007],\n",
              "         [-0.5627, -1.7811,  0.3305,  1.2759, -0.3821],\n",
              "         [-1.6512,  0.9019,  0.8251,  0.2540, -0.9163]],\n",
              "\n",
              "        [[-1.4070,  0.3543,  0.3562, -0.3759,  1.3574],\n",
              "         [ 0.0927, -0.9614,  0.3123,  0.9419, -2.5078],\n",
              "         [-0.5391, -0.8937, -0.1808,  0.9070,  0.4713],\n",
              "         [ 0.1416, -2.0407,  1.9068,  0.4564,  0.6004]],\n",
              "\n",
              "        [[ 0.6747, -0.0563,  1.3144, -0.5323,  1.3192],\n",
              "         [ 0.0874, -0.7811,  0.9929, -0.1988, -1.3312],\n",
              "         [ 0.3021,  0.8500,  1.1976, -0.3983, -0.0746],\n",
              "         [-0.0504,  0.5778, -1.6703, -0.8573,  0.1133]]])"
            ]
          },
          "metadata": {},
          "execution_count": 8
        }
      ]
    },
    {
      "cell_type": "code",
      "source": [
        "# Выведите его форму (shape)\n",
        "x.size()"
      ],
      "metadata": {
        "colab": {
          "base_uri": "https://localhost:8080/"
        },
        "id": "ht7J_WAeW6zF",
        "outputId": "ba4c0dab-31c5-4788-f194-99d54db94146"
      },
      "execution_count": null,
      "outputs": [
        {
          "output_type": "execute_result",
          "data": {
            "text/plain": [
              "torch.Size([3, 4, 5])"
            ]
          },
          "metadata": {},
          "execution_count": 10
        }
      ]
    },
    {
      "cell_type": "code",
      "source": [
        "# Приведите его к форме 6 X 10\n",
        "x_reshaped = x.reshape(6,10)\n",
        "x_reshaped"
      ],
      "metadata": {
        "colab": {
          "base_uri": "https://localhost:8080/"
        },
        "id": "RZh_gdIAX8ms",
        "outputId": "1bc13307-7017-4c73-df18-7e9fd9697507"
      },
      "execution_count": null,
      "outputs": [
        {
          "output_type": "execute_result",
          "data": {
            "text/plain": [
              "tensor([[ 0.3353,  1.6116,  0.7854,  1.0965,  0.4945,  2.2048,  0.3716,  0.5328,\n",
              "         -0.1841, -0.7007],\n",
              "        [-0.5627, -1.7811,  0.3305,  1.2759, -0.3821, -1.6512,  0.9019,  0.8251,\n",
              "          0.2540, -0.9163],\n",
              "        [-1.4070,  0.3543,  0.3562, -0.3759,  1.3574,  0.0927, -0.9614,  0.3123,\n",
              "          0.9419, -2.5078],\n",
              "        [-0.5391, -0.8937, -0.1808,  0.9070,  0.4713,  0.1416, -2.0407,  1.9068,\n",
              "          0.4564,  0.6004],\n",
              "        [ 0.6747, -0.0563,  1.3144, -0.5323,  1.3192,  0.0874, -0.7811,  0.9929,\n",
              "         -0.1988, -1.3312],\n",
              "        [ 0.3021,  0.8500,  1.1976, -0.3983, -0.0746, -0.0504,  0.5778, -1.6703,\n",
              "         -0.8573,  0.1133]])"
            ]
          },
          "metadata": {},
          "execution_count": 12
        }
      ]
    },
    {
      "cell_type": "code",
      "source": [
        "# Умножьте его на вектор [1, 4, 2, 2, 1] поэлементно\n",
        "m = torch.addcmul(torch.zeros(3,4,5), x, torch.FloatTensor([1, 4, 2, 2, 1]))\n",
        "m"
      ],
      "metadata": {
        "colab": {
          "base_uri": "https://localhost:8080/"
        },
        "id": "Ffc58gKIYj8N",
        "outputId": "4cbe7171-5f48-4882-d81e-840cd5b84d3d"
      },
      "execution_count": null,
      "outputs": [
        {
          "output_type": "execute_result",
          "data": {
            "text/plain": [
              "tensor([[[ 0.3353,  6.4462,  1.5707,  2.1931,  0.4945],\n",
              "         [ 2.2048,  1.4864,  1.0656, -0.3683, -0.7007],\n",
              "         [-0.5627, -7.1243,  0.6610,  2.5519, -0.3821],\n",
              "         [-1.6512,  3.6076,  1.6501,  0.5080, -0.9163]],\n",
              "\n",
              "        [[-1.4070,  1.4172,  0.7124, -0.7518,  1.3574],\n",
              "         [ 0.0927, -3.8455,  0.6245,  1.8838, -2.5078],\n",
              "         [-0.5391, -3.5750, -0.3617,  1.8140,  0.4713],\n",
              "         [ 0.1416, -8.1626,  3.8136,  0.9128,  0.6004]],\n",
              "\n",
              "        [[ 0.6747, -0.2251,  2.6288, -1.0645,  1.3192],\n",
              "         [ 0.0874, -3.1246,  1.9857, -0.3975, -1.3312],\n",
              "         [ 0.3021,  3.4001,  2.3952, -0.7966, -0.0746],\n",
              "         [-0.0504,  2.3111, -3.3406, -1.7146,  0.1133]]])"
            ]
          },
          "metadata": {},
          "execution_count": 16
        }
      ]
    },
    {
      "cell_type": "code",
      "source": [
        "# Умножьте тензор матрично на себя, чтобы результат был размерности 6x6\n",
        "mm = torch.mm(x_reshaped, x.reshape(10,6))\n",
        "mm"
      ],
      "metadata": {
        "colab": {
          "base_uri": "https://localhost:8080/"
        },
        "id": "VpD045wWb2j7",
        "outputId": "bb088885-69d2-4e8d-d1aa-57b76ebea44a"
      },
      "execution_count": null,
      "outputs": [
        {
          "output_type": "execute_result",
          "data": {
            "text/plain": [
              "tensor([[ 0.7629,  0.1771, -2.3384,  1.7679,  2.0776, -2.3209],\n",
              "        [-0.7838, -0.1741, -0.3221,  1.2804,  1.3921,  3.0126],\n",
              "        [ 3.8469, -4.3636, -3.2905,  2.4350,  2.9999, -6.9842],\n",
              "        [ 6.7562, -8.0335,  0.1243, -0.7428, -1.9276,  0.6455],\n",
              "        [ 5.2861,  1.5801, -0.3731,  0.5839,  2.2455,  0.5347],\n",
              "        [-2.5749,  5.9971, -1.8690, -3.1692,  1.0860, -0.8668]])"
            ]
          },
          "metadata": {},
          "execution_count": 17
        }
      ]
    },
    {
      "cell_type": "code",
      "source": [
        "# Посчитайте производную функции y = x**3 + z - 75t в точке (1, 0.5, 2)\n",
        "\n",
        "x = Variable(torch.FloatTensor([1]), requires_grad = True)\n",
        "z = Variable(torch.FloatTensor([0.5]), requires_grad = True)\n",
        "t = Variable(torch.FloatTensor([2]), requires_grad = True)\n",
        "\n",
        "y = x**3 + z - 75*t\n",
        "\n",
        "y"
      ],
      "metadata": {
        "colab": {
          "base_uri": "https://localhost:8080/"
        },
        "id": "bJrekHWcdDiO",
        "outputId": "6e8c4a18-9c17-468c-85e7-0c6b8c24fc61"
      },
      "execution_count": null,
      "outputs": [
        {
          "output_type": "execute_result",
          "data": {
            "text/plain": [
              "tensor([-148.5000], grad_fn=<SubBackward0>)"
            ]
          },
          "metadata": {},
          "execution_count": 13
        }
      ]
    },
    {
      "cell_type": "code",
      "source": [
        "y_back = y.backward()\n",
        "\n",
        "print(\"До конца не понял механизм backward(): \", y_back)\n",
        "print(\"Частнaя производная по х: \", x.grad)\n",
        "print(\"Частная производная по z: \", z.grad)\n",
        "print(\"Частная производная по t: \", t.grad)"
      ],
      "metadata": {
        "colab": {
          "base_uri": "https://localhost:8080/"
        },
        "id": "4z_MG3uvxzDw",
        "outputId": "ff153bf4-b652-4636-d85f-c64229f7e5a3"
      },
      "execution_count": null,
      "outputs": [
        {
          "output_type": "stream",
          "name": "stdout",
          "text": [
            "До конца не понял механизм backward():  None\n",
            "Частнaя производная по х:  tensor([3.])\n",
            "Частная производная по z:  tensor([1.])\n",
            "Частная производная по t:  tensor([-75.])\n"
          ]
        }
      ]
    },
    {
      "cell_type": "code",
      "source": [
        "# Создайте единичный тензор размера 5x6\n",
        "x = torch.ones(5, 6)\n",
        "x"
      ],
      "metadata": {
        "id": "hSf0NhTmnlnF",
        "colab": {
          "base_uri": "https://localhost:8080/"
        },
        "outputId": "ffc8852f-1358-41c5-9b32-959532233cd1"
      },
      "execution_count": null,
      "outputs": [
        {
          "output_type": "execute_result",
          "data": {
            "text/plain": [
              "tensor([[1., 1., 1., 1., 1., 1.],\n",
              "        [1., 1., 1., 1., 1., 1.],\n",
              "        [1., 1., 1., 1., 1., 1.],\n",
              "        [1., 1., 1., 1., 1., 1.],\n",
              "        [1., 1., 1., 1., 1., 1.]])"
            ]
          },
          "metadata": {},
          "execution_count": 7
        }
      ]
    },
    {
      "cell_type": "code",
      "source": [
        "# Переведите его в формат numpy\n",
        "x_numpy = x.numpy()\n",
        "x_numpy"
      ],
      "metadata": {
        "colab": {
          "base_uri": "https://localhost:8080/"
        },
        "id": "wLtnzvO0y9We",
        "outputId": "2a689194-5b2f-4c93-af8b-74029a4d37a4"
      },
      "execution_count": null,
      "outputs": [
        {
          "output_type": "execute_result",
          "data": {
            "text/plain": [
              "array([[1., 1., 1., 1., 1., 1.],\n",
              "       [1., 1., 1., 1., 1., 1.],\n",
              "       [1., 1., 1., 1., 1., 1.],\n",
              "       [1., 1., 1., 1., 1., 1.],\n",
              "       [1., 1., 1., 1., 1., 1.]], dtype=float32)"
            ]
          },
          "metadata": {},
          "execution_count": 8
        }
      ]
    },
    {
      "cell_type": "code",
      "source": [
        "# возьмите функцию y = x**w1 - 2 * x**2 + 5\n",
        "# Посчитайте \n",
        "\n",
        "linear = nn.Linear(2, 2)\n",
        "print ('w: ', linear.weight)\n",
        "print ('b: ', linear.bias)\n",
        "criterion = nn.MSELoss()\n",
        "optimizer = torch.optim.SGD(linear.parameters(), lr=0.01)"
      ],
      "metadata": {
        "colab": {
          "base_uri": "https://localhost:8080/"
        },
        "id": "CdW4FagbzNAp",
        "outputId": "93ae9c3b-29ea-4f9a-a5a1-3cf0989dfb7c"
      },
      "execution_count": null,
      "outputs": [
        {
          "output_type": "stream",
          "name": "stdout",
          "text": [
            "w:  Parameter containing:\n",
            "tensor([[ 0.3117, -0.5017],\n",
            "        [-0.3228,  0.5113]], requires_grad=True)\n",
            "b:  Parameter containing:\n",
            "tensor([0.2912, 0.4961], requires_grad=True)\n"
          ]
        }
      ]
    },
    {
      "cell_type": "code",
      "source": [
        "x = Variable(torch.randn(2), requires_grad = True)\n",
        "w1 = linear.bias\n",
        "pred = linear(x)\n",
        "pred"
      ],
      "metadata": {
        "colab": {
          "base_uri": "https://localhost:8080/"
        },
        "id": "GkmHi0yQ_zg7",
        "outputId": "7821c465-97d4-4337-ec51-fbe1a238bf7c"
      },
      "execution_count": null,
      "outputs": [
        {
          "output_type": "execute_result",
          "data": {
            "text/plain": [
              "tensor([0.5553, 0.2235], grad_fn=<AddBackward0>)"
            ]
          },
          "metadata": {},
          "execution_count": 16
        }
      ]
    },
    {
      "cell_type": "code",
      "source": [
        "y = x**w1 - 2*x**2 + 5\n",
        "y, x"
      ],
      "metadata": {
        "colab": {
          "base_uri": "https://localhost:8080/"
        },
        "id": "XCE0K5HjAe51",
        "outputId": "20e0eac4-ab97-49c9-df0f-b9ee2f98a4a1"
      },
      "execution_count": null,
      "outputs": [
        {
          "output_type": "execute_result",
          "data": {
            "text/plain": [
              "(tensor([4.9877,    nan], grad_fn=<AddBackward0>),\n",
              " tensor([ 0.6719, -0.1088], requires_grad=True))"
            ]
          },
          "metadata": {},
          "execution_count": 18
        }
      ]
    },
    {
      "cell_type": "code",
      "source": [
        "pred = linear(y)\n",
        "pred"
      ],
      "metadata": {
        "colab": {
          "base_uri": "https://localhost:8080/"
        },
        "id": "JfjgErgcAowe",
        "outputId": "3f3e3fd2-3a62-4f03-87e0-d8796fcfedb5"
      },
      "execution_count": null,
      "outputs": [
        {
          "output_type": "execute_result",
          "data": {
            "text/plain": [
              "tensor([nan, nan], grad_fn=<AddBackward0>)"
            ]
          },
          "metadata": {},
          "execution_count": 19
        }
      ]
    },
    {
      "cell_type": "markdown",
      "source": [
        "По задаче \"возьмите функцию y = x^w1 - 2 * x^2 + 5; посчитайте\" остались вопросы, потому что нет понимания, каковы должны быть подсчеты"
      ],
      "metadata": {
        "id": "_Z5TgglXBiU3"
      }
    }
  ]
}