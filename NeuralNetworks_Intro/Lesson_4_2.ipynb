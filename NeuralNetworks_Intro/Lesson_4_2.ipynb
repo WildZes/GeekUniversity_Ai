{
  "nbformat": 4,
  "nbformat_minor": 0,
  "metadata": {
    "colab": {
      "name": "Lesson_4_2.ipynb",
      "provenance": [],
      "collapsed_sections": []
    },
    "kernelspec": {
      "name": "python3",
      "display_name": "Python 3"
    },
    "language_info": {
      "name": "python"
    },
    "accelerator": "GPU"
  },
  "cells": [
    {
      "cell_type": "markdown",
      "source": [
        "# Урок 4. Сверточные нейронные сети\n",
        "## Вариант 1. (простой)"
      ],
      "metadata": {
        "id": "Mtj8_8PdZLMd"
      }
    },
    {
      "cell_type": "markdown",
      "source": [
        "## Оценить рост точности при увеличении ширины сети (больше ядер)"
      ],
      "metadata": {
        "id": "Nq2M88RhWUHl"
      }
    },
    {
      "cell_type": "code",
      "execution_count": 1,
      "metadata": {
        "id": "r8KBbN5cWDB8"
      },
      "outputs": [],
      "source": [
        "import tensorflow as tf\n",
        "from tensorflow.keras.datasets import cifar10\n",
        "from tensorflow.keras.utils import to_categorical\n",
        "from tensorflow.keras.layers import Dense, Dropout, Activation, Flatten\n",
        "from tensorflow.keras.models import Sequential, Model\n",
        "from tensorflow.keras.layers import Conv2D, Input\n",
        "from tensorflow.keras.layers import GlobalMaxPooling2D, MaxPooling2D, AveragePooling2D, GlobalAveragePooling2D\n",
        "from tensorflow.keras.utils import plot_model\n",
        "\n",
        "from keras import models as m\n",
        "\n",
        "import os\n",
        "\n",
        "import matplotlib.pyplot as plt\n",
        "\n",
        "import numpy as np"
      ]
    },
    {
      "cell_type": "code",
      "source": [
        "(X_train, y_train), (X_test, y_test) = cifar10.load_data()\n",
        "print('X_train shape:', X_train.shape)\n",
        "print(X_train.shape[0], 'тренировочные примеры')\n",
        "print(X_test.shape[0], 'тестовые примеры')"
      ],
      "metadata": {
        "colab": {
          "base_uri": "https://localhost:8080/"
        },
        "id": "v_29f7ZwWX7h",
        "outputId": "0b0986db-fc15-4f05-ccda-c9bbd161fb81"
      },
      "execution_count": 2,
      "outputs": [
        {
          "output_type": "stream",
          "name": "stdout",
          "text": [
            "Downloading data from https://www.cs.toronto.edu/~kriz/cifar-10-python.tar.gz\n",
            "170500096/170498071 [==============================] - 11s 0us/step\n",
            "170508288/170498071 [==============================] - 11s 0us/step\n",
            "X_train shape: (50000, 32, 32, 3)\n",
            "50000 тренировочные примеры\n",
            "10000 тестовые примеры\n"
          ]
        }
      ]
    },
    {
      "cell_type": "code",
      "source": [
        "labels = {0: 'airplane', 1: 'automobile', 2: 'bird', 3: 'cat', 4: 'deer',\n",
        "          5: 'dog', 6: 'frog', 7: 'horse', 8: 'ship', 9: 'truck'}"
      ],
      "metadata": {
        "id": "51BYlNe6WpsB"
      },
      "execution_count": 3,
      "outputs": []
    },
    {
      "cell_type": "code",
      "source": [
        "# преобразование матрицы чисел 0-9 в бинарную матрицу чисел 0-1\n",
        "y_train = to_categorical(y_train, 10)\n",
        "y_test = to_categorical(y_test, 10)"
      ],
      "metadata": {
        "id": "yLIfafwjWdgS"
      },
      "execution_count": 4,
      "outputs": []
    },
    {
      "cell_type": "code",
      "source": [
        "N = 6\n",
        "\n",
        "plt.imshow(X_test[N])\n",
        "plt.title(labels[np.argmax(y_test[N,:])])\n",
        "plt.show()"
      ],
      "metadata": {
        "colab": {
          "base_uri": "https://localhost:8080/",
          "height": 281
        },
        "id": "6BTwax44Wg7i",
        "outputId": "a3c9f9ae-c629-448d-caf0-392540b12115"
      },
      "execution_count": 5,
      "outputs": [
        {
          "output_type": "display_data",
          "data": {
            "image/png": "[encoded data removed]",
            "text/plain": [
              "<Figure size 432x288 with 1 Axes>"
            ]
          },
          "metadata": {
            "needs_background": "light"
          }
        }
      ]
    },
    {
      "cell_type": "code",
      "source": [
        "# конфигурирование слоев нейросети\n",
        "model2 = Sequential()\n",
        "\n",
        "# слои нейросети отвественные за свертку и max-pooling\n",
        "model2.add(Conv2D(32, (3, 3), padding='same', input_shape=X_train.shape[1:]))\n",
        "model2.add(Activation('relu')) # активацию можно прописывать как в самом слое, так и отдельно\n",
        "model2.add(Conv2D(64, (3, 3)))\n",
        "model2.add(Activation('relu'))\n",
        "model2.add(MaxPooling2D(pool_size=(2, 2)))\n",
        "model2.add(Dropout(0.25))\n",
        "\n",
        "\n",
        "model2.add(Conv2D(128, (3, 3), padding='same'))\n",
        "model2.add(Activation('relu'))\n",
        "model2.add(Conv2D(128, (3, 3)))\n",
        "model2.add(Activation('relu'))\n",
        "model2.add(MaxPooling2D(pool_size=(2, 2)))\n",
        "model2.add(Dropout(0.25))\n",
        "\n",
        "# полносвязные слои нейронной сети\n",
        "# сглаживание CNN выхода чтобы можно было его присоединить к полносвязногому слою\n",
        "model2.add(Flatten()) \n",
        "# полносвязный слой\n",
        "model2.add(Dense(512))\n",
        "model2.add(Activation('relu'))\n",
        "model2.add(Dropout(0.5))\n",
        "model2.add(Dense(10))\n",
        "# выходной слой с функцией активации softmax\n",
        "model2.add(Activation('softmax'))\n",
        "\n",
        "model2.summary()\n",
        "\n",
        "# компиляция модели\n",
        "model2.compile(loss='categorical_crossentropy',\n",
        "              optimizer='SGD',\n",
        "              metrics=['accuracy'])"
      ],
      "metadata": {
        "colab": {
          "base_uri": "https://localhost:8080/"
        },
        "id": "9fsxtGnwWjmF",
        "outputId": "7b504cb9-7604-4d2e-e1d6-3976f9eee476"
      },
      "execution_count": 6,
      "outputs": [
        {
          "output_type": "stream",
          "name": "stdout",
          "text": [
            "Model: \"sequential\"\n",
            "_________________________________________________________________\n",
            " Layer (type)                Output Shape              Param #   \n",
            "=================================================================\n",
            " conv2d (Conv2D)             (None, 32, 32, 32)        896       \n",
            "                                                                 \n",
            " activation (Activation)     (None, 32, 32, 32)        0         \n",
            "                                                                 \n",
            " conv2d_1 (Conv2D)           (None, 30, 30, 64)        18496     \n",
            "                                                                 \n",
            " activation_1 (Activation)   (None, 30, 30, 64)        0         \n",
            "                                                                 \n",
            " max_pooling2d (MaxPooling2D  (None, 15, 15, 64)       0         \n",
            " )                                                               \n",
            "                                                                 \n",
            " dropout (Dropout)           (None, 15, 15, 64)        0         \n",
            "                                                                 \n",
            " conv2d_2 (Conv2D)           (None, 15, 15, 128)       73856     \n",
            "                                                                 \n",
            " activation_2 (Activation)   (None, 15, 15, 128)       0         \n",
            "                                                                 \n",
            " conv2d_3 (Conv2D)           (None, 13, 13, 128)       147584    \n",
            "                                                                 \n",
            " activation_3 (Activation)   (None, 13, 13, 128)       0         \n",
            "                                                                 \n",
            " max_pooling2d_1 (MaxPooling  (None, 6, 6, 128)        0         \n",
            " 2D)                                                             \n",
            "                                                                 \n",
            " dropout_1 (Dropout)         (None, 6, 6, 128)         0         \n",
            "                                                                 \n",
            " flatten (Flatten)           (None, 4608)              0         \n",
            "                                                                 \n",
            " dense (Dense)               (None, 512)               2359808   \n",
            "                                                                 \n",
            " activation_4 (Activation)   (None, 512)               0         \n",
            "                                                                 \n",
            " dropout_2 (Dropout)         (None, 512)               0         \n",
            "                                                                 \n",
            " dense_1 (Dense)             (None, 10)                5130      \n",
            "                                                                 \n",
            " activation_5 (Activation)   (None, 10)                0         \n",
            "                                                                 \n",
            "=================================================================\n",
            "Total params: 2,605,770\n",
            "Trainable params: 2,605,770\n",
            "Non-trainable params: 0\n",
            "_________________________________________________________________\n"
          ]
        }
      ]
    },
    {
      "cell_type": "code",
      "source": [
        "# Обучаем модель\n",
        "hist = model2.fit(x=X_train,y=y_train, epochs=25,\n",
        "                 batch_size=128, validation_data=(X_test, y_test),\n",
        "                 verbose=1)"
      ],
      "metadata": {
        "colab": {
          "base_uri": "https://localhost:8080/"
        },
        "id": "1zfvKahpWxdl",
        "outputId": "e62de6f2-758a-4cc3-d296-6c810d77a32c"
      },
      "execution_count": 7,
      "outputs": [
        {
          "output_type": "stream",
          "name": "stdout",
          "text": [
            "Epoch 1/25\n",
            "391/391 [==============================] - 17s 17ms/step - loss: 14.8933 - accuracy: 0.1012 - val_loss: 2.3027 - val_accuracy: 0.0999\n",
            "Epoch 2/25\n",
            "391/391 [==============================] - 6s 15ms/step - loss: 2.3030 - accuracy: 0.0971 - val_loss: 2.3027 - val_accuracy: 0.0999\n",
            "Epoch 3/25\n",
            "391/391 [==============================] - 6s 16ms/step - loss: 2.3028 - accuracy: 0.0998 - val_loss: 2.3027 - val_accuracy: 0.0999\n",
            "Epoch 4/25\n",
            "391/391 [==============================] - 6s 16ms/step - loss: 2.3029 - accuracy: 0.0984 - val_loss: 2.3027 - val_accuracy: 0.1000\n",
            "Epoch 5/25\n",
            "391/391 [==============================] - 6s 16ms/step - loss: 2.3027 - accuracy: 0.1002 - val_loss: 2.3025 - val_accuracy: 0.1003\n",
            "Epoch 6/25\n",
            "391/391 [==============================] - 6s 16ms/step - loss: 2.3027 - accuracy: 0.0985 - val_loss: 2.3025 - val_accuracy: 0.1001\n",
            "Epoch 7/25\n",
            "391/391 [==============================] - 6s 16ms/step - loss: 2.3024 - accuracy: 0.0996 - val_loss: 2.3022 - val_accuracy: 0.1003\n",
            "Epoch 8/25\n",
            "391/391 [==============================] - 6s 16ms/step - loss: 2.3024 - accuracy: 0.0984 - val_loss: 2.3024 - val_accuracy: 0.1002\n",
            "Epoch 9/25\n",
            "391/391 [==============================] - 6s 16ms/step - loss: 2.3020 - accuracy: 0.1017 - val_loss: 2.3022 - val_accuracy: 0.1003\n",
            "Epoch 10/25\n",
            "391/391 [==============================] - 6s 16ms/step - loss: 2.3025 - accuracy: 0.0972 - val_loss: 2.3024 - val_accuracy: 0.1005\n",
            "Epoch 11/25\n",
            "391/391 [==============================] - 6s 16ms/step - loss: 2.3017 - accuracy: 0.0985 - val_loss: 2.3018 - val_accuracy: 0.1012\n",
            "Epoch 12/25\n",
            "391/391 [==============================] - 6s 17ms/step - loss: 2.3019 - accuracy: 0.0999 - val_loss: 2.3010 - val_accuracy: 0.1032\n",
            "Epoch 13/25\n",
            "391/391 [==============================] - 6s 16ms/step - loss: 2.3009 - accuracy: 0.1032 - val_loss: 2.2999 - val_accuracy: 0.1063\n",
            "Epoch 14/25\n",
            "391/391 [==============================] - 6s 16ms/step - loss: 2.3025 - accuracy: 0.1029 - val_loss: 2.3025 - val_accuracy: 0.1007\n",
            "Epoch 15/25\n",
            "391/391 [==============================] - 7s 17ms/step - loss: 2.3013 - accuracy: 0.1009 - val_loss: 2.3015 - val_accuracy: 0.1034\n",
            "Epoch 16/25\n",
            "391/391 [==============================] - 6s 16ms/step - loss: 2.2991 - accuracy: 0.1071 - val_loss: 2.3025 - val_accuracy: 0.1008\n",
            "Epoch 17/25\n",
            "391/391 [==============================] - 6s 16ms/step - loss: 2.3023 - accuracy: 0.0998 - val_loss: 2.3020 - val_accuracy: 0.1005\n",
            "Epoch 18/25\n",
            "391/391 [==============================] - 7s 17ms/step - loss: 2.2965 - accuracy: 0.1091 - val_loss: 2.3013 - val_accuracy: 0.1038\n",
            "Epoch 19/25\n",
            "391/391 [==============================] - 6s 17ms/step - loss: 2.2965 - accuracy: 0.1100 - val_loss: 2.2868 - val_accuracy: 0.1251\n",
            "Epoch 20/25\n",
            "391/391 [==============================] - 6s 16ms/step - loss: 2.2790 - accuracy: 0.1381 - val_loss: 2.2936 - val_accuracy: 0.1160\n",
            "Epoch 21/25\n",
            "391/391 [==============================] - 6s 16ms/step - loss: 2.2885 - accuracy: 0.1220 - val_loss: 2.3027 - val_accuracy: 0.1018\n",
            "Epoch 22/25\n",
            "391/391 [==============================] - 6s 16ms/step - loss: 2.3033 - accuracy: 0.1008 - val_loss: 2.3028 - val_accuracy: 0.0996\n",
            "Epoch 23/25\n",
            "391/391 [==============================] - 6s 16ms/step - loss: 2.3026 - accuracy: 0.0999 - val_loss: 2.3026 - val_accuracy: 0.0996\n",
            "Epoch 24/25\n",
            "391/391 [==============================] - 6s 16ms/step - loss: 2.3026 - accuracy: 0.1005 - val_loss: 2.3026 - val_accuracy: 0.0993\n",
            "Epoch 25/25\n",
            "391/391 [==============================] - 6s 16ms/step - loss: 2.3025 - accuracy: 0.1034 - val_loss: 2.3026 - val_accuracy: 0.0993\n"
          ]
        }
      ]
    },
    {
      "cell_type": "code",
      "source": [
        "test_score = model2.evaluate(X_test, y_test)\n",
        "print(\"Test loss {:.4f}, accuracy {:.2f}%\".format(test_score[0], test_score[1] * 100))"
      ],
      "metadata": {
        "colab": {
          "base_uri": "https://localhost:8080/"
        },
        "id": "3Prvjpr6W5jJ",
        "outputId": "5bb17242-4c11-47f5-9986-2b785d141206"
      },
      "execution_count": 8,
      "outputs": [
        {
          "output_type": "stream",
          "name": "stdout",
          "text": [
            "313/313 [==============================] - 1s 4ms/step - loss: 2.3026 - accuracy: 0.0993\n",
            "Test loss 2.3026, accuracy 9.93%\n"
          ]
        }
      ]
    },
    {
      "cell_type": "code",
      "source": [
        "y_pred = model2.predict(X_test)\n",
        "plt.plot(y_pred[N][:])\n",
        "plt.show()\n",
        "print(y_pred[N][:])\n",
        "plt.imshow(X_test[N][:,:,0])\n",
        "plt.title(labels[np.argmax(y_test[N,:])])\n",
        "plt.show()"
      ],
      "metadata": {
        "colab": {
          "base_uri": "https://localhost:8080/",
          "height": 563
        },
        "id": "SlNZO7ZFaehT",
        "outputId": "979b21b0-f2d3-400d-b27b-970e7cc7b1ef"
      },
      "execution_count": 9,
      "outputs": [
        {
          "output_type": "display_data",
          "data": {
            "image/png": "[encoded data removed]",
            "text/plain": [
              "<Figure size 432x288 with 1 Axes>"
            ]
          },
          "metadata": {
            "needs_background": "light"
          }
        },
        {
          "output_type": "stream",
          "name": "stdout",
          "text": [
            "[0.09981155 0.10025654 0.10077931 0.09889517 0.10046834 0.09966516\n",
            " 0.10013119 0.10069865 0.09911208 0.100182  ]\n"
          ]
        },
        {
          "output_type": "display_data",
          "data": {
            "image/png": "[encoded data removed]",
            "text/plain": [
              "<Figure size 432x288 with 1 Axes>"
            ]
          },
          "metadata": {
            "needs_background": "light"
          }
        }
      ]
    },
    {
      "cell_type": "code",
      "source": [
        "tf.keras.backend.clear_session()\n",
        "# конфигурирование слоев нейросети\n",
        "model2 = Sequential()\n",
        "\n",
        "# слои нейросети отвественные за свертку и max-pooling\n",
        "model2.add(Conv2D(32, (3, 3), padding='same', input_shape=X_train.shape[1:]))\n",
        "model2.add(Activation('relu')) # активацию можно прописывать как в самом слое, так и отдельно\n",
        "model2.add(Conv2D(64, (3, 3)))\n",
        "model2.add(Activation('relu'))\n",
        "model2.add(MaxPooling2D(pool_size=(2, 2)))\n",
        "model2.add(Dropout(0.25))\n",
        "\n",
        "\n",
        "model2.add(Conv2D(128, (3, 3), padding='same'))\n",
        "model2.add(Activation('relu'))\n",
        "model2.add(Conv2D(128, (3, 3)))\n",
        "model2.add(Activation('relu'))\n",
        "model2.add(MaxPooling2D(pool_size=(2, 2)))\n",
        "model2.add(Dropout(0.25))\n",
        "\n",
        "# полносвязные слои нейронной сети\n",
        "# сглаживание CNN выхода чтобы можно было его присоединить к полносвязногому слою\n",
        "model2.add(Flatten()) \n",
        "# полносвязный слой\n",
        "model2.add(Dense(512))\n",
        "model2.add(Activation('relu'))\n",
        "model2.add(Dropout(0.5))\n",
        "model2.add(Dense(10))\n",
        "# выходной слой с функцией активации softmax\n",
        "model2.add(Activation('softmax'))\n",
        "\n",
        "model2.summary()\n",
        "\n",
        "# компиляция модели\n",
        "model2.compile(loss='categorical_crossentropy',\n",
        "              optimizer='SGD',\n",
        "              metrics=['accuracy'])"
      ],
      "metadata": {
        "colab": {
          "base_uri": "https://localhost:8080/"
        },
        "id": "roNlql6Sal4a",
        "outputId": "f5f18cbd-d896-4cf8-fb48-10f82efbe641"
      },
      "execution_count": 10,
      "outputs": [
        {
          "output_type": "stream",
          "name": "stdout",
          "text": [
            "Model: \"sequential\"\n",
            "_________________________________________________________________\n",
            " Layer (type)                Output Shape              Param #   \n",
            "=================================================================\n",
            " conv2d (Conv2D)             (None, 32, 32, 32)        896       \n",
            "                                                                 \n",
            " activation (Activation)     (None, 32, 32, 32)        0         \n",
            "                                                                 \n",
            " conv2d_1 (Conv2D)           (None, 30, 30, 64)        18496     \n",
            "                                                                 \n",
            " activation_1 (Activation)   (None, 30, 30, 64)        0         \n",
            "                                                                 \n",
            " max_pooling2d (MaxPooling2D  (None, 15, 15, 64)       0         \n",
            " )                                                               \n",
            "                                                                 \n",
            " dropout (Dropout)           (None, 15, 15, 64)        0         \n",
            "                                                                 \n",
            " conv2d_2 (Conv2D)           (None, 15, 15, 128)       73856     \n",
            "                                                                 \n",
            " activation_2 (Activation)   (None, 15, 15, 128)       0         \n",
            "                                                                 \n",
            " conv2d_3 (Conv2D)           (None, 13, 13, 128)       147584    \n",
            "                                                                 \n",
            " activation_3 (Activation)   (None, 13, 13, 128)       0         \n",
            "                                                                 \n",
            " max_pooling2d_1 (MaxPooling  (None, 6, 6, 128)        0         \n",
            " 2D)                                                             \n",
            "                                                                 \n",
            " dropout_1 (Dropout)         (None, 6, 6, 128)         0         \n",
            "                                                                 \n",
            " flatten (Flatten)           (None, 4608)              0         \n",
            "                                                                 \n",
            " dense (Dense)               (None, 512)               2359808   \n",
            "                                                                 \n",
            " activation_4 (Activation)   (None, 512)               0         \n",
            "                                                                 \n",
            " dropout_2 (Dropout)         (None, 512)               0         \n",
            "                                                                 \n",
            " dense_1 (Dense)             (None, 10)                5130      \n",
            "                                                                 \n",
            " activation_5 (Activation)   (None, 10)                0         \n",
            "                                                                 \n",
            "=================================================================\n",
            "Total params: 2,605,770\n",
            "Trainable params: 2,605,770\n",
            "Non-trainable params: 0\n",
            "_________________________________________________________________\n"
          ]
        }
      ]
    },
    {
      "cell_type": "code",
      "source": [
        "# Обучаем модель\n",
        "hist = model2.fit(x=X_train,y=y_train, epochs=25,\n",
        "                 batch_size=256, validation_data=(X_test, y_test),\n",
        "                 verbose=1)"
      ],
      "metadata": {
        "colab": {
          "base_uri": "https://localhost:8080/"
        },
        "id": "bz94bBD-a8sM",
        "outputId": "6a194d6f-e9fb-496d-df36-863a52203eb6"
      },
      "execution_count": 12,
      "outputs": [
        {
          "output_type": "stream",
          "name": "stdout",
          "text": [
            "Epoch 1/25\n",
            "196/196 [==============================] - 6s 31ms/step - loss: nan - accuracy: 0.1000 - val_loss: nan - val_accuracy: 0.1000\n",
            "Epoch 2/25\n",
            "196/196 [==============================] - 6s 29ms/step - loss: nan - accuracy: 0.1000 - val_loss: nan - val_accuracy: 0.1000\n",
            "Epoch 3/25\n",
            "196/196 [==============================] - 6s 30ms/step - loss: nan - accuracy: 0.1000 - val_loss: nan - val_accuracy: 0.1000\n",
            "Epoch 4/25\n",
            "196/196 [==============================] - 6s 30ms/step - loss: nan - accuracy: 0.1000 - val_loss: nan - val_accuracy: 0.1000\n",
            "Epoch 5/25\n",
            "196/196 [==============================] - 6s 30ms/step - loss: nan - accuracy: 0.1000 - val_loss: nan - val_accuracy: 0.1000\n",
            "Epoch 6/25\n",
            "196/196 [==============================] - 6s 30ms/step - loss: nan - accuracy: 0.1000 - val_loss: nan - val_accuracy: 0.1000\n",
            "Epoch 7/25\n",
            "196/196 [==============================] - 5s 28ms/step - loss: nan - accuracy: 0.1000 - val_loss: nan - val_accuracy: 0.1000\n",
            "Epoch 8/25\n",
            "196/196 [==============================] - 5s 28ms/step - loss: nan - accuracy: 0.1000 - val_loss: nan - val_accuracy: 0.1000\n",
            "Epoch 9/25\n",
            "196/196 [==============================] - 5s 28ms/step - loss: nan - accuracy: 0.1000 - val_loss: nan - val_accuracy: 0.1000\n",
            "Epoch 10/25\n",
            "196/196 [==============================] - 5s 28ms/step - loss: nan - accuracy: 0.1000 - val_loss: nan - val_accuracy: 0.1000\n",
            "Epoch 11/25\n",
            "196/196 [==============================] - 5s 28ms/step - loss: nan - accuracy: 0.1000 - val_loss: nan - val_accuracy: 0.1000\n",
            "Epoch 12/25\n",
            "196/196 [==============================] - 5s 28ms/step - loss: nan - accuracy: 0.1000 - val_loss: nan - val_accuracy: 0.1000\n",
            "Epoch 13/25\n",
            "196/196 [==============================] - 6s 28ms/step - loss: nan - accuracy: 0.1000 - val_loss: nan - val_accuracy: 0.1000\n",
            "Epoch 14/25\n",
            "196/196 [==============================] - 6s 28ms/step - loss: nan - accuracy: 0.1000 - val_loss: nan - val_accuracy: 0.1000\n",
            "Epoch 15/25\n",
            "196/196 [==============================] - 6s 28ms/step - loss: nan - accuracy: 0.1000 - val_loss: nan - val_accuracy: 0.1000\n",
            "Epoch 16/25\n",
            "196/196 [==============================] - 6s 30ms/step - loss: nan - accuracy: 0.1000 - val_loss: nan - val_accuracy: 0.1000\n",
            "Epoch 17/25\n",
            "196/196 [==============================] - 6s 28ms/step - loss: nan - accuracy: 0.1000 - val_loss: nan - val_accuracy: 0.1000\n",
            "Epoch 18/25\n",
            "196/196 [==============================] - 6s 28ms/step - loss: nan - accuracy: 0.1000 - val_loss: nan - val_accuracy: 0.1000\n",
            "Epoch 19/25\n",
            "196/196 [==============================] - 6s 28ms/step - loss: nan - accuracy: 0.1000 - val_loss: nan - val_accuracy: 0.1000\n",
            "Epoch 20/25\n",
            "196/196 [==============================] - 6s 28ms/step - loss: nan - accuracy: 0.1000 - val_loss: nan - val_accuracy: 0.1000\n",
            "Epoch 21/25\n",
            "196/196 [==============================] - 6s 28ms/step - loss: nan - accuracy: 0.1000 - val_loss: nan - val_accuracy: 0.1000\n",
            "Epoch 22/25\n",
            "196/196 [==============================] - 6s 28ms/step - loss: nan - accuracy: 0.1000 - val_loss: nan - val_accuracy: 0.1000\n",
            "Epoch 23/25\n",
            "196/196 [==============================] - 6s 30ms/step - loss: nan - accuracy: 0.1000 - val_loss: nan - val_accuracy: 0.1000\n",
            "Epoch 24/25\n",
            "196/196 [==============================] - 6s 28ms/step - loss: nan - accuracy: 0.1000 - val_loss: nan - val_accuracy: 0.1000\n",
            "Epoch 25/25\n",
            "196/196 [==============================] - 6s 28ms/step - loss: nan - accuracy: 0.1000 - val_loss: nan - val_accuracy: 0.1000\n"
          ]
        }
      ]
    },
    {
      "cell_type": "code",
      "source": [
        "tf.keras.backend.clear_session()\n",
        "# конфигурирование слоев нейросети\n",
        "model = Sequential()\n",
        "\n",
        "# слои нейросети отвественные за свертку и max-pooling\n",
        "model.add(Conv2D(32, (3, 3), padding='same',\n",
        "                 input_shape=X_train.shape[1:]))\n",
        "model.add(Activation('relu'))\n",
        "model.add(Conv2D(32, (3, 3)))\n",
        "model.add(Activation('relu'))\n",
        "model.add(MaxPooling2D(pool_size=(2, 2)))\n",
        "model.add(Dropout( 0.25))\n",
        "\n",
        "model.add(Conv2D(256, (3, 3), padding='same'))\n",
        "model.add(Activation('relu'))\n",
        "model.add(Conv2D(256, (3, 3)))\n",
        "model.add(Activation('relu'))\n",
        "model.add(MaxPooling2D(pool_size=(2, 2)))\n",
        "model.add(Dropout(0.25))\n",
        "\n",
        "# полносвязные слои нейронной сети\n",
        "model.add(Flatten())\n",
        "model.add(Dense(512))\n",
        "model.add(Activation('relu'))\n",
        "model.add(Dropout(0.5))\n",
        "model.add(Dense(10))\n",
        "model.add(Activation('softmax'))\n",
        "\n",
        "model.summary()\n",
        "\n",
        "# компиляция модели\n",
        "model.compile(loss='categorical_crossentropy',\n",
        "              optimizer='SGD',\n",
        "              metrics=['accuracy'])"
      ],
      "metadata": {
        "colab": {
          "base_uri": "https://localhost:8080/"
        },
        "id": "ZHhebVfZbK_H",
        "outputId": "bfc43a13-a06a-4ff8-bb96-8d227991b8c0"
      },
      "execution_count": 22,
      "outputs": [
        {
          "output_type": "stream",
          "name": "stdout",
          "text": [
            "Model: \"sequential\"\n",
            "_________________________________________________________________\n",
            " Layer (type)                Output Shape              Param #   \n",
            "=================================================================\n",
            " conv2d (Conv2D)             (None, 32, 32, 32)        896       \n",
            "                                                                 \n",
            " activation (Activation)     (None, 32, 32, 32)        0         \n",
            "                                                                 \n",
            " conv2d_1 (Conv2D)           (None, 30, 30, 32)        9248      \n",
            "                                                                 \n",
            " activation_1 (Activation)   (None, 30, 30, 32)        0         \n",
            "                                                                 \n",
            " max_pooling2d (MaxPooling2D  (None, 15, 15, 32)       0         \n",
            " )                                                               \n",
            "                                                                 \n",
            " dropout (Dropout)           (None, 15, 15, 32)        0         \n",
            "                                                                 \n",
            " conv2d_2 (Conv2D)           (None, 15, 15, 256)       73984     \n",
            "                                                                 \n",
            " activation_2 (Activation)   (None, 15, 15, 256)       0         \n",
            "                                                                 \n",
            " conv2d_3 (Conv2D)           (None, 13, 13, 256)       590080    \n",
            "                                                                 \n",
            " activation_3 (Activation)   (None, 13, 13, 256)       0         \n",
            "                                                                 \n",
            " max_pooling2d_1 (MaxPooling  (None, 6, 6, 256)        0         \n",
            " 2D)                                                             \n",
            "                                                                 \n",
            " dropout_1 (Dropout)         (None, 6, 6, 256)         0         \n",
            "                                                                 \n",
            " flatten (Flatten)           (None, 9216)              0         \n",
            "                                                                 \n",
            " dense (Dense)               (None, 512)               4719104   \n",
            "                                                                 \n",
            " activation_4 (Activation)   (None, 512)               0         \n",
            "                                                                 \n",
            " dropout_2 (Dropout)         (None, 512)               0         \n",
            "                                                                 \n",
            " dense_1 (Dense)             (None, 10)                5130      \n",
            "                                                                 \n",
            " activation_5 (Activation)   (None, 10)                0         \n",
            "                                                                 \n",
            "=================================================================\n",
            "Total params: 5,398,442\n",
            "Trainable params: 5,398,442\n",
            "Non-trainable params: 0\n",
            "_________________________________________________________________\n"
          ]
        }
      ]
    },
    {
      "cell_type": "code",
      "source": [
        "# Обучаем модель\n",
        "hist = model.fit(x=X_train,y=y_train, epochs=25,\n",
        "                 batch_size=128, validation_data=(X_test, y_test),\n",
        "                 verbose=1)"
      ],
      "metadata": {
        "colab": {
          "base_uri": "https://localhost:8080/"
        },
        "id": "sEb56UVRcrt-",
        "outputId": "4246afc8-4568-495c-f899-688a49ffd1f8"
      },
      "execution_count": 23,
      "outputs": [
        {
          "output_type": "stream",
          "name": "stdout",
          "text": [
            "Epoch 1/25\n",
            "391/391 [==============================] - 10s 24ms/step - loss: 2.5249 - accuracy: 0.1791 - val_loss: 1.9169 - val_accuracy: 0.3199\n",
            "Epoch 2/25\n",
            "391/391 [==============================] - 9s 24ms/step - loss: 1.9764 - accuracy: 0.2795 - val_loss: 1.7303 - val_accuracy: 0.3945\n",
            "Epoch 3/25\n",
            "391/391 [==============================] - 9s 24ms/step - loss: 1.7485 - accuracy: 0.3639 - val_loss: 1.5453 - val_accuracy: 0.4530\n",
            "Epoch 4/25\n",
            "391/391 [==============================] - 9s 24ms/step - loss: 1.6189 - accuracy: 0.4187 - val_loss: 1.4571 - val_accuracy: 0.4865\n",
            "Epoch 5/25\n",
            "391/391 [==============================] - 9s 23ms/step - loss: 1.5076 - accuracy: 0.4649 - val_loss: 1.3017 - val_accuracy: 0.5514\n",
            "Epoch 6/25\n",
            "391/391 [==============================] - 9s 23ms/step - loss: 1.4247 - accuracy: 0.5001 - val_loss: 1.3328 - val_accuracy: 0.5384\n",
            "Epoch 7/25\n",
            "391/391 [==============================] - 9s 23ms/step - loss: 1.3423 - accuracy: 0.5286 - val_loss: 1.2324 - val_accuracy: 0.5720\n",
            "Epoch 8/25\n",
            "391/391 [==============================] - 9s 23ms/step - loss: 1.2804 - accuracy: 0.5515 - val_loss: 1.2045 - val_accuracy: 0.5767\n",
            "Epoch 9/25\n",
            "391/391 [==============================] - 9s 23ms/step - loss: 1.2244 - accuracy: 0.5731 - val_loss: 1.1778 - val_accuracy: 0.5924\n",
            "Epoch 10/25\n",
            "391/391 [==============================] - 9s 23ms/step - loss: 1.1712 - accuracy: 0.5921 - val_loss: 1.0898 - val_accuracy: 0.6217\n",
            "Epoch 11/25\n",
            "391/391 [==============================] - 9s 23ms/step - loss: 1.1283 - accuracy: 0.6077 - val_loss: 1.0161 - val_accuracy: 0.6521\n",
            "Epoch 12/25\n",
            "391/391 [==============================] - 9s 23ms/step - loss: 1.0836 - accuracy: 0.6218 - val_loss: 0.9666 - val_accuracy: 0.6638\n",
            "Epoch 13/25\n",
            "391/391 [==============================] - 9s 23ms/step - loss: 1.0462 - accuracy: 0.6352 - val_loss: 0.9875 - val_accuracy: 0.6570\n",
            "Epoch 14/25\n",
            "391/391 [==============================] - 9s 23ms/step - loss: 1.0169 - accuracy: 0.6480 - val_loss: 0.9270 - val_accuracy: 0.6862\n",
            "Epoch 15/25\n",
            "391/391 [==============================] - 9s 23ms/step - loss: 0.9799 - accuracy: 0.6623 - val_loss: 0.9116 - val_accuracy: 0.6919\n",
            "Epoch 16/25\n",
            "391/391 [==============================] - 9s 23ms/step - loss: 0.9539 - accuracy: 0.6697 - val_loss: 0.9093 - val_accuracy: 0.6826\n",
            "Epoch 17/25\n",
            "391/391 [==============================] - 9s 23ms/step - loss: 0.9237 - accuracy: 0.6816 - val_loss: 0.9062 - val_accuracy: 0.6947\n",
            "Epoch 18/25\n",
            "391/391 [==============================] - 9s 23ms/step - loss: 0.9016 - accuracy: 0.6858 - val_loss: 0.8526 - val_accuracy: 0.7097\n",
            "Epoch 19/25\n",
            "391/391 [==============================] - 9s 23ms/step - loss: 0.8786 - accuracy: 0.6972 - val_loss: 0.8091 - val_accuracy: 0.7217\n",
            "Epoch 20/25\n",
            "391/391 [==============================] - 9s 23ms/step - loss: 0.8552 - accuracy: 0.7046 - val_loss: 0.8175 - val_accuracy: 0.7185\n",
            "Epoch 21/25\n",
            "391/391 [==============================] - 9s 23ms/step - loss: 0.8281 - accuracy: 0.7127 - val_loss: 0.7981 - val_accuracy: 0.7276\n",
            "Epoch 22/25\n",
            "391/391 [==============================] - 9s 23ms/step - loss: 0.8048 - accuracy: 0.7187 - val_loss: 0.8229 - val_accuracy: 0.7162\n",
            "Epoch 23/25\n",
            "391/391 [==============================] - 9s 24ms/step - loss: 0.7911 - accuracy: 0.7241 - val_loss: 0.7806 - val_accuracy: 0.7294\n",
            "Epoch 24/25\n",
            "391/391 [==============================] - 9s 23ms/step - loss: 0.7666 - accuracy: 0.7338 - val_loss: 0.7579 - val_accuracy: 0.7400\n",
            "Epoch 25/25\n",
            "391/391 [==============================] - 9s 23ms/step - loss: 0.7495 - accuracy: 0.7375 - val_loss: 0.7477 - val_accuracy: 0.7431\n"
          ]
        }
      ]
    },
    {
      "cell_type": "code",
      "source": [
        "test_score = model.evaluate(X_test, y_test)\n",
        "print(\"Test loss {:.4f}, accuracy {:.2f}%\".format(test_score[0], test_score[1] * 100))"
      ],
      "metadata": {
        "colab": {
          "base_uri": "https://localhost:8080/"
        },
        "id": "NEPhoboBcyDH",
        "outputId": "3085d903-d007-4ad2-f576-a02d176acd28"
      },
      "execution_count": 25,
      "outputs": [
        {
          "output_type": "stream",
          "name": "stdout",
          "text": [
            "313/313 [==============================] - 1s 4ms/step - loss: 0.7477 - accuracy: 0.7431\n",
            "Test loss 0.7477, accuracy 74.31%\n"
          ]
        }
      ]
    },
    {
      "cell_type": "code",
      "source": [
        "y_pred = model.predict(X_test)\n",
        "plt.plot(y_pred[N][:])\n",
        "plt.show()\n",
        "print(y_pred[N][:])\n",
        "plt.imshow(X_test[N][:,:,0])\n",
        "plt.title(labels[np.argmax(y_test[N,:])])\n",
        "plt.show()"
      ],
      "metadata": {
        "colab": {
          "base_uri": "https://localhost:8080/",
          "height": 580
        },
        "id": "kXCL6lO8e66G",
        "outputId": "069610df-9f7b-46ce-9849-ccef5c60b91b"
      },
      "execution_count": 27,
      "outputs": [
        {
          "output_type": "display_data",
          "data": {
            "image/png": "[encoded data removed]",
            "text/plain": [
              "<Figure size 432x288 with 1 Axes>"
            ]
          },
          "metadata": {
            "needs_background": "light"
          }
        },
        {
          "output_type": "stream",
          "name": "stdout",
          "text": [
            "[3.23014171e-03 6.65425658e-01 1.09528499e-02 1.06438205e-01\n",
            " 1.06520944e-04 1.30475804e-01 1.42710339e-02 1.15657179e-03\n",
            " 3.13299941e-04 6.76300302e-02]\n"
          ]
        },
        {
          "output_type": "display_data",
          "data": {
            "image/png": "[encoded data removed]",
            "text/plain": [
              "<Figure size 432x288 with 1 Axes>"
            ]
          },
          "metadata": {
            "needs_background": "light"
          }
        }
      ]
    },
    {
      "cell_type": "markdown",
      "source": [
        "Вывод:\n",
        "- есть существенные трудности в подборе параметров;\n",
        "- очевидно увеличение количества ядер смогло увеличить качество созданной сети."
      ],
      "metadata": {
        "id": "T6bwiqowfXtU"
      }
    }
  ]
}
