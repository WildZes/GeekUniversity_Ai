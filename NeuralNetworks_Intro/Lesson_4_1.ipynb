{
  "nbformat": 4,
  "nbformat_minor": 0,
  "metadata": {
    "colab": {
      "name": "Lesson_4_1.ipynb",
      "provenance": [],
      "collapsed_sections": [],
      "toc_visible": true
    },
    "kernelspec": {
      "name": "python3",
      "display_name": "Python 3"
    },
    "language_info": {
      "name": "python"
    },
    "accelerator": "GPU"
  },
  "cells": [
    {
      "cell_type": "markdown",
      "source": [
        "# Урок 4. Сверточные нейронные сети\n",
        "## Вариант 1. (простой)"
      ],
      "metadata": {
        "id": "ElD3r1CNgQEK"
      }
    },
    {
      "cell_type": "markdown",
      "source": [
        "## Обучить сверточную нейронную сеть в стиле AlexNet (с падением размера ядра свертки и последовательностью блоков свертка-пулинг (conv-pool)-(conv-pool)-...) на датасете cifar10"
      ],
      "metadata": {
        "id": "SBTxoG01gU9Q"
      }
    },
    {
      "cell_type": "code",
      "execution_count": 1,
      "metadata": {
        "id": "p9VGaJFLSf9Q"
      },
      "outputs": [],
      "source": [
        "import tensorflow as tf\n",
        "from tensorflow.keras.datasets import cifar10\n",
        "from tensorflow.keras.utils import to_categorical\n",
        "from tensorflow.keras.layers import Dense, Dropout, Activation, Flatten\n",
        "from tensorflow.keras.models import Sequential, Model\n",
        "from tensorflow.keras.layers import Conv2D, Input\n",
        "from tensorflow.keras.layers import GlobalMaxPooling2D, MaxPooling2D, AveragePooling2D, GlobalAveragePooling2D\n",
        "from tensorflow.keras.utils import plot_model\n",
        "\n",
        "from keras import models as m\n",
        "\n",
        "import os\n",
        "\n",
        "import matplotlib.pyplot as plt\n",
        "\n",
        "import numpy as np"
      ]
    },
    {
      "cell_type": "code",
      "source": [
        "(X_train, y_train), (X_test, y_test) = cifar10.load_data()\n",
        "print('X_train shape:', X_train.shape)\n",
        "print(X_train.shape[0], 'тренировочные примеры')\n",
        "print(X_test.shape[0], 'тестовые примеры')"
      ],
      "metadata": {
        "colab": {
          "base_uri": "https://localhost:8080/"
        },
        "id": "bkIOzkveSpur",
        "outputId": "869d3cb4-5310-49e2-fff8-ef4c1dbb4eb0"
      },
      "execution_count": 28,
      "outputs": [
        {
          "output_type": "stream",
          "name": "stdout",
          "text": [
            "X_train shape: (50000, 32, 32, 3)\n",
            "50000 тренировочные примеры\n",
            "10000 тестовые примеры\n"
          ]
        }
      ]
    },
    {
      "cell_type": "code",
      "source": [
        "labels = {0: 'airplane', 1: 'automobile', 2: 'bird', 3: 'cat', 4: 'deer',\n",
        "          5: 'dog', 6: 'frog', 7: 'horse', 8: 'ship', 9: 'truck'}"
      ],
      "metadata": {
        "id": "B6DRrCbqSuMX"
      },
      "execution_count": 3,
      "outputs": []
    },
    {
      "cell_type": "code",
      "source": [
        "# преобразование матрицы чисел 0-9 в бинарную матрицу чисел 0-1\n",
        "y_train = to_categorical(y_train, 10)\n",
        "y_test = to_categorical(y_test, 10)"
      ],
      "metadata": {
        "id": "5rN1jA03SxRH"
      },
      "execution_count": 4,
      "outputs": []
    },
    {
      "cell_type": "code",
      "source": [
        "N = 4\n",
        "\n",
        "plt.imshow(X_test[N])\n",
        "plt.title(labels[np.argmax(y_test[N,:])])\n",
        "plt.show()"
      ],
      "metadata": {
        "id": "TSnhvUfiS9Mz",
        "colab": {
          "base_uri": "https://localhost:8080/",
          "height": 281
        },
        "outputId": "e009b526-9c4b-4e33-d831-e14b3d8480b6"
      },
      "execution_count": 29,
      "outputs": [
        {
          "output_type": "display_data",
          "data": {
            "image/png": "[encoded data removed]",
            "text/plain": [
              "<Figure size 432x288 with 1 Axes>"
            ]
          },
          "metadata": {
            "needs_background": "light"
          }
        }
      ]
    },
    {
      "cell_type": "code",
      "source": [
        "# конфигурирование слоев нейросети\n",
        "model = Sequential()\n",
        "\n",
        "# слои нейросети отвественные за свертку и max-pooling\n",
        "model.add(Conv2D(32, (3, 3), padding='same',\n",
        "                 input_shape=X_train.shape[1:]))\n",
        "model.add(Activation('relu'))\n",
        "model.add(Conv2D(32, (3, 3)))\n",
        "model.add(Activation('relu'))\n",
        "model.add(MaxPooling2D(pool_size=(2, 2)))\n",
        "model.add(Dropout( 0.25))\n",
        "\n",
        "model.add(Conv2D(64, (3, 3), padding='same'))\n",
        "model.add(Activation('relu'))\n",
        "model.add(Conv2D(64, (3, 3)))\n",
        "model.add(Activation('relu'))\n",
        "model.add(MaxPooling2D(pool_size=(2, 2)))\n",
        "model.add(Dropout(0.25))\n",
        "\n",
        "# полносвязные слои нейронной сети\n",
        "model.add(Flatten())\n",
        "model.add(Dense(512))\n",
        "model.add(Activation('relu'))\n",
        "model.add(Dropout(0.5))\n",
        "model.add(Dense(10))\n",
        "model.add(Activation('softmax'))\n",
        "\n",
        "model.summary()\n",
        "\n",
        "# компиляция модели\n",
        "model.compile(loss='categorical_crossentropy',\n",
        "              optimizer='SGD',\n",
        "              metrics=['accuracy'])"
      ],
      "metadata": {
        "id": "GytXjAkJTEku",
        "colab": {
          "base_uri": "https://localhost:8080/"
        },
        "outputId": "89f4e93b-3501-46dd-bb94-f43f7ffec729"
      },
      "execution_count": 6,
      "outputs": [
        {
          "output_type": "stream",
          "name": "stdout",
          "text": [
            "Model: \"sequential\"\n",
            "_________________________________________________________________\n",
            " Layer (type)                Output Shape              Param #   \n",
            "=================================================================\n",
            " conv2d (Conv2D)             (None, 32, 32, 32)        896       \n",
            "                                                                 \n",
            " activation (Activation)     (None, 32, 32, 32)        0         \n",
            "                                                                 \n",
            " conv2d_1 (Conv2D)           (None, 30, 30, 32)        9248      \n",
            "                                                                 \n",
            " activation_1 (Activation)   (None, 30, 30, 32)        0         \n",
            "                                                                 \n",
            " max_pooling2d (MaxPooling2D  (None, 15, 15, 32)       0         \n",
            " )                                                               \n",
            "                                                                 \n",
            " dropout (Dropout)           (None, 15, 15, 32)        0         \n",
            "                                                                 \n",
            " conv2d_2 (Conv2D)           (None, 15, 15, 64)        18496     \n",
            "                                                                 \n",
            " activation_2 (Activation)   (None, 15, 15, 64)        0         \n",
            "                                                                 \n",
            " conv2d_3 (Conv2D)           (None, 13, 13, 64)        36928     \n",
            "                                                                 \n",
            " activation_3 (Activation)   (None, 13, 13, 64)        0         \n",
            "                                                                 \n",
            " max_pooling2d_1 (MaxPooling  (None, 6, 6, 64)         0         \n",
            " 2D)                                                             \n",
            "                                                                 \n",
            " dropout_1 (Dropout)         (None, 6, 6, 64)          0         \n",
            "                                                                 \n",
            " flatten (Flatten)           (None, 2304)              0         \n",
            "                                                                 \n",
            " dense (Dense)               (None, 512)               1180160   \n",
            "                                                                 \n",
            " activation_4 (Activation)   (None, 512)               0         \n",
            "                                                                 \n",
            " dropout_2 (Dropout)         (None, 512)               0         \n",
            "                                                                 \n",
            " dense_1 (Dense)             (None, 10)                5130      \n",
            "                                                                 \n",
            " activation_5 (Activation)   (None, 10)                0         \n",
            "                                                                 \n",
            "=================================================================\n",
            "Total params: 1,250,858\n",
            "Trainable params: 1,250,858\n",
            "Non-trainable params: 0\n",
            "_________________________________________________________________\n"
          ]
        }
      ]
    },
    {
      "cell_type": "code",
      "source": [
        "model.save('./sequential_model.h5')"
      ],
      "metadata": {
        "id": "eMV6sZwbp3MH"
      },
      "execution_count": 7,
      "outputs": []
    },
    {
      "cell_type": "code",
      "source": [
        "# Обучаем модель\n",
        "hist = model.fit(x=X_train,y=y_train, epochs=5,\n",
        "                 batch_size=512, validation_data=(X_test, y_test),\n",
        "                 verbose=1)"
      ],
      "metadata": {
        "colab": {
          "base_uri": "https://localhost:8080/"
        },
        "id": "fHnFiaICmpRe",
        "outputId": "4ed951cd-90df-4c85-a749-5381a8888b21"
      },
      "execution_count": 8,
      "outputs": [
        {
          "output_type": "stream",
          "name": "stdout",
          "text": [
            "Epoch 1/5\n",
            "98/98 [==============================] - 7s 39ms/step - loss: 5.4635 - accuracy: 0.1136 - val_loss: 2.3005 - val_accuracy: 0.1057\n",
            "Epoch 2/5\n",
            "98/98 [==============================] - 3s 31ms/step - loss: 2.2802 - accuracy: 0.1321 - val_loss: 2.2619 - val_accuracy: 0.1494\n",
            "Epoch 3/5\n",
            "98/98 [==============================] - 3s 30ms/step - loss: 2.2592 - accuracy: 0.1429 - val_loss: 2.2989 - val_accuracy: 0.1082\n",
            "Epoch 4/5\n",
            "98/98 [==============================] - 3s 30ms/step - loss: 2.2280 - accuracy: 0.1612 - val_loss: 2.1806 - val_accuracy: 0.1809\n",
            "Epoch 5/5\n",
            "98/98 [==============================] - 3s 30ms/step - loss: 2.2047 - accuracy: 0.1739 - val_loss: 2.1658 - val_accuracy: 0.1845\n"
          ]
        }
      ]
    },
    {
      "cell_type": "code",
      "source": [
        "test_score = model.evaluate(X_test, y_test)\n",
        "print(\"Test loss {:.4f}, accuracy {:.2f}%\".format(test_score[0], test_score[1] * 100))"
      ],
      "metadata": {
        "id": "60I0ncobTjma",
        "colab": {
          "base_uri": "https://localhost:8080/"
        },
        "outputId": "3e5cd21c-bc77-408f-e31d-7b88ff72dc01"
      },
      "execution_count": 9,
      "outputs": [
        {
          "output_type": "stream",
          "name": "stdout",
          "text": [
            "313/313 [==============================] - 1s 4ms/step - loss: 2.1658 - accuracy: 0.1845\n",
            "Test loss 2.1658, accuracy 18.45%\n"
          ]
        }
      ]
    },
    {
      "cell_type": "code",
      "source": [
        "y_pred = model.predict(X_test)\n",
        "plt.plot(y_pred[N][:])\n",
        "plt.show()\n",
        "print(y_pred[N][:])\n",
        "plt.imshow(X_test[N][:,:,0])\n",
        "plt.title(labels[np.argmax(y_test[N,:])])\n",
        "plt.show()"
      ],
      "metadata": {
        "colab": {
          "base_uri": "https://localhost:8080/",
          "height": 563
        },
        "id": "yvyAEWzfV_OU",
        "outputId": "dc530a82-29b4-4579-abb0-96efcf27bee3"
      },
      "execution_count": 10,
      "outputs": [
        {
          "output_type": "display_data",
          "data": {
            "image/png": "[encoded data removed]",
            "text/plain": [
              "<Figure size 432x288 with 1 Axes>"
            ]
          },
          "metadata": {
            "needs_background": "light"
          }
        },
        {
          "output_type": "stream",
          "name": "stdout",
          "text": [
            "[0.05613666 0.00705835 0.16575204 0.14056793 0.20791851 0.14096177\n",
            " 0.08975054 0.16997428 0.01969698 0.00218292]\n"
          ]
        },
        {
          "output_type": "display_data",
          "data": {
            "image/png": "[encoded data removed]",
            "text/plain": [
              "<Figure size 432x288 with 1 Axes>"
            ]
          },
          "metadata": {
            "needs_background": "light"
          }
        }
      ]
    },
    {
      "cell_type": "code",
      "source": [
        "model = m.load_model('./sequential_model.h5')\n",
        "hist = model.fit(x=X_train,y=y_train, epochs=25,\n",
        "                 batch_size=128, validation_data=(X_test, y_test),\n",
        "                 verbose=1)"
      ],
      "metadata": {
        "colab": {
          "base_uri": "https://localhost:8080/"
        },
        "id": "0Y3CekclWqPS",
        "outputId": "40e646ca-6331-44d4-cba5-8fa8f30a3581"
      },
      "execution_count": 11,
      "outputs": [
        {
          "output_type": "stream",
          "name": "stdout",
          "text": [
            "Epoch 1/25\n",
            "391/391 [==============================] - 6s 13ms/step - loss: 5.4654 - accuracy: 0.1326 - val_loss: 2.2676 - val_accuracy: 0.1866\n",
            "Epoch 2/25\n",
            "391/391 [==============================] - 5s 12ms/step - loss: 2.2351 - accuracy: 0.1780 - val_loss: 2.2021 - val_accuracy: 0.1841\n",
            "Epoch 3/25\n",
            "391/391 [==============================] - 5s 12ms/step - loss: 2.2473 - accuracy: 0.1559 - val_loss: 2.2518 - val_accuracy: 0.1408\n",
            "Epoch 4/25\n",
            "391/391 [==============================] - 4s 11ms/step - loss: 2.1552 - accuracy: 0.1924 - val_loss: 2.0694 - val_accuracy: 0.2335\n",
            "Epoch 5/25\n",
            "391/391 [==============================] - 5s 12ms/step - loss: 2.0640 - accuracy: 0.2259 - val_loss: 1.9755 - val_accuracy: 0.2713\n",
            "Epoch 6/25\n",
            "391/391 [==============================] - 5s 12ms/step - loss: 1.9660 - accuracy: 0.2645 - val_loss: 1.8463 - val_accuracy: 0.3166\n",
            "Epoch 7/25\n",
            "391/391 [==============================] - 5s 12ms/step - loss: 1.8823 - accuracy: 0.3033 - val_loss: 1.7584 - val_accuracy: 0.3508\n",
            "Epoch 8/25\n",
            "391/391 [==============================] - 5s 12ms/step - loss: 1.8223 - accuracy: 0.3291 - val_loss: 1.7151 - val_accuracy: 0.3753\n",
            "Epoch 9/25\n",
            "391/391 [==============================] - 4s 11ms/step - loss: 1.7766 - accuracy: 0.3444 - val_loss: 1.6577 - val_accuracy: 0.4001\n",
            "Epoch 10/25\n",
            "391/391 [==============================] - 5s 12ms/step - loss: 1.7400 - accuracy: 0.3628 - val_loss: 1.6403 - val_accuracy: 0.4140\n",
            "Epoch 11/25\n",
            "391/391 [==============================] - 5s 12ms/step - loss: 1.7099 - accuracy: 0.3779 - val_loss: 1.7224 - val_accuracy: 0.3814\n",
            "Epoch 12/25\n",
            "391/391 [==============================] - 5s 12ms/step - loss: 1.6810 - accuracy: 0.3886 - val_loss: 1.6112 - val_accuracy: 0.4240\n",
            "Epoch 13/25\n",
            "391/391 [==============================] - 4s 11ms/step - loss: 1.6672 - accuracy: 0.3926 - val_loss: 1.6260 - val_accuracy: 0.4210\n",
            "Epoch 14/25\n",
            "391/391 [==============================] - 5s 12ms/step - loss: 2.5928 - accuracy: 0.1577 - val_loss: 2.3060 - val_accuracy: 0.1010\n",
            "Epoch 15/25\n",
            "391/391 [==============================] - 4s 11ms/step - loss: 2.3005 - accuracy: 0.1102 - val_loss: 2.2457 - val_accuracy: 0.1611\n",
            "Epoch 16/25\n",
            "391/391 [==============================] - 4s 11ms/step - loss: 2.0413 - accuracy: 0.2511 - val_loss: 1.8648 - val_accuracy: 0.3309\n",
            "Epoch 17/25\n",
            "391/391 [==============================] - 5s 12ms/step - loss: 2.0026 - accuracy: 0.2664 - val_loss: 1.8302 - val_accuracy: 0.3435\n",
            "Epoch 18/25\n",
            "391/391 [==============================] - 4s 11ms/step - loss: 1.8647 - accuracy: 0.3177 - val_loss: 1.7023 - val_accuracy: 0.3813\n",
            "Epoch 19/25\n",
            "391/391 [==============================] - 5s 12ms/step - loss: 1.7883 - accuracy: 0.3467 - val_loss: 1.7251 - val_accuracy: 0.3831\n",
            "Epoch 20/25\n",
            "391/391 [==============================] - 5s 12ms/step - loss: 1.7213 - accuracy: 0.3761 - val_loss: 1.5773 - val_accuracy: 0.4321\n",
            "Epoch 21/25\n",
            "391/391 [==============================] - 5s 12ms/step - loss: 1.6672 - accuracy: 0.3957 - val_loss: 1.5456 - val_accuracy: 0.4419\n",
            "Epoch 22/25\n",
            "391/391 [==============================] - 4s 11ms/step - loss: 1.6373 - accuracy: 0.4110 - val_loss: 1.5676 - val_accuracy: 0.4435\n",
            "Epoch 23/25\n",
            "391/391 [==============================] - 5s 12ms/step - loss: 1.6063 - accuracy: 0.4213 - val_loss: 1.5219 - val_accuracy: 0.4563\n",
            "Epoch 24/25\n",
            "391/391 [==============================] - 4s 11ms/step - loss: 1.5798 - accuracy: 0.4331 - val_loss: 1.4320 - val_accuracy: 0.4855\n",
            "Epoch 25/25\n",
            "391/391 [==============================] - 4s 11ms/step - loss: 1.5548 - accuracy: 0.4427 - val_loss: 1.4141 - val_accuracy: 0.5018\n"
          ]
        }
      ]
    },
    {
      "cell_type": "code",
      "source": [
        "test_score = model.evaluate(X_test, y_test)\n",
        "print(\"Test loss {:.4f}, accuracy {:.2f}%\".format(test_score[0], test_score[1] * 100))"
      ],
      "metadata": {
        "id": "_tOl15t2WxXb",
        "colab": {
          "base_uri": "https://localhost:8080/"
        },
        "outputId": "cb389ce2-9941-4574-b8ec-de7f45c95cb3"
      },
      "execution_count": 12,
      "outputs": [
        {
          "output_type": "stream",
          "name": "stdout",
          "text": [
            "313/313 [==============================] - 1s 4ms/step - loss: 1.4141 - accuracy: 0.5018\n",
            "Test loss 1.4141, accuracy 50.18%\n"
          ]
        }
      ]
    },
    {
      "cell_type": "code",
      "source": [
        "y_pred = model.predict(X_test)\n",
        "plt.plot(y_pred[N][:])\n",
        "plt.show()\n",
        "print(y_pred[N][:])\n",
        "plt.imshow(X_test[N][:,:,0])\n",
        "plt.title(labels[np.argmax(y_test[N,:])])\n",
        "plt.show()"
      ],
      "metadata": {
        "id": "ESoMKZPAqpIv",
        "colab": {
          "base_uri": "https://localhost:8080/",
          "height": 563
        },
        "outputId": "5a2189b2-a14d-4e2e-d5d9-509db5985984"
      },
      "execution_count": 13,
      "outputs": [
        {
          "output_type": "display_data",
          "data": {
            "image/png": "[encoded data removed]",
            "text/plain": [
              "<Figure size 432x288 with 1 Axes>"
            ]
          },
          "metadata": {
            "needs_background": "light"
          }
        },
        {
          "output_type": "stream",
          "name": "stdout",
          "text": [
            "[0.00649752 0.00412163 0.10183968 0.21215416 0.18253334 0.15587652\n",
            " 0.2319825  0.09192107 0.00403136 0.00904223]\n"
          ]
        },
        {
          "output_type": "display_data",
          "data": {
            "image/png": "[encoded data removed]",
            "text/plain": [
              "<Figure size 432x288 with 1 Axes>"
            ]
          },
          "metadata": {
            "needs_background": "light"
          }
        }
      ]
    },
    {
      "cell_type": "code",
      "source": [
        "model = m.load_model('./sequential_model.h5')\n",
        "hist = model.fit(x=X_train,y=y_train, epochs=25,\n",
        "                 batch_size=16, validation_data=(X_test, y_test),\n",
        "                 verbose=1)"
      ],
      "metadata": {
        "colab": {
          "base_uri": "https://localhost:8080/"
        },
        "id": "k168fajwFil6",
        "outputId": "fea1f8f9-9f10-4afc-a2c4-ac1a38cfb3e0"
      },
      "execution_count": 14,
      "outputs": [
        {
          "output_type": "stream",
          "name": "stdout",
          "text": [
            "Epoch 1/25\n",
            "3125/3125 [==============================] - 21s 7ms/step - loss: 1795809251902357504.0000 - accuracy: 0.0985 - val_loss: 2.3027 - val_accuracy: 0.1000\n",
            "Epoch 2/25\n",
            "3125/3125 [==============================] - 19s 6ms/step - loss: 2.3028 - accuracy: 0.0979 - val_loss: 2.3027 - val_accuracy: 0.1000\n",
            "Epoch 3/25\n",
            "3125/3125 [==============================] - 20s 6ms/step - loss: 2.3028 - accuracy: 0.0982 - val_loss: 2.3026 - val_accuracy: 0.1000\n",
            "Epoch 4/25\n",
            "3125/3125 [==============================] - 19s 6ms/step - loss: 2.3028 - accuracy: 0.0992 - val_loss: 2.3026 - val_accuracy: 0.1000\n",
            "Epoch 5/25\n",
            "3125/3125 [==============================] - 20s 6ms/step - loss: 2.3028 - accuracy: 0.0992 - val_loss: 2.3026 - val_accuracy: 0.1000\n",
            "Epoch 6/25\n",
            "3125/3125 [==============================] - 21s 7ms/step - loss: 2.3028 - accuracy: 0.0980 - val_loss: 2.3026 - val_accuracy: 0.1000\n",
            "Epoch 7/25\n",
            "3125/3125 [==============================] - 19s 6ms/step - loss: 2.3027 - accuracy: 0.1001 - val_loss: 2.3027 - val_accuracy: 0.1000\n",
            "Epoch 8/25\n",
            "3125/3125 [==============================] - 20s 6ms/step - loss: 2.3028 - accuracy: 0.0974 - val_loss: 2.3027 - val_accuracy: 0.1000\n",
            "Epoch 9/25\n",
            "3125/3125 [==============================] - 20s 6ms/step - loss: 2.3028 - accuracy: 0.0963 - val_loss: 2.3026 - val_accuracy: 0.1000\n",
            "Epoch 10/25\n",
            "3125/3125 [==============================] - 19s 6ms/step - loss: 2.3028 - accuracy: 0.0974 - val_loss: 2.3026 - val_accuracy: 0.1000\n",
            "Epoch 11/25\n",
            "3125/3125 [==============================] - 19s 6ms/step - loss: 2.3028 - accuracy: 0.0975 - val_loss: 2.3026 - val_accuracy: 0.1000\n",
            "Epoch 12/25\n",
            "3125/3125 [==============================] - 19s 6ms/step - loss: 2.3028 - accuracy: 0.0990 - val_loss: 2.3027 - val_accuracy: 0.1000\n",
            "Epoch 13/25\n",
            "3125/3125 [==============================] - 19s 6ms/step - loss: 2.3028 - accuracy: 0.1002 - val_loss: 2.3027 - val_accuracy: 0.1000\n",
            "Epoch 14/25\n",
            "3125/3125 [==============================] - 20s 6ms/step - loss: 2.3028 - accuracy: 0.0972 - val_loss: 2.3026 - val_accuracy: 0.1000\n",
            "Epoch 15/25\n",
            "3125/3125 [==============================] - 20s 7ms/step - loss: 2.3028 - accuracy: 0.0981 - val_loss: 2.3026 - val_accuracy: 0.1000\n",
            "Epoch 16/25\n",
            "3125/3125 [==============================] - 19s 6ms/step - loss: 2.3028 - accuracy: 0.0978 - val_loss: 2.3026 - val_accuracy: 0.1000\n",
            "Epoch 17/25\n",
            "3125/3125 [==============================] - 20s 6ms/step - loss: 2.3028 - accuracy: 0.0980 - val_loss: 2.3026 - val_accuracy: 0.1000\n",
            "Epoch 18/25\n",
            "3125/3125 [==============================] - 19s 6ms/step - loss: 2.3028 - accuracy: 0.0980 - val_loss: 2.3026 - val_accuracy: 0.1000\n",
            "Epoch 19/25\n",
            "3125/3125 [==============================] - 19s 6ms/step - loss: 2.3028 - accuracy: 0.0979 - val_loss: 2.3026 - val_accuracy: 0.1000\n",
            "Epoch 20/25\n",
            "3125/3125 [==============================] - 20s 6ms/step - loss: 2.3028 - accuracy: 0.0984 - val_loss: 2.3027 - val_accuracy: 0.1000\n",
            "Epoch 21/25\n",
            "3125/3125 [==============================] - 19s 6ms/step - loss: 2.3028 - accuracy: 0.0983 - val_loss: 2.3026 - val_accuracy: 0.1000\n",
            "Epoch 22/25\n",
            "3125/3125 [==============================] - 20s 6ms/step - loss: 2.3028 - accuracy: 0.0979 - val_loss: 2.3027 - val_accuracy: 0.1000\n",
            "Epoch 23/25\n",
            "3125/3125 [==============================] - 21s 7ms/step - loss: 2.3028 - accuracy: 0.1000 - val_loss: 2.3026 - val_accuracy: 0.1000\n",
            "Epoch 24/25\n",
            "3125/3125 [==============================] - 19s 6ms/step - loss: 2.3028 - accuracy: 0.0974 - val_loss: 2.3026 - val_accuracy: 0.1000\n",
            "Epoch 25/25\n",
            "3125/3125 [==============================] - 20s 6ms/step - loss: 2.3028 - accuracy: 0.0984 - val_loss: 2.3026 - val_accuracy: 0.1000\n"
          ]
        }
      ]
    },
    {
      "cell_type": "code",
      "source": [
        "test_score = model.evaluate(X_test, y_test)\n",
        "print(\"Test loss {:.4f}, accuracy {:.2f}%\".format(test_score[0], test_score[1] * 100))"
      ],
      "metadata": {
        "colab": {
          "base_uri": "https://localhost:8080/"
        },
        "id": "UyUJ_ZLXFzJq",
        "outputId": "f14be73d-6df6-4339-d02f-b54c9f3ea1d2"
      },
      "execution_count": 15,
      "outputs": [
        {
          "output_type": "stream",
          "name": "stdout",
          "text": [
            "313/313 [==============================] - 2s 6ms/step - loss: 2.3026 - accuracy: 0.1000\n",
            "Test loss 2.3026, accuracy 10.00%\n"
          ]
        }
      ]
    },
    {
      "cell_type": "code",
      "source": [
        "y_pred = model.predict(X_test)\n",
        "plt.plot(y_pred[N][:])\n",
        "plt.show()\n",
        "print(y_pred[N][:])\n",
        "plt.imshow(X_test[N][:,:,0])\n",
        "plt.title(labels[np.argmax(y_test[N,:])])\n",
        "plt.show()"
      ],
      "metadata": {
        "colab": {
          "base_uri": "https://localhost:8080/",
          "height": 563
        },
        "id": "ajV77TPgF0hc",
        "outputId": "96169cb2-e6c8-41a1-d589-52a45f934137"
      },
      "execution_count": 18,
      "outputs": [
        {
          "output_type": "display_data",
          "data": {
            "image/png": "[encoded data removed]",
            "text/plain": [
              "<Figure size 432x288 with 1 Axes>"
            ]
          },
          "metadata": {
            "needs_background": "light"
          }
        },
        {
          "output_type": "stream",
          "name": "stdout",
          "text": [
            "[0.10103722 0.09773471 0.10147738 0.10096356 0.09969581 0.09894285\n",
            " 0.10021517 0.10045305 0.10020273 0.09927756]\n"
          ]
        },
        {
          "output_type": "display_data",
          "data": {
            "image/png": "[encoded data removed]",
            "text/plain": [
              "<Figure size 432x288 with 1 Axes>"
            ]
          },
          "metadata": {
            "needs_background": "light"
          }
        }
      ]
    },
    {
      "cell_type": "code",
      "source": [
        "model = m.load_model('./sequential_model.h5')\n",
        "hist = model.fit(x=X_train,y=y_train, epochs=25,\n",
        "                 batch_size=32, validation_data=(X_test, y_test),\n",
        "                 verbose=1)"
      ],
      "metadata": {
        "colab": {
          "base_uri": "https://localhost:8080/"
        },
        "id": "0vGelfh7Kv6O",
        "outputId": "1b278159-7e35-49ce-d8a3-2193bd39493f"
      },
      "execution_count": 20,
      "outputs": [
        {
          "output_type": "stream",
          "name": "stdout",
          "text": [
            "Epoch 1/25\n",
            "1563/1563 [==============================] - 12s 7ms/step - loss: 31903757802572068750062780416.0000 - accuracy: 0.0974 - val_loss: 2.3026 - val_accuracy: 0.1000\n",
            "Epoch 2/25\n",
            "1563/1563 [==============================] - 11s 7ms/step - loss: 2.3027 - accuracy: 0.0961 - val_loss: 2.3026 - val_accuracy: 0.1000\n",
            "Epoch 3/25\n",
            "1563/1563 [==============================] - 10s 7ms/step - loss: 2.3027 - accuracy: 0.0964 - val_loss: 2.3026 - val_accuracy: 0.1000\n",
            "Epoch 4/25\n",
            "1563/1563 [==============================] - 11s 7ms/step - loss: 2.3027 - accuracy: 0.0974 - val_loss: 2.3026 - val_accuracy: 0.1000\n",
            "Epoch 5/25\n",
            "1563/1563 [==============================] - 11s 7ms/step - loss: 2.3027 - accuracy: 0.0982 - val_loss: 2.3026 - val_accuracy: 0.1000\n",
            "Epoch 6/25\n",
            "1563/1563 [==============================] - 11s 7ms/step - loss: 2.3027 - accuracy: 0.0975 - val_loss: 2.3026 - val_accuracy: 0.1000\n",
            "Epoch 7/25\n",
            "1563/1563 [==============================] - 11s 7ms/step - loss: 2.3027 - accuracy: 0.0985 - val_loss: 2.3026 - val_accuracy: 0.1000\n",
            "Epoch 8/25\n",
            "1563/1563 [==============================] - 11s 7ms/step - loss: 2.3027 - accuracy: 0.0981 - val_loss: 2.3026 - val_accuracy: 0.1000\n",
            "Epoch 9/25\n",
            "1563/1563 [==============================] - 11s 7ms/step - loss: 2.3027 - accuracy: 0.0991 - val_loss: 2.3026 - val_accuracy: 0.1000\n",
            "Epoch 10/25\n",
            "1563/1563 [==============================] - 11s 7ms/step - loss: 2.3027 - accuracy: 0.0976 - val_loss: 2.3026 - val_accuracy: 0.1000\n",
            "Epoch 11/25\n",
            "1563/1563 [==============================] - 11s 7ms/step - loss: 2.3027 - accuracy: 0.0978 - val_loss: 2.3026 - val_accuracy: 0.1000\n",
            "Epoch 12/25\n",
            "1563/1563 [==============================] - 11s 7ms/step - loss: 2.3027 - accuracy: 0.0980 - val_loss: 2.3026 - val_accuracy: 0.1000\n",
            "Epoch 13/25\n",
            "1563/1563 [==============================] - 11s 7ms/step - loss: 2.3027 - accuracy: 0.0984 - val_loss: 2.3026 - val_accuracy: 0.1000\n",
            "Epoch 14/25\n",
            "1563/1563 [==============================] - 10s 7ms/step - loss: 2.3027 - accuracy: 0.0973 - val_loss: 2.3026 - val_accuracy: 0.1000\n",
            "Epoch 15/25\n",
            "1563/1563 [==============================] - 11s 7ms/step - loss: 2.3027 - accuracy: 0.0974 - val_loss: 2.3026 - val_accuracy: 0.1000\n",
            "Epoch 16/25\n",
            "1563/1563 [==============================] - 11s 7ms/step - loss: 2.3027 - accuracy: 0.1000 - val_loss: 2.3026 - val_accuracy: 0.1000\n",
            "Epoch 17/25\n",
            "1563/1563 [==============================] - 11s 7ms/step - loss: 2.3027 - accuracy: 0.0990 - val_loss: 2.3026 - val_accuracy: 0.1000\n",
            "Epoch 18/25\n",
            "1563/1563 [==============================] - 11s 7ms/step - loss: 2.3027 - accuracy: 0.0984 - val_loss: 2.3026 - val_accuracy: 0.1000\n",
            "Epoch 19/25\n",
            "1563/1563 [==============================] - 10s 7ms/step - loss: 2.3027 - accuracy: 0.0973 - val_loss: 2.3026 - val_accuracy: 0.1000\n",
            "Epoch 20/25\n",
            "1563/1563 [==============================] - 11s 7ms/step - loss: 2.3027 - accuracy: 0.0996 - val_loss: 2.3026 - val_accuracy: 0.1000\n",
            "Epoch 21/25\n",
            "1563/1563 [==============================] - 10s 7ms/step - loss: 2.3027 - accuracy: 0.0975 - val_loss: 2.3026 - val_accuracy: 0.1000\n",
            "Epoch 22/25\n",
            "1563/1563 [==============================] - 11s 7ms/step - loss: 2.3027 - accuracy: 0.0978 - val_loss: 2.3026 - val_accuracy: 0.1000\n",
            "Epoch 23/25\n",
            "1563/1563 [==============================] - 11s 7ms/step - loss: 2.3027 - accuracy: 0.0970 - val_loss: 2.3026 - val_accuracy: 0.1000\n",
            "Epoch 24/25\n",
            "1563/1563 [==============================] - 10s 7ms/step - loss: 2.3027 - accuracy: 0.0983 - val_loss: 2.3026 - val_accuracy: 0.1000\n",
            "Epoch 25/25\n",
            "1563/1563 [==============================] - 11s 7ms/step - loss: 2.3027 - accuracy: 0.0988 - val_loss: 2.3026 - val_accuracy: 0.1000\n"
          ]
        }
      ]
    },
    {
      "cell_type": "code",
      "source": [
        "test_score = model.evaluate(X_test, y_test)\n",
        "print(\"Test loss {:.4f}, accuracy {:.2f}%\".format(test_score[0], test_score[1] * 100))"
      ],
      "metadata": {
        "colab": {
          "base_uri": "https://localhost:8080/"
        },
        "id": "iMgduIZQKzMd",
        "outputId": "01ab60c2-e92e-4f5d-88bd-63566ee89af4"
      },
      "execution_count": 21,
      "outputs": [
        {
          "output_type": "stream",
          "name": "stdout",
          "text": [
            "313/313 [==============================] - 1s 4ms/step - loss: 2.3026 - accuracy: 0.1000\n",
            "Test loss 2.3026, accuracy 10.00%\n"
          ]
        }
      ]
    },
    {
      "cell_type": "code",
      "source": [
        "y_pred = model.predict(X_test)\n",
        "plt.plot(y_pred[N][:])\n",
        "plt.show()\n",
        "print(y_pred[N][:])\n",
        "plt.imshow(X_test[N][:,:,0])\n",
        "plt.title(labels[np.argmax(y_test[N,:])])\n",
        "plt.show()"
      ],
      "metadata": {
        "colab": {
          "base_uri": "https://localhost:8080/",
          "height": 563
        },
        "id": "Q0YE1wO7K3Nt",
        "outputId": "d1d53422-300b-41da-9a90-17023b630c7e"
      },
      "execution_count": 22,
      "outputs": [
        {
          "output_type": "display_data",
          "data": {
            "image/png": "[encoded data removed]",
            "text/plain": [
              "<Figure size 432x288 with 1 Axes>"
            ]
          },
          "metadata": {
            "needs_background": "light"
          }
        },
        {
          "output_type": "stream",
          "name": "stdout",
          "text": [
            "[0.09980134 0.10085187 0.09975786 0.09934983 0.10080653 0.09982602\n",
            " 0.10038701 0.10034836 0.09966326 0.09920797]\n"
          ]
        },
        {
          "output_type": "display_data",
          "data": {
            "image/png": "[encoded data removed]",
            "text/plain": [
              "<Figure size 432x288 with 1 Axes>"
            ]
          },
          "metadata": {
            "needs_background": "light"
          }
        }
      ]
    },
    {
      "cell_type": "code",
      "source": [
        "tf.keras.backend.clear_session()\n",
        "# конфигурирование слоев нейросети\n",
        "model = Sequential()\n",
        "\n",
        "# слои нейросети отвественные за свертку и max-pooling\n",
        "model.add(Conv2D(32, (3, 3), padding='same',\n",
        "                 input_shape=X_train.shape[1:]))\n",
        "model.add(Activation('relu'))\n",
        "model.add(Conv2D(32, (3, 3)))\n",
        "model.add(Activation('relu'))\n",
        "model.add(MaxPooling2D(pool_size=(2, 2)))\n",
        "model.add(Dropout( 0.25))\n",
        "\n",
        "model.add(Conv2D(64, (3, 3), padding='same'))\n",
        "model.add(Activation('relu'))\n",
        "model.add(Conv2D(64, (3, 3)))\n",
        "model.add(Activation('relu'))\n",
        "model.add(MaxPooling2D(pool_size=(2, 2)))\n",
        "model.add(Dropout(0.25))\n",
        "\n",
        "# полносвязные слои нейронной сети\n",
        "model.add(Flatten())\n",
        "model.add(Dense(512))\n",
        "model.add(Activation('relu'))\n",
        "model.add(Dropout(0.5))\n",
        "model.add(Dense(10))\n",
        "model.add(Activation('softmax'))\n",
        "\n",
        "model.summary()\n",
        "\n",
        "# компиляция модели\n",
        "model.compile(loss='categorical_crossentropy',\n",
        "              optimizer='SGD',\n",
        "              metrics=['accuracy'])"
      ],
      "metadata": {
        "colab": {
          "base_uri": "https://localhost:8080/"
        },
        "id": "flRL0Zs6Pj2Q",
        "outputId": "ab725c7c-c106-426c-efb4-4895211f0848"
      },
      "execution_count": 46,
      "outputs": [
        {
          "output_type": "stream",
          "name": "stdout",
          "text": [
            "Model: \"sequential\"\n",
            "_________________________________________________________________\n",
            " Layer (type)                Output Shape              Param #   \n",
            "=================================================================\n",
            " conv2d (Conv2D)             (None, 32, 32, 32)        896       \n",
            "                                                                 \n",
            " activation (Activation)     (None, 32, 32, 32)        0         \n",
            "                                                                 \n",
            " conv2d_1 (Conv2D)           (None, 30, 30, 32)        9248      \n",
            "                                                                 \n",
            " activation_1 (Activation)   (None, 30, 30, 32)        0         \n",
            "                                                                 \n",
            " max_pooling2d (MaxPooling2D  (None, 15, 15, 32)       0         \n",
            " )                                                               \n",
            "                                                                 \n",
            " dropout (Dropout)           (None, 15, 15, 32)        0         \n",
            "                                                                 \n",
            " conv2d_2 (Conv2D)           (None, 15, 15, 64)        18496     \n",
            "                                                                 \n",
            " activation_2 (Activation)   (None, 15, 15, 64)        0         \n",
            "                                                                 \n",
            " conv2d_3 (Conv2D)           (None, 13, 13, 64)        36928     \n",
            "                                                                 \n",
            " activation_3 (Activation)   (None, 13, 13, 64)        0         \n",
            "                                                                 \n",
            " max_pooling2d_1 (MaxPooling  (None, 6, 6, 64)         0         \n",
            " 2D)                                                             \n",
            "                                                                 \n",
            " dropout_1 (Dropout)         (None, 6, 6, 64)          0         \n",
            "                                                                 \n",
            " flatten (Flatten)           (None, 2304)              0         \n",
            "                                                                 \n",
            " dense (Dense)               (None, 512)               1180160   \n",
            "                                                                 \n",
            " activation_4 (Activation)   (None, 512)               0         \n",
            "                                                                 \n",
            " dropout_2 (Dropout)         (None, 512)               0         \n",
            "                                                                 \n",
            " dense_1 (Dense)             (None, 10)                5130      \n",
            "                                                                 \n",
            " activation_5 (Activation)   (None, 10)                0         \n",
            "                                                                 \n",
            "=================================================================\n",
            "Total params: 1,250,858\n",
            "Trainable params: 1,250,858\n",
            "Non-trainable params: 0\n",
            "_________________________________________________________________\n"
          ]
        }
      ]
    },
    {
      "cell_type": "code",
      "source": [
        "# Обучаем модель\n",
        "hist = model.fit(x=X_train,y=y_train, epochs=25,\n",
        "                 batch_size=64, validation_data=(X_test, y_test),\n",
        "                 verbose=1)"
      ],
      "metadata": {
        "colab": {
          "base_uri": "https://localhost:8080/"
        },
        "id": "DcvCEhBGPmWD",
        "outputId": "2e700e14-5fdd-484e-98a4-7cc5e2094c5e"
      },
      "execution_count": 47,
      "outputs": [
        {
          "output_type": "stream",
          "name": "stdout",
          "text": [
            "Epoch 1/25\n",
            "782/782 [==============================] - 7s 8ms/step - loss: 4.7441 - accuracy: 0.0966 - val_loss: 2.3026 - val_accuracy: 0.1000\n",
            "Epoch 2/25\n",
            "782/782 [==============================] - 6s 7ms/step - loss: 2.3027 - accuracy: 0.0997 - val_loss: 2.3026 - val_accuracy: 0.1001\n",
            "Epoch 3/25\n",
            "782/782 [==============================] - 6s 7ms/step - loss: 2.3027 - accuracy: 0.0982 - val_loss: 2.3026 - val_accuracy: 0.1002\n",
            "Epoch 4/25\n",
            "782/782 [==============================] - 6s 7ms/step - loss: 2.3026 - accuracy: 0.1006 - val_loss: 2.3026 - val_accuracy: 0.1000\n",
            "Epoch 5/25\n",
            "782/782 [==============================] - 6s 7ms/step - loss: 2.3025 - accuracy: 0.1000 - val_loss: 2.3026 - val_accuracy: 0.1000\n",
            "Epoch 6/25\n",
            "782/782 [==============================] - 6s 7ms/step - loss: 2.3026 - accuracy: 0.1011 - val_loss: 2.3026 - val_accuracy: 0.0999\n",
            "Epoch 7/25\n",
            "782/782 [==============================] - 6s 7ms/step - loss: 2.3026 - accuracy: 0.0986 - val_loss: 2.3026 - val_accuracy: 0.1000\n",
            "Epoch 8/25\n",
            "782/782 [==============================] - 6s 7ms/step - loss: 2.3026 - accuracy: 0.0983 - val_loss: 2.3026 - val_accuracy: 0.1001\n",
            "Epoch 9/25\n",
            "782/782 [==============================] - 6s 7ms/step - loss: 2.3026 - accuracy: 0.0989 - val_loss: 2.3026 - val_accuracy: 0.1002\n",
            "Epoch 10/25\n",
            "782/782 [==============================] - 6s 7ms/step - loss: 2.3026 - accuracy: 0.0998 - val_loss: 2.3026 - val_accuracy: 0.1001\n",
            "Epoch 11/25\n",
            "782/782 [==============================] - 6s 7ms/step - loss: 2.3028 - accuracy: 0.0977 - val_loss: 2.3026 - val_accuracy: 0.1001\n",
            "Epoch 12/25\n",
            "782/782 [==============================] - 6s 7ms/step - loss: 2.3026 - accuracy: 0.0985 - val_loss: 2.3025 - val_accuracy: 0.1003\n",
            "Epoch 13/25\n",
            "782/782 [==============================] - 6s 7ms/step - loss: 2.3026 - accuracy: 0.0980 - val_loss: 2.3026 - val_accuracy: 0.1001\n",
            "Epoch 14/25\n",
            "782/782 [==============================] - 6s 7ms/step - loss: 2.3026 - accuracy: 0.0977 - val_loss: 2.3026 - val_accuracy: 0.1001\n",
            "Epoch 15/25\n",
            "782/782 [==============================] - 6s 7ms/step - loss: 2.3027 - accuracy: 0.0960 - val_loss: 2.3026 - val_accuracy: 0.1001\n",
            "Epoch 16/25\n",
            "782/782 [==============================] - 6s 7ms/step - loss: 2.3026 - accuracy: 0.0977 - val_loss: 2.3026 - val_accuracy: 0.0999\n",
            "Epoch 17/25\n",
            "782/782 [==============================] - 6s 7ms/step - loss: 2.3026 - accuracy: 0.0995 - val_loss: 2.3026 - val_accuracy: 0.0999\n",
            "Epoch 18/25\n",
            "782/782 [==============================] - 6s 7ms/step - loss: 2.3027 - accuracy: 0.0979 - val_loss: 2.3026 - val_accuracy: 0.1000\n",
            "Epoch 19/25\n",
            "782/782 [==============================] - 6s 7ms/step - loss: 2.3026 - accuracy: 0.0984 - val_loss: 2.3026 - val_accuracy: 0.0999\n",
            "Epoch 20/25\n",
            "782/782 [==============================] - 6s 8ms/step - loss: 2.3026 - accuracy: 0.0967 - val_loss: 2.3026 - val_accuracy: 0.0999\n",
            "Epoch 21/25\n",
            "782/782 [==============================] - 6s 8ms/step - loss: 2.3026 - accuracy: 0.1000 - val_loss: 2.3026 - val_accuracy: 0.0999\n",
            "Epoch 22/25\n",
            "782/782 [==============================] - 6s 8ms/step - loss: 2.3025 - accuracy: 0.0991 - val_loss: 2.3025 - val_accuracy: 0.1001\n",
            "Epoch 23/25\n",
            "782/782 [==============================] - 6s 7ms/step - loss: 2.3026 - accuracy: 0.0982 - val_loss: 2.3026 - val_accuracy: 0.1001\n",
            "Epoch 24/25\n",
            "782/782 [==============================] - 6s 8ms/step - loss: 2.3025 - accuracy: 0.0995 - val_loss: 2.3026 - val_accuracy: 0.1001\n",
            "Epoch 25/25\n",
            "782/782 [==============================] - 6s 8ms/step - loss: 2.3026 - accuracy: 0.1003 - val_loss: 2.3026 - val_accuracy: 0.1001\n"
          ]
        }
      ]
    },
    {
      "cell_type": "code",
      "source": [
        "test_score = model.evaluate(X_test, y_test)\n",
        "print(\"Test loss {:.4f}, accuracy {:.2f}%\".format(test_score[0], test_score[1] * 100))"
      ],
      "metadata": {
        "colab": {
          "base_uri": "https://localhost:8080/"
        },
        "id": "m83Ij38uQMZg",
        "outputId": "09433855-2b39-496d-b51d-eaa821161163"
      },
      "execution_count": 33,
      "outputs": [
        {
          "output_type": "stream",
          "name": "stdout",
          "text": [
            "313/313 [==============================] - 2s 4ms/step - loss: 2.3026 - accuracy: 0.1000\n",
            "Test loss 2.3026, accuracy 10.00%\n"
          ]
        }
      ]
    },
    {
      "cell_type": "code",
      "source": [
        "y_pred = model.predict(X_test)\n",
        "plt.plot(y_pred[N][:])\n",
        "plt.show()\n",
        "print(y_pred[N][:])\n",
        "plt.imshow(X_test[N][:,:,0])\n",
        "plt.title(labels[np.argmax(y_test[N,:])])\n",
        "plt.show()"
      ],
      "metadata": {
        "colab": {
          "base_uri": "https://localhost:8080/",
          "height": 563
        },
        "id": "LxXzYkyjPzPF",
        "outputId": "4877e8bd-5685-4539-e5e1-f99858c90bd4"
      },
      "execution_count": 34,
      "outputs": [
        {
          "output_type": "display_data",
          "data": {
            "image/png": "[encoded data removed]",
            "text/plain": [
              "<Figure size 432x288 with 1 Axes>"
            ]
          },
          "metadata": {
            "needs_background": "light"
          }
        },
        {
          "output_type": "stream",
          "name": "stdout",
          "text": [
            "[0.10094208 0.10033513 0.09918138 0.10130101 0.09904338 0.09897925\n",
            " 0.09857552 0.10123222 0.0990606  0.10134937]\n"
          ]
        },
        {
          "output_type": "display_data",
          "data": {
            "image/png": "[encoded data removed]",
            "text/plain": [
              "<Figure size 432x288 with 1 Axes>"
            ]
          },
          "metadata": {
            "needs_background": "light"
          }
        }
      ]
    },
    {
      "cell_type": "markdown",
      "source": [
        "Заметка:\n",
        "- выбирая разные типы процессорных типов (None - насколько понимаю это эквивалент классическому CPU; TPU; GPU), самый быстрый был GPU, хотя работа ведется с тензорами;\n",
        "- есть ощущение, что команда load_model загружает предобученную модель, кроме того tf.keras.backend.clear_session() не избавляет от этого ощущения;\n",
        "- следующий пункт будет выполняться с перезагрузкой данных и использования другой переменной для модели, чтобы избежать эффекта из предыдущего пункта и лучшие, на текущий момент, показатели epochs=25, batch_size=128."
      ],
      "metadata": {
        "id": "80Z1hdcqJnNk"
      }
    },
    {
      "cell_type": "markdown",
      "source": [
        "## Оценить рост точности при увеличении ширины сети (больше ядер)"
      ],
      "metadata": {
        "id": "p_Iw0nk3rHhT"
      }
    },
    {
      "cell_type": "code",
      "source": [
        "(X_train, y_train), (X_test, y_test) = cifar10.load_data()\n",
        "print('X_train shape:', X_train.shape)\n",
        "print(X_train.shape[0], 'тренировочные примеры')\n",
        "print(X_test.shape[0], 'тестовые примеры')"
      ],
      "metadata": {
        "colab": {
          "base_uri": "https://localhost:8080/"
        },
        "id": "-xomN36wS11J",
        "outputId": "36fe1dbb-aa17-4b30-bc0e-02c2ba2a5558"
      },
      "execution_count": 48,
      "outputs": [
        {
          "output_type": "stream",
          "name": "stdout",
          "text": [
            "X_train shape: (50000, 32, 32, 3)\n",
            "50000 тренировочные примеры\n",
            "10000 тестовые примеры\n"
          ]
        }
      ]
    },
    {
      "cell_type": "code",
      "source": [
        "# преобразование матрицы чисел 0-9 в бинарную матрицу чисел 0-1\n",
        "y_train = to_categorical(y_train, 10)\n",
        "y_test = to_categorical(y_test, 10)"
      ],
      "metadata": {
        "id": "lo0_t_QYS3Ow"
      },
      "execution_count": 49,
      "outputs": []
    },
    {
      "cell_type": "code",
      "source": [
        "N = 6\n",
        "\n",
        "plt.imshow(X_test[N])\n",
        "plt.title(labels[np.argmax(y_test[N,:])])\n",
        "plt.show()"
      ],
      "metadata": {
        "colab": {
          "base_uri": "https://localhost:8080/",
          "height": 281
        },
        "id": "7GXVDqN4S8aI",
        "outputId": "73f8c652-61e4-4ba4-d1f7-7d3d0869a3a7"
      },
      "execution_count": 50,
      "outputs": [
        {
          "output_type": "display_data",
          "data": {
            "image/png": "[encoded data removed]",
            "text/plain": [
              "<Figure size 432x288 with 1 Axes>"
            ]
          },
          "metadata": {
            "needs_background": "light"
          }
        }
      ]
    },
    {
      "cell_type": "code",
      "source": [
        "# конфигурирование слоев нейросети\n",
        "model2 = Sequential()\n",
        "\n",
        "# слои нейросети отвественные за свертку и max-pooling\n",
        "model2.add(Conv2D(32, (3, 3), padding='same', input_shape=X_train.shape[1:]))\n",
        "model2.add(Activation('relu')) # активацию можно прописывать как в самом слое, так и отдельно\n",
        "model2.add(Conv2D(64, (3, 3)))\n",
        "model2.add(Activation('relu'))\n",
        "model2.add(MaxPooling2D(pool_size=(2, 2)))\n",
        "model2.add(Dropout(0.25))\n",
        "\n",
        "\n",
        "model2.add(Conv2D(128, (3, 3), padding='same'))\n",
        "model2.add(Activation('relu'))\n",
        "model2.add(Conv2D(128, (3, 3)))\n",
        "model2.add(Activation('relu'))\n",
        "model2.add(MaxPooling2D(pool_size=(2, 2)))\n",
        "model2.add(Dropout(0.25))\n",
        "\n",
        "# полносвязные слои нейронной сети\n",
        "# сглаживание CNN выхода чтобы можно было его присоединить к полносвязногому слою\n",
        "model2.add(Flatten()) \n",
        "# полносвязный слой\n",
        "model2.add(Dense(512))\n",
        "model2.add(Activation('relu'))\n",
        "model2.add(Dropout(0.5))\n",
        "model2.add(Dense(10))\n",
        "# выходной слой с функцией активации softmax\n",
        "model2.add(Activation('softmax'))\n",
        "\n",
        "model2.summary()\n",
        "\n",
        "# компиляция модели\n",
        "model2.compile(loss='categorical_crossentropy',\n",
        "              optimizer='SGD',\n",
        "              metrics=['accuracy'])"
      ],
      "metadata": {
        "id": "rvTVlH1Qz1tC",
        "colab": {
          "base_uri": "https://localhost:8080/"
        },
        "outputId": "9ec4c2b3-c53f-4647-c5f8-38f114e10054"
      },
      "execution_count": 51,
      "outputs": [
        {
          "output_type": "stream",
          "name": "stdout",
          "text": [
            "Model: \"sequential_1\"\n",
            "_________________________________________________________________\n",
            " Layer (type)                Output Shape              Param #   \n",
            "=================================================================\n",
            " conv2d_4 (Conv2D)           (None, 32, 32, 32)        896       \n",
            "                                                                 \n",
            " activation_6 (Activation)   (None, 32, 32, 32)        0         \n",
            "                                                                 \n",
            " conv2d_5 (Conv2D)           (None, 30, 30, 64)        18496     \n",
            "                                                                 \n",
            " activation_7 (Activation)   (None, 30, 30, 64)        0         \n",
            "                                                                 \n",
            " max_pooling2d_2 (MaxPooling  (None, 15, 15, 64)       0         \n",
            " 2D)                                                             \n",
            "                                                                 \n",
            " dropout_3 (Dropout)         (None, 15, 15, 64)        0         \n",
            "                                                                 \n",
            " conv2d_6 (Conv2D)           (None, 15, 15, 128)       73856     \n",
            "                                                                 \n",
            " activation_8 (Activation)   (None, 15, 15, 128)       0         \n",
            "                                                                 \n",
            " conv2d_7 (Conv2D)           (None, 13, 13, 128)       147584    \n",
            "                                                                 \n",
            " activation_9 (Activation)   (None, 13, 13, 128)       0         \n",
            "                                                                 \n",
            " max_pooling2d_3 (MaxPooling  (None, 6, 6, 128)        0         \n",
            " 2D)                                                             \n",
            "                                                                 \n",
            " dropout_4 (Dropout)         (None, 6, 6, 128)         0         \n",
            "                                                                 \n",
            " flatten_1 (Flatten)         (None, 4608)              0         \n",
            "                                                                 \n",
            " dense_2 (Dense)             (None, 512)               2359808   \n",
            "                                                                 \n",
            " activation_10 (Activation)  (None, 512)               0         \n",
            "                                                                 \n",
            " dropout_5 (Dropout)         (None, 512)               0         \n",
            "                                                                 \n",
            " dense_3 (Dense)             (None, 10)                5130      \n",
            "                                                                 \n",
            " activation_11 (Activation)  (None, 10)                0         \n",
            "                                                                 \n",
            "=================================================================\n",
            "Total params: 2,605,770\n",
            "Trainable params: 2,605,770\n",
            "Non-trainable params: 0\n",
            "_________________________________________________________________\n"
          ]
        }
      ]
    },
    {
      "cell_type": "code",
      "source": [
        "model2.save('./sequential_morekernels_model.h5')"
      ],
      "metadata": {
        "id": "2aoKPY-OMA5E"
      },
      "execution_count": 52,
      "outputs": []
    },
    {
      "cell_type": "code",
      "source": [
        "# Обучаем модель\n",
        "hist = model2.fit(x=X_train,y=y_train, epochs=25,\n",
        "                 batch_size=128, validation_data=(X_test, y_test),\n",
        "                 verbose=1)"
      ],
      "metadata": {
        "colab": {
          "base_uri": "https://localhost:8080/"
        },
        "id": "bf7ZemCKTtkm",
        "outputId": "15d3f452-09f3-459f-804e-1cee1a5e6eb1"
      },
      "execution_count": 53,
      "outputs": [
        {
          "output_type": "stream",
          "name": "stdout",
          "text": [
            "Epoch 1/25\n",
            "391/391 [==============================] - 8s 18ms/step - loss: nan - accuracy: 0.0998 - val_loss: nan - val_accuracy: 0.1000\n",
            "Epoch 2/25\n",
            "391/391 [==============================] - 7s 17ms/step - loss: nan - accuracy: 0.1000 - val_loss: nan - val_accuracy: 0.1000\n",
            "Epoch 3/25\n",
            "391/391 [==============================] - 7s 17ms/step - loss: nan - accuracy: 0.1000 - val_loss: nan - val_accuracy: 0.1000\n",
            "Epoch 4/25\n",
            "391/391 [==============================] - 7s 17ms/step - loss: nan - accuracy: 0.1000 - val_loss: nan - val_accuracy: 0.1000\n",
            "Epoch 5/25\n",
            "391/391 [==============================] - 7s 17ms/step - loss: nan - accuracy: 0.1000 - val_loss: nan - val_accuracy: 0.1000\n",
            "Epoch 6/25\n",
            "391/391 [==============================] - 7s 17ms/step - loss: nan - accuracy: 0.1000 - val_loss: nan - val_accuracy: 0.1000\n",
            "Epoch 7/25\n",
            "391/391 [==============================] - 7s 17ms/step - loss: nan - accuracy: 0.1000 - val_loss: nan - val_accuracy: 0.1000\n",
            "Epoch 8/25\n",
            "391/391 [==============================] - 7s 17ms/step - loss: nan - accuracy: 0.1000 - val_loss: nan - val_accuracy: 0.1000\n",
            "Epoch 9/25\n",
            "391/391 [==============================] - 7s 17ms/step - loss: nan - accuracy: 0.1000 - val_loss: nan - val_accuracy: 0.1000\n",
            "Epoch 10/25\n",
            "391/391 [==============================] - 7s 17ms/step - loss: nan - accuracy: 0.1000 - val_loss: nan - val_accuracy: 0.1000\n",
            "Epoch 11/25\n",
            "391/391 [==============================] - 7s 17ms/step - loss: nan - accuracy: 0.1000 - val_loss: nan - val_accuracy: 0.1000\n",
            "Epoch 12/25\n",
            "391/391 [==============================] - 7s 17ms/step - loss: nan - accuracy: 0.1000 - val_loss: nan - val_accuracy: 0.1000\n",
            "Epoch 13/25\n",
            "391/391 [==============================] - 7s 17ms/step - loss: nan - accuracy: 0.1000 - val_loss: nan - val_accuracy: 0.1000\n",
            "Epoch 14/25\n",
            "391/391 [==============================] - 7s 17ms/step - loss: nan - accuracy: 0.1000 - val_loss: nan - val_accuracy: 0.1000\n",
            "Epoch 15/25\n",
            "391/391 [==============================] - 7s 17ms/step - loss: nan - accuracy: 0.1000 - val_loss: nan - val_accuracy: 0.1000\n",
            "Epoch 16/25\n",
            "391/391 [==============================] - 7s 17ms/step - loss: nan - accuracy: 0.1000 - val_loss: nan - val_accuracy: 0.1000\n",
            "Epoch 17/25\n",
            "391/391 [==============================] - 7s 17ms/step - loss: nan - accuracy: 0.1000 - val_loss: nan - val_accuracy: 0.1000\n",
            "Epoch 18/25\n",
            "391/391 [==============================] - 7s 17ms/step - loss: nan - accuracy: 0.1000 - val_loss: nan - val_accuracy: 0.1000\n",
            "Epoch 19/25\n",
            "391/391 [==============================] - 7s 17ms/step - loss: nan - accuracy: 0.1000 - val_loss: nan - val_accuracy: 0.1000\n",
            "Epoch 20/25\n",
            "391/391 [==============================] - 7s 17ms/step - loss: nan - accuracy: 0.1000 - val_loss: nan - val_accuracy: 0.1000\n",
            "Epoch 21/25\n",
            "391/391 [==============================] - 7s 17ms/step - loss: nan - accuracy: 0.1000 - val_loss: nan - val_accuracy: 0.1000\n",
            "Epoch 22/25\n",
            "391/391 [==============================] - 7s 17ms/step - loss: nan - accuracy: 0.1000 - val_loss: nan - val_accuracy: 0.1000\n",
            "Epoch 23/25\n",
            "391/391 [==============================] - 7s 17ms/step - loss: nan - accuracy: 0.1000 - val_loss: nan - val_accuracy: 0.1000\n",
            "Epoch 24/25\n",
            "391/391 [==============================] - 7s 17ms/step - loss: nan - accuracy: 0.1000 - val_loss: nan - val_accuracy: 0.1000\n",
            "Epoch 25/25\n",
            "391/391 [==============================] - 7s 17ms/step - loss: nan - accuracy: 0.1000 - val_loss: nan - val_accuracy: 0.1000\n"
          ]
        }
      ]
    },
    {
      "cell_type": "code",
      "source": [
        "test_score = model2.evaluate(X_test, y_test)\n",
        "print(\"Test loss {:.4f}, accuracy {:.2f}%\".format(test_score[0], test_score[1] * 100))"
      ],
      "metadata": {
        "colab": {
          "base_uri": "https://localhost:8080/"
        },
        "id": "XmwF0H6bFFIM",
        "outputId": "26bc0972-4654-4975-8ee1-b0ced09b47a1"
      },
      "execution_count": 54,
      "outputs": [
        {
          "output_type": "stream",
          "name": "stdout",
          "text": [
            "313/313 [==============================] - 1s 4ms/step - loss: nan - accuracy: 0.1000\n",
            "Test loss nan, accuracy 10.00%\n"
          ]
        }
      ]
    },
    {
      "cell_type": "code",
      "source": [
        "y_pred = model2.predict(X_test)\n",
        "plt.plot(y_pred[N][:])\n",
        "plt.show()\n",
        "print(y_pred[N][:])\n",
        "plt.imshow(X_test[N][:,:,0])\n",
        "plt.title(labels[np.argmax(y_test[N,:])])\n",
        "plt.show()"
      ],
      "metadata": {
        "colab": {
          "base_uri": "https://localhost:8080/",
          "height": 546
        },
        "id": "r9RLr16bFH6S",
        "outputId": "86ecf4fa-344c-47d0-bce1-e1dbb20d1870"
      },
      "execution_count": 56,
      "outputs": [
        {
          "output_type": "display_data",
          "data": {
            "image/png": "[encoded data removed]",
            "text/plain": [
              "<Figure size 432x288 with 1 Axes>"
            ]
          },
          "metadata": {
            "needs_background": "light"
          }
        },
        {
          "output_type": "stream",
          "name": "stdout",
          "text": [
            "[nan nan nan nan nan nan nan nan nan nan]\n"
          ]
        },
        {
          "output_type": "display_data",
          "data": {
            "image/png": "[encoded data removed]",
            "text/plain": [
              "<Figure size 432x288 with 1 Axes>"
            ]
          },
          "metadata": {
            "needs_background": "light"
          }
        }
      ]
    },
    {
      "cell_type": "markdown",
      "source": [
        "Заметка: поскольку присвоение новой переменной model2 и перезагрузка не дала желаемого результата, более того, в процессе тренироуки модели loss был nan на протяжении всей тренировки, принял решение проводить следующие пункты в отдельных файлах.\n",
        "\n"
      ],
      "metadata": {
        "id": "zvohAzaFVvx-"
      }
    }
  ]
}
