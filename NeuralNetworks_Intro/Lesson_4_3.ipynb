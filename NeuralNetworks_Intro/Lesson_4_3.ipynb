{
  "nbformat": 4,
  "nbformat_minor": 0,
  "metadata": {
    "colab": {
      "name": "Lesson_4_3.ipynb",
      "provenance": [],
      "collapsed_sections": []
    },
    "kernelspec": {
      "name": "python3",
      "display_name": "Python 3"
    },
    "language_info": {
      "name": "python"
    },
    "accelerator": "GPU"
  },
  "cells": [
    {
      "cell_type": "markdown",
      "source": [
        "# Урок 4. Сверточные нейронные сети\n",
        "## Вариант 1. (простой)"
      ],
      "metadata": {
        "id": "03VvEqQNXzpg"
      }
    },
    {
      "cell_type": "markdown",
      "source": [
        "## Оценить рост точности при увеличении глубины сети (больше слоев)"
      ],
      "metadata": {
        "id": "oTNJv869X2Ac"
      }
    },
    {
      "cell_type": "code",
      "source": [
        "import tensorflow as tf\n",
        "from tensorflow.keras.datasets import cifar10\n",
        "from tensorflow.keras.utils import to_categorical\n",
        "from tensorflow.keras.layers import Dense, Dropout, Activation, Flatten\n",
        "from tensorflow.keras.models import Sequential, Model\n",
        "from tensorflow.keras.layers import Conv2D, Input\n",
        "from tensorflow.keras.layers import GlobalMaxPooling2D, MaxPooling2D, AveragePooling2D, GlobalAveragePooling2D\n",
        "from tensorflow.keras.utils import plot_model\n",
        "\n",
        "from keras import models as m\n",
        "\n",
        "import os\n",
        "\n",
        "import matplotlib.pyplot as plt\n",
        "\n",
        "import numpy as np"
      ],
      "metadata": {
        "id": "PtGx0MLuYJEu"
      },
      "execution_count": 1,
      "outputs": []
    },
    {
      "cell_type": "code",
      "source": [
        "(X_train, y_train), (X_test, y_test) = cifar10.load_data()\n",
        "print('X_train shape:', X_train.shape)\n",
        "print(X_train.shape[0], 'тренировочные примеры')\n",
        "print(X_test.shape[0], 'тестовые примеры')"
      ],
      "metadata": {
        "colab": {
          "base_uri": "https://localhost:8080/"
        },
        "id": "mJN3L_oAYM09",
        "outputId": "dcf57033-693f-4667-eb01-0dc795f10e74"
      },
      "execution_count": 2,
      "outputs": [
        {
          "output_type": "stream",
          "name": "stdout",
          "text": [
            "Downloading data from https://www.cs.toronto.edu/~kriz/cifar-10-python.tar.gz\n",
            "170500096/170498071 [==============================] - 6s 0us/step\n",
            "170508288/170498071 [==============================] - 6s 0us/step\n",
            "X_train shape: (50000, 32, 32, 3)\n",
            "50000 тренировочные примеры\n",
            "10000 тестовые примеры\n"
          ]
        }
      ]
    },
    {
      "cell_type": "code",
      "source": [
        "labels = {0: 'airplane', 1: 'automobile', 2: 'bird', 3: 'cat', 4: 'deer',\n",
        "          5: 'dog', 6: 'frog', 7: 'horse', 8: 'ship', 9: 'truck'}"
      ],
      "metadata": {
        "id": "rZITE5QlYRuV"
      },
      "execution_count": 3,
      "outputs": []
    },
    {
      "cell_type": "code",
      "source": [
        "# преобразование матрицы чисел 0-9 в бинарную матрицу чисел 0-1\n",
        "y_train = to_categorical(y_train, 10)\n",
        "y_test = to_categorical(y_test, 10)"
      ],
      "metadata": {
        "id": "fYtk9maCYUnW"
      },
      "execution_count": 4,
      "outputs": []
    },
    {
      "cell_type": "code",
      "source": [
        "N = 12\n",
        "\n",
        "plt.imshow(X_test[N])\n",
        "plt.title(labels[np.argmax(y_test[N,:])])\n",
        "plt.show()"
      ],
      "metadata": {
        "colab": {
          "base_uri": "https://localhost:8080/",
          "height": 281
        },
        "id": "mE0HhfbRYZAP",
        "outputId": "919c86b3-b806-4357-8e54-1ddf989a8131"
      },
      "execution_count": 10,
      "outputs": [
        {
          "output_type": "display_data",
          "data": {
            "image/png": "[encoded data removed]",
            "text/plain": [
              "<Figure size 432x288 with 1 Axes>"
            ]
          },
          "metadata": {
            "needs_background": "light"
          }
        }
      ]
    },
    {
      "cell_type": "code",
      "execution_count": 13,
      "metadata": {
        "colab": {
          "base_uri": "https://localhost:8080/"
        },
        "id": "JXji9P_xXovM",
        "outputId": "9d0a7e40-ec87-41e1-9d26-3d77a592e97b"
      },
      "outputs": [
        {
          "output_type": "stream",
          "name": "stdout",
          "text": [
            "Model: \"sequential_2\"\n",
            "_________________________________________________________________\n",
            " Layer (type)                Output Shape              Param #   \n",
            "=================================================================\n",
            " conv2d_10 (Conv2D)          (None, 32, 32, 32)        896       \n",
            "                                                                 \n",
            " activation_14 (Activation)  (None, 32, 32, 32)        0         \n",
            "                                                                 \n",
            " conv2d_11 (Conv2D)          (None, 30, 30, 32)        9248      \n",
            "                                                                 \n",
            " activation_15 (Activation)  (None, 30, 30, 32)        0         \n",
            "                                                                 \n",
            " max_pooling2d_5 (MaxPooling  (None, 15, 15, 32)       0         \n",
            " 2D)                                                             \n",
            "                                                                 \n",
            " dropout_7 (Dropout)         (None, 15, 15, 32)        0         \n",
            "                                                                 \n",
            " conv2d_12 (Conv2D)          (None, 15, 15, 256)       73984     \n",
            "                                                                 \n",
            " activation_16 (Activation)  (None, 15, 15, 256)       0         \n",
            "                                                                 \n",
            " conv2d_13 (Conv2D)          (None, 13, 13, 256)       590080    \n",
            "                                                                 \n",
            " activation_17 (Activation)  (None, 13, 13, 256)       0         \n",
            "                                                                 \n",
            " max_pooling2d_6 (MaxPooling  (None, 6, 6, 256)        0         \n",
            " 2D)                                                             \n",
            "                                                                 \n",
            " dropout_8 (Dropout)         (None, 6, 6, 256)         0         \n",
            "                                                                 \n",
            " conv2d_14 (Conv2D)          (None, 6, 6, 64)          147520    \n",
            "                                                                 \n",
            " activation_18 (Activation)  (None, 6, 6, 64)          0         \n",
            "                                                                 \n",
            " conv2d_15 (Conv2D)          (None, 4, 4, 64)          36928     \n",
            "                                                                 \n",
            " activation_19 (Activation)  (None, 4, 4, 64)          0         \n",
            "                                                                 \n",
            " max_pooling2d_7 (MaxPooling  (None, 2, 2, 64)         0         \n",
            " 2D)                                                             \n",
            "                                                                 \n",
            " dropout_9 (Dropout)         (None, 2, 2, 64)          0         \n",
            "                                                                 \n",
            " flatten_2 (Flatten)         (None, 256)               0         \n",
            "                                                                 \n",
            " dense_4 (Dense)             (None, 512)               131584    \n",
            "                                                                 \n",
            " activation_20 (Activation)  (None, 512)               0         \n",
            "                                                                 \n",
            " dropout_10 (Dropout)        (None, 512)               0         \n",
            "                                                                 \n",
            " dense_5 (Dense)             (None, 10)                5130      \n",
            "                                                                 \n",
            " activation_21 (Activation)  (None, 10)                0         \n",
            "                                                                 \n",
            "=================================================================\n",
            "Total params: 995,370\n",
            "Trainable params: 995,370\n",
            "Non-trainable params: 0\n",
            "_________________________________________________________________\n"
          ]
        }
      ],
      "source": [
        "# конфигурирование слоев нейросети\n",
        "model = Sequential()\n",
        "\n",
        "# слои нейросети отвественные за свертку и max-pooling\n",
        "model.add(Conv2D(32, (3, 3), padding='same',\n",
        "                 input_shape=X_train.shape[1:]))\n",
        "model.add(Activation('relu'))\n",
        "model.add(Conv2D(32, (3, 3)))\n",
        "model.add(Activation('relu'))\n",
        "model.add(MaxPooling2D(pool_size=(2, 2)))\n",
        "model.add(Dropout( 0.25))\n",
        "\n",
        "model.add(Conv2D(256, (3, 3), padding='same'))\n",
        "model.add(Activation('relu'))\n",
        "model.add(Conv2D(256, (3, 3)))\n",
        "model.add(Activation('relu'))\n",
        "model.add(MaxPooling2D(pool_size=(2, 2)))\n",
        "model.add(Dropout(0.25))\n",
        "\n",
        "# больше слоёв конволюций-пуллингов\n",
        "model.add(Conv2D(64, (3, 3), padding='same'))\n",
        "model.add(Activation('relu'))\n",
        "model.add(Conv2D(64, (3, 3)))\n",
        "model.add(Activation('relu'))\n",
        "model.add(MaxPooling2D(pool_size=(2, 2)))\n",
        "model.add(Dropout(0.25))\n",
        "\n",
        "# полносвязные слои нейронной сети\n",
        "model.add(Flatten())\n",
        "model.add(Dense(512))\n",
        "model.add(Activation('relu'))\n",
        "model.add(Dropout(0.5))\n",
        "model.add(Dense(10))\n",
        "model.add(Activation('softmax'))\n",
        "\n",
        "model.summary()\n",
        "\n",
        "# компиляция модели\n",
        "model.compile(loss='categorical_crossentropy',\n",
        "              optimizer='SGD',\n",
        "              metrics=['accuracy'])"
      ]
    },
    {
      "cell_type": "code",
      "source": [
        "# Обучаем модель\n",
        "hist = model.fit(x=X_train,y=y_train, epochs=25,\n",
        "                 batch_size=128, validation_data=(X_test, y_test),\n",
        "                 verbose=1)"
      ],
      "metadata": {
        "colab": {
          "base_uri": "https://localhost:8080/"
        },
        "id": "fLnax5d2YEIG",
        "outputId": "9d60354b-58d8-477b-99d6-e22b3f3e7656"
      },
      "execution_count": 14,
      "outputs": [
        {
          "output_type": "stream",
          "name": "stdout",
          "text": [
            "Epoch 1/25\n",
            "391/391 [==============================] - 21s 25ms/step - loss: 2.3637 - accuracy: 0.1258 - val_loss: 2.3033 - val_accuracy: 0.1047\n",
            "Epoch 2/25\n",
            "391/391 [==============================] - 9s 23ms/step - loss: 2.1801 - accuracy: 0.1834 - val_loss: 2.0458 - val_accuracy: 0.2677\n",
            "Epoch 3/25\n",
            "391/391 [==============================] - 9s 23ms/step - loss: 1.9815 - accuracy: 0.2643 - val_loss: 1.8188 - val_accuracy: 0.3583\n",
            "Epoch 4/25\n",
            "391/391 [==============================] - 9s 23ms/step - loss: 1.8273 - accuracy: 0.3233 - val_loss: 1.6450 - val_accuracy: 0.4205\n",
            "Epoch 5/25\n",
            "391/391 [==============================] - 9s 23ms/step - loss: 1.7134 - accuracy: 0.3703 - val_loss: 1.6511 - val_accuracy: 0.4163\n",
            "Epoch 6/25\n",
            "391/391 [==============================] - 9s 23ms/step - loss: 1.6340 - accuracy: 0.4072 - val_loss: 1.4597 - val_accuracy: 0.4768\n",
            "Epoch 7/25\n",
            "391/391 [==============================] - 9s 23ms/step - loss: 1.5260 - accuracy: 0.4511 - val_loss: 1.5962 - val_accuracy: 0.4299\n",
            "Epoch 8/25\n",
            "391/391 [==============================] - 9s 23ms/step - loss: 1.4576 - accuracy: 0.4806 - val_loss: 1.3837 - val_accuracy: 0.5155\n",
            "Epoch 9/25\n",
            "391/391 [==============================] - 9s 23ms/step - loss: 1.3796 - accuracy: 0.5079 - val_loss: 1.4276 - val_accuracy: 0.5175\n",
            "Epoch 10/25\n",
            "391/391 [==============================] - 9s 23ms/step - loss: 1.3281 - accuracy: 0.5292 - val_loss: 1.1936 - val_accuracy: 0.5840\n",
            "Epoch 11/25\n",
            "391/391 [==============================] - 9s 23ms/step - loss: 1.2775 - accuracy: 0.5489 - val_loss: 1.1414 - val_accuracy: 0.5997\n",
            "Epoch 12/25\n",
            "391/391 [==============================] - 9s 23ms/step - loss: 1.2173 - accuracy: 0.5708 - val_loss: 1.1096 - val_accuracy: 0.6055\n",
            "Epoch 13/25\n",
            "391/391 [==============================] - 9s 23ms/step - loss: 1.1753 - accuracy: 0.5837 - val_loss: 1.2087 - val_accuracy: 0.5896\n",
            "Epoch 14/25\n",
            "391/391 [==============================] - 9s 23ms/step - loss: 1.1370 - accuracy: 0.6033 - val_loss: 1.1291 - val_accuracy: 0.6101\n",
            "Epoch 15/25\n",
            "391/391 [==============================] - 9s 23ms/step - loss: 1.1004 - accuracy: 0.6168 - val_loss: 0.9796 - val_accuracy: 0.6664\n",
            "Epoch 16/25\n",
            "391/391 [==============================] - 9s 23ms/step - loss: 1.0598 - accuracy: 0.6305 - val_loss: 0.9569 - val_accuracy: 0.6644\n",
            "Epoch 17/25\n",
            "391/391 [==============================] - 9s 23ms/step - loss: 1.0276 - accuracy: 0.6398 - val_loss: 0.9907 - val_accuracy: 0.6518\n",
            "Epoch 18/25\n",
            "391/391 [==============================] - 9s 23ms/step - loss: 0.9944 - accuracy: 0.6560 - val_loss: 0.8842 - val_accuracy: 0.6922\n",
            "Epoch 19/25\n",
            "391/391 [==============================] - 9s 24ms/step - loss: 0.9604 - accuracy: 0.6694 - val_loss: 0.9326 - val_accuracy: 0.6785\n",
            "Epoch 20/25\n",
            "391/391 [==============================] - 9s 24ms/step - loss: 0.9417 - accuracy: 0.6754 - val_loss: 0.8754 - val_accuracy: 0.6957\n",
            "Epoch 21/25\n",
            "391/391 [==============================] - 9s 24ms/step - loss: 0.9084 - accuracy: 0.6873 - val_loss: 0.8477 - val_accuracy: 0.7115\n",
            "Epoch 22/25\n",
            "391/391 [==============================] - 9s 23ms/step - loss: 0.8856 - accuracy: 0.6974 - val_loss: 0.8144 - val_accuracy: 0.7217\n",
            "Epoch 23/25\n",
            "391/391 [==============================] - 9s 24ms/step - loss: 0.8647 - accuracy: 0.7005 - val_loss: 0.7857 - val_accuracy: 0.7273\n",
            "Epoch 24/25\n",
            "391/391 [==============================] - 9s 24ms/step - loss: 0.8455 - accuracy: 0.7103 - val_loss: 0.8404 - val_accuracy: 0.7162\n",
            "Epoch 25/25\n",
            "391/391 [==============================] - 9s 24ms/step - loss: 0.8240 - accuracy: 0.7157 - val_loss: 0.7708 - val_accuracy: 0.7377\n"
          ]
        }
      ]
    },
    {
      "cell_type": "code",
      "source": [
        "test_score = model.evaluate(X_test, y_test)\n",
        "print(\"Test loss {:.4f}, accuracy {:.2f}%\".format(test_score[0], test_score[1] * 100))"
      ],
      "metadata": {
        "colab": {
          "base_uri": "https://localhost:8080/"
        },
        "id": "yd6QP_RBgsbM",
        "outputId": "da837c0d-96a6-45bb-9de1-967f87f6f5e9"
      },
      "execution_count": 15,
      "outputs": [
        {
          "output_type": "stream",
          "name": "stdout",
          "text": [
            "313/313 [==============================] - 2s 4ms/step - loss: 0.7708 - accuracy: 0.7377\n",
            "Test loss 0.7708, accuracy 73.77%\n"
          ]
        }
      ]
    },
    {
      "cell_type": "code",
      "source": [
        "y_pred = model.predict(X_test)\n",
        "plt.plot(y_pred[N][:])\n",
        "plt.show()\n",
        "print(y_pred[N][:])\n",
        "plt.imshow(X_test[N][:,:,0])\n",
        "plt.title(labels[np.argmax(y_test[N,:])])\n",
        "plt.show()"
      ],
      "metadata": {
        "colab": {
          "base_uri": "https://localhost:8080/",
          "height": 563
        },
        "id": "fSjliJ9Ig62U",
        "outputId": "5a173024-a12b-43f5-860e-6e76f054f265"
      },
      "execution_count": 16,
      "outputs": [
        {
          "output_type": "display_data",
          "data": {
            "image/png": "[encoded data removed]",
            "text/plain": [
              "<Figure size 432x288 with 1 Axes>"
            ]
          },
          "metadata": {
            "needs_background": "light"
          }
        },
        {
          "output_type": "stream",
          "name": "stdout",
          "text": [
            "[0.0011756  0.00116221 0.07618287 0.15607773 0.34533674 0.18660216\n",
            " 0.20484139 0.0266943  0.00093582 0.00099118]\n"
          ]
        },
        {
          "output_type": "display_data",
          "data": {
            "image/png": "[encoded data removed]",
            "text/plain": [
              "<Figure size 432x288 with 1 Axes>"
            ]
          },
          "metadata": {
            "needs_background": "light"
          }
        }
      ]
    },
    {
      "cell_type": "markdown",
      "source": [
        "Выводы:\n",
        "- меня совершенно не устраивают вероятностные графики, допускаю возможность исправить график дополнительными эпохами;\n",
        "- в данном исполнении изменение количества слоев не привело к существенному изменению точности модели, в сравнении с моделью с измененным количеством ядер, но предполагаю, что количество слоев может позитивно влиять на точность модели в случае дополнительной настройки других параметров."
      ],
      "metadata": {
        "id": "Ibvkojdnh88S"
      }
    }
  ]
}
