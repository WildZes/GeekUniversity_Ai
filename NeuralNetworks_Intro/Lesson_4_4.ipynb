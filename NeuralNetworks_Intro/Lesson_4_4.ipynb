{
  "nbformat": 4,
  "nbformat_minor": 0,
  "metadata": {
    "colab": {
      "name": "Lesson_4_4.ipynb",
      "provenance": [],
      "collapsed_sections": []
    },
    "kernelspec": {
      "name": "python3",
      "display_name": "Python 3"
    },
    "language_info": {
      "name": "python"
    },
    "accelerator": "GPU"
  },
  "cells": [
    {
      "cell_type": "markdown",
      "source": [
        "# Урок 4. Сверточные нейронные сети\n",
        "## Вариант 1. (простой)"
      ],
      "metadata": {
        "id": "zM1V4F-1j39d"
      }
    },
    {
      "cell_type": "markdown",
      "source": [
        "## (опциционально)сравнить с точностью полносвязной сети для этой выборки"
      ],
      "metadata": {
        "id": "3VrQKO0Qj5lL"
      }
    },
    {
      "cell_type": "code",
      "source": [
        "import tensorflow as tf\n",
        "from tensorflow.keras.datasets import cifar10\n",
        "from tensorflow.keras.utils import to_categorical\n",
        "from tensorflow.keras.layers import Dense, Dropout, Activation, Flatten\n",
        "from tensorflow.keras.models import Sequential, Model\n",
        "from tensorflow.keras.layers import Conv2D, Input\n",
        "from tensorflow.keras.layers import GlobalMaxPooling2D, MaxPooling2D, AveragePooling2D, GlobalAveragePooling2D\n",
        "from tensorflow.keras.utils import plot_model\n",
        "\n",
        "from keras import models as m\n",
        "\n",
        "import os\n",
        "\n",
        "import matplotlib.pyplot as plt\n",
        "\n",
        "import numpy as np"
      ],
      "metadata": {
        "id": "yuSbsZi_j5Bx"
      },
      "execution_count": 1,
      "outputs": []
    },
    {
      "cell_type": "code",
      "source": [
        "(X_train, y_train), (X_test, y_test) = cifar10.load_data()\n",
        "print('X_train shape:', X_train.shape)\n",
        "print(X_train.shape[0], 'тренировочные примеры')\n",
        "print(X_test.shape[0], 'тестовые примеры')"
      ],
      "metadata": {
        "colab": {
          "base_uri": "https://localhost:8080/"
        },
        "id": "JprbZWJIoMJq",
        "outputId": "fb33ab33-fdc6-4204-be67-399ae5aa8d26"
      },
      "execution_count": 2,
      "outputs": [
        {
          "output_type": "stream",
          "name": "stdout",
          "text": [
            "Downloading data from https://www.cs.toronto.edu/~kriz/cifar-10-python.tar.gz\n",
            "170500096/170498071 [==============================] - 3s 0us/step\n",
            "170508288/170498071 [==============================] - 3s 0us/step\n",
            "X_train shape: (50000, 32, 32, 3)\n",
            "50000 тренировочные примеры\n",
            "10000 тестовые примеры\n"
          ]
        }
      ]
    },
    {
      "cell_type": "code",
      "source": [
        "labels = {0: 'airplane', 1: 'automobile', 2: 'bird', 3: 'cat', 4: 'deer',\n",
        "          5: 'dog', 6: 'frog', 7: 'horse', 8: 'ship', 9: 'truck'}"
      ],
      "metadata": {
        "id": "sUaXNd9Jo-Qw"
      },
      "execution_count": 3,
      "outputs": []
    },
    {
      "cell_type": "code",
      "source": [
        "# преобразование матрицы чисел 0-9 в бинарную матрицу чисел 0-1\n",
        "y_train = to_categorical(y_train, 10)\n",
        "y_test = to_categorical(y_test, 10)"
      ],
      "metadata": {
        "id": "dPa-Au-QpBOy"
      },
      "execution_count": 4,
      "outputs": []
    },
    {
      "cell_type": "code",
      "source": [
        "N = 13\n",
        "\n",
        "plt.imshow(X_test[N])\n",
        "plt.title(labels[np.argmax(y_test[N,:])])\n",
        "plt.show()"
      ],
      "metadata": {
        "colab": {
          "base_uri": "https://localhost:8080/",
          "height": 281
        },
        "id": "n_tBNcu9pDjp",
        "outputId": "ebe49bfa-878e-4992-8ab7-99128a480a0a"
      },
      "execution_count": 6,
      "outputs": [
        {
          "output_type": "display_data",
          "data": {
            "image/png": "[encoded data removed]",
            "text/plain": [
              "<Figure size 432x288 with 1 Axes>"
            ]
          },
          "metadata": {
            "needs_background": "light"
          }
        }
      ]
    },
    {
      "cell_type": "code",
      "source": [
        "# конфигурирование слоев нейросети\n",
        "model = Sequential()\n",
        "\n",
        "# полносвязные слои нейронной сети\n",
        "# сглаживание CNN выхода чтобы можно было его присоединить к полносвязногому слою\n",
        "model.add(Flatten(input_shape=X_train.shape[1:]))\n",
        "# полносвязный слой\n",
        "model.add(Dense(512))\n",
        "model.add(Activation('relu'))\n",
        "model.add(Dropout(0.5))\n",
        "model.add(Dense(10))\n",
        "# выходной слой с функцией активации softmax\n",
        "model.add(Activation('softmax'))\n",
        "\n",
        "model.summary()\n",
        "\n",
        "# компиляция модели\n",
        "model.compile(loss='categorical_crossentropy',\n",
        "              optimizer='SGD',\n",
        "              metrics=['accuracy'])"
      ],
      "metadata": {
        "colab": {
          "base_uri": "https://localhost:8080/"
        },
        "id": "vNXqpOYNpGs7",
        "outputId": "bfe891a9-b7f1-433d-d73f-7267ac5cae1f"
      },
      "execution_count": 7,
      "outputs": [
        {
          "output_type": "stream",
          "name": "stdout",
          "text": [
            "Model: \"sequential\"\n",
            "_________________________________________________________________\n",
            " Layer (type)                Output Shape              Param #   \n",
            "=================================================================\n",
            " flatten (Flatten)           (None, 3072)              0         \n",
            "                                                                 \n",
            " dense (Dense)               (None, 512)               1573376   \n",
            "                                                                 \n",
            " activation (Activation)     (None, 512)               0         \n",
            "                                                                 \n",
            " dropout (Dropout)           (None, 512)               0         \n",
            "                                                                 \n",
            " dense_1 (Dense)             (None, 10)                5130      \n",
            "                                                                 \n",
            " activation_1 (Activation)   (None, 10)                0         \n",
            "                                                                 \n",
            "=================================================================\n",
            "Total params: 1,578,506\n",
            "Trainable params: 1,578,506\n",
            "Non-trainable params: 0\n",
            "_________________________________________________________________\n"
          ]
        }
      ]
    },
    {
      "cell_type": "code",
      "source": [
        "# Обучаем модель\n",
        "hist = model.fit(x=X_train,y=y_train, epochs=25,\n",
        "                 batch_size=128, validation_data=(X_test, y_test),\n",
        "                 verbose=1)"
      ],
      "metadata": {
        "colab": {
          "base_uri": "https://localhost:8080/"
        },
        "id": "HhYgyge5pW3o",
        "outputId": "ee8fe3b1-bf81-40ac-ecfb-6dec5b636e03"
      },
      "execution_count": 8,
      "outputs": [
        {
          "output_type": "stream",
          "name": "stdout",
          "text": [
            "Epoch 1/25\n",
            "391/391 [==============================] - 4s 4ms/step - loss: 10609.2002 - accuracy: 0.0984 - val_loss: 2.3035 - val_accuracy: 0.1000\n",
            "Epoch 2/25\n",
            "391/391 [==============================] - 1s 4ms/step - loss: 2.3039 - accuracy: 0.0978 - val_loss: 2.3030 - val_accuracy: 0.0999\n",
            "Epoch 3/25\n",
            "391/391 [==============================] - 1s 4ms/step - loss: 2.3027 - accuracy: 0.0974 - val_loss: 2.3034 - val_accuracy: 0.0998\n",
            "Epoch 4/25\n",
            "391/391 [==============================] - 1s 4ms/step - loss: 2.3026 - accuracy: 0.0976 - val_loss: 2.3034 - val_accuracy: 0.1000\n",
            "Epoch 5/25\n",
            "391/391 [==============================] - 1s 3ms/step - loss: 2.3026 - accuracy: 0.0960 - val_loss: 2.3025 - val_accuracy: 0.0999\n",
            "Epoch 6/25\n",
            "391/391 [==============================] - 1s 3ms/step - loss: 2.3025 - accuracy: 0.0978 - val_loss: 2.3025 - val_accuracy: 0.0999\n",
            "Epoch 7/25\n",
            "391/391 [==============================] - 1s 4ms/step - loss: 2.3024 - accuracy: 0.0978 - val_loss: 2.3025 - val_accuracy: 0.0999\n",
            "Epoch 8/25\n",
            "391/391 [==============================] - 1s 3ms/step - loss: 2.3025 - accuracy: 0.0978 - val_loss: 2.3025 - val_accuracy: 0.1000\n",
            "Epoch 9/25\n",
            "391/391 [==============================] - 1s 3ms/step - loss: 2.3024 - accuracy: 0.0981 - val_loss: 2.3025 - val_accuracy: 0.1000\n",
            "Epoch 10/25\n",
            "391/391 [==============================] - 1s 4ms/step - loss: 2.3026 - accuracy: 0.0975 - val_loss: 2.3025 - val_accuracy: 0.1000\n",
            "Epoch 11/25\n",
            "391/391 [==============================] - 1s 3ms/step - loss: 2.3024 - accuracy: 0.0968 - val_loss: 2.3025 - val_accuracy: 0.0999\n",
            "Epoch 12/25\n",
            "391/391 [==============================] - 1s 3ms/step - loss: 2.3025 - accuracy: 0.0986 - val_loss: 2.3025 - val_accuracy: 0.0999\n",
            "Epoch 13/25\n",
            "391/391 [==============================] - 1s 4ms/step - loss: 2.3026 - accuracy: 0.0997 - val_loss: 2.3025 - val_accuracy: 0.1000\n",
            "Epoch 14/25\n",
            "391/391 [==============================] - 2s 4ms/step - loss: 2.3025 - accuracy: 0.0990 - val_loss: 2.3025 - val_accuracy: 0.1001\n",
            "Epoch 15/25\n",
            "391/391 [==============================] - 1s 4ms/step - loss: 2.3028 - accuracy: 0.0979 - val_loss: 2.3025 - val_accuracy: 0.1000\n",
            "Epoch 16/25\n",
            "391/391 [==============================] - 1s 3ms/step - loss: 2.3024 - accuracy: 0.0951 - val_loss: 2.3025 - val_accuracy: 0.1000\n",
            "Epoch 17/25\n",
            "391/391 [==============================] - 1s 4ms/step - loss: 2.3024 - accuracy: 0.0969 - val_loss: 2.3025 - val_accuracy: 0.1000\n",
            "Epoch 18/25\n",
            "391/391 [==============================] - 1s 3ms/step - loss: 2.3025 - accuracy: 0.0974 - val_loss: 2.3025 - val_accuracy: 0.1000\n",
            "Epoch 19/25\n",
            "391/391 [==============================] - 1s 4ms/step - loss: 2.3024 - accuracy: 0.0969 - val_loss: 2.3025 - val_accuracy: 0.1000\n",
            "Epoch 20/25\n",
            "391/391 [==============================] - 2s 4ms/step - loss: 2.3024 - accuracy: 0.0979 - val_loss: 2.3025 - val_accuracy: 0.1001\n",
            "Epoch 21/25\n",
            "391/391 [==============================] - 1s 4ms/step - loss: 2.3025 - accuracy: 0.0970 - val_loss: 2.3025 - val_accuracy: 0.1001\n",
            "Epoch 22/25\n",
            "391/391 [==============================] - 1s 3ms/step - loss: 2.3026 - accuracy: 0.0975 - val_loss: 2.3025 - val_accuracy: 0.1001\n",
            "Epoch 23/25\n",
            "391/391 [==============================] - 1s 4ms/step - loss: 2.3024 - accuracy: 0.0968 - val_loss: 2.3025 - val_accuracy: 0.1001\n",
            "Epoch 24/25\n",
            "391/391 [==============================] - 1s 4ms/step - loss: 2.3025 - accuracy: 0.0987 - val_loss: 2.3025 - val_accuracy: 0.1001\n",
            "Epoch 25/25\n",
            "391/391 [==============================] - 1s 4ms/step - loss: 2.3025 - accuracy: 0.0967 - val_loss: 2.3025 - val_accuracy: 0.1001\n"
          ]
        }
      ]
    },
    {
      "cell_type": "code",
      "source": [
        "test_score = model.evaluate(X_test, y_test)\n",
        "print(\"Test loss {:.4f}, accuracy {:.2f}%\".format(test_score[0], test_score[1] * 100))"
      ],
      "metadata": {
        "colab": {
          "base_uri": "https://localhost:8080/"
        },
        "id": "6IacqtEypq24",
        "outputId": "a58886b7-c388-40a0-ca96-5c4462f7ef6a"
      },
      "execution_count": 9,
      "outputs": [
        {
          "output_type": "stream",
          "name": "stdout",
          "text": [
            "313/313 [==============================] - 1s 2ms/step - loss: 2.3025 - accuracy: 0.1001\n",
            "Test loss 2.3025, accuracy 10.01%\n"
          ]
        }
      ]
    },
    {
      "cell_type": "code",
      "source": [
        "y_pred = model.predict(X_test)\n",
        "plt.plot(y_pred[N][:])\n",
        "plt.show()\n",
        "print(y_pred[N][:])\n",
        "plt.imshow(X_test[N][:,:,0])\n",
        "plt.title((labels[np.argmax(y_test[N,:])], np.argmax(y_test[N,:])))\n",
        "plt.show()"
      ],
      "metadata": {
        "colab": {
          "base_uri": "https://localhost:8080/",
          "height": 566
        },
        "id": "lpLJH6KOp5t-",
        "outputId": "58ea3920-3d37-4fed-d314-9eb44f6c48de"
      },
      "execution_count": 11,
      "outputs": [
        {
          "output_type": "display_data",
          "data": {
            "image/png": "[encoded data removed]",
            "text/plain": [
              "<Figure size 432x288 with 1 Axes>"
            ]
          },
          "metadata": {
            "needs_background": "light"
          }
        },
        {
          "output_type": "stream",
          "name": "stdout",
          "text": [
            "[0.09998178 0.10003334 0.09997178 0.10007945 0.09988397 0.0999916\n",
            " 0.10003012 0.0999533  0.09998408 0.10009059]\n"
          ]
        },
        {
          "output_type": "display_data",
          "data": {
            "image/png": "[encoded data removed]",
            "text/plain": [
              "<Figure size 432x288 with 1 Axes>"
            ]
          },
          "metadata": {
            "needs_background": "light"
          }
        }
      ]
    },
    {
      "cell_type": "code",
      "source": [
        "tf.keras.backend.clear_session()\n",
        "# конфигурирование слоев нейросети\n",
        "model = Sequential()\n",
        "\n",
        "# полносвязные слои нейронной сети\n",
        "# сглаживание CNN выхода чтобы можно было его присоединить к полносвязногому слою\n",
        "model.add(Flatten(input_shape=X_train.shape[1:]))\n",
        "# полносвязный слой\n",
        "model.add(Dense(512))\n",
        "model.add(Activation('relu'))\n",
        "model.add(Dropout(0.5))\n",
        "model.add(Dense(10))\n",
        "# выходной слой с функцией активации softmax\n",
        "model.add(Activation('softmax'))\n",
        "\n",
        "# компиляция модели\n",
        "model.compile(loss='categorical_crossentropy',\n",
        "              optimizer='SGD',\n",
        "              metrics=['accuracy'])"
      ],
      "metadata": {
        "id": "knsmtc7tp8Tm"
      },
      "execution_count": 12,
      "outputs": []
    },
    {
      "cell_type": "code",
      "source": [
        "# Обучаем модель\n",
        "hist = model.fit(x=X_train,y=y_train, epochs=25,\n",
        "                 batch_size=16, validation_data=(X_test, y_test),\n",
        "                 verbose=1)"
      ],
      "metadata": {
        "colab": {
          "base_uri": "https://localhost:8080/"
        },
        "id": "B4pA2j3zqrhY",
        "outputId": "15e9f758-96c8-41da-99ba-71fa08775b9f"
      },
      "execution_count": 13,
      "outputs": [
        {
          "output_type": "stream",
          "name": "stdout",
          "text": [
            "Epoch 1/25\n",
            "3125/3125 [==============================] - 9s 3ms/step - loss: 119455.4062 - accuracy: 0.0975 - val_loss: 2.9216 - val_accuracy: 0.1000\n",
            "Epoch 2/25\n",
            "3125/3125 [==============================] - 9s 3ms/step - loss: 2.3028 - accuracy: 0.0979 - val_loss: 2.9215 - val_accuracy: 0.0999\n",
            "Epoch 3/25\n",
            "3125/3125 [==============================] - 8s 3ms/step - loss: 2.4372 - accuracy: 0.0982 - val_loss: 2.9215 - val_accuracy: 0.0999\n",
            "Epoch 4/25\n",
            "3125/3125 [==============================] - 9s 3ms/step - loss: 2.3028 - accuracy: 0.0991 - val_loss: 2.9215 - val_accuracy: 0.1000\n",
            "Epoch 5/25\n",
            "3125/3125 [==============================] - 9s 3ms/step - loss: 2.3028 - accuracy: 0.0967 - val_loss: 2.9216 - val_accuracy: 0.1000\n",
            "Epoch 6/25\n",
            "3125/3125 [==============================] - 8s 3ms/step - loss: 2.3028 - accuracy: 0.1002 - val_loss: 2.9216 - val_accuracy: 0.1000\n",
            "Epoch 7/25\n",
            "3125/3125 [==============================] - 8s 3ms/step - loss: 2.3028 - accuracy: 0.0975 - val_loss: 2.9216 - val_accuracy: 0.1000\n",
            "Epoch 8/25\n",
            "3125/3125 [==============================] - 8s 3ms/step - loss: 2.3028 - accuracy: 0.0963 - val_loss: 2.9216 - val_accuracy: 0.1000\n",
            "Epoch 9/25\n",
            "3125/3125 [==============================] - 9s 3ms/step - loss: 2.3028 - accuracy: 0.0985 - val_loss: 2.9215 - val_accuracy: 0.1000\n",
            "Epoch 10/25\n",
            "3125/3125 [==============================] - 9s 3ms/step - loss: 2.3028 - accuracy: 0.0974 - val_loss: 2.9215 - val_accuracy: 0.1000\n",
            "Epoch 11/25\n",
            "3125/3125 [==============================] - 9s 3ms/step - loss: 2.3028 - accuracy: 0.1005 - val_loss: 2.9216 - val_accuracy: 0.1000\n",
            "Epoch 12/25\n",
            "3125/3125 [==============================] - 9s 3ms/step - loss: 2.3028 - accuracy: 0.0984 - val_loss: 2.9216 - val_accuracy: 0.1000\n",
            "Epoch 13/25\n",
            "3125/3125 [==============================] - 9s 3ms/step - loss: 2.3028 - accuracy: 0.0964 - val_loss: 2.9215 - val_accuracy: 0.1000\n",
            "Epoch 14/25\n",
            "3125/3125 [==============================] - 9s 3ms/step - loss: 2.3028 - accuracy: 0.1001 - val_loss: 2.9216 - val_accuracy: 0.1000\n",
            "Epoch 15/25\n",
            "3125/3125 [==============================] - 9s 3ms/step - loss: 2.3028 - accuracy: 0.0983 - val_loss: 2.9215 - val_accuracy: 0.1000\n",
            "Epoch 16/25\n",
            "3125/3125 [==============================] - 8s 3ms/step - loss: 2.3028 - accuracy: 0.0982 - val_loss: 2.9215 - val_accuracy: 0.1000\n",
            "Epoch 17/25\n",
            "3125/3125 [==============================] - 8s 3ms/step - loss: 2.3028 - accuracy: 0.0981 - val_loss: 2.9215 - val_accuracy: 0.1000\n",
            "Epoch 18/25\n",
            "3125/3125 [==============================] - 8s 3ms/step - loss: 2.3027 - accuracy: 0.0991 - val_loss: 2.9216 - val_accuracy: 0.1000\n",
            "Epoch 19/25\n",
            "3125/3125 [==============================] - 8s 3ms/step - loss: 2.3028 - accuracy: 0.0985 - val_loss: 2.9216 - val_accuracy: 0.1000\n",
            "Epoch 20/25\n",
            "3125/3125 [==============================] - 8s 3ms/step - loss: 2.3028 - accuracy: 0.0977 - val_loss: 2.9216 - val_accuracy: 0.1000\n",
            "Epoch 21/25\n",
            "3125/3125 [==============================] - 8s 3ms/step - loss: 2.3028 - accuracy: 0.0984 - val_loss: 2.9215 - val_accuracy: 0.1000\n",
            "Epoch 22/25\n",
            "3125/3125 [==============================] - 8s 3ms/step - loss: 2.3028 - accuracy: 0.0974 - val_loss: 2.9215 - val_accuracy: 0.1000\n",
            "Epoch 23/25\n",
            "3125/3125 [==============================] - 8s 3ms/step - loss: 2.3028 - accuracy: 0.0953 - val_loss: 2.9215 - val_accuracy: 0.1000\n",
            "Epoch 24/25\n",
            "3125/3125 [==============================] - 8s 3ms/step - loss: 2.3028 - accuracy: 0.0979 - val_loss: 2.9216 - val_accuracy: 0.1000\n",
            "Epoch 25/25\n",
            "3125/3125 [==============================] - 8s 3ms/step - loss: 2.3028 - accuracy: 0.0989 - val_loss: 2.9215 - val_accuracy: 0.0999\n"
          ]
        }
      ]
    },
    {
      "cell_type": "code",
      "source": [
        "tf.keras.backend.clear_session()\n",
        "# конфигурирование слоев нейросети\n",
        "model = Sequential()\n",
        "\n",
        "# полносвязные слои нейронной сети\n",
        "# сглаживание CNN выхода чтобы можно было его присоединить к полносвязногому слою\n",
        "model.add(Flatten(input_shape=X_train.shape[1:]))\n",
        "# полносвязный слой\n",
        "model.add(Dense(512))\n",
        "model.add(Activation('relu'))\n",
        "model.add(Dropout(0.5))\n",
        "model.add(Dense(10))\n",
        "# выходной слой с функцией активации softmax\n",
        "model.add(Activation('softmax'))\n",
        "\n",
        "# компиляция модели\n",
        "model.compile(loss='categorical_crossentropy',\n",
        "              optimizer='SGD',\n",
        "              metrics=['accuracy'])"
      ],
      "metadata": {
        "id": "dCqGND0bqw_d"
      },
      "execution_count": 14,
      "outputs": []
    },
    {
      "cell_type": "code",
      "source": [
        "# Обучаем модель\n",
        "hist = model.fit(x=X_train,y=y_train, epochs=25,\n",
        "                 batch_size=512, validation_data=(X_test, y_test),\n",
        "                 verbose=1)"
      ],
      "metadata": {
        "colab": {
          "base_uri": "https://localhost:8080/"
        },
        "id": "zODhQKhtq_yN",
        "outputId": "23953a66-1eb9-4a73-8c4b-9900ef133eca"
      },
      "execution_count": 15,
      "outputs": [
        {
          "output_type": "stream",
          "name": "stdout",
          "text": [
            "Epoch 1/25\n",
            "98/98 [==============================] - 1s 7ms/step - loss: 8835.4004 - accuracy: 0.1002 - val_loss: 2.3099 - val_accuracy: 0.0998\n",
            "Epoch 2/25\n",
            "98/98 [==============================] - 0s 5ms/step - loss: 2.3047 - accuracy: 0.1000 - val_loss: 2.3074 - val_accuracy: 0.1001\n",
            "Epoch 3/25\n",
            "98/98 [==============================] - 1s 5ms/step - loss: 2.3029 - accuracy: 0.1001 - val_loss: 2.3074 - val_accuracy: 0.1001\n",
            "Epoch 4/25\n",
            "98/98 [==============================] - 0s 5ms/step - loss: 2.3026 - accuracy: 0.1002 - val_loss: 2.3073 - val_accuracy: 0.1002\n",
            "Epoch 5/25\n",
            "98/98 [==============================] - 0s 5ms/step - loss: 2.3022 - accuracy: 0.1002 - val_loss: 2.3069 - val_accuracy: 0.1002\n",
            "Epoch 6/25\n",
            "98/98 [==============================] - 0s 5ms/step - loss: 2.3025 - accuracy: 0.1002 - val_loss: 2.3071 - val_accuracy: 0.1002\n",
            "Epoch 7/25\n",
            "98/98 [==============================] - 0s 5ms/step - loss: 2.3019 - accuracy: 0.0998 - val_loss: 2.3072 - val_accuracy: 0.1002\n",
            "Epoch 8/25\n",
            "98/98 [==============================] - 0s 5ms/step - loss: 2.3020 - accuracy: 0.1002 - val_loss: 2.3072 - val_accuracy: 0.1002\n",
            "Epoch 9/25\n",
            "98/98 [==============================] - 0s 5ms/step - loss: 2.3020 - accuracy: 0.1001 - val_loss: 2.3074 - val_accuracy: 0.1003\n",
            "Epoch 10/25\n",
            "98/98 [==============================] - 0s 5ms/step - loss: 2.3018 - accuracy: 0.0993 - val_loss: 2.3073 - val_accuracy: 0.1002\n",
            "Epoch 11/25\n",
            "98/98 [==============================] - 0s 5ms/step - loss: 2.3020 - accuracy: 0.0997 - val_loss: 2.3077 - val_accuracy: 0.1002\n",
            "Epoch 12/25\n",
            "98/98 [==============================] - 0s 5ms/step - loss: 2.3019 - accuracy: 0.1002 - val_loss: 2.3076 - val_accuracy: 0.1002\n",
            "Epoch 13/25\n",
            "98/98 [==============================] - 0s 5ms/step - loss: 2.3018 - accuracy: 0.0998 - val_loss: 2.3077 - val_accuracy: 0.1002\n",
            "Epoch 14/25\n",
            "98/98 [==============================] - 0s 5ms/step - loss: 2.3018 - accuracy: 0.0992 - val_loss: 2.3078 - val_accuracy: 0.1002\n",
            "Epoch 15/25\n",
            "98/98 [==============================] - 1s 6ms/step - loss: 2.3018 - accuracy: 0.0988 - val_loss: 2.3077 - val_accuracy: 0.1002\n",
            "Epoch 16/25\n",
            "98/98 [==============================] - 0s 5ms/step - loss: 2.3020 - accuracy: 0.0993 - val_loss: 2.3078 - val_accuracy: 0.1002\n",
            "Epoch 17/25\n",
            "98/98 [==============================] - 0s 5ms/step - loss: 2.3018 - accuracy: 0.0975 - val_loss: 2.3079 - val_accuracy: 0.1002\n",
            "Epoch 18/25\n",
            "98/98 [==============================] - 0s 5ms/step - loss: 2.3017 - accuracy: 0.0979 - val_loss: 2.3080 - val_accuracy: 0.1002\n",
            "Epoch 19/25\n",
            "98/98 [==============================] - 0s 5ms/step - loss: 2.3015 - accuracy: 0.0998 - val_loss: 2.3077 - val_accuracy: 0.1002\n",
            "Epoch 20/25\n",
            "98/98 [==============================] - 0s 5ms/step - loss: 2.3018 - accuracy: 0.0970 - val_loss: 2.3077 - val_accuracy: 0.1002\n",
            "Epoch 21/25\n",
            "98/98 [==============================] - 0s 5ms/step - loss: 2.3017 - accuracy: 0.0990 - val_loss: 2.3078 - val_accuracy: 0.1001\n",
            "Epoch 22/25\n",
            "98/98 [==============================] - 0s 5ms/step - loss: 2.3016 - accuracy: 0.0981 - val_loss: 2.3077 - val_accuracy: 0.1002\n",
            "Epoch 23/25\n",
            "98/98 [==============================] - 0s 5ms/step - loss: 2.3016 - accuracy: 0.0989 - val_loss: 2.3079 - val_accuracy: 0.1001\n",
            "Epoch 24/25\n",
            "98/98 [==============================] - 0s 5ms/step - loss: 2.3019 - accuracy: 0.0975 - val_loss: 2.3076 - val_accuracy: 0.1005\n",
            "Epoch 25/25\n",
            "98/98 [==============================] - 0s 5ms/step - loss: 2.3021 - accuracy: 0.0985 - val_loss: 2.3079 - val_accuracy: 0.1000\n"
          ]
        }
      ]
    },
    {
      "cell_type": "code",
      "source": [
        "tf.keras.backend.clear_session()\n",
        "# конфигурирование слоев нейросети\n",
        "model = Sequential()\n",
        "\n",
        "# полносвязные слои нейронной сети\n",
        "# сглаживание CNN выхода чтобы можно было его присоединить к полносвязногому слою\n",
        "model.add(Flatten(input_shape=X_train.shape[1:]))\n",
        "# полносвязный слой\n",
        "model.add(Dense(512))\n",
        "model.add(Activation('relu'))\n",
        "model.add(Dropout(0.5))\n",
        "model.add(Dense(10))\n",
        "# выходной слой с функцией активации softmax\n",
        "model.add(Activation('softmax'))\n",
        "\n",
        "# компиляция модели\n",
        "model.compile(loss='categorical_crossentropy',\n",
        "              optimizer='SGD',\n",
        "              metrics=['accuracy'])"
      ],
      "metadata": {
        "id": "rexdEUOZrDzc"
      },
      "execution_count": 16,
      "outputs": []
    },
    {
      "cell_type": "code",
      "source": [
        "# Обучаем модель\n",
        "hist = model.fit(x=X_train,y=y_train, epochs=10,\n",
        "                 batch_size=32, validation_data=(X_test, y_test),\n",
        "                 verbose=1)"
      ],
      "metadata": {
        "colab": {
          "base_uri": "https://localhost:8080/"
        },
        "id": "dftSdJJqr_da",
        "outputId": "775016f3-b39b-4c4b-c86b-ba1e5d40af6a"
      },
      "execution_count": 17,
      "outputs": [
        {
          "output_type": "stream",
          "name": "stdout",
          "text": [
            "Epoch 1/10\n",
            "1563/1563 [==============================] - 5s 3ms/step - loss: 8311.8643 - accuracy: 0.0966 - val_loss: 2.3074 - val_accuracy: 0.0999\n",
            "Epoch 2/10\n",
            "1563/1563 [==============================] - 5s 3ms/step - loss: 2.3029 - accuracy: 0.0970 - val_loss: 2.3028 - val_accuracy: 0.0999\n",
            "Epoch 3/10\n",
            "1563/1563 [==============================] - 5s 3ms/step - loss: 2.3027 - accuracy: 0.0988 - val_loss: 2.3028 - val_accuracy: 0.1000\n",
            "Epoch 4/10\n",
            "1563/1563 [==============================] - 5s 3ms/step - loss: 2.3027 - accuracy: 0.0961 - val_loss: 2.3028 - val_accuracy: 0.1000\n",
            "Epoch 5/10\n",
            "1563/1563 [==============================] - 5s 3ms/step - loss: 2.3036 - accuracy: 0.0965 - val_loss: 2.3028 - val_accuracy: 0.1000\n",
            "Epoch 6/10\n",
            "1563/1563 [==============================] - 5s 3ms/step - loss: 2.3027 - accuracy: 0.0974 - val_loss: 2.3028 - val_accuracy: 0.1000\n",
            "Epoch 7/10\n",
            "1563/1563 [==============================] - 5s 3ms/step - loss: 2.3027 - accuracy: 0.0979 - val_loss: 2.3028 - val_accuracy: 0.1000\n",
            "Epoch 8/10\n",
            "1563/1563 [==============================] - 5s 3ms/step - loss: 2.3027 - accuracy: 0.0974 - val_loss: 2.3028 - val_accuracy: 0.1000\n",
            "Epoch 9/10\n",
            "1563/1563 [==============================] - 5s 3ms/step - loss: 2.3026 - accuracy: 0.0990 - val_loss: 2.3028 - val_accuracy: 0.1000\n",
            "Epoch 10/10\n",
            "1563/1563 [==============================] - 5s 3ms/step - loss: 2.3027 - accuracy: 0.0984 - val_loss: 2.3028 - val_accuracy: 0.1000\n"
          ]
        }
      ]
    },
    {
      "cell_type": "code",
      "source": [
        "tf.keras.backend.clear_session()\n",
        "# конфигурирование слоев нейросети\n",
        "model = Sequential()\n",
        "\n",
        "# полносвязные слои нейронной сети\n",
        "# сглаживание CNN выхода чтобы можно было его присоединить к полносвязногому слою\n",
        "model.add(Flatten(input_shape=X_train.shape[1:]))\n",
        "# полносвязный слой\n",
        "model.add(Dense(512))\n",
        "model.add(Activation('relu'))\n",
        "model.add(Dropout(0.5))\n",
        "model.add(Dense(10))\n",
        "# выходной слой с функцией активации softmax\n",
        "model.add(Activation('softmax'))\n",
        "\n",
        "# компиляция модели\n",
        "model.compile(loss='categorical_crossentropy',\n",
        "              optimizer='SGD',\n",
        "              metrics=['accuracy'])"
      ],
      "metadata": {
        "id": "N_Le_r8tsFoB"
      },
      "execution_count": 18,
      "outputs": []
    },
    {
      "cell_type": "code",
      "source": [
        "# Обучаем модель\n",
        "hist = model.fit(x=X_train,y=y_train, epochs=10,\n",
        "                 batch_size=1024, validation_data=(X_test, y_test),\n",
        "                 verbose=1)"
      ],
      "metadata": {
        "colab": {
          "base_uri": "https://localhost:8080/"
        },
        "id": "rsAAzqdKsgVn",
        "outputId": "063a1193-1219-48e2-913f-844553e02944"
      },
      "execution_count": 19,
      "outputs": [
        {
          "output_type": "stream",
          "name": "stdout",
          "text": [
            "Epoch 1/10\n",
            "49/49 [==============================] - 1s 12ms/step - loss: 62540.4258 - accuracy: 0.1016 - val_loss: 2.3080 - val_accuracy: 0.0999\n",
            "Epoch 2/10\n",
            "49/49 [==============================] - 0s 7ms/step - loss: 2.3101 - accuracy: 0.1001 - val_loss: 2.3056 - val_accuracy: 0.0999\n",
            "Epoch 3/10\n",
            "49/49 [==============================] - 0s 7ms/step - loss: 2.3070 - accuracy: 0.1002 - val_loss: 2.3057 - val_accuracy: 0.1000\n",
            "Epoch 4/10\n",
            "49/49 [==============================] - 0s 6ms/step - loss: 2.3041 - accuracy: 0.1003 - val_loss: 2.3058 - val_accuracy: 0.1000\n",
            "Epoch 5/10\n",
            "49/49 [==============================] - 0s 7ms/step - loss: 2.3028 - accuracy: 0.1002 - val_loss: 2.3062 - val_accuracy: 0.1001\n",
            "Epoch 6/10\n",
            "49/49 [==============================] - 0s 7ms/step - loss: 2.3023 - accuracy: 0.1003 - val_loss: 2.3064 - val_accuracy: 0.1001\n",
            "Epoch 7/10\n",
            "49/49 [==============================] - 0s 6ms/step - loss: 2.3029 - accuracy: 0.1000 - val_loss: 2.3061 - val_accuracy: 0.1001\n",
            "Epoch 8/10\n",
            "49/49 [==============================] - 0s 6ms/step - loss: 2.3020 - accuracy: 0.1003 - val_loss: 2.3061 - val_accuracy: 0.1002\n",
            "Epoch 9/10\n",
            "49/49 [==============================] - 0s 7ms/step - loss: 2.3018 - accuracy: 0.1005 - val_loss: 2.3057 - val_accuracy: 0.1001\n",
            "Epoch 10/10\n",
            "49/49 [==============================] - 0s 7ms/step - loss: 2.3017 - accuracy: 0.0986 - val_loss: 2.3059 - val_accuracy: 0.1000\n"
          ]
        }
      ]
    },
    {
      "cell_type": "code",
      "source": [
        "tf.keras.backend.clear_session()\n",
        "# конфигурирование слоев нейросети\n",
        "model = Sequential()\n",
        "\n",
        "# полносвязные слои нейронной сети\n",
        "# сглаживание CNN выхода чтобы можно было его присоединить к полносвязногому слою\n",
        "model.add(Flatten(input_shape=X_train.shape[1:]))\n",
        "# полносвязный слой\n",
        "model.add(Dense(512))\n",
        "model.add(Activation('relu'))\n",
        "model.add(Dropout(0.5))\n",
        "model.add(Dense(10))\n",
        "# выходной слой с функцией активации softmax\n",
        "model.add(Activation('softmax'))\n",
        "\n",
        "# компиляция модели\n",
        "model.compile(loss='categorical_crossentropy',\n",
        "              optimizer='SGD',\n",
        "              metrics=['accuracy'])"
      ],
      "metadata": {
        "id": "daBxh_xdsklv"
      },
      "execution_count": 20,
      "outputs": []
    },
    {
      "cell_type": "code",
      "source": [
        "# Обучаем модель\n",
        "hist = model.fit(x=X_train,y=y_train, epochs=15,\n",
        "                 batch_size=256, validation_data=(X_test, y_test),\n",
        "                 verbose=1)"
      ],
      "metadata": {
        "colab": {
          "base_uri": "https://localhost:8080/"
        },
        "id": "ndZax9bPswE7",
        "outputId": "c3edcb96-334f-4619-b413-4cf979649055"
      },
      "execution_count": 21,
      "outputs": [
        {
          "output_type": "stream",
          "name": "stdout",
          "text": [
            "Epoch 1/15\n",
            "196/196 [==============================] - 1s 5ms/step - loss: 4291.6465 - accuracy: 0.0995 - val_loss: 2.3042 - val_accuracy: 0.1000\n",
            "Epoch 2/15\n",
            "196/196 [==============================] - 1s 4ms/step - loss: 2.3033 - accuracy: 0.0979 - val_loss: 2.3038 - val_accuracy: 0.1000\n",
            "Epoch 3/15\n",
            "196/196 [==============================] - 1s 4ms/step - loss: 2.3029 - accuracy: 0.0993 - val_loss: 2.3037 - val_accuracy: 0.1001\n",
            "Epoch 4/15\n",
            "196/196 [==============================] - 1s 4ms/step - loss: 2.3025 - accuracy: 0.0975 - val_loss: 2.3040 - val_accuracy: 0.1001\n",
            "Epoch 5/15\n",
            "196/196 [==============================] - 1s 4ms/step - loss: 2.3024 - accuracy: 0.0972 - val_loss: 2.3041 - val_accuracy: 0.1000\n",
            "Epoch 6/15\n",
            "196/196 [==============================] - 1s 4ms/step - loss: 2.3027 - accuracy: 0.0983 - val_loss: 2.3037 - val_accuracy: 0.1000\n",
            "Epoch 7/15\n",
            "196/196 [==============================] - 1s 4ms/step - loss: 2.3023 - accuracy: 0.0985 - val_loss: 2.3039 - val_accuracy: 0.1000\n",
            "Epoch 8/15\n",
            "196/196 [==============================] - 1s 4ms/step - loss: 2.3023 - accuracy: 0.0983 - val_loss: 2.3041 - val_accuracy: 0.0999\n",
            "Epoch 9/15\n",
            "196/196 [==============================] - 1s 4ms/step - loss: 2.3023 - accuracy: 0.0981 - val_loss: 2.3034 - val_accuracy: 0.1000\n",
            "Epoch 10/15\n",
            "196/196 [==============================] - 1s 4ms/step - loss: 2.3024 - accuracy: 0.0970 - val_loss: 2.3039 - val_accuracy: 0.1000\n",
            "Epoch 11/15\n",
            "196/196 [==============================] - 1s 4ms/step - loss: 2.3022 - accuracy: 0.0971 - val_loss: 2.3044 - val_accuracy: 0.0998\n",
            "Epoch 12/15\n",
            "196/196 [==============================] - 1s 4ms/step - loss: 2.3023 - accuracy: 0.0986 - val_loss: 2.3055 - val_accuracy: 0.1000\n",
            "Epoch 13/15\n",
            "196/196 [==============================] - 1s 4ms/step - loss: 2.3024 - accuracy: 0.0983 - val_loss: 2.3046 - val_accuracy: 0.1000\n",
            "Epoch 14/15\n",
            "196/196 [==============================] - 1s 4ms/step - loss: 2.3023 - accuracy: 0.0979 - val_loss: 2.3041 - val_accuracy: 0.0999\n",
            "Epoch 15/15\n",
            "196/196 [==============================] - 1s 4ms/step - loss: 2.3024 - accuracy: 0.0991 - val_loss: 2.3040 - val_accuracy: 0.1000\n"
          ]
        }
      ]
    },
    {
      "cell_type": "markdown",
      "source": [
        "Выводы:\n",
        "- не удалось добиться приемлемых результатов для данного датасета;\n",
        "- возможно неверно построил полносвязанную сеть;\n",
        "- данная сеть уступает всем предыдущим тестам."
      ],
      "metadata": {
        "id": "rekE7VIdtH6F"
      }
    }
  ]
}
