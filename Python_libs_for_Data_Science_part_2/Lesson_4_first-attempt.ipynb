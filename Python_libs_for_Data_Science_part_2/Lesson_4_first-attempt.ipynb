{
 "cells": [
  {
   "cell_type": "code",
   "execution_count": 1,
   "id": "opening-bernard",
   "metadata": {
    "_cell_guid": "b1076dfc-b9ad-4769-8c92-a6c4dae69d19",
    "_uuid": "8f2839f25d086af736a60e9eeb907d3b93b6e0e5",
    "execution": {
     "iopub.execute_input": "2021-06-05T18:06:36.881620Z",
     "iopub.status.busy": "2021-06-05T18:06:36.880716Z",
     "iopub.status.idle": "2021-06-05T18:06:36.884904Z",
     "shell.execute_reply": "2021-06-05T18:06:36.885653Z",
     "shell.execute_reply.started": "2021-06-05T18:01:21.012409Z"
    },
    "papermill": {
     "duration": 0.042876,
     "end_time": "2021-06-05T18:06:36.886006",
     "exception": false,
     "start_time": "2021-06-05T18:06:36.843130",
     "status": "completed"
    },
    "tags": []
   },
   "outputs": [
    {
     "name": "stdout",
     "output_type": "stream",
     "text": [
      "/kaggle/input/gb-credit-default/sample_submission.csv\n",
      "/kaggle/input/gb-credit-default/train.csv\n",
      "/kaggle/input/gb-credit-default/test.csv\n"
     ]
    }
   ],
   "source": [
    "# This Python 3 environment comes with many helpful analytics libraries installed\n",
    "# It is defined by the kaggle/python Docker image: https://github.com/kaggle/docker-python\n",
    "# For example, here's several helpful packages to load\n",
    "\n",
    "import numpy as np # linear algebra\n",
    "import pandas as pd # data processing, CSV file I/O (e.g. pd.read_csv)\n",
    "\n",
    "# Input data files are available in the read-only \"../input/\" directory\n",
    "# For example, running this (by clicking run or pressing Shift+Enter) will list all files under the input directory\n",
    "\n",
    "import os\n",
    "for dirname, _, filenames in os.walk('/kaggle/input'):\n",
    "    for filename in filenames:\n",
    "        print(os.path.join(dirname, filename))\n",
    "\n",
    "# You can write up to 20GB to the current directory (/kaggle/working/) that gets preserved as output when you create a version using \"Save & Run All\" \n",
    "# You can also write temporary files to /kaggle/temp/, but they won't be saved outside of the current session"
   ]
  },
  {
   "cell_type": "code",
   "execution_count": 2,
   "id": "domestic-carroll",
   "metadata": {
    "execution": {
     "iopub.execute_input": "2021-06-05T18:06:36.930956Z",
     "iopub.status.busy": "2021-06-05T18:06:36.930083Z",
     "iopub.status.idle": "2021-06-05T18:06:37.026949Z",
     "shell.execute_reply": "2021-06-05T18:06:37.026037Z",
     "shell.execute_reply.started": "2021-06-05T18:01:21.031396Z"
    },
    "papermill": {
     "duration": 0.117624,
     "end_time": "2021-06-05T18:06:37.027131",
     "exception": false,
     "start_time": "2021-06-05T18:06:36.909507",
     "status": "completed"
    },
    "tags": []
   },
   "outputs": [],
   "source": [
    "sample = pd.read_csv('/kaggle/input/gb-credit-default/sample_submission.csv')\n",
    "train = pd.read_csv('/kaggle/input/gb-credit-default/train.csv')\n",
    "test = pd.read_csv('/kaggle/input/gb-credit-default/test.csv')"
   ]
  },
  {
   "cell_type": "code",
   "execution_count": 3,
   "id": "banned-insulin",
   "metadata": {
    "execution": {
     "iopub.execute_input": "2021-06-05T18:06:37.080931Z",
     "iopub.status.busy": "2021-06-05T18:06:37.079969Z",
     "iopub.status.idle": "2021-06-05T18:06:37.121133Z",
     "shell.execute_reply": "2021-06-05T18:06:37.121593Z",
     "shell.execute_reply.started": "2021-06-05T18:01:21.085468Z"
    },
    "papermill": {
     "duration": 0.071747,
     "end_time": "2021-06-05T18:06:37.121781",
     "exception": false,
     "start_time": "2021-06-05T18:06:37.050034",
     "status": "completed"
    },
    "tags": []
   },
   "outputs": [
    {
     "data": {
      "text/html": [
       "<div>\n",
       "<style scoped>\n",
       "    .dataframe tbody tr th:only-of-type {\n",
       "        vertical-align: middle;\n",
       "    }\n",
       "\n",
       "    .dataframe tbody tr th {\n",
       "        vertical-align: top;\n",
       "    }\n",
       "\n",
       "    .dataframe thead th {\n",
       "        text-align: right;\n",
       "    }\n",
       "</style>\n",
       "<table border=\"1\" class=\"dataframe\">\n",
       "  <thead>\n",
       "    <tr style=\"text-align: right;\">\n",
       "      <th></th>\n",
       "      <th>Home Ownership</th>\n",
       "      <th>Annual Income</th>\n",
       "      <th>Years in current job</th>\n",
       "      <th>Tax Liens</th>\n",
       "      <th>Number of Open Accounts</th>\n",
       "      <th>Years of Credit History</th>\n",
       "      <th>Maximum Open Credit</th>\n",
       "      <th>Number of Credit Problems</th>\n",
       "      <th>Months since last delinquent</th>\n",
       "      <th>Bankruptcies</th>\n",
       "      <th>Purpose</th>\n",
       "      <th>Term</th>\n",
       "      <th>Current Loan Amount</th>\n",
       "      <th>Current Credit Balance</th>\n",
       "      <th>Monthly Debt</th>\n",
       "      <th>Credit Score</th>\n",
       "      <th>Credit Default</th>\n",
       "    </tr>\n",
       "  </thead>\n",
       "  <tbody>\n",
       "    <tr>\n",
       "      <th>0</th>\n",
       "      <td>Own Home</td>\n",
       "      <td>482087.0</td>\n",
       "      <td>NaN</td>\n",
       "      <td>0.0</td>\n",
       "      <td>11.0</td>\n",
       "      <td>26.3</td>\n",
       "      <td>685960.0</td>\n",
       "      <td>1.0</td>\n",
       "      <td>NaN</td>\n",
       "      <td>1.0</td>\n",
       "      <td>debt consolidation</td>\n",
       "      <td>Short Term</td>\n",
       "      <td>99999999.0</td>\n",
       "      <td>47386.0</td>\n",
       "      <td>7914.0</td>\n",
       "      <td>749.0</td>\n",
       "      <td>0</td>\n",
       "    </tr>\n",
       "    <tr>\n",
       "      <th>1</th>\n",
       "      <td>Own Home</td>\n",
       "      <td>1025487.0</td>\n",
       "      <td>10+ years</td>\n",
       "      <td>0.0</td>\n",
       "      <td>15.0</td>\n",
       "      <td>15.3</td>\n",
       "      <td>1181730.0</td>\n",
       "      <td>0.0</td>\n",
       "      <td>NaN</td>\n",
       "      <td>0.0</td>\n",
       "      <td>debt consolidation</td>\n",
       "      <td>Long Term</td>\n",
       "      <td>264968.0</td>\n",
       "      <td>394972.0</td>\n",
       "      <td>18373.0</td>\n",
       "      <td>737.0</td>\n",
       "      <td>1</td>\n",
       "    </tr>\n",
       "    <tr>\n",
       "      <th>2</th>\n",
       "      <td>Home Mortgage</td>\n",
       "      <td>751412.0</td>\n",
       "      <td>8 years</td>\n",
       "      <td>0.0</td>\n",
       "      <td>11.0</td>\n",
       "      <td>35.0</td>\n",
       "      <td>1182434.0</td>\n",
       "      <td>0.0</td>\n",
       "      <td>NaN</td>\n",
       "      <td>0.0</td>\n",
       "      <td>debt consolidation</td>\n",
       "      <td>Short Term</td>\n",
       "      <td>99999999.0</td>\n",
       "      <td>308389.0</td>\n",
       "      <td>13651.0</td>\n",
       "      <td>742.0</td>\n",
       "      <td>0</td>\n",
       "    </tr>\n",
       "    <tr>\n",
       "      <th>3</th>\n",
       "      <td>Own Home</td>\n",
       "      <td>805068.0</td>\n",
       "      <td>6 years</td>\n",
       "      <td>0.0</td>\n",
       "      <td>8.0</td>\n",
       "      <td>22.5</td>\n",
       "      <td>147400.0</td>\n",
       "      <td>1.0</td>\n",
       "      <td>NaN</td>\n",
       "      <td>1.0</td>\n",
       "      <td>debt consolidation</td>\n",
       "      <td>Short Term</td>\n",
       "      <td>121396.0</td>\n",
       "      <td>95855.0</td>\n",
       "      <td>11338.0</td>\n",
       "      <td>694.0</td>\n",
       "      <td>0</td>\n",
       "    </tr>\n",
       "    <tr>\n",
       "      <th>4</th>\n",
       "      <td>Rent</td>\n",
       "      <td>776264.0</td>\n",
       "      <td>8 years</td>\n",
       "      <td>0.0</td>\n",
       "      <td>13.0</td>\n",
       "      <td>13.6</td>\n",
       "      <td>385836.0</td>\n",
       "      <td>1.0</td>\n",
       "      <td>NaN</td>\n",
       "      <td>0.0</td>\n",
       "      <td>debt consolidation</td>\n",
       "      <td>Short Term</td>\n",
       "      <td>125840.0</td>\n",
       "      <td>93309.0</td>\n",
       "      <td>7180.0</td>\n",
       "      <td>719.0</td>\n",
       "      <td>0</td>\n",
       "    </tr>\n",
       "  </tbody>\n",
       "</table>\n",
       "</div>"
      ],
      "text/plain": [
       "  Home Ownership  Annual Income Years in current job  Tax Liens  \\\n",
       "0       Own Home       482087.0                  NaN        0.0   \n",
       "1       Own Home      1025487.0            10+ years        0.0   \n",
       "2  Home Mortgage       751412.0              8 years        0.0   \n",
       "3       Own Home       805068.0              6 years        0.0   \n",
       "4           Rent       776264.0              8 years        0.0   \n",
       "\n",
       "   Number of Open Accounts  Years of Credit History  Maximum Open Credit  \\\n",
       "0                     11.0                     26.3             685960.0   \n",
       "1                     15.0                     15.3            1181730.0   \n",
       "2                     11.0                     35.0            1182434.0   \n",
       "3                      8.0                     22.5             147400.0   \n",
       "4                     13.0                     13.6             385836.0   \n",
       "\n",
       "   Number of Credit Problems  Months since last delinquent  Bankruptcies  \\\n",
       "0                        1.0                           NaN           1.0   \n",
       "1                        0.0                           NaN           0.0   \n",
       "2                        0.0                           NaN           0.0   \n",
       "3                        1.0                           NaN           1.0   \n",
       "4                        1.0                           NaN           0.0   \n",
       "\n",
       "              Purpose        Term  Current Loan Amount  \\\n",
       "0  debt consolidation  Short Term           99999999.0   \n",
       "1  debt consolidation   Long Term             264968.0   \n",
       "2  debt consolidation  Short Term           99999999.0   \n",
       "3  debt consolidation  Short Term             121396.0   \n",
       "4  debt consolidation  Short Term             125840.0   \n",
       "\n",
       "   Current Credit Balance  Monthly Debt  Credit Score  Credit Default  \n",
       "0                 47386.0        7914.0         749.0               0  \n",
       "1                394972.0       18373.0         737.0               1  \n",
       "2                308389.0       13651.0         742.0               0  \n",
       "3                 95855.0       11338.0         694.0               0  \n",
       "4                 93309.0        7180.0         719.0               0  "
      ]
     },
     "execution_count": 3,
     "metadata": {},
     "output_type": "execute_result"
    }
   ],
   "source": [
    "train.head()"
   ]
  },
  {
   "cell_type": "code",
   "execution_count": 4,
   "id": "authentic-convertible",
   "metadata": {
    "execution": {
     "iopub.execute_input": "2021-06-05T18:06:37.165502Z",
     "iopub.status.busy": "2021-06-05T18:06:37.164759Z",
     "iopub.status.idle": "2021-06-05T18:06:37.168501Z",
     "shell.execute_reply": "2021-06-05T18:06:37.168923Z",
     "shell.execute_reply.started": "2021-06-05T18:01:21.121865Z"
    },
    "papermill": {
     "duration": 0.028089,
     "end_time": "2021-06-05T18:06:37.169061",
     "exception": false,
     "start_time": "2021-06-05T18:06:37.140972",
     "status": "completed"
    },
    "tags": []
   },
   "outputs": [
    {
     "data": {
      "text/plain": [
       "(7500, 17)"
      ]
     },
     "execution_count": 4,
     "metadata": {},
     "output_type": "execute_result"
    }
   ],
   "source": [
    "train.shape"
   ]
  },
  {
   "cell_type": "code",
   "execution_count": 5,
   "id": "declared-deputy",
   "metadata": {
    "execution": {
     "iopub.execute_input": "2021-06-05T18:06:37.215318Z",
     "iopub.status.busy": "2021-06-05T18:06:37.211404Z",
     "iopub.status.idle": "2021-06-05T18:06:37.236944Z",
     "shell.execute_reply": "2021-06-05T18:06:37.236214Z",
     "shell.execute_reply.started": "2021-06-05T18:01:21.128469Z"
    },
    "papermill": {
     "duration": 0.04927,
     "end_time": "2021-06-05T18:06:37.237098",
     "exception": false,
     "start_time": "2021-06-05T18:06:37.187828",
     "status": "completed"
    },
    "tags": []
   },
   "outputs": [
    {
     "name": "stdout",
     "output_type": "stream",
     "text": [
      "<class 'pandas.core.frame.DataFrame'>\n",
      "RangeIndex: 7500 entries, 0 to 7499\n",
      "Data columns (total 17 columns):\n",
      " #   Column                        Non-Null Count  Dtype  \n",
      "---  ------                        --------------  -----  \n",
      " 0   Home Ownership                7500 non-null   object \n",
      " 1   Annual Income                 5943 non-null   float64\n",
      " 2   Years in current job          7129 non-null   object \n",
      " 3   Tax Liens                     7500 non-null   float64\n",
      " 4   Number of Open Accounts       7500 non-null   float64\n",
      " 5   Years of Credit History       7500 non-null   float64\n",
      " 6   Maximum Open Credit           7500 non-null   float64\n",
      " 7   Number of Credit Problems     7500 non-null   float64\n",
      " 8   Months since last delinquent  3419 non-null   float64\n",
      " 9   Bankruptcies                  7486 non-null   float64\n",
      " 10  Purpose                       7500 non-null   object \n",
      " 11  Term                          7500 non-null   object \n",
      " 12  Current Loan Amount           7500 non-null   float64\n",
      " 13  Current Credit Balance        7500 non-null   float64\n",
      " 14  Monthly Debt                  7500 non-null   float64\n",
      " 15  Credit Score                  5943 non-null   float64\n",
      " 16  Credit Default                7500 non-null   int64  \n",
      "dtypes: float64(12), int64(1), object(4)\n",
      "memory usage: 996.2+ KB\n"
     ]
    }
   ],
   "source": [
    "train.info()"
   ]
  },
  {
   "cell_type": "code",
   "execution_count": 6,
   "id": "accessible-joyce",
   "metadata": {
    "execution": {
     "iopub.execute_input": "2021-06-05T18:06:37.295825Z",
     "iopub.status.busy": "2021-06-05T18:06:37.294909Z",
     "iopub.status.idle": "2021-06-05T18:06:37.312042Z",
     "shell.execute_reply": "2021-06-05T18:06:37.312514Z",
     "shell.execute_reply.started": "2021-06-05T18:01:21.156936Z"
    },
    "papermill": {
     "duration": 0.049792,
     "end_time": "2021-06-05T18:06:37.312652",
     "exception": false,
     "start_time": "2021-06-05T18:06:37.262860",
     "status": "completed"
    },
    "tags": []
   },
   "outputs": [
    {
     "data": {
      "text/html": [
       "<div>\n",
       "<style scoped>\n",
       "    .dataframe tbody tr th:only-of-type {\n",
       "        vertical-align: middle;\n",
       "    }\n",
       "\n",
       "    .dataframe tbody tr th {\n",
       "        vertical-align: top;\n",
       "    }\n",
       "\n",
       "    .dataframe thead th {\n",
       "        text-align: right;\n",
       "    }\n",
       "</style>\n",
       "<table border=\"1\" class=\"dataframe\">\n",
       "  <thead>\n",
       "    <tr style=\"text-align: right;\">\n",
       "      <th></th>\n",
       "      <th>Home Ownership</th>\n",
       "      <th>Annual Income</th>\n",
       "      <th>Years in current job</th>\n",
       "      <th>Tax Liens</th>\n",
       "      <th>Number of Open Accounts</th>\n",
       "      <th>Years of Credit History</th>\n",
       "      <th>Maximum Open Credit</th>\n",
       "      <th>Number of Credit Problems</th>\n",
       "      <th>Months since last delinquent</th>\n",
       "      <th>Bankruptcies</th>\n",
       "      <th>Purpose</th>\n",
       "      <th>Term</th>\n",
       "      <th>Current Loan Amount</th>\n",
       "      <th>Current Credit Balance</th>\n",
       "      <th>Monthly Debt</th>\n",
       "      <th>Credit Score</th>\n",
       "    </tr>\n",
       "  </thead>\n",
       "  <tbody>\n",
       "    <tr>\n",
       "      <th>0</th>\n",
       "      <td>Rent</td>\n",
       "      <td>NaN</td>\n",
       "      <td>4 years</td>\n",
       "      <td>0.0</td>\n",
       "      <td>9.0</td>\n",
       "      <td>12.5</td>\n",
       "      <td>220968.0</td>\n",
       "      <td>0.0</td>\n",
       "      <td>70.0</td>\n",
       "      <td>0.0</td>\n",
       "      <td>debt consolidation</td>\n",
       "      <td>Short Term</td>\n",
       "      <td>162470.0</td>\n",
       "      <td>105906.0</td>\n",
       "      <td>6813.0</td>\n",
       "      <td>NaN</td>\n",
       "    </tr>\n",
       "    <tr>\n",
       "      <th>1</th>\n",
       "      <td>Rent</td>\n",
       "      <td>231838.0</td>\n",
       "      <td>1 year</td>\n",
       "      <td>0.0</td>\n",
       "      <td>6.0</td>\n",
       "      <td>32.7</td>\n",
       "      <td>55946.0</td>\n",
       "      <td>0.0</td>\n",
       "      <td>8.0</td>\n",
       "      <td>0.0</td>\n",
       "      <td>educational expenses</td>\n",
       "      <td>Short Term</td>\n",
       "      <td>78298.0</td>\n",
       "      <td>46037.0</td>\n",
       "      <td>2318.0</td>\n",
       "      <td>699.0</td>\n",
       "    </tr>\n",
       "    <tr>\n",
       "      <th>2</th>\n",
       "      <td>Home Mortgage</td>\n",
       "      <td>1152540.0</td>\n",
       "      <td>3 years</td>\n",
       "      <td>0.0</td>\n",
       "      <td>10.0</td>\n",
       "      <td>13.7</td>\n",
       "      <td>204600.0</td>\n",
       "      <td>0.0</td>\n",
       "      <td>NaN</td>\n",
       "      <td>0.0</td>\n",
       "      <td>debt consolidation</td>\n",
       "      <td>Short Term</td>\n",
       "      <td>200178.0</td>\n",
       "      <td>146490.0</td>\n",
       "      <td>18729.0</td>\n",
       "      <td>7260.0</td>\n",
       "    </tr>\n",
       "    <tr>\n",
       "      <th>3</th>\n",
       "      <td>Home Mortgage</td>\n",
       "      <td>1220313.0</td>\n",
       "      <td>10+ years</td>\n",
       "      <td>0.0</td>\n",
       "      <td>16.0</td>\n",
       "      <td>17.0</td>\n",
       "      <td>456302.0</td>\n",
       "      <td>0.0</td>\n",
       "      <td>70.0</td>\n",
       "      <td>0.0</td>\n",
       "      <td>debt consolidation</td>\n",
       "      <td>Short Term</td>\n",
       "      <td>217382.0</td>\n",
       "      <td>213199.0</td>\n",
       "      <td>27559.0</td>\n",
       "      <td>739.0</td>\n",
       "    </tr>\n",
       "    <tr>\n",
       "      <th>4</th>\n",
       "      <td>Home Mortgage</td>\n",
       "      <td>2340952.0</td>\n",
       "      <td>6 years</td>\n",
       "      <td>0.0</td>\n",
       "      <td>11.0</td>\n",
       "      <td>23.6</td>\n",
       "      <td>1207272.0</td>\n",
       "      <td>0.0</td>\n",
       "      <td>NaN</td>\n",
       "      <td>0.0</td>\n",
       "      <td>debt consolidation</td>\n",
       "      <td>Long Term</td>\n",
       "      <td>777634.0</td>\n",
       "      <td>425391.0</td>\n",
       "      <td>42605.0</td>\n",
       "      <td>706.0</td>\n",
       "    </tr>\n",
       "  </tbody>\n",
       "</table>\n",
       "</div>"
      ],
      "text/plain": [
       "  Home Ownership  Annual Income Years in current job  Tax Liens  \\\n",
       "0           Rent            NaN              4 years        0.0   \n",
       "1           Rent       231838.0               1 year        0.0   \n",
       "2  Home Mortgage      1152540.0              3 years        0.0   \n",
       "3  Home Mortgage      1220313.0            10+ years        0.0   \n",
       "4  Home Mortgage      2340952.0              6 years        0.0   \n",
       "\n",
       "   Number of Open Accounts  Years of Credit History  Maximum Open Credit  \\\n",
       "0                      9.0                     12.5             220968.0   \n",
       "1                      6.0                     32.7              55946.0   \n",
       "2                     10.0                     13.7             204600.0   \n",
       "3                     16.0                     17.0             456302.0   \n",
       "4                     11.0                     23.6            1207272.0   \n",
       "\n",
       "   Number of Credit Problems  Months since last delinquent  Bankruptcies  \\\n",
       "0                        0.0                          70.0           0.0   \n",
       "1                        0.0                           8.0           0.0   \n",
       "2                        0.0                           NaN           0.0   \n",
       "3                        0.0                          70.0           0.0   \n",
       "4                        0.0                           NaN           0.0   \n",
       "\n",
       "                Purpose        Term  Current Loan Amount  \\\n",
       "0    debt consolidation  Short Term             162470.0   \n",
       "1  educational expenses  Short Term              78298.0   \n",
       "2    debt consolidation  Short Term             200178.0   \n",
       "3    debt consolidation  Short Term             217382.0   \n",
       "4    debt consolidation   Long Term             777634.0   \n",
       "\n",
       "   Current Credit Balance  Monthly Debt  Credit Score  \n",
       "0                105906.0        6813.0           NaN  \n",
       "1                 46037.0        2318.0         699.0  \n",
       "2                146490.0       18729.0        7260.0  \n",
       "3                213199.0       27559.0         739.0  \n",
       "4                425391.0       42605.0         706.0  "
      ]
     },
     "execution_count": 6,
     "metadata": {},
     "output_type": "execute_result"
    }
   ],
   "source": [
    "test.head()"
   ]
  },
  {
   "cell_type": "code",
   "execution_count": 7,
   "id": "every-karaoke",
   "metadata": {
    "execution": {
     "iopub.execute_input": "2021-06-05T18:06:37.356125Z",
     "iopub.status.busy": "2021-06-05T18:06:37.355223Z",
     "iopub.status.idle": "2021-06-05T18:06:37.361088Z",
     "shell.execute_reply": "2021-06-05T18:06:37.360328Z",
     "shell.execute_reply.started": "2021-06-05T18:01:21.186581Z"
    },
    "papermill": {
     "duration": 0.028106,
     "end_time": "2021-06-05T18:06:37.361227",
     "exception": false,
     "start_time": "2021-06-05T18:06:37.333121",
     "status": "completed"
    },
    "tags": []
   },
   "outputs": [
    {
     "data": {
      "text/plain": [
       "(2500, 16)"
      ]
     },
     "execution_count": 7,
     "metadata": {},
     "output_type": "execute_result"
    }
   ],
   "source": [
    "test.shape"
   ]
  },
  {
   "cell_type": "code",
   "execution_count": 8,
   "id": "associate-squad",
   "metadata": {
    "execution": {
     "iopub.execute_input": "2021-06-05T18:06:37.417438Z",
     "iopub.status.busy": "2021-06-05T18:06:37.407439Z",
     "iopub.status.idle": "2021-06-05T18:06:37.420833Z",
     "shell.execute_reply": "2021-06-05T18:06:37.421768Z",
     "shell.execute_reply.started": "2021-06-05T18:01:21.199473Z"
    },
    "papermill": {
     "duration": 0.039653,
     "end_time": "2021-06-05T18:06:37.422032",
     "exception": false,
     "start_time": "2021-06-05T18:06:37.382379",
     "status": "completed"
    },
    "tags": []
   },
   "outputs": [
    {
     "name": "stdout",
     "output_type": "stream",
     "text": [
      "<class 'pandas.core.frame.DataFrame'>\n",
      "RangeIndex: 2500 entries, 0 to 2499\n",
      "Data columns (total 16 columns):\n",
      " #   Column                        Non-Null Count  Dtype  \n",
      "---  ------                        --------------  -----  \n",
      " 0   Home Ownership                2500 non-null   object \n",
      " 1   Annual Income                 1987 non-null   float64\n",
      " 2   Years in current job          2414 non-null   object \n",
      " 3   Tax Liens                     2500 non-null   float64\n",
      " 4   Number of Open Accounts       2500 non-null   float64\n",
      " 5   Years of Credit History       2500 non-null   float64\n",
      " 6   Maximum Open Credit           2500 non-null   float64\n",
      " 7   Number of Credit Problems     2500 non-null   float64\n",
      " 8   Months since last delinquent  1142 non-null   float64\n",
      " 9   Bankruptcies                  2497 non-null   float64\n",
      " 10  Purpose                       2500 non-null   object \n",
      " 11  Term                          2500 non-null   object \n",
      " 12  Current Loan Amount           2500 non-null   float64\n",
      " 13  Current Credit Balance        2500 non-null   float64\n",
      " 14  Monthly Debt                  2500 non-null   float64\n",
      " 15  Credit Score                  1987 non-null   float64\n",
      "dtypes: float64(12), object(4)\n",
      "memory usage: 312.6+ KB\n"
     ]
    }
   ],
   "source": [
    "test.info()"
   ]
  },
  {
   "cell_type": "code",
   "execution_count": 9,
   "id": "imported-horizontal",
   "metadata": {
    "execution": {
     "iopub.execute_input": "2021-06-05T18:06:37.469725Z",
     "iopub.status.busy": "2021-06-05T18:06:37.469205Z",
     "iopub.status.idle": "2021-06-05T18:06:37.473183Z",
     "shell.execute_reply": "2021-06-05T18:06:37.473696Z",
     "shell.execute_reply.started": "2021-06-05T18:01:21.224246Z"
    },
    "papermill": {
     "duration": 0.027048,
     "end_time": "2021-06-05T18:06:37.473845",
     "exception": false,
     "start_time": "2021-06-05T18:06:37.446797",
     "status": "completed"
    },
    "tags": []
   },
   "outputs": [],
   "source": [
    "test = test.drop(columns=['Home Ownership', 'Years in current job', 'Purpose', 'Term'])"
   ]
  },
  {
   "cell_type": "code",
   "execution_count": 10,
   "id": "together-aggregate",
   "metadata": {
    "execution": {
     "iopub.execute_input": "2021-06-05T18:06:37.517595Z",
     "iopub.status.busy": "2021-06-05T18:06:37.517067Z",
     "iopub.status.idle": "2021-06-05T18:06:37.521910Z",
     "shell.execute_reply": "2021-06-05T18:06:37.522445Z",
     "shell.execute_reply.started": "2021-06-05T18:01:21.236130Z"
    },
    "papermill": {
     "duration": 0.027941,
     "end_time": "2021-06-05T18:06:37.522567",
     "exception": false,
     "start_time": "2021-06-05T18:06:37.494626",
     "status": "completed"
    },
    "tags": []
   },
   "outputs": [],
   "source": [
    "train.loc[train['Bankruptcies'].isnull(), 'Bankruptcies'] = 0\n",
    "test.loc[test['Bankruptcies'].isnull(), 'Bankruptcies'] = 0"
   ]
  },
  {
   "cell_type": "code",
   "execution_count": 11,
   "id": "divine-weapon",
   "metadata": {
    "execution": {
     "iopub.execute_input": "2021-06-05T18:06:37.567684Z",
     "iopub.status.busy": "2021-06-05T18:06:37.567181Z",
     "iopub.status.idle": "2021-06-05T18:06:37.572651Z",
     "shell.execute_reply": "2021-06-05T18:06:37.573132Z",
     "shell.execute_reply.started": "2021-06-05T18:01:21.253105Z"
    },
    "papermill": {
     "duration": 0.030386,
     "end_time": "2021-06-05T18:06:37.573255",
     "exception": false,
     "start_time": "2021-06-05T18:06:37.542869",
     "status": "completed"
    },
    "tags": []
   },
   "outputs": [],
   "source": [
    "train.loc[train['Current Loan Amount'].isnull(), 'Current Loan Amount'] = train['Current Loan Amount'].median()\n",
    "test.loc[test['Current Loan Amount'].isnull(), 'Current Loan Amount'] = test['Current Loan Amount'].median()"
   ]
  },
  {
   "cell_type": "code",
   "execution_count": 12,
   "id": "signed-lloyd",
   "metadata": {
    "execution": {
     "iopub.execute_input": "2021-06-05T18:06:37.615416Z",
     "iopub.status.busy": "2021-06-05T18:06:37.614835Z",
     "iopub.status.idle": "2021-06-05T18:06:37.619481Z",
     "shell.execute_reply": "2021-06-05T18:06:37.619979Z",
     "shell.execute_reply.started": "2021-06-05T18:01:21.268162Z"
    },
    "papermill": {
     "duration": 0.02702,
     "end_time": "2021-06-05T18:06:37.620110",
     "exception": false,
     "start_time": "2021-06-05T18:06:37.593090",
     "status": "completed"
    },
    "tags": []
   },
   "outputs": [],
   "source": [
    "train.loc[train['Months since last delinquent'].isnull(), 'Months since last delinquent'] = 0\n",
    "test.loc[test['Months since last delinquent'].isnull(), 'Months since last delinquent'] = 0"
   ]
  },
  {
   "cell_type": "code",
   "execution_count": 13,
   "id": "interstate-myanmar",
   "metadata": {
    "execution": {
     "iopub.execute_input": "2021-06-05T18:06:37.661770Z",
     "iopub.status.busy": "2021-06-05T18:06:37.661205Z",
     "iopub.status.idle": "2021-06-05T18:06:37.666649Z",
     "shell.execute_reply": "2021-06-05T18:06:37.667221Z",
     "shell.execute_reply.started": "2021-06-05T18:01:21.279938Z"
    },
    "papermill": {
     "duration": 0.027285,
     "end_time": "2021-06-05T18:06:37.667348",
     "exception": false,
     "start_time": "2021-06-05T18:06:37.640063",
     "status": "completed"
    },
    "tags": []
   },
   "outputs": [],
   "source": [
    "train.loc[train['Annual Income'].isnull(), 'Annual Income'] = train['Annual Income'].median()\n",
    "test.loc[test['Annual Income'].isnull(), 'Annual Income'] = test['Annual Income'].median()"
   ]
  },
  {
   "cell_type": "code",
   "execution_count": 14,
   "id": "comparative-request",
   "metadata": {
    "execution": {
     "iopub.execute_input": "2021-06-05T18:06:37.709386Z",
     "iopub.status.busy": "2021-06-05T18:06:37.708882Z",
     "iopub.status.idle": "2021-06-05T18:06:37.713104Z",
     "shell.execute_reply": "2021-06-05T18:06:37.713659Z",
     "shell.execute_reply.started": "2021-06-05T18:01:21.293544Z"
    },
    "papermill": {
     "duration": 0.026649,
     "end_time": "2021-06-05T18:06:37.713802",
     "exception": false,
     "start_time": "2021-06-05T18:06:37.687153",
     "status": "completed"
    },
    "tags": []
   },
   "outputs": [],
   "source": [
    "train.loc[train['Credit Score'].isnull(), 'Credit Score'] = 0\n",
    "test.loc[test['Credit Score'].isnull(), 'Credit Score'] = 0"
   ]
  },
  {
   "cell_type": "code",
   "execution_count": 15,
   "id": "bright-commerce",
   "metadata": {
    "execution": {
     "iopub.execute_input": "2021-06-05T18:06:37.755246Z",
     "iopub.status.busy": "2021-06-05T18:06:37.754713Z",
     "iopub.status.idle": "2021-06-05T18:06:37.758822Z",
     "shell.execute_reply": "2021-06-05T18:06:37.759317Z",
     "shell.execute_reply.started": "2021-06-05T18:01:21.304493Z"
    },
    "papermill": {
     "duration": 0.026027,
     "end_time": "2021-06-05T18:06:37.759437",
     "exception": false,
     "start_time": "2021-06-05T18:06:37.733410",
     "status": "completed"
    },
    "tags": []
   },
   "outputs": [
    {
     "data": {
      "text/plain": [
       "((7500, 17), (2500, 12))"
      ]
     },
     "execution_count": 15,
     "metadata": {},
     "output_type": "execute_result"
    }
   ],
   "source": [
    "(train.shape,test.shape)"
   ]
  },
  {
   "cell_type": "code",
   "execution_count": 16,
   "id": "latter-threat",
   "metadata": {
    "execution": {
     "iopub.execute_input": "2021-06-05T18:06:37.803202Z",
     "iopub.status.busy": "2021-06-05T18:06:37.802695Z",
     "iopub.status.idle": "2021-06-05T18:06:38.611884Z",
     "shell.execute_reply": "2021-06-05T18:06:38.612312Z",
     "shell.execute_reply.started": "2021-06-05T18:01:21.318260Z"
    },
    "papermill": {
     "duration": 0.832801,
     "end_time": "2021-06-05T18:06:38.612463",
     "exception": false,
     "start_time": "2021-06-05T18:06:37.779662",
     "status": "completed"
    },
    "tags": []
   },
   "outputs": [
    {
     "data": {
      "text/plain": [
       "((5250, 12), (2250, 12))"
      ]
     },
     "execution_count": 16,
     "metadata": {},
     "output_type": "execute_result"
    }
   ],
   "source": [
    "from sklearn.model_selection import train_test_split, GridSearchCV\n",
    "X = train.drop(columns=['Home Ownership', 'Years in current job', 'Purpose', 'Term', 'Credit Default'])\n",
    "y = train['Credit Default']\n",
    "X_train, X_test, y_train, y_test = train_test_split(X, y, test_size=0.3, shuffle=True, random_state=12)\n",
    "X_train.shape, X_test.shape"
   ]
  },
  {
   "cell_type": "code",
   "execution_count": 17,
   "id": "amateur-cooling",
   "metadata": {
    "execution": {
     "iopub.execute_input": "2021-06-05T18:06:38.656344Z",
     "iopub.status.busy": "2021-06-05T18:06:38.655782Z",
     "iopub.status.idle": "2021-06-05T18:06:41.578432Z",
     "shell.execute_reply": "2021-06-05T18:06:41.578885Z",
     "shell.execute_reply.started": "2021-06-05T18:01:21.680107Z"
    },
    "papermill": {
     "duration": 2.945908,
     "end_time": "2021-06-05T18:06:41.579058",
     "exception": false,
     "start_time": "2021-06-05T18:06:38.633150",
     "status": "completed"
    },
    "tags": []
   },
   "outputs": [],
   "source": [
    "from sklearn.tree import DecisionTreeClassifier\n",
    "tree = DecisionTreeClassifier(random_state=12)\n",
    "param_grid=[{\n",
    "             'max_depth': range(1, 7), \n",
    "             'min_samples_leaf': range(1, 7), \n",
    "            }]\n",
    "\n",
    "grid_search = GridSearchCV(tree, param_grid, cv=5, scoring='accuracy')\n",
    "grid_search.fit(X_train, y_train)\n",
    "tree = grid_search.best_estimator_"
   ]
  },
  {
   "cell_type": "code",
   "execution_count": 18,
   "id": "motivated-trunk",
   "metadata": {
    "execution": {
     "iopub.execute_input": "2021-06-05T18:06:41.624370Z",
     "iopub.status.busy": "2021-06-05T18:06:41.623500Z",
     "iopub.status.idle": "2021-06-05T18:06:41.629188Z",
     "shell.execute_reply": "2021-06-05T18:06:41.629662Z",
     "shell.execute_reply.started": "2021-06-05T18:01:24.780280Z"
    },
    "papermill": {
     "duration": 0.029513,
     "end_time": "2021-06-05T18:06:41.629830",
     "exception": false,
     "start_time": "2021-06-05T18:06:41.600317",
     "status": "completed"
    },
    "tags": []
   },
   "outputs": [],
   "source": [
    "from sklearn.metrics import classification_report\n",
    "def get_classification_report(y_train_true, y_train_pred, y_test_true, y_test_pred):\n",
    "    print('TRAIN\\n\\n' + classification_report(y_train_true, y_train_pred))\n",
    "    print('TEST\\n\\n' + classification_report(y_test_true, y_test_pred))\n",
    "    print('CONFUSION MATRIX\\n')\n",
    "    print(pd.crosstab(y_test_true, y_test_pred))\n",
    "\n",
    "def evaluate_preds(model, X_train, X_test, y_train, y_test):\n",
    "    y_train_pred = model.predict(X_train)\n",
    "    y_test_pred = model.predict(X_test)\n",
    "\n",
    "    get_classification_report(y_train, y_train_pred, y_test, y_test_pred)"
   ]
  },
  {
   "cell_type": "code",
   "execution_count": 19,
   "id": "equivalent-secret",
   "metadata": {
    "execution": {
     "iopub.execute_input": "2021-06-05T18:06:41.672787Z",
     "iopub.status.busy": "2021-06-05T18:06:41.671906Z",
     "iopub.status.idle": "2021-06-05T18:06:41.728417Z",
     "shell.execute_reply": "2021-06-05T18:06:41.727932Z",
     "shell.execute_reply.started": "2021-06-05T18:01:24.788410Z"
    },
    "papermill": {
     "duration": 0.078302,
     "end_time": "2021-06-05T18:06:41.728546",
     "exception": false,
     "start_time": "2021-06-05T18:06:41.650244",
     "status": "completed"
    },
    "tags": []
   },
   "outputs": [
    {
     "name": "stdout",
     "output_type": "stream",
     "text": [
      "TRAIN\n",
      "\n",
      "              precision    recall  f1-score   support\n",
      "\n",
      "           0       0.76      1.00      0.86      3759\n",
      "           1       1.00      0.19      0.32      1491\n",
      "\n",
      "    accuracy                           0.77      5250\n",
      "   macro avg       0.88      0.60      0.59      5250\n",
      "weighted avg       0.83      0.77      0.71      5250\n",
      "\n",
      "TEST\n",
      "\n",
      "              precision    recall  f1-score   support\n",
      "\n",
      "           0       0.76      1.00      0.87      1628\n",
      "           1       1.00      0.18      0.31       622\n",
      "\n",
      "    accuracy                           0.77      2250\n",
      "   macro avg       0.88      0.59      0.59      2250\n",
      "weighted avg       0.83      0.77      0.71      2250\n",
      "\n",
      "CONFUSION MATRIX\n",
      "\n",
      "col_0              0    1\n",
      "Credit Default           \n",
      "0               1628    0\n",
      "1                507  115\n"
     ]
    }
   ],
   "source": [
    "evaluate_preds(tree, X_train, X_test, y_train, y_test)"
   ]
  },
  {
   "cell_type": "code",
   "execution_count": 20,
   "id": "fossil-opposition",
   "metadata": {
    "execution": {
     "iopub.execute_input": "2021-06-05T18:06:41.776291Z",
     "iopub.status.busy": "2021-06-05T18:06:41.775618Z",
     "iopub.status.idle": "2021-06-05T18:06:41.778823Z",
     "shell.execute_reply": "2021-06-05T18:06:41.778282Z",
     "shell.execute_reply.started": "2021-06-05T18:01:24.848747Z"
    },
    "papermill": {
     "duration": 0.029303,
     "end_time": "2021-06-05T18:06:41.778954",
     "exception": false,
     "start_time": "2021-06-05T18:06:41.749651",
     "status": "completed"
    },
    "tags": []
   },
   "outputs": [],
   "source": [
    "pred_test = tree.predict(test)"
   ]
  },
  {
   "cell_type": "code",
   "execution_count": 21,
   "id": "dangerous-sailing",
   "metadata": {
    "execution": {
     "iopub.execute_input": "2021-06-05T18:06:41.827959Z",
     "iopub.status.busy": "2021-06-05T18:06:41.827355Z",
     "iopub.status.idle": "2021-06-05T18:06:41.865737Z",
     "shell.execute_reply": "2021-06-05T18:06:41.865206Z",
     "shell.execute_reply.started": "2021-06-05T18:02:13.248782Z"
    },
    "papermill": {
     "duration": 0.065024,
     "end_time": "2021-06-05T18:06:41.865853",
     "exception": false,
     "start_time": "2021-06-05T18:06:41.800829",
     "status": "completed"
    },
    "tags": []
   },
   "outputs": [
    {
     "name": "stdout",
     "output_type": "stream",
     "text": [
      "TRAIN\n",
      "\n",
      "              precision    recall  f1-score   support\n",
      "\n",
      "           0       0.76      1.00      0.86      5387\n",
      "           1       1.00      0.19      0.32      2113\n",
      "\n",
      "    accuracy                           0.77      7500\n",
      "   macro avg       0.88      0.59      0.59      7500\n",
      "weighted avg       0.83      0.77      0.71      7500\n",
      "\n",
      "TEST\n",
      "\n",
      "              precision    recall  f1-score   support\n",
      "\n",
      "           0       1.00      1.00      1.00      2340\n",
      "           1       1.00      1.00      1.00       160\n",
      "\n",
      "    accuracy                           1.00      2500\n",
      "   macro avg       1.00      1.00      1.00      2500\n",
      "weighted avg       1.00      1.00      1.00      2500\n",
      "\n",
      "CONFUSION MATRIX\n",
      "\n",
      "col_0     0    1\n",
      "row_0           \n",
      "0      2340    0\n",
      "1         0  160\n"
     ]
    }
   ],
   "source": [
    "evaluate_preds(tree, X, test, y, pred_test)"
   ]
  },
  {
   "cell_type": "code",
   "execution_count": 22,
   "id": "average-block",
   "metadata": {
    "execution": {
     "iopub.execute_input": "2021-06-05T18:06:41.915658Z",
     "iopub.status.busy": "2021-06-05T18:06:41.915113Z",
     "iopub.status.idle": "2021-06-05T18:06:41.918253Z",
     "shell.execute_reply": "2021-06-05T18:06:41.917752Z",
     "shell.execute_reply.started": "2021-06-05T18:05:14.193292Z"
    },
    "papermill": {
     "duration": 0.030971,
     "end_time": "2021-06-05T18:06:41.918369",
     "exception": false,
     "start_time": "2021-06-05T18:06:41.887398",
     "status": "completed"
    },
    "tags": []
   },
   "outputs": [],
   "source": [
    "result = pd.DataFrame()\n",
    "result['Id'] = test.index\n",
    "result['Credit Default'] = pd.Series(pred_test)"
   ]
  },
  {
   "cell_type": "code",
   "execution_count": 23,
   "id": "center-encoding",
   "metadata": {
    "execution": {
     "iopub.execute_input": "2021-06-05T18:06:41.965564Z",
     "iopub.status.busy": "2021-06-05T18:06:41.965022Z",
     "iopub.status.idle": "2021-06-05T18:06:41.977491Z",
     "shell.execute_reply": "2021-06-05T18:06:41.976938Z",
     "shell.execute_reply.started": "2021-06-05T18:05:58.419713Z"
    },
    "papermill": {
     "duration": 0.037196,
     "end_time": "2021-06-05T18:06:41.977607",
     "exception": false,
     "start_time": "2021-06-05T18:06:41.940411",
     "status": "completed"
    },
    "tags": []
   },
   "outputs": [
    {
     "data": {
      "text/plain": [
       "array([[   0,    0],\n",
       "       [   1,    0],\n",
       "       [   2,    1],\n",
       "       ...,\n",
       "       [2497,    0],\n",
       "       [2498,    0],\n",
       "       [2499,    1]])"
      ]
     },
     "execution_count": 23,
     "metadata": {},
     "output_type": "execute_result"
    }
   ],
   "source": [
    "result.to_csv('prediction_0506_v1.csv', index=False)\n",
    "result.values"
   ]
  }
 ],
 "metadata": {
  "kernelspec": {
   "display_name": "Python 3",
   "language": "python",
   "name": "python3"
  },
  "language_info": {
   "codemirror_mode": {
    "name": "ipython",
    "version": 3
   },
   "file_extension": ".py",
   "mimetype": "text/x-python",
   "name": "python",
   "nbconvert_exporter": "python",
   "pygments_lexer": "ipython3",
   "version": "3.7.10"
  },
  "papermill": {
   "default_parameters": {},
   "duration": 12.412481,
   "end_time": "2021-06-05T18:06:42.608525",
   "environment_variables": {},
   "exception": null,
   "input_path": "__notebook__.ipynb",
   "output_path": "__notebook__.ipynb",
   "parameters": {},
   "start_time": "2021-06-05T18:06:30.196044",
   "version": "2.3.3"
  }
 },
 "nbformat": 4,
 "nbformat_minor": 5
}
