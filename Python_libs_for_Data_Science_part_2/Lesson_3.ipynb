{
 "cells": [
  {
   "cell_type": "markdown",
   "metadata": {},
   "source": [
    "__1.__ Заполните пропуски и выбросы в наиболее проблемных признаках"
   ]
  },
  {
   "cell_type": "code",
   "execution_count": 1,
   "metadata": {},
   "outputs": [],
   "source": [
    "import pandas as pd\n",
    "l3d = pd.read_csv('train.csv')\n",
    "y = l3d['Credit Default']"
   ]
  },
  {
   "cell_type": "code",
   "execution_count": 2,
   "metadata": {},
   "outputs": [
    {
     "data": {
      "text/plain": [
       "Home Ownership                     0\n",
       "Annual Income                   1557\n",
       "Years in current job             371\n",
       "Tax Liens                          0\n",
       "Number of Open Accounts            0\n",
       "Years of Credit History            0\n",
       "Maximum Open Credit                0\n",
       "Number of Credit Problems          0\n",
       "Months since last delinquent    4081\n",
       "Bankruptcies                      14\n",
       "Purpose                            0\n",
       "Term                               0\n",
       "Current Loan Amount                0\n",
       "Current Credit Balance             0\n",
       "Monthly Debt                       0\n",
       "Credit Score                    1557\n",
       "Credit Default                     0\n",
       "dtype: int64"
      ]
     },
     "execution_count": 2,
     "metadata": {},
     "output_type": "execute_result"
    }
   ],
   "source": [
    "l3d.isnull().sum()"
   ]
  },
  {
   "cell_type": "code",
   "execution_count": 3,
   "metadata": {},
   "outputs": [
    {
     "data": {
      "text/plain": [
       "Home Ownership                     0\n",
       "Annual Income                   1557\n",
       "Years in current job             371\n",
       "Tax Liens                          0\n",
       "Number of Open Accounts            0\n",
       "Years of Credit History            0\n",
       "Maximum Open Credit                0\n",
       "Number of Credit Problems          0\n",
       "Months since last delinquent    4081\n",
       "Bankruptcies                      14\n",
       "Purpose                            0\n",
       "Term                               0\n",
       "Current Loan Amount                0\n",
       "Current Credit Balance             0\n",
       "Monthly Debt                       0\n",
       "Credit Score                    1557\n",
       "Credit Default                     0\n",
       "dtype: int64"
      ]
     },
     "execution_count": 3,
     "metadata": {},
     "output_type": "execute_result"
    }
   ],
   "source": [
    "l3d.isna().sum()"
   ]
  },
  {
   "cell_type": "code",
   "execution_count": 4,
   "metadata": {},
   "outputs": [
    {
     "name": "stdout",
     "output_type": "stream",
     "text": [
      "<class 'pandas.core.frame.DataFrame'>\n",
      "RangeIndex: 7500 entries, 0 to 7499\n",
      "Data columns (total 17 columns):\n",
      " #   Column                        Non-Null Count  Dtype  \n",
      "---  ------                        --------------  -----  \n",
      " 0   Home Ownership                7500 non-null   object \n",
      " 1   Annual Income                 5943 non-null   float64\n",
      " 2   Years in current job          7129 non-null   object \n",
      " 3   Tax Liens                     7500 non-null   float64\n",
      " 4   Number of Open Accounts       7500 non-null   float64\n",
      " 5   Years of Credit History       7500 non-null   float64\n",
      " 6   Maximum Open Credit           7500 non-null   float64\n",
      " 7   Number of Credit Problems     7500 non-null   float64\n",
      " 8   Months since last delinquent  3419 non-null   float64\n",
      " 9   Bankruptcies                  7486 non-null   float64\n",
      " 10  Purpose                       7500 non-null   object \n",
      " 11  Term                          7500 non-null   object \n",
      " 12  Current Loan Amount           7500 non-null   float64\n",
      " 13  Current Credit Balance        7500 non-null   float64\n",
      " 14  Monthly Debt                  7500 non-null   float64\n",
      " 15  Credit Score                  5943 non-null   float64\n",
      " 16  Credit Default                7500 non-null   int64  \n",
      "dtypes: float64(12), int64(1), object(4)\n",
      "memory usage: 996.2+ KB\n"
     ]
    }
   ],
   "source": [
    "l3d.info()"
   ]
  },
  {
   "cell_type": "code",
   "execution_count": 5,
   "metadata": {},
   "outputs": [],
   "source": [
    "num_features = ['Annual Income', 'Tax Liens', 'Number of Open Accounts', 'Years of Credit History', 'Maximum Open Credit', 'Number of Credit Problems', 'Months since last delinquent', 'Bankruptcies', 'Current Loan Amount', 'Current Credit Balance', 'Monthly Debt', 'Credit Score']\n",
    "other_features = ['Home Ownership', 'Years in current job', 'Purpose', 'Term']"
   ]
  },
  {
   "cell_type": "code",
   "execution_count": 6,
   "metadata": {},
   "outputs": [
    {
     "name": "stderr",
     "output_type": "stream",
     "text": [
      "/home/mrp/anaconda3/envs/FR/lib/python3.7/site-packages/ipykernel_launcher.py:4: UserWarning: To output multiple subplots, the figure containing the passed axes is being cleared\n",
      "  after removing the cwd from sys.path.\n"
     ]
    },
    {
     "data": {
      "text/plain": [
       "array([[<matplotlib.axes._subplots.AxesSubplot object at 0x7f2f40f70410>,\n",
       "        <matplotlib.axes._subplots.AxesSubplot object at 0x7f2f18c34910>,\n",
       "        <matplotlib.axes._subplots.AxesSubplot object at 0x7f2f18bf3c90>],\n",
       "       [<matplotlib.axes._subplots.AxesSubplot object at 0x7f2f18ba1b90>,\n",
       "        <matplotlib.axes._subplots.AxesSubplot object at 0x7f2f18b60e50>,\n",
       "        <matplotlib.axes._subplots.AxesSubplot object at 0x7f2f18b16b10>],\n",
       "       [<matplotlib.axes._subplots.AxesSubplot object at 0x7f2f18ad4f90>,\n",
       "        <matplotlib.axes._subplots.AxesSubplot object at 0x7f2f18a8ab50>,\n",
       "        <matplotlib.axes._subplots.AxesSubplot object at 0x7f2f18a926d0>],\n",
       "       [<matplotlib.axes._subplots.AxesSubplot object at 0x7f2f18a56090>,\n",
       "        <matplotlib.axes._subplots.AxesSubplot object at 0x7f2f189bdf10>,\n",
       "        <matplotlib.axes._subplots.AxesSubplot object at 0x7f2f189f3bd0>]],\n",
       "      dtype=object)"
      ]
     },
     "execution_count": 6,
     "metadata": {},
     "output_type": "execute_result"
    },
    {
     "data": {
      "image/png": "[encoded data removed]",
      "text/plain": [
       "<Figure size 1080x1440 with 12 Axes>"
      ]
     },
     "metadata": {
      "needs_background": "light"
     },
     "output_type": "display_data"
    }
   ],
   "source": [
    "from matplotlib import pyplot as plt\n",
    "fig = plt.figure(figsize = (15,20))\n",
    "ax = fig.gca()\n",
    "l3d[num_features].diff().hist(bins=20, ax=ax)"
   ]
  },
  {
   "cell_type": "code",
   "execution_count": 7,
   "metadata": {},
   "outputs": [],
   "source": [
    "l3d['Annual Income'] = l3d['Annual Income'].fillna(l3d['Annual Income'].median())\n",
    "l3d['Bankruptcies'] = l3d['Bankruptcies'].fillna(l3d['Bankruptcies'].median())"
   ]
  },
  {
   "cell_type": "markdown",
   "metadata": {},
   "source": [
    "Выводы:\n",
    "- признаки \"Months since last delinquent\" и \"Credit Score\" по смыслу не подходят для заполнения отсутствующих значени;\n",
    "- графики визуально показывают выбросы, но по субъективной оценке ни на одном из графиков нельзя отдельно стоящие значения назвать выбросами из-за наличия воображаемого нормального распределения;\n",
    "- на данном этапе не ясно как заполнять отсутствующие значения с типом данных \"object\"."
   ]
  },
  {
   "cell_type": "markdown",
   "metadata": {},
   "source": [
    "__2.__ Переведите строковые признаки в числовое представление."
   ]
  },
  {
   "cell_type": "code",
   "execution_count": 8,
   "metadata": {},
   "outputs": [
    {
     "data": {
      "text/plain": [
       "10+ years    2332\n",
       "2 years       705\n",
       "3 years       620\n",
       "< 1 year      563\n",
       "5 years       516\n",
       "1 year        504\n",
       "4 years       469\n",
       "6 years       426\n",
       "7 years       396\n",
       "8 years       339\n",
       "9 years       259\n",
       "Name: Years in current job, dtype: int64"
      ]
     },
     "execution_count": 8,
     "metadata": {},
     "output_type": "execute_result"
    }
   ],
   "source": [
    "l3d['Years in current job'].value_counts()"
   ]
  },
  {
   "cell_type": "code",
   "execution_count": 9,
   "metadata": {},
   "outputs": [
    {
     "name": "stdout",
     "output_type": "stream",
     "text": [
      "<class 'pandas.core.frame.DataFrame'>\n",
      "RangeIndex: 7500 entries, 0 to 7499\n",
      "Data columns (total 28 columns):\n",
      " #   Column                        Non-Null Count  Dtype  \n",
      "---  ------                        --------------  -----  \n",
      " 0   Home Ownership                7500 non-null   object \n",
      " 1   Annual Income                 7500 non-null   float64\n",
      " 2   Years in current job          7129 non-null   object \n",
      " 3   Tax Liens                     7500 non-null   float64\n",
      " 4   Number of Open Accounts       7500 non-null   float64\n",
      " 5   Years of Credit History       7500 non-null   float64\n",
      " 6   Maximum Open Credit           7500 non-null   float64\n",
      " 7   Number of Credit Problems     7500 non-null   float64\n",
      " 8   Months since last delinquent  3419 non-null   float64\n",
      " 9   Bankruptcies                  7500 non-null   float64\n",
      " 10  Purpose                       7500 non-null   object \n",
      " 11  Term                          7500 non-null   object \n",
      " 12  Current Loan Amount           7500 non-null   float64\n",
      " 13  Current Credit Balance        7500 non-null   float64\n",
      " 14  Monthly Debt                  7500 non-null   float64\n",
      " 15  Credit Score                  5943 non-null   float64\n",
      " 16  Credit Default                7500 non-null   int64  \n",
      " 17  1 year                        7500 non-null   uint8  \n",
      " 18  10+ years                     7500 non-null   uint8  \n",
      " 19  2 years                       7500 non-null   uint8  \n",
      " 20  3 years                       7500 non-null   uint8  \n",
      " 21  4 years                       7500 non-null   uint8  \n",
      " 22  5 years                       7500 non-null   uint8  \n",
      " 23  6 years                       7500 non-null   uint8  \n",
      " 24  7 years                       7500 non-null   uint8  \n",
      " 25  8 years                       7500 non-null   uint8  \n",
      " 26  9 years                       7500 non-null   uint8  \n",
      " 27  < 1 year                      7500 non-null   uint8  \n",
      "dtypes: float64(12), int64(1), object(4), uint8(11)\n",
      "memory usage: 1.1+ MB\n"
     ]
    }
   ],
   "source": [
    "l3d = pd.concat([l3d, pd.get_dummies(l3d['Years in current job'])], axis=1)\n",
    "l3d.info()"
   ]
  },
  {
   "cell_type": "code",
   "execution_count": 10,
   "metadata": {},
   "outputs": [
    {
     "data": {
      "text/plain": [
       "Short Term    5556\n",
       "Long Term     1944\n",
       "Name: Term, dtype: int64"
      ]
     },
     "execution_count": 10,
     "metadata": {},
     "output_type": "execute_result"
    }
   ],
   "source": [
    "l3d['Term'].value_counts()"
   ]
  },
  {
   "cell_type": "code",
   "execution_count": 11,
   "metadata": {},
   "outputs": [],
   "source": [
    "l3d = pd.concat([l3d, pd.get_dummies(l3d['Term'])], axis=1)"
   ]
  },
  {
   "cell_type": "code",
   "execution_count": 12,
   "metadata": {},
   "outputs": [
    {
     "data": {
      "text/plain": [
       "debt consolidation      5944\n",
       "other                    665\n",
       "home improvements        412\n",
       "business loan            129\n",
       "buy a car                 96\n",
       "medical bills             71\n",
       "major purchase            40\n",
       "take a trip               37\n",
       "buy house                 34\n",
       "small business            26\n",
       "wedding                   15\n",
       "moving                    11\n",
       "educational expenses      10\n",
       "vacation                   8\n",
       "renewable energy           2\n",
       "Name: Purpose, dtype: int64"
      ]
     },
     "execution_count": 12,
     "metadata": {},
     "output_type": "execute_result"
    }
   ],
   "source": [
    "l3d['Purpose'].value_counts()"
   ]
  },
  {
   "cell_type": "code",
   "execution_count": 13,
   "metadata": {},
   "outputs": [],
   "source": [
    "l3d = pd.concat([l3d, pd.get_dummies(l3d['Purpose'])], axis=1)"
   ]
  },
  {
   "cell_type": "markdown",
   "metadata": {},
   "source": [
    "Выводы:\n",
    "- нет понимания в подходящем инструменте для заполнения признака \"Years in current job\" (LabelEncoder не подходит для строковой категории с числом в строке, pd.get_dummies создала огромное количество столбцов, другие инструмены не очень понятны);\n",
    "- после использования get_dummies все пропуски заполняются нулями, что может быть не совсем корректно."
   ]
  },
  {
   "cell_type": "markdown",
   "metadata": {},
   "source": [
    "__3.__ Обучите любую модель на ваш выбор. Посчитайте метрику, которая подходит для задачи классификации."
   ]
  },
  {
   "cell_type": "code",
   "execution_count": 14,
   "metadata": {},
   "outputs": [
    {
     "name": "stdout",
     "output_type": "stream",
     "text": [
      "<class 'pandas.core.frame.DataFrame'>\n",
      "RangeIndex: 7500 entries, 0 to 7499\n",
      "Data columns (total 45 columns):\n",
      " #   Column                        Non-Null Count  Dtype  \n",
      "---  ------                        --------------  -----  \n",
      " 0   Home Ownership                7500 non-null   object \n",
      " 1   Annual Income                 7500 non-null   float64\n",
      " 2   Years in current job          7129 non-null   object \n",
      " 3   Tax Liens                     7500 non-null   float64\n",
      " 4   Number of Open Accounts       7500 non-null   float64\n",
      " 5   Years of Credit History       7500 non-null   float64\n",
      " 6   Maximum Open Credit           7500 non-null   float64\n",
      " 7   Number of Credit Problems     7500 non-null   float64\n",
      " 8   Months since last delinquent  3419 non-null   float64\n",
      " 9   Bankruptcies                  7500 non-null   float64\n",
      " 10  Purpose                       7500 non-null   object \n",
      " 11  Term                          7500 non-null   object \n",
      " 12  Current Loan Amount           7500 non-null   float64\n",
      " 13  Current Credit Balance        7500 non-null   float64\n",
      " 14  Monthly Debt                  7500 non-null   float64\n",
      " 15  Credit Score                  5943 non-null   float64\n",
      " 16  Credit Default                7500 non-null   int64  \n",
      " 17  1 year                        7500 non-null   uint8  \n",
      " 18  10+ years                     7500 non-null   uint8  \n",
      " 19  2 years                       7500 non-null   uint8  \n",
      " 20  3 years                       7500 non-null   uint8  \n",
      " 21  4 years                       7500 non-null   uint8  \n",
      " 22  5 years                       7500 non-null   uint8  \n",
      " 23  6 years                       7500 non-null   uint8  \n",
      " 24  7 years                       7500 non-null   uint8  \n",
      " 25  8 years                       7500 non-null   uint8  \n",
      " 26  9 years                       7500 non-null   uint8  \n",
      " 27  < 1 year                      7500 non-null   uint8  \n",
      " 28  Long Term                     7500 non-null   uint8  \n",
      " 29  Short Term                    7500 non-null   uint8  \n",
      " 30  business loan                 7500 non-null   uint8  \n",
      " 31  buy a car                     7500 non-null   uint8  \n",
      " 32  buy house                     7500 non-null   uint8  \n",
      " 33  debt consolidation            7500 non-null   uint8  \n",
      " 34  educational expenses          7500 non-null   uint8  \n",
      " 35  home improvements             7500 non-null   uint8  \n",
      " 36  major purchase                7500 non-null   uint8  \n",
      " 37  medical bills                 7500 non-null   uint8  \n",
      " 38  moving                        7500 non-null   uint8  \n",
      " 39  other                         7500 non-null   uint8  \n",
      " 40  renewable energy              7500 non-null   uint8  \n",
      " 41  small business                7500 non-null   uint8  \n",
      " 42  take a trip                   7500 non-null   uint8  \n",
      " 43  vacation                      7500 non-null   uint8  \n",
      " 44  wedding                       7500 non-null   uint8  \n",
      "dtypes: float64(12), int64(1), object(4), uint8(28)\n",
      "memory usage: 1.2+ MB\n"
     ]
    }
   ],
   "source": [
    "l3d.info()"
   ]
  },
  {
   "cell_type": "code",
   "execution_count": 15,
   "metadata": {},
   "outputs": [
    {
     "data": {
      "text/plain": [
       "0    0.718286\n",
       "1    0.281714\n",
       "Name: Credit Default, dtype: float64"
      ]
     },
     "metadata": {},
     "output_type": "display_data"
    },
    {
     "data": {
      "text/plain": [
       "0    0.718222\n",
       "1    0.281778\n",
       "Name: Credit Default, dtype: float64"
      ]
     },
     "metadata": {},
     "output_type": "display_data"
    }
   ],
   "source": [
    "from sklearn.model_selection import train_test_split\n",
    "X = l3d.drop(other_features, axis=1)\n",
    "y = l3d['Credit Default']\n",
    "X.drop(['Credit Default'], axis=1, inplace=True)\n",
    "X['Months since last delinquent'] = X['Months since last delinquent'].fillna(0)\n",
    "X['Credit Score'] = X['Credit Score'].fillna(0)\n",
    "\n",
    "X_train, X_test, y_train, y_test = train_test_split(X, y, \n",
    "                                                    shuffle=True,\n",
    "                                                    test_size=0.3,\n",
    "                                                    random_state=21,\n",
    "                                                    stratify=y\n",
    "                                                   )\n",
    "\n",
    "display(y_train.value_counts(normalize=True), y_test.value_counts(normalize=True))"
   ]
  },
  {
   "cell_type": "code",
   "execution_count": 16,
   "metadata": {},
   "outputs": [],
   "source": [
    "from sklearn.metrics import classification_report\n",
    "\n",
    "def get_classification_report(y_train_true, y_train_pred, y_test_true, y_test_pred):\n",
    "    print('TRAIN\\n\\n' + classification_report(y_train_true, y_train_pred))\n",
    "    print('TEST\\n\\n' + classification_report(y_test_true, y_test_pred))\n",
    "    print('CONFUSION MATRIX\\n')\n",
    "    print(pd.crosstab(y_test_true, y_test_pred))\n",
    "\n",
    "def evaluate_preds(model, X_train, X_test, y_train, y_test):\n",
    "    y_train_pred = model.predict(X_train)\n",
    "    y_test_pred = model.predict(X_test)\n",
    "\n",
    "    get_classification_report(y_train, y_train_pred, y_test, y_test_pred)"
   ]
  },
  {
   "cell_type": "code",
   "execution_count": 17,
   "metadata": {},
   "outputs": [
    {
     "name": "stdout",
     "output_type": "stream",
     "text": [
      "TRAIN\n",
      "\n",
      "              precision    recall  f1-score   support\n",
      "\n",
      "           0       0.76      0.98      0.86      3771\n",
      "           1       0.84      0.21      0.33      1479\n",
      "\n",
      "    accuracy                           0.77      5250\n",
      "   macro avg       0.80      0.60      0.59      5250\n",
      "weighted avg       0.78      0.77      0.71      5250\n",
      "\n",
      "TEST\n",
      "\n",
      "              precision    recall  f1-score   support\n",
      "\n",
      "           0       0.76      0.98      0.86      1616\n",
      "           1       0.82      0.20      0.32       634\n",
      "\n",
      "    accuracy                           0.76      2250\n",
      "   macro avg       0.79      0.59      0.59      2250\n",
      "weighted avg       0.77      0.76      0.70      2250\n",
      "\n",
      "CONFUSION MATRIX\n",
      "\n",
      "col_0              0    1\n",
      "Credit Default           \n",
      "0               1588   28\n",
      "1                508  126\n"
     ]
    }
   ],
   "source": [
    "from sklearn.linear_model import LogisticRegression\n",
    "model_lr = LogisticRegression()\n",
    "model_lr.fit(X_train, y_train)\n",
    "\n",
    "evaluate_preds(model_lr, X_train, X_test, y_train, y_test)"
   ]
  },
  {
   "cell_type": "markdown",
   "metadata": {},
   "source": [
    "Выводы:\n",
    "- нет понимания правильности заполнения признаков нулями;\n",
    "- наименьшая метрика равна 0.59, что для \"боевой\" задачи недостаточно;\n",
    "- болшое количество характеристик (для дополнительного изучения), которые еще не усвоил."
   ]
  },
  {
   "cell_type": "markdown",
   "metadata": {},
   "source": [
    "__4.__ Сделайте балансировку данных с помощью пройденных на уроке подходов и еще раз обучите модель."
   ]
  },
  {
   "cell_type": "code",
   "execution_count": 18,
   "metadata": {},
   "outputs": [],
   "source": [
    "def balance_df_by_target(df, target_name, method='over'):\n",
    "\n",
    "    assert method in ['over', 'under', 'tomek', 'smote'], 'Неверный метод сэмплирования'\n",
    "    \n",
    "    target_counts = df[target_name].value_counts()\n",
    "\n",
    "    major_class_name = target_counts.argmax()\n",
    "    minor_class_name = target_counts.argmin()\n",
    "\n",
    "    disbalance_coeff = int(target_counts[major_class_name] / target_counts[minor_class_name]) - 1\n",
    "    if method == 'over':\n",
    "        for i in range(disbalance_coeff):\n",
    "            sample = df[df[target_name] == minor_class_name].sample(target_counts[minor_class_name])\n",
    "            df = df.append(sample, ignore_index=True)\n",
    "            \n",
    "    elif method == 'under':\n",
    "        df_ = df.copy()\n",
    "        df = df_[df_[target_name] == minor_class_name]\n",
    "        tmp = df_[df_[target_name] == major_class_name]\n",
    "        df = df.append(tmp.iloc[\n",
    "            np.random.randint(0, tmp.shape[0], target_counts[minor_class_name])\n",
    "        ], ignore_index=True)\n",
    "\n",
    "    elif method == 'tomek':\n",
    "        from imblearn.under_sampling import TomekLinks\n",
    "        tl = TomekLinks()\n",
    "        X_tomek, y_tomek = tl.fit_resample(df.drop(columns=target_name), df[target_name])\n",
    "        df = pd.concat([X_tomek, y_tomek], axis=1)\n",
    "    \n",
    "    elif method == 'smote':\n",
    "        from imblearn.over_sampling import SMOTE\n",
    "        smote = SMOTE()\n",
    "        X_smote, y_smote = smote.fit_resample(df.drop(columns=target_name), df[target_name])\n",
    "        df = pd.concat([X_smote, y_smote], axis=1)\n",
    "\n",
    "    return df.sample(frac=1) "
   ]
  },
  {
   "cell_type": "code",
   "execution_count": 19,
   "metadata": {},
   "outputs": [
    {
     "data": {
      "text/plain": [
       "0    3771\n",
       "1    2958\n",
       "Name: Credit Default, dtype: int64"
      ]
     },
     "execution_count": 19,
     "metadata": {},
     "output_type": "execute_result"
    }
   ],
   "source": [
    "X_train, X_test, y_train, y_test = train_test_split(X, y, \n",
    "                                                    shuffle=True,\n",
    "                                                    test_size=0.3,\n",
    "                                                    random_state=21,\n",
    "                                                    stratify=y\n",
    "                                                   )\n",
    "\n",
    "df_for_balancing = pd.concat([X_train, y_train], axis=1)\n",
    "df_balanced = balance_df_by_target(df_for_balancing, 'Credit Default', method='over')\n",
    "    \n",
    "df_balanced['Credit Default'].value_counts()"
   ]
  },
  {
   "cell_type": "code",
   "execution_count": 20,
   "metadata": {},
   "outputs": [
    {
     "name": "stdout",
     "output_type": "stream",
     "text": [
      "TRAIN\n",
      "\n",
      "              precision    recall  f1-score   support\n",
      "\n",
      "           0       0.65      0.79      0.72      2640\n",
      "           1       0.64      0.46      0.54      2070\n",
      "\n",
      "    accuracy                           0.65      4710\n",
      "   macro avg       0.65      0.63      0.63      4710\n",
      "weighted avg       0.65      0.65      0.64      4710\n",
      "\n",
      "TEST\n",
      "\n",
      "              precision    recall  f1-score   support\n",
      "\n",
      "           0       0.66      0.76      0.71      1131\n",
      "           1       0.62      0.50      0.56       888\n",
      "\n",
      "    accuracy                           0.65      2019\n",
      "   macro avg       0.64      0.63      0.63      2019\n",
      "weighted avg       0.64      0.65      0.64      2019\n",
      "\n",
      "CONFUSION MATRIX\n",
      "\n",
      "col_0             0    1\n",
      "Credit Default          \n",
      "0               862  269\n",
      "1               443  445\n"
     ]
    }
   ],
   "source": [
    "X_train, X_test, y_train, y_test = train_test_split(df_balanced.drop(['Credit Default'], axis=1), df_balanced['Credit Default'], \n",
    "                                                    shuffle=True,\n",
    "                                                    test_size=0.3,\n",
    "                                                    random_state=21,\n",
    "                                                    stratify=df_balanced['Credit Default']\n",
    "                                                   )\n",
    "model_lr = LogisticRegression()\n",
    "model_lr.fit(X_train, y_train)\n",
    "\n",
    "evaluate_preds(model_lr, X_train, X_test, y_train, y_test)"
   ]
  },
  {
   "cell_type": "code",
   "execution_count": 21,
   "metadata": {},
   "outputs": [
    {
     "data": {
      "text/plain": [
       "1    1479\n",
       "0    1479\n",
       "Name: Credit Default, dtype: int64"
      ]
     },
     "execution_count": 21,
     "metadata": {},
     "output_type": "execute_result"
    }
   ],
   "source": [
    "import numpy as np\n",
    "X_train, X_test, y_train, y_test = train_test_split(X, y, \n",
    "                                                    shuffle=True,\n",
    "                                                    test_size=0.3,\n",
    "                                                    random_state=21,\n",
    "                                                    stratify=y\n",
    "                                                   )\n",
    "\n",
    "df_for_balancing = pd.concat([X_train, y_train], axis=1)\n",
    "df_balanced = balance_df_by_target(df_for_balancing, 'Credit Default', method='under')\n",
    "    \n",
    "df_balanced['Credit Default'].value_counts()"
   ]
  },
  {
   "cell_type": "code",
   "execution_count": 22,
   "metadata": {},
   "outputs": [
    {
     "name": "stdout",
     "output_type": "stream",
     "text": [
      "TRAIN\n",
      "\n",
      "              precision    recall  f1-score   support\n",
      "\n",
      "           0       0.62      0.58      0.60      1035\n",
      "           1       0.61      0.64      0.62      1035\n",
      "\n",
      "    accuracy                           0.61      2070\n",
      "   macro avg       0.61      0.61      0.61      2070\n",
      "weighted avg       0.61      0.61      0.61      2070\n",
      "\n",
      "TEST\n",
      "\n",
      "              precision    recall  f1-score   support\n",
      "\n",
      "           0       0.62      0.55      0.58       444\n",
      "           1       0.60      0.66      0.63       444\n",
      "\n",
      "    accuracy                           0.61       888\n",
      "   macro avg       0.61      0.61      0.60       888\n",
      "weighted avg       0.61      0.61      0.60       888\n",
      "\n",
      "CONFUSION MATRIX\n",
      "\n",
      "col_0             0    1\n",
      "Credit Default          \n",
      "0               246  198\n",
      "1               152  292\n"
     ]
    }
   ],
   "source": [
    "X_train, X_test, y_train, y_test = train_test_split(df_balanced.drop(['Credit Default'], axis=1), df_balanced['Credit Default'], \n",
    "                                                    shuffle=True,\n",
    "                                                    test_size=0.3,\n",
    "                                                    random_state=21,\n",
    "                                                    stratify=df_balanced['Credit Default']\n",
    "                                                   )\n",
    "model_lr = LogisticRegression()\n",
    "model_lr.fit(X_train, y_train)\n",
    "\n",
    "evaluate_preds(model_lr, X_train, X_test, y_train, y_test)"
   ]
  },
  {
   "cell_type": "code",
   "execution_count": 23,
   "metadata": {},
   "outputs": [
    {
     "data": {
      "text/plain": [
       "0    3232\n",
       "1    1479\n",
       "Name: Credit Default, dtype: int64"
      ]
     },
     "execution_count": 23,
     "metadata": {},
     "output_type": "execute_result"
    }
   ],
   "source": [
    "X_train, X_test, y_train, y_test = train_test_split(X, y, \n",
    "                                                    shuffle=True,\n",
    "                                                    test_size=0.3,\n",
    "                                                    random_state=21,\n",
    "                                                    stratify=y\n",
    "                                                   )\n",
    "classification_report\n",
    "df_for_balancing = pd.concat([X_train, y_train], axis=1)\n",
    "df_balanced = balance_df_by_target(df_for_balancing, 'Credit Default', method='tomek')\n",
    "    \n",
    "df_balanced['Credit Default'].value_counts()"
   ]
  },
  {
   "cell_type": "code",
   "execution_count": 24,
   "metadata": {},
   "outputs": [
    {
     "name": "stdout",
     "output_type": "stream",
     "text": [
      "TRAIN\n",
      "\n",
      "              precision    recall  f1-score   support\n",
      "\n",
      "           0       0.74      0.96      0.83      2262\n",
      "           1       0.75      0.25      0.37      1035\n",
      "\n",
      "    accuracy                           0.74      3297\n",
      "   macro avg       0.74      0.60      0.60      3297\n",
      "weighted avg       0.74      0.74      0.69      3297\n",
      "\n",
      "TEST\n",
      "\n",
      "              precision    recall  f1-score   support\n",
      "\n",
      "           0       0.74      0.97      0.84       970\n",
      "           1       0.80      0.25      0.38       444\n",
      "\n",
      "    accuracy                           0.74      1414\n",
      "   macro avg       0.77      0.61      0.61      1414\n",
      "weighted avg       0.76      0.74      0.70      1414\n",
      "\n",
      "CONFUSION MATRIX\n",
      "\n",
      "col_0             0    1\n",
      "Credit Default          \n",
      "0               942   28\n",
      "1               333  111\n"
     ]
    }
   ],
   "source": [
    "X_train, X_test, y_train, y_test = train_test_split(df_balanced.drop(['Credit Default'], axis=1), df_balanced['Credit Default'], \n",
    "                                                    shuffle=True,\n",
    "                                                    test_size=0.3,\n",
    "                                                    random_state=21,\n",
    "                                                    stratify=df_balanced['Credit Default']\n",
    "                                                   )\n",
    "model_lr = LogisticRegression()\n",
    "model_lr.fit(X_train, y_train)\n",
    "\n",
    "evaluate_preds(model_lr, X_train, X_test, y_train, y_test)"
   ]
  },
  {
   "cell_type": "code",
   "execution_count": 25,
   "metadata": {},
   "outputs": [
    {
     "data": {
      "text/plain": [
       "1    3771\n",
       "0    3771\n",
       "Name: Credit Default, dtype: int64"
      ]
     },
     "execution_count": 25,
     "metadata": {},
     "output_type": "execute_result"
    }
   ],
   "source": [
    "X_train, X_test, y_train, y_test = train_test_split(X, y, \n",
    "                                                    shuffle=True,\n",
    "                                                    test_size=0.3,\n",
    "                                                    random_state=21,\n",
    "                                                    stratify=y\n",
    "                                                   )\n",
    "\n",
    "df_for_balancing = pd.concat([X_train, y_train], axis=1)\n",
    "df_balanced = balance_df_by_target(df_for_balancing, 'Credit Default', method='smote')\n",
    "    \n",
    "df_balanced['Credit Default'].value_counts()"
   ]
  },
  {
   "cell_type": "code",
   "execution_count": 26,
   "metadata": {},
   "outputs": [
    {
     "name": "stdout",
     "output_type": "stream",
     "text": [
      "TRAIN\n",
      "\n",
      "              precision    recall  f1-score   support\n",
      "\n",
      "           0       0.64      0.62      0.63      2640\n",
      "           1       0.63      0.65      0.64      2639\n",
      "\n",
      "    accuracy                           0.63      5279\n",
      "   macro avg       0.63      0.63      0.63      5279\n",
      "weighted avg       0.63      0.63      0.63      5279\n",
      "\n",
      "TEST\n",
      "\n",
      "              precision    recall  f1-score   support\n",
      "\n",
      "           0       0.63      0.60      0.62      1131\n",
      "           1       0.62      0.64      0.63      1132\n",
      "\n",
      "    accuracy                           0.62      2263\n",
      "   macro avg       0.62      0.62      0.62      2263\n",
      "weighted avg       0.62      0.62      0.62      2263\n",
      "\n",
      "CONFUSION MATRIX\n",
      "\n",
      "col_0             0    1\n",
      "Credit Default          \n",
      "0               684  447\n",
      "1               407  725\n"
     ]
    }
   ],
   "source": [
    "X_train, X_test, y_train, y_test = train_test_split(df_balanced.drop(['Credit Default'], axis=1), df_balanced['Credit Default'], \n",
    "                                                    shuffle=True,\n",
    "                                                    test_size=0.3,\n",
    "                                                    random_state=21,\n",
    "                                                    stratify=df_balanced['Credit Default']\n",
    "                                                   )\n",
    "model_lr = LogisticRegression()\n",
    "model_lr.fit(X_train, y_train)\n",
    "\n",
    "evaluate_preds(model_lr, X_train, X_test, y_train, y_test)"
   ]
  },
  {
   "cell_type": "markdown",
   "metadata": {},
   "source": [
    "Вывод:\n",
    "- количество инструментов DS требует серьезного подхода к их изучению, тогда возможно получать полезные результаты."
   ]
  }
 ],
 "metadata": {
  "kernelspec": {
   "display_name": "Python 3",
   "language": "python",
   "name": "python3"
  },
  "language_info": {
   "codemirror_mode": {
    "name": "ipython",
    "version": 3
   },
   "file_extension": ".py",
   "mimetype": "text/x-python",
   "name": "python",
   "nbconvert_exporter": "python",
   "pygments_lexer": "ipython3",
   "version": "3.7.6"
  }
 },
 "nbformat": 4,
 "nbformat_minor": 2
}
