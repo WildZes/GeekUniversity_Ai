{
 "cells": [
  {
   "cell_type": "code",
   "execution_count": 1,
   "id": "selective-pepper",
   "metadata": {
    "_cell_guid": "b1076dfc-b9ad-4769-8c92-a6c4dae69d19",
    "_uuid": "8f2839f25d086af736a60e9eeb907d3b93b6e0e5",
    "execution": {
     "iopub.execute_input": "2021-06-06T18:41:05.463418Z",
     "iopub.status.busy": "2021-06-06T18:41:05.462970Z",
     "iopub.status.idle": "2021-06-06T18:41:05.471483Z",
     "shell.execute_reply": "2021-06-06T18:41:05.470833Z",
     "shell.execute_reply.started": "2021-06-06T18:27:05.017828Z"
    },
    "papermill": {
     "duration": 0.016836,
     "end_time": "2021-06-06T18:41:05.471617",
     "exception": false,
     "start_time": "2021-06-06T18:41:05.454781",
     "status": "completed"
    },
    "tags": []
   },
   "outputs": [
    {
     "name": "stdout",
     "output_type": "stream",
     "text": [
      "/kaggle/input/gb-credit-default/sample_submission.csv\n",
      "/kaggle/input/gb-credit-default/train.csv\n",
      "/kaggle/input/gb-credit-default/test.csv\n"
     ]
    }
   ],
   "source": [
    "# This Python 3 environment comes with many helpful analytics libraries installed\n",
    "# It is defined by the kaggle/python Docker image: https://github.com/kaggle/docker-python\n",
    "# For example, here's several helpful packages to load\n",
    "\n",
    "import numpy as np # linear algebra\n",
    "import pandas as pd # data processing, CSV file I/O (e.g. pd.read_csv)\n",
    "\n",
    "# Input data files are available in the read-only \"../input/\" directory\n",
    "# For example, running this (by clicking run or pressing Shift+Enter) will list all files under the input directory\n",
    "\n",
    "import os\n",
    "for dirname, _, filenames in os.walk('/kaggle/input'):\n",
    "    for filename in filenames:\n",
    "        print(os.path.join(dirname, filename))\n",
    "\n",
    "# You can write up to 20GB to the current directory (/kaggle/working/) that gets preserved as output when you create a version using \"Save & Run All\" \n",
    "# You can also write temporary files to /kaggle/temp/, but they won't be saved outside of the current session"
   ]
  },
  {
   "cell_type": "code",
   "execution_count": 2,
   "id": "armed-highway",
   "metadata": {
    "execution": {
     "iopub.execute_input": "2021-06-06T18:41:05.488229Z",
     "iopub.status.busy": "2021-06-06T18:41:05.487715Z",
     "iopub.status.idle": "2021-06-06T18:41:05.546968Z",
     "shell.execute_reply": "2021-06-06T18:41:05.547389Z",
     "shell.execute_reply.started": "2021-06-06T18:27:29.113467Z"
    },
    "papermill": {
     "duration": 0.070558,
     "end_time": "2021-06-06T18:41:05.547523",
     "exception": false,
     "start_time": "2021-06-06T18:41:05.476965",
     "status": "completed"
    },
    "tags": []
   },
   "outputs": [
    {
     "data": {
      "text/plain": [
       "((7500, 17), (2500, 16))"
      ]
     },
     "execution_count": 2,
     "metadata": {},
     "output_type": "execute_result"
    }
   ],
   "source": [
    "TRAIN_DATASET_PATH = '../input/gb-credit-default/train.csv'\n",
    "TEST_DATASET_PATH = '../input/gb-credit-default/test.csv'\n",
    "SUBMIT_DATASET_PATH = '../input/gb-credit-default/sample_submission.csv'\n",
    "\n",
    "df_train = pd.read_csv(TRAIN_DATASET_PATH)\n",
    "df_test = pd.read_csv(TEST_DATASET_PATH)\n",
    "submit = pd.read_csv(SUBMIT_DATASET_PATH)\n",
    "df_train.shape, df_test.shape"
   ]
  },
  {
   "cell_type": "markdown",
   "id": "vulnerable-channels",
   "metadata": {
    "papermill": {
     "duration": 0.004698,
     "end_time": "2021-06-06T18:41:05.557364",
     "exception": false,
     "start_time": "2021-06-06T18:41:05.552666",
     "status": "completed"
    },
    "tags": []
   },
   "source": [
    "**EDA**"
   ]
  },
  {
   "cell_type": "code",
   "execution_count": 3,
   "id": "outdoor-cylinder",
   "metadata": {
    "execution": {
     "iopub.execute_input": "2021-06-06T18:41:05.570031Z",
     "iopub.status.busy": "2021-06-06T18:41:05.569488Z",
     "iopub.status.idle": "2021-06-06T18:41:06.675300Z",
     "shell.execute_reply": "2021-06-06T18:41:06.674845Z",
     "shell.execute_reply.started": "2021-06-06T18:32:25.420031Z"
    },
    "papermill": {
     "duration": 1.113129,
     "end_time": "2021-06-06T18:41:06.675421",
     "exception": false,
     "start_time": "2021-06-06T18:41:05.562292",
     "status": "completed"
    },
    "tags": []
   },
   "outputs": [
    {
     "data": {
      "text/plain": [
       "<AxesSubplot:xlabel='Credit Default', ylabel='count'>"
      ]
     },
     "execution_count": 3,
     "metadata": {},
     "output_type": "execute_result"
    },
    {
     "data": {
      "image/png": "[encoded data removed]",
      "text/plain": [
       "<Figure size 432x288 with 1 Axes>"
      ]
     },
     "metadata": {
      "needs_background": "light"
     },
     "output_type": "display_data"
    }
   ],
   "source": [
    "import seaborn as sns\n",
    "sns.countplot(x='Credit Default', data=df_train)"
   ]
  },
  {
   "cell_type": "markdown",
   "id": "superb-shape",
   "metadata": {
    "papermill": {
     "duration": 0.00558,
     "end_time": "2021-06-06T18:41:06.687049",
     "exception": false,
     "start_time": "2021-06-06T18:41:06.681469",
     "status": "completed"
    },
    "tags": []
   },
   "source": [
    "Testing zero hypotesis"
   ]
  },
  {
   "cell_type": "code",
   "execution_count": 4,
   "id": "qualified-nudist",
   "metadata": {
    "execution": {
     "iopub.execute_input": "2021-06-06T18:41:06.703792Z",
     "iopub.status.busy": "2021-06-06T18:41:06.703259Z",
     "iopub.status.idle": "2021-06-06T18:41:06.714756Z",
     "shell.execute_reply": "2021-06-06T18:41:06.714249Z",
     "shell.execute_reply.started": "2021-06-06T18:40:32.340344Z"
    },
    "papermill": {
     "duration": 0.021887,
     "end_time": "2021-06-06T18:41:06.714867",
     "exception": false,
     "start_time": "2021-06-06T18:41:06.692980",
     "status": "completed"
    },
    "tags": []
   },
   "outputs": [],
   "source": [
    "submit['Credit Default'] = 0\n",
    "submit.to_csv('hypotesis_testing.csv', index=False)"
   ]
  }
 ],
 "metadata": {
  "kernelspec": {
   "display_name": "Python 3",
   "language": "python",
   "name": "python3"
  },
  "language_info": {
   "codemirror_mode": {
    "name": "ipython",
    "version": 3
   },
   "file_extension": ".py",
   "mimetype": "text/x-python",
   "name": "python",
   "nbconvert_exporter": "python",
   "pygments_lexer": "ipython3",
   "version": "3.7.9"
  },
  "papermill": {
   "default_parameters": {},
   "duration": 7.494402,
   "end_time": "2021-06-06T18:41:07.328831",
   "environment_variables": {},
   "exception": null,
   "input_path": "__notebook__.ipynb",
   "output_path": "__notebook__.ipynb",
   "parameters": {},
   "start_time": "2021-06-06T18:40:59.834429",
   "version": "2.3.2"
  }
 },
 "nbformat": 4,
 "nbformat_minor": 5
}
