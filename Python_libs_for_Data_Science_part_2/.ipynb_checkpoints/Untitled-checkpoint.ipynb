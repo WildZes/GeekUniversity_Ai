{
 "cells": [
  {
   "cell_type": "markdown",
   "metadata": {},
   "source": [
    "# Приведите по 2 примера, когда лучше максимизировать Precision, а когда Recall."
   ]
  },
  {
   "cell_type": "markdown",
   "metadata": {},
   "source": [
    "### 1\n",
    "\n",
    "Из 100 машин система диагностики правильно диагностировала 10 неисправных машин и ложно правильно диагностировала 20 исправных машин.  \n",
    "\n",
    "Predicted&emsp;0&emsp;1&emsp;All  \n",
    "Actual  \n",
    "________________________________\n",
    "0&emsp;&emsp;&emsp;&emsp;30&emsp;20&emsp;50  \n",
    "1&emsp;&emsp;&emsp;&emsp;40&emsp;10&emsp;50  \n",
    "All&ensp;&emsp;&emsp;&emsp;70&emsp;30&emsp;100  \n",
    "\n",
    "В данном случае точность:\n",
    "10 / (10 + 20) = 0.33\n",
    "\n",
    "Точность явно требует повышения (на полноту, в данном примере, не обращаем внимание)"
   ]
  },
  {
   "cell_type": "markdown",
   "metadata": {},
   "source": [
    "### 2\n",
    "\n",
    "Из 10000 банковских операция, система контроля отследила 7671 верную операцию и 1265 неверо определила как верную операцию  \n",
    "\n",
    "Predicted&emsp;0&emsp;1&emsp;All  \n",
    "Actual  \n",
    "________________________________\n",
    "0&emsp;&emsp;&emsp;&emsp;739&emsp;1265&emsp;2004  \n",
    "1&emsp;&emsp;&emsp;&emsp;325&emsp;7671&emsp;7996  \n",
    "All&ensp;&ensp;&emsp;&emsp;1064&emsp;8936&emsp;10000  \n",
    "\n",
    "В данном случае точность:\n",
    "7671 / 8936 = 0.86\n",
    "\n",
    "Для банковской деятельности точность следует увеличить (на полноту, в данном примере, не обращаем внимание)"
   ]
  },
  {
   "cell_type": "markdown",
   "metadata": {},
   "source": [
    "### 3\n",
    "\n",
    "Из 31 воспитаника одной из групп детского сада модель смогла верно определить 21 здорового ребенка и 9 неверно определила здорового ребенка \n",
    "\n",
    "Predicted&emsp;0&emsp;1&emsp;All  \n",
    "Actual  \n",
    "________________________________\n",
    "0&ensp;&emsp;&emsp;&emsp;0&emsp;1&emsp;1  \n",
    "1&ensp;&emsp;&emsp;&emsp;9&emsp;21&ensp;30  \n",
    "All&ensp;&ensp;&emsp;&emsp;9&emsp;22&ensp;31  \n",
    "\n",
    "В данном случае полнота:\n",
    "21 / (9 + 21) = 0.7\n",
    "\n",
    "В условиях пандемии полноту определения здоровых детей необходимо повышать (на точность, в данном примере, не обращаем внимание)"
   ]
  },
  {
   "cell_type": "markdown",
   "metadata": {},
   "source": [
    "### 4\n",
    "\n",
    "Из 1000 выпускников GeekBrains система правильно выдала сертификаты 631 обучающемуся и ошибочно не выдала 301.\n",
    "\n",
    "Predicted&emsp;0&emsp;1&emsp;All  \n",
    "Actual  \n",
    "________________________________\n",
    "0&emsp;&emsp;&emsp;&emsp;&nbsp;15&emsp;&nbsp;53&emsp;&ensp;68  \n",
    "1&emsp;&emsp;&emsp;&emsp;301&emsp;631&emsp;932  \n",
    "All&ensp;&emsp;&emsp;&emsp;316&emsp;684&emsp;1000  \n",
    "\n",
    "В данном случае полнота:\n",
    "631 / 932 = 0.68\n",
    "\n",
    "Для онлайн ресурса, где возможности контроля различных параметров практически безграничны, уровень полности требует существенного повышения (на точность, в данном примере, не обращаем внимание)"
   ]
  },
  {
   "cell_type": "markdown",
   "metadata": {},
   "source": [
    "# Почему мы используем F-меру, почему, например, нельзя просто взять среднее от Precision и Recall?"
   ]
  },
  {
   "cell_type": "markdown",
   "metadata": {},
   "source": [
    "F-мера показывает сбалансированность модели\n",
    "\n",
    "F1 = 2 * ((0.33 * 0.2)/(0.33 + 0.2)) = 0.15  \n",
    "F2 = 0.91  \n",
    "F3 = 0.81  \n",
    "F4 = 0.78  \n",
    "\n",
    "Средние значения могут не отобразить этот баланс."
   ]
  }
 ],
 "metadata": {
  "kernelspec": {
   "display_name": "Python 3",
   "language": "python",
   "name": "python3"
  },
  "language_info": {
   "codemirror_mode": {
    "name": "ipython",
    "version": 3
   },
   "file_extension": ".py",
   "mimetype": "text/x-python",
   "name": "python",
   "nbconvert_exporter": "python",
   "pygments_lexer": "ipython3",
   "version": "3.7.6"
  }
 },
 "nbformat": 4,
 "nbformat_minor": 2
}
