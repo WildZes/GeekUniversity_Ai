{
 "cells": [
  {
   "cell_type": "markdown",
   "metadata": {},
   "source": [
    "__1.__ Даны значения величины заработной платы заемщиков банка (zp) и значения их поведенческого кредитного скоринга (ks):  \n",
    "zp = [35, 45, 190, 200, 40, 70, 54, 150, 120, 110],  \n",
    "ks = [401, 574, 874, 919, 459, 739, 653, 902, 746, 832].  \n",
    "Используя математические операции, посчитать коэффициенты линейной регрессии, приняв за X заработную плату (то есть, zp - признак), а за y - значения скорингового балла (то есть, ks - целевая переменная). Произвести расчет как с использованием intercept, так и без."
   ]
  },
  {
   "cell_type": "code",
   "execution_count": 1,
   "metadata": {},
   "outputs": [],
   "source": [
    "import numpy as np\n",
    "x = np.array([35, 45, 190, 200, 40, 70, 54, 150, 120, 110])\n",
    "y = np.array([401, 574, 874, 919, 459, 739, 653, 902, 746, 832])"
   ]
  },
  {
   "cell_type": "code",
   "execution_count": 2,
   "metadata": {},
   "outputs": [
    {
     "data": {
      "text/plain": [
       "array([535.89621821, 562.10160703, 942.07974498, 968.2851338 ,\n",
       "       548.99891262, 627.61507909, 585.68645697, 837.25818968,\n",
       "       758.64202321, 732.43663439])"
      ]
     },
     "execution_count": 2,
     "metadata": {},
     "output_type": "execute_result"
    }
   ],
   "source": [
    "b_1 = (len(x)*(np.sum(x*y)) - (np.sum(x)*np.sum(y)))/(len(x)*np.sum(x**2) - np.sum(x)**2)\n",
    "b_0 = np.mean(y) - b_1 * np.mean(x)\n",
    "y_hat = b_0 + b_1 * x\n",
    "y_hat"
   ]
  },
  {
   "cell_type": "code",
   "execution_count": 3,
   "metadata": {},
   "outputs": [
    {
     "data": {
      "image/png": "[encoded data removed]",
      "text/plain": [
       "<Figure size 432x288 with 1 Axes>"
      ]
     },
     "metadata": {
      "needs_background": "light"
     },
     "output_type": "display_data"
    }
   ],
   "source": [
    "import matplotlib.pyplot as plt\n",
    "plt.scatter(x, y)\n",
    "plt.plot(x, y_hat)\n",
    "plt.xlabel('ЗП')\n",
    "plt.ylabel('Скоринг')\n",
    "plt.show()"
   ]
  },
  {
   "cell_type": "code",
   "execution_count": 4,
   "metadata": {},
   "outputs": [
    {
     "data": {
      "text/plain": [
       "6470.414201176658"
      ]
     },
     "execution_count": 4,
     "metadata": {},
     "output_type": "execute_result"
    }
   ],
   "source": [
    "r = b_1 * np.std(x) / np.std(y)\n",
    "R2 = r ** 2\n",
    "A_mean = (abs((y - y_hat) / y)).sum() / len(x) * 100\n",
    "mse = ((y - y_hat) ** 2).sum() / len(x)\n",
    "mse"
   ]
  },
  {
   "cell_type": "code",
   "execution_count": 5,
   "metadata": {},
   "outputs": [
    {
     "data": {
      "text/plain": [
       "array([[5.88982042]])"
      ]
     },
     "execution_count": 5,
     "metadata": {},
     "output_type": "execute_result"
    }
   ],
   "source": [
    "x_reshaped = x.reshape((len(x), 1))\n",
    "y_reshaped = y.reshape((len(y), 1))\n",
    "b_no_intercept = np.dot(np.linalg.inv(np.dot(x_reshaped.T, x_reshaped)), x_reshaped.T@y_reshaped)\n",
    "b_no_intercept"
   ]
  },
  {
   "cell_type": "code",
   "execution_count": 6,
   "metadata": {},
   "outputs": [
    {
     "data": {
      "text/plain": [
       "array([[444.17735732],\n",
       "       [  2.62053888]])"
      ]
     },
     "execution_count": 6,
     "metadata": {},
     "output_type": "execute_result"
    }
   ],
   "source": [
    "x_2d = np.hstack([np.ones((len(x), 1)), x_reshaped])\n",
    "b_with_intercept = np.dot(np.linalg.inv(np.dot(x_2d.T, x_2d)), x_2d.T@y_reshaped)\n",
    "b_with_intercept"
   ]
  },
  {
   "cell_type": "code",
   "execution_count": 7,
   "metadata": {},
   "outputs": [],
   "source": [
    "y_hat_no_intercept = b_no_intercept[0] * x\n",
    "y_hat_with_intercept = b_with_intercept[0] + b_with_intercept[1] * x"
   ]
  },
  {
   "cell_type": "code",
   "execution_count": 8,
   "metadata": {},
   "outputs": [
    {
     "data": {
      "image/png": "[encoded data removed]",
      "text/plain": [
       "<Figure size 432x288 with 1 Axes>"
      ]
     },
     "metadata": {
      "needs_background": "light"
     },
     "output_type": "display_data"
    }
   ],
   "source": [
    "plt.scatter(x, y)\n",
    "plt.plot(x, y_hat_no_intercept, label='No intercept')\n",
    "plt.plot(x, y_hat_with_intercept, label='Intercept')\n",
    "plt.xlabel('ЗП')\n",
    "plt.ylabel('Скоринг')\n",
    "plt.legend()\n",
    "plt.show()"
   ]
  },
  {
   "cell_type": "markdown",
   "metadata": {},
   "source": [
    "__2.__ Посчитать коэффициент линейной регрессии при заработной плате (zp), используя градиентный спуск (без intercept)."
   ]
  },
  {
   "cell_type": "code",
   "execution_count": 9,
   "metadata": {},
   "outputs": [
    {
     "data": {
      "text/plain": [
       "array([ 35,  45, 190, 200,  40,  70,  54, 150, 120, 110])"
      ]
     },
     "execution_count": 9,
     "metadata": {},
     "output_type": "execute_result"
    }
   ],
   "source": [
    "x"
   ]
  },
  {
   "cell_type": "code",
   "execution_count": 10,
   "metadata": {},
   "outputs": [
    {
     "data": {
      "text/plain": [
       "array([401, 574, 874, 919, 459, 739, 653, 902, 746, 832])"
      ]
     },
     "execution_count": 10,
     "metadata": {},
     "output_type": "execute_result"
    }
   ],
   "source": [
    "y"
   ]
  },
  {
   "cell_type": "code",
   "execution_count": 11,
   "metadata": {},
   "outputs": [],
   "source": [
    "def mse(b_1, y=y, x=x, n=len(x)):\n",
    "    return (1/n) * np.sum((b_1 * x - y) ** 2)\n",
    "\n",
    "def mse_p(b_1, y=y, x=x, n=len(x)):\n",
    "    return (2/n) * np.sum((b_1 * x - y) * x)"
   ]
  },
  {
   "cell_type": "code",
   "execution_count": 12,
   "metadata": {},
   "outputs": [
    {
     "name": "stdout",
     "output_type": "stream",
     "text": [
      "0  b_1 =  0.48685020000000007  mse =  458684.56693028915\n",
      "20  b_1 =  4.927669981711723  mse =  69270.31808553186\n",
      "40  b_1 =  5.718482539589841  mse =  56921.293506120615\n",
      "60  b_1 =  5.8593089032880945  mse =  56529.68377813735\n",
      "80  b_1 =  5.884386988499192  mse =  56517.26513097497\n",
      "100  b_1 =  5.8888528451849655  mse =  56516.871313389966\n",
      "120  b_1 =  5.889648116266068  mse =  56516.858824727686\n",
      "140  b_1 =  5.8897897365949206  mse =  56516.858428689804\n",
      "160  b_1 =  5.889814956067903  mse =  56516.85841613072\n",
      "180  b_1 =  5.889819447102649  mse =  56516.85841573245\n",
      "200  b_1 =  5.88982024685739  mse =  56516.85841571982\n",
      "220  b_1 =  5.889820389276161  mse =  56516.85841571943\n",
      "240  b_1 =  5.889820414637818  mse =  56516.85841571943\n",
      "260  b_1 =  5.889820419154172  mse =  56516.85841571941\n",
      "280  b_1 =  5.889820419958436  mse =  56516.858415719405\n",
      "300  b_1 =  5.889820420101659  mse =  56516.858415719405\n"
     ]
    }
   ],
   "source": [
    "alpha = 3e-6\n",
    "b_1 = 0\n",
    "for i in range(301):\n",
    "    b_1 -= alpha * mse_p(b_1)\n",
    "    if not i % 20:\n",
    "        print(i, ' b_1 = ', b_1, ' mse = ', mse(b_1))"
   ]
  },
  {
   "cell_type": "markdown",
   "metadata": {},
   "source": [
    "__3.__  Произвести вычисления как в пункте 2, но с вычислением intercept. Учесть, что изменение коэффициентов должно производиться\n",
    "на каждом шаге одновременно (то есть изменение одного коэффициента не должно влиять на изменение другого во время одной итерации)."
   ]
  },
  {
   "cell_type": "code",
   "execution_count": 13,
   "metadata": {},
   "outputs": [
    {
     "data": {
      "text/plain": [
       "array([ 35,  45, 190, 200,  40,  70,  54, 150, 120, 110])"
      ]
     },
     "execution_count": 13,
     "metadata": {},
     "output_type": "execute_result"
    }
   ],
   "source": [
    "x"
   ]
  },
  {
   "cell_type": "code",
   "execution_count": 14,
   "metadata": {},
   "outputs": [
    {
     "data": {
      "text/plain": [
       "array([401, 574, 874, 919, 459, 739, 653, 902, 746, 832])"
      ]
     },
     "execution_count": 14,
     "metadata": {},
     "output_type": "execute_result"
    }
   ],
   "source": [
    "y"
   ]
  },
  {
   "cell_type": "code",
   "execution_count": 15,
   "metadata": {},
   "outputs": [],
   "source": [
    "def mse_with_intercept(b_0, b_1, y=y, x=x, n=len(x)):\n",
    "    return np.sum((b_0+b_1*x-y)**2)/n"
   ]
  },
  {
   "cell_type": "code",
   "execution_count": 17,
   "metadata": {},
   "outputs": [
    {
     "name": "stdout",
     "output_type": "stream",
     "text": [
      "0 : b_0 =  0.07099000000000001 , b_1 =  8.114170000000001 , mse =  124695.80133979912\n",
      "100000 : b_0 =  409.02972996943777 , b_1 =  2.8792409593936914 , mse =  6783.780596229795\n",
      "200000 : b_0 =  441.39579359939756 , b_1 =  2.641012421218453 , mse =  6472.376831131396\n",
      "300000 : b_0 =  443.95722591469394 , b_1 =  2.622159146903591 , mse =  6470.426493229665\n",
      "400000 : b_0 =  444.15993624675195 , b_1 =  2.6206671092362583 , mse =  6470.414278162422\n",
      "500000 : b_0 =  444.17597862994756 , b_1 =  2.6205490302031937 , mse =  6470.414201658822\n",
      "600000 : b_0 =  444.1772482152497 , b_1 =  2.6205396854940544 , mse =  6470.414201179681\n",
      "700000 : b_0 =  444.17734868952454 , b_1 =  2.6205389459589687 , mse =  6470.414201176674\n",
      "800000 : b_0 =  444.1773566410026 , b_1 =  2.6205388874325752 , mse =  6470.41420117666\n",
      "900000 : b_0 =  444.1773572702722 , b_1 =  2.6205388828008727 , mse =  6470.414201176663\n"
     ]
    }
   ],
   "source": [
    "alpha = 5e-5\n",
    "b_0 = 0\n",
    "b_1 = 0\n",
    "\n",
    "for i in range(900001):\n",
    "    y_pred = b_0 + b_1*x\n",
    "    b_0 -= alpha * (2/len(x)) * np.sum(y_pred-y)\n",
    "    b_1 -= alpha * (2/len(x)) * np.sum((y_pred-y)*x)\n",
    "    if not i % 100000:\n",
    "        print(i, ': b_0 = ', b_0, ', b_1 = ', b_1, ', mse = ', mse_with_intercept(b_0,b_1))"
   ]
  }
 ],
 "metadata": {
  "kernelspec": {
   "display_name": "Python 3",
   "language": "python",
   "name": "python3"
  },
  "language_info": {
   "codemirror_mode": {
    "name": "ipython",
    "version": 3
   },
   "file_extension": ".py",
   "mimetype": "text/x-python",
   "name": "python",
   "nbconvert_exporter": "python",
   "pygments_lexer": "ipython3",
   "version": "3.7.6"
  }
 },
 "nbformat": 4,
 "nbformat_minor": 2
}
