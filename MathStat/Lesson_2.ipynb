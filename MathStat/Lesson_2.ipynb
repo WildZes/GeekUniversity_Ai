{
 "cells": [
  {
   "cell_type": "markdown",
   "metadata": {},
   "source": [
    "__1.__ Вероятность того, что стрелок попадет в мишень, выстрелив один раз, равна 0.8. Стрелок выстрелил 100 раз. Найдите вероятность того, что стрелок попадет в цель ровно 85 раз"
   ]
  },
  {
   "cell_type": "code",
   "execution_count": 1,
   "metadata": {},
   "outputs": [],
   "source": [
    "from math import factorial\n",
    "\n",
    "def combinations(n, k):\n",
    "    return int(factorial(n) / (factorial(k) * factorial(n - k)))\n",
    "\n",
    "def bernoulli(p, n, k):\n",
    "    return combinations(n,k) * p**k * (1-p)**(n-k)"
   ]
  },
  {
   "cell_type": "code",
   "execution_count": 2,
   "metadata": {},
   "outputs": [
    {
     "data": {
      "text/plain": [
       "0.048061793700746355"
      ]
     },
     "execution_count": 2,
     "metadata": {},
     "output_type": "execute_result"
    }
   ],
   "source": [
    "bernoulli(0.8, 100, 85)"
   ]
  },
  {
   "cell_type": "markdown",
   "metadata": {},
   "source": [
    "__2.__ Вероятность того, что лампочка перегорит в течение первого дня эксплуатации, равна 0.0004. В жилом комплексе после ремонта в один день включили 5000 новых лампочек. Какова вероятность, что ни одна из них не перегорит в первый день? Какова вероятность, что перегорят ровно две?"
   ]
  },
  {
   "cell_type": "code",
   "execution_count": 3,
   "metadata": {},
   "outputs": [],
   "source": [
    "import numpy as np\n",
    "\n",
    "def poisson(m, n, p):\n",
    "    l = p * n\n",
    "    return l**m/factorial(m) * np.exp(-l)"
   ]
  },
  {
   "cell_type": "code",
   "execution_count": 4,
   "metadata": {},
   "outputs": [
    {
     "data": {
      "text/plain": [
       "0.1353352832366127"
      ]
     },
     "execution_count": 4,
     "metadata": {},
     "output_type": "execute_result"
    }
   ],
   "source": [
    "p_zero = poisson(0, 5000, 0.0004)\n",
    "p_zero"
   ]
  },
  {
   "cell_type": "code",
   "execution_count": 5,
   "metadata": {},
   "outputs": [
    {
     "data": {
      "text/plain": [
       "0.2706705664732254"
      ]
     },
     "execution_count": 5,
     "metadata": {},
     "output_type": "execute_result"
    }
   ],
   "source": [
    "p_two = poisson(2, 5000, 0.0004)\n",
    "p_two"
   ]
  },
  {
   "cell_type": "markdown",
   "metadata": {},
   "source": [
    "__3.__ Монету подбросили 144 раза. Какова вероятность, что орел выпадет ровно 70 раз?"
   ]
  },
  {
   "cell_type": "code",
   "execution_count": 6,
   "metadata": {},
   "outputs": [
    {
     "data": {
      "text/plain": [
       "0.06281178035144776"
      ]
     },
     "execution_count": 6,
     "metadata": {},
     "output_type": "execute_result"
    }
   ],
   "source": [
    "bernoulli(0.5,144,70)"
   ]
  },
  {
   "cell_type": "markdown",
   "metadata": {},
   "source": [
    "__4.__ В первом ящике находится 10 мячей, из которых 7 - белые. Во втором ящике - 11 мячей, из которых 9 белых. Из каждого ящика вытаскивают случайным образом по два мяча. Какова вероятность того, что все мячи белые? Какова вероятность того, что ровно два мяча белые? Какова вероятность того, что хотя бы один мяч белый?"
   ]
  },
  {
   "cell_type": "code",
   "execution_count": 7,
   "metadata": {},
   "outputs": [
    {
     "data": {
      "text/plain": [
       "0.3054545454545455"
      ]
     },
     "execution_count": 7,
     "metadata": {},
     "output_type": "execute_result"
    }
   ],
   "source": [
    "white_all = combinations(7,2)/combinations(10,2) * combinations(9,2)/combinations(11,2)\n",
    "white_all"
   ]
  },
  {
   "cell_type": "code",
   "execution_count": 8,
   "metadata": {},
   "outputs": [
    {
     "data": {
      "text/plain": [
       "0.20484848484848484"
      ]
     },
     "execution_count": 8,
     "metadata": {},
     "output_type": "execute_result"
    }
   ],
   "source": [
    "good_two = combinations(7,2)*combinations(2,2) + \\\n",
    "combinations(7,1)*combinations(3,1)*combinations(9,1)*combinations(2,1) + \\\n",
    "combinations(9,2)*combinations(3,2)\n",
    "good_all = combinations(10,2) * combinations(11,2)\n",
    "white_two = good_two/good_all\n",
    "white_two"
   ]
  },
  {
   "cell_type": "code",
   "execution_count": 16,
   "metadata": {},
   "outputs": [
    {
     "data": {
      "text/plain": [
       "0.44909090909090904"
      ]
     },
     "execution_count": 16,
     "metadata": {},
     "output_type": "execute_result"
    }
   ],
   "source": [
    "p_white_from_first_two = combinations(7,2)/combinations(10,2) * combinations(2,2)/combinations(11,2)\n",
    "p_white_from_first_and_second_one = (combinations(7,1)/combinations(10,1)*combinations(3,1)/combinations(9,1))+\\\n",
    "(combinations(9,1)/combinations(11,1)*combinations(2,1)/combinations(10,1))\n",
    "p_white_from_second_two = combinations(3,2)/combinations(10,2) * combinations(9,2)/combinations(11,2)\n",
    "white_two = p_white_from_first_two + p_white_from_first_and_second_one + p_white_from_second_two\n",
    "white_two"
   ]
  },
  {
   "cell_type": "code",
   "execution_count": 10,
   "metadata": {},
   "outputs": [
    {
     "data": {
      "text/plain": [
       "0.20484848484848484"
      ]
     },
     "execution_count": 10,
     "metadata": {},
     "output_type": "execute_result"
    }
   ],
   "source": [
    "#Третий вариант решения:\n",
    "#Возможны следующие сочетания вытянутых мячей: (ww)(..);(w.)(w.);(.w)(w.);(.w)(.w);(w.)(.w);(..)(ww)\n",
    "#из этих сочетаний вывожу следующие вероятности:\n",
    "7/10*6/9*2/11*1/10 + 7/10*3/9*9/11*2/10 + 3/10*7/9*9/11*2/10 + 3/10*7/9*2/11*9/10 + 7/10*3/9*2/11*9/10 + 3/10*2/9*9/11*8/10"
   ]
  },
  {
   "cell_type": "markdown",
   "metadata": {},
   "source": [
    "Вывод:\n",
    "- задание сделано тремя методами, два из которых схожи по исполнению, но ни один из методов не вызывает у меня доверия. так как вероятность вытащить все четыре белых мяча больше вероятности вытащить хотя бы 2, хотя в виду количества белых мячей в обеих корзинах вариант с вероятностью в 0.2048(48) впролне возможен;\n",
    "- до сих пор не понимаю принцип и место применения терминов \"Совместные и несовместные события\" и \"Вероятность зависимых и независимых событий\"."
   ]
  },
  {
   "cell_type": "code",
   "execution_count": 11,
   "metadata": {},
   "outputs": [
    {
     "data": {
      "text/plain": [
       "0.9987878787878788"
      ]
     },
     "execution_count": 11,
     "metadata": {},
     "output_type": "execute_result"
    }
   ],
   "source": [
    "not_white_all = combinations(3,2)/combinations(10,2)*combinations(2,2)/combinations(11,2)\n",
    "1 - not_white_all"
   ]
  }
 ],
 "metadata": {
  "kernelspec": {
   "display_name": "Python 3",
   "language": "python",
   "name": "python3"
  },
  "language_info": {
   "codemirror_mode": {
    "name": "ipython",
    "version": 3
   },
   "file_extension": ".py",
   "mimetype": "text/x-python",
   "name": "python",
   "nbconvert_exporter": "python",
   "pygments_lexer": "ipython3",
   "version": "3.7.6"
  }
 },
 "nbformat": 4,
 "nbformat_minor": 2
}
