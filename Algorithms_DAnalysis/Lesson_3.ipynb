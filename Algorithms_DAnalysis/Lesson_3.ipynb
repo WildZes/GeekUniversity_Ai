{
 "cells": [
  {
   "cell_type": "markdown",
   "metadata": {},
   "source": [
    "# Урок 3. Классификация. Логистическая регрессия."
   ]
  },
  {
   "cell_type": "markdown",
   "metadata": {},
   "source": [
    "1. *Измените функцию calc_logloss так, чтобы нули по возможности не попадали в np.log."
   ]
  },
  {
   "cell_type": "code",
   "execution_count": 12,
   "metadata": {},
   "outputs": [],
   "source": [
    "def calc_logloss(y, y_pred):\n",
    "    if 0 in y_pred:\n",
    "        y_pred[y_pred==0] = 1e-17\n",
    "    if 1 in y_pred:\n",
    "        y_pred[y_pred==1] = 1-1e-17\n",
    "    err = - np.mean(y * np.log(y_pred) + (1.0 - y) * np.log(1.0 - y_pred))\n",
    "    return err"
   ]
  },
  {
   "cell_type": "markdown",
   "metadata": {},
   "source": [
    "2. Подберите аргументы функции eval_model для логистической регрессии таким образом, чтобы log loss был минимальным."
   ]
  },
  {
   "cell_type": "code",
   "execution_count": 16,
   "metadata": {},
   "outputs": [],
   "source": [
    "def eval_model(X, y, iterations, eta=1e-4):\n",
    "    np.random.seed(42)\n",
    "    W = np.random.randn(X.shape[1])\n",
    "    n = X.shape[0]\n",
    "    z = np.dot(X, W)\n",
    "    y_pred = sigmoid(z)\n",
    "    min_err = calc_logloss(y, y_pred)\n",
    "    \n",
    "    for i in range(iterations):\n",
    "        z = np.dot(X, W)\n",
    "        y_pred = sigmoid(z)\n",
    "        err = calc_logloss(y, y_pred)\n",
    "        \n",
    "        dQ = 1/n * X.T @ (y_pred - y)\n",
    "        W -= eta * dQ\n",
    "        if err < min_err:\n",
    "            min_err = err\n",
    "            n_iter = i\n",
    "\n",
    "    return W, min_err, n_iter, eta\n",
    "\n",
    "def sigmoid(z):\n",
    "    res = 1 / (1 + np.exp(-z))\n",
    "    return res\n",
    "\n",
    "def standard_scale(x):\n",
    "    res = (x - x.mean()) / x.std()\n",
    "    return res"
   ]
  },
  {
   "cell_type": "code",
   "execution_count": 17,
   "metadata": {},
   "outputs": [],
   "source": [
    "import numpy as np\n",
    "X = np.array([ [   1,    1,  500,    1],\n",
    "               [   1,    1,  700,    1],\n",
    "               [   1,    2,  750,    2],\n",
    "               [   1,    5,  600,    1],\n",
    "               [   1,    3, 1450,    2],\n",
    "               [   1,    0,  800,    1],\n",
    "               [   1,    5, 1500,    3],\n",
    "               [   1,   10, 2000,    3],\n",
    "               [   1,    1,  450,    1],\n",
    "               [   1,    2, 1000,    2]], dtype = np.float64)\n",
    "\n",
    "y = np.array([0, 0, 1, 0, 1, 0, 1, 0, 1, 1], dtype = np.float64)\n",
    "\n",
    "X_st = X.copy()\n",
    "X_st[:, 2] = standard_scale(X[:, 2])"
   ]
  },
  {
   "cell_type": "code",
   "execution_count": 21,
   "metadata": {},
   "outputs": [
    {
     "name": "stderr",
     "output_type": "stream",
     "text": [
      "/home/mrp/anaconda3/envs/FR/lib/python3.7/site-packages/ipykernel_launcher.py:6: RuntimeWarning: divide by zero encountered in log\n",
      "  \n",
      "/home/mrp/anaconda3/envs/FR/lib/python3.7/site-packages/ipykernel_launcher.py:6: RuntimeWarning: invalid value encountered in multiply\n",
      "  \n"
     ]
    },
    {
     "name": "stdout",
     "output_type": "stream",
     "text": [
      "0.07846357508949717 33949 1\n"
     ]
    }
   ],
   "source": [
    "_, save_min, save_iter, save_eta = eval_model(X_st,y,20000,10)\n",
    "for ite in [1000,10000,100000]:\n",
    "    for eta in [1,1e-2,1e-3,1e-4]:\n",
    "        W, check_min, check_iter, check_eta = eval_model(X_st,y,ite,eta)\n",
    "        if check_min < save_min:\n",
    "            save_W, save_min, save_iter, save_eta = W, check_min, check_iter, check_eta\n",
    "print(save_min, save_iter, save_eta)"
   ]
  },
  {
   "cell_type": "markdown",
   "metadata": {},
   "source": [
    "3. Создайте функцию calc_pred_proba, возвращающую предсказанную вероятность класса 1 (на вход подаются W, который уже посчитан функцией eval_model и X, на выходе - массив y_pred_proba)."
   ]
  },
  {
   "cell_type": "code",
   "execution_count": 19,
   "metadata": {},
   "outputs": [],
   "source": [
    "def calc_pred_proba(W, X):\n",
    "    y_pred_proba = sigmoid(np.dot(W, X.T))\n",
    "    return y_pred_proba"
   ]
  },
  {
   "cell_type": "code",
   "execution_count": 24,
   "metadata": {},
   "outputs": [
    {
     "name": "stdout",
     "output_type": "stream",
     "text": [
      "[2.18720281e-01 7.66081142e-06 1.00000000e+00 1.54833279e-16\n",
      " 9.88519933e-01 7.02747602e-05 1.00000000e+00 2.12771420e-03\n",
      " 7.94688483e-01 1.00000000e+00]\n"
     ]
    }
   ],
   "source": [
    "print(calc_pred_proba(save_W, X_st))"
   ]
  },
  {
   "cell_type": "markdown",
   "metadata": {},
   "source": [
    "4. Создайте функцию calc_pred, возвращающую предсказанный класс (на вход подаются W, который уже посчитан функцией eval_model и X, на выходе - массив y_pred)."
   ]
  },
  {
   "cell_type": "code",
   "execution_count": 20,
   "metadata": {},
   "outputs": [],
   "source": [
    "def calc_pred(W, X, treshold=0.5):\n",
    "    y_pred = sigmoid(np.dot(W, X.T)) > treshold\n",
    "    return y_pred.astype(int)"
   ]
  },
  {
   "cell_type": "code",
   "execution_count": 25,
   "metadata": {},
   "outputs": [
    {
     "name": "stdout",
     "output_type": "stream",
     "text": [
      "[0 0 1 0 1 0 1 0 1 1]\n"
     ]
    }
   ],
   "source": [
    "print(calc_pred(save_W, X_st))"
   ]
  },
  {
   "cell_type": "markdown",
   "metadata": {},
   "source": [
    "5. *Реализуйте функции для подсчета Accuracy, матрицы ошибок, точности и полноты, а также F1 score."
   ]
  },
  {
   "cell_type": "code",
   "execution_count": 26,
   "metadata": {},
   "outputs": [],
   "source": [
    "def accuracy(y, y_pred):\n",
    "    count = 0\n",
    "    for pos, i in enumerate(y):\n",
    "        if y_pred[pos] == i:\n",
    "            count += 1\n",
    "    acc = count / len(y)\n",
    "    return acc"
   ]
  },
  {
   "cell_type": "code",
   "execution_count": 31,
   "metadata": {},
   "outputs": [
    {
     "data": {
      "text/plain": [
       "0.9"
      ]
     },
     "execution_count": 31,
     "metadata": {},
     "output_type": "execute_result"
    }
   ],
   "source": [
    "accuracy([1, 0, 1, 0, 1, 0, 1, 0, 1, 1],[0, 0, 1, 0, 1, 0, 1, 0, 1, 1])"
   ]
  },
  {
   "cell_type": "code",
   "execution_count": 32,
   "metadata": {},
   "outputs": [],
   "source": [
    "def err_matrix(y, y_pred):\n",
    "    TP = 0\n",
    "    FP = 0\n",
    "    FN = 0\n",
    "    TN = 0\n",
    "    for pos, i in enumerate(y):\n",
    "        if y_pred[pos] == 1 and i == 1:\n",
    "            TP += 1\n",
    "        elif y_pred[pos] == 1 and i == 0:\n",
    "            FP += 1\n",
    "        elif y_pred[pos] == 0 and i == 1:\n",
    "            FN += 1\n",
    "        elif y_pred[pos] == 0 and i == 0:\n",
    "            TN += 1\n",
    "        else:\n",
    "            print('Error')\n",
    "    df = pd.DataFrame({' ':['𝑎(𝑥) = +1','𝑎(𝑥) = -1'], 'y = +1':[f'TP = {TP}', f'FN = {FN}'], 'y = -1':[f'FP = {FP}', f'TN = {TN}']})\n",
    "    \n",
    "    return df.style.hide_index()"
   ]
  },
  {
   "cell_type": "code",
   "execution_count": 34,
   "metadata": {},
   "outputs": [
    {
     "data": {
      "text/html": [
       "<style  type=\"text/css\" >\n",
       "</style><table id=\"T_59119ab4_fee6_11eb_87b2_dde56d8266d2\" ><thead>    <tr>        <th class=\"col_heading level0 col0\" > </th>        <th class=\"col_heading level0 col1\" >y = +1</th>        <th class=\"col_heading level0 col2\" >y = -1</th>    </tr></thead><tbody>\n",
       "                <tr>\n",
       "                                <td id=\"T_59119ab4_fee6_11eb_87b2_dde56d8266d2row0_col0\" class=\"data row0 col0\" >𝑎(𝑥) = +1</td>\n",
       "                        <td id=\"T_59119ab4_fee6_11eb_87b2_dde56d8266d2row0_col1\" class=\"data row0 col1\" >TP = 5</td>\n",
       "                        <td id=\"T_59119ab4_fee6_11eb_87b2_dde56d8266d2row0_col2\" class=\"data row0 col2\" >FP = 0</td>\n",
       "            </tr>\n",
       "            <tr>\n",
       "                                <td id=\"T_59119ab4_fee6_11eb_87b2_dde56d8266d2row1_col0\" class=\"data row1 col0\" >𝑎(𝑥) = -1</td>\n",
       "                        <td id=\"T_59119ab4_fee6_11eb_87b2_dde56d8266d2row1_col1\" class=\"data row1 col1\" >FN = 1</td>\n",
       "                        <td id=\"T_59119ab4_fee6_11eb_87b2_dde56d8266d2row1_col2\" class=\"data row1 col2\" >TN = 4</td>\n",
       "            </tr>\n",
       "    </tbody></table>"
      ],
      "text/plain": [
       "<pandas.io.formats.style.Styler at 0x7f4de4355e10>"
      ]
     },
     "execution_count": 34,
     "metadata": {},
     "output_type": "execute_result"
    }
   ],
   "source": [
    "import pandas as pd\n",
    "err_matrix([1, 0, 1, 0, 1, 0, 1, 0, 1, 1],[0, 0, 1, 0, 1, 0, 1, 0, 1, 1])"
   ]
  },
  {
   "cell_type": "code",
   "execution_count": 35,
   "metadata": {},
   "outputs": [],
   "source": [
    "def precision(y, y_pred):\n",
    "    TP = 0\n",
    "    FP = 0\n",
    "    FN = 0\n",
    "    TN = 0\n",
    "    for pos, i in enumerate(y):\n",
    "        if y_pred[pos] == 1 and i == 1:\n",
    "            TP += 1\n",
    "        elif y_pred[pos] == 1 and i == 0:\n",
    "            FP += 1\n",
    "        elif y_pred[pos] == 0 and i == 1:\n",
    "            FN += 1\n",
    "        elif y_pred[pos] == 0 and i == 0:\n",
    "            TN += 1\n",
    "        else:\n",
    "            print('Error')\n",
    "    return TP / (TP + FP)"
   ]
  },
  {
   "cell_type": "code",
   "execution_count": 36,
   "metadata": {},
   "outputs": [
    {
     "data": {
      "text/plain": [
       "1.0"
      ]
     },
     "execution_count": 36,
     "metadata": {},
     "output_type": "execute_result"
    }
   ],
   "source": [
    "precision([1, 0, 1, 0, 1, 0, 1, 0, 1, 1],[0, 0, 1, 0, 1, 0, 1, 0, 1, 1])"
   ]
  },
  {
   "cell_type": "code",
   "execution_count": 37,
   "metadata": {},
   "outputs": [],
   "source": [
    "def recall(y, y_pred):\n",
    "    TP = 0\n",
    "    FP = 0\n",
    "    FN = 0\n",
    "    TN = 0\n",
    "    for pos, i in enumerate(y):\n",
    "        if y_pred[pos] == 1 and i == 1:\n",
    "            TP += 1\n",
    "        elif y_pred[pos] == 1 and i == 0:\n",
    "            FP += 1\n",
    "        elif y_pred[pos] == 0 and i == 1:\n",
    "            FN += 1\n",
    "        elif y_pred[pos] == 0 and i == 0:\n",
    "            TN += 1\n",
    "        else:\n",
    "            print('Error')\n",
    "    return TP / (TP + FN)"
   ]
  },
  {
   "cell_type": "code",
   "execution_count": 38,
   "metadata": {},
   "outputs": [
    {
     "data": {
      "text/plain": [
       "0.8333333333333334"
      ]
     },
     "execution_count": 38,
     "metadata": {},
     "output_type": "execute_result"
    }
   ],
   "source": [
    "recall([1, 0, 1, 0, 1, 0, 1, 0, 1, 1],[0, 0, 1, 0, 1, 0, 1, 0, 1, 1])"
   ]
  },
  {
   "cell_type": "code",
   "execution_count": 40,
   "metadata": {},
   "outputs": [],
   "source": [
    "def f_score(y, y_pred, beta=1):\n",
    "    TP = 0\n",
    "    FP = 0\n",
    "    FN = 0\n",
    "    TN = 0\n",
    "    for pos, i in enumerate(y):\n",
    "        if y_pred[pos] == 1 and i == 1:\n",
    "            TP += 1\n",
    "        elif y_pred[pos] == 1 and i == 0:\n",
    "            FP += 1\n",
    "        elif y_pred[pos] == 0 and i == 1:\n",
    "            FN += 1\n",
    "        elif y_pred[pos] == 0 and i == 0:\n",
    "            TN += 1\n",
    "        else:\n",
    "            print('Error')\n",
    "    return (1 + beta ** 2) * TP ** 2 / ((TP + FP) * (TP + FN)) / (beta ** 2 * TP/(TP + FN) + TP / (TP + FN))"
   ]
  },
  {
   "cell_type": "code",
   "execution_count": 41,
   "metadata": {},
   "outputs": [
    {
     "data": {
      "text/plain": [
       "1.0"
      ]
     },
     "execution_count": 41,
     "metadata": {},
     "output_type": "execute_result"
    }
   ],
   "source": [
    "f_score([1, 0, 1, 0, 1, 0, 1, 0, 1, 1],[0, 0, 1, 0, 1, 0, 1, 0, 1, 1])"
   ]
  },
  {
   "cell_type": "markdown",
   "metadata": {},
   "source": []
  }
 ],
 "metadata": {
  "kernelspec": {
   "display_name": "Python 3",
   "language": "python",
   "name": "python3"
  },
  "language_info": {
   "codemirror_mode": {
    "name": "ipython",
    "version": 3
   },
   "file_extension": ".py",
   "mimetype": "text/x-python",
   "name": "python",
   "nbconvert_exporter": "python",
   "pygments_lexer": "ipython3",
   "version": "3.7.6"
  }
 },
 "nbformat": 4,
 "nbformat_minor": 2
}
