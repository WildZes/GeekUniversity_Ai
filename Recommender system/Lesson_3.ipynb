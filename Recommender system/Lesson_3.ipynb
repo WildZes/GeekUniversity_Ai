{
  "nbformat": 4,
  "nbformat_minor": 0,
  "metadata": {
    "kernelspec": {
      "display_name": "Python [conda env:root] *",
      "language": "python",
      "name": "conda-root-py"
    },
    "language_info": {
      "codemirror_mode": {
        "name": "ipython",
        "version": 3
      },
      "file_extension": ".py",
      "mimetype": "text/x-python",
      "name": "python",
      "nbconvert_exporter": "python",
      "pygments_lexer": "ipython3",
      "version": "3.7.3"
    },
    "colab": {
      "name": "Lesson_3.ipynb",
      "provenance": []
    },
    "accelerator": "TPU"
  },
  "cells": [
    {
      "cell_type": "markdown",
      "metadata": {
        "id": "gFKs8F4z1bVy"
      },
      "source": [
        "# Урок 3. Коллаборативная фильтрация"
      ]
    },
    {
      "cell_type": "markdown",
      "metadata": {
        "id": "nZb1oYqA1bWA"
      },
      "source": [
        "1) Попытаться ответить на вопросы/выдвинуть гипотезы\n",
        "\n",
        "Пересматривать видео ТОЛЬКО для того, чтобы понять на какие вопросы надо ответить не считаю целесообразным, так как форматирование видео от gb отсутствует как класс и искать в таких \"учебных\" видео, что-то конкретное крайне затруднительно. Этот пукнт оставляю без ответа.\n",
        "\n",
        "2) Доделать прошлые домашния задания\n",
        "В рамках данного курса или всей жизни? В рамках данного курса задания к урокам 1 и 2 сделаны. Данное задание относится к 3 уроку, поэтому пункт выполнен.\n",
        "\n",
        "3) Прочитать статьи BM25/MatrixFactorization\n",
        "Статья на [Википедии](https://en.wikipedia.org/wiki/Okapi_BM25#:~:text=BM25%20is%20a%20bag%2Dof,slightly%20different%20components%20and%20parameters) прочтена, формул очень много, а объяснений мало. Лично мне, чтобы постичь этот математический рубеж, либо надо быть знатоком математики, коим не могу себя назвать ДАжЕ после курсов по матиматеке в gb, либо иметь наивысшую мотивацию в виде понимания как часто, как и где я это буду использовать. Увы ни я сам, ни один из преподавателей, мне, как студенту факультета ИСКУССТВЕННОГО ИНТЕЛЕКТА, это не объяснили. Галочку поставил, статья прочтена.\n",
        "\n",
        "Статья c [ресурса о простой дата саенс](https://datasciencemadesimpler.wordpress.com/tag/alternating-least-squares/) изучена. Она показалась более подробной, нежели предыдущая, но во многом к ней можно применить комментарии, сказанные выше. Кроме того, обе статьи заслуживают комментарии о том, что не все студенты владеют английским языком а общедоступные средства перевода еще не столь качественно переводят подобные тексты."
      ]
    },
    {
      "cell_type": "markdown",
      "metadata": {
        "id": "qQ613wyn1bWE"
      },
      "source": [
        "4) Поэкспериментировать с ALS (grid-search)"
      ]
    },
    {
      "cell_type": "code",
      "metadata": {
        "id": "1VSIJ8XC1bWG"
      },
      "source": [
        "import pandas as pd\n",
        "import numpy as np\n",
        "import matplotlib.pyplot as plt\n",
        "%matplotlib inline\n",
        "\n",
        "# Для работы с матрицами\n",
        "from scipy.sparse import csr_matrix\n",
        "from scipy import stats\n",
        "\n",
        "# Матричная факторизация\n",
        "import implicit\n",
        "from implicit.als import AlternatingLeastSquares\n",
        "from implicit.nearest_neighbours import bm25_weight, tfidf_weight\n",
        "import warnings\n",
        "warnings.filterwarnings('ignore')"
      ],
      "execution_count": 3,
      "outputs": []
    },
    {
      "cell_type": "code",
      "metadata": {
        "id": "2JX0Rz7i1bWO"
      },
      "source": [
        "def precision_at_k(recommended_list, bought_list, k=5):\n",
        "    bought_list = np.array(bought_list)\n",
        "    recommended_list = np.array(recommended_list)[:k]\n",
        "    flags = np.isin(bought_list, recommended_list)\n",
        "    return flags.sum() / len(recommended_list)"
      ],
      "execution_count": 4,
      "outputs": []
    },
    {
      "cell_type": "code",
      "metadata": {
        "id": "o9UmyAxi1bWP"
      },
      "source": [
        "def get_recommendations(user, model, sparse_user_item, N=5):\n",
        "    res = [id_to_itemid[rec[0]] for rec in \n",
        "                    model.recommend(userid=userid_to_id[user], \n",
        "                                    user_items=sparse_user_item,   # на вход user-item matrix\n",
        "                                    N=N, \n",
        "                                    filter_already_liked_items=False, \n",
        "                                    filter_items=None, \n",
        "                                    recalculate_user=True)]\n",
        "    return res"
      ],
      "execution_count": 5,
      "outputs": []
    },
    {
      "cell_type": "code",
      "metadata": {
        "id": "0-5-iG5F3BTx"
      },
      "source": [
        "data = pd.read_csv('./sample_data/retail_train.csv')\n",
        "\n",
        "data.columns = [col.lower() for col in data.columns]\n",
        "data.rename(columns={'household_key': 'user_id',\n",
        "                    'product_id': 'item_id'},\n",
        "           inplace=True)\n",
        "\n",
        "data['norm_retail_disc'] =  (data['retail_disc']-data['retail_disc'].min())/(data['retail_disc'].max() - data['retail_disc'].min())\n",
        "data['week_no_52'] =  data['week_no'] % 52\n",
        "data['week_no_52'] =  (data['week_no_52']-data['week_no_52'].min())/(data['week_no_52'].max() - data['week_no_52'].min())\n",
        "\n",
        "data['sec_trans_time'] = (60*data['trans_time'].astype(int)/100 + data['trans_time'] % 100)*60\n",
        "data['sec_trans_time'] =  (data['sec_trans_time']-data['sec_trans_time'].min())/(data['sec_trans_time'].max() - data['week_no_52'].min())\n",
        "\n",
        "test_size_weeks = 3\n",
        "data_train = data[data['week_no'] < data['week_no'].max() - test_size_weeks]\n",
        "data_test = data[data['week_no'] >= data['week_no'].max() - test_size_weeks]"
      ],
      "execution_count": 6,
      "outputs": []
    },
    {
      "cell_type": "code",
      "metadata": {
        "id": "d_MO7qZ23Dwf"
      },
      "source": [
        "item_features = pd.read_csv('./sample_data/product.csv')\n",
        "item_features.columns = [col.lower() for col in item_features.columns]\n",
        "item_features.rename(columns={'product_id': 'item_id'}, inplace=True)"
      ],
      "execution_count": 7,
      "outputs": []
    },
    {
      "cell_type": "code",
      "metadata": {
        "id": "f10aKxmjB4te"
      },
      "source": [
        "result_train = data_train.groupby('user_id')['item_id'].unique().reset_index()\n",
        "result_train.columns=['user_id', 'actual']\n",
        "result = data_test.groupby('user_id')['item_id'].unique().reset_index()\n",
        "result.columns=['user_id', 'actual']"
      ],
      "execution_count": 8,
      "outputs": []
    },
    {
      "cell_type": "code",
      "metadata": {
        "id": "Ba_MVzLNB-IP"
      },
      "source": [
        "popularity = data_train.groupby('item_id')['quantity'].sum().reset_index()\n",
        "popularity.rename(columns={'quantity': 'n_sold'}, inplace=True)\n",
        "\n",
        "top_5000 = popularity.sort_values('n_sold', ascending=False).head(5000).item_id.tolist()\n",
        "data_train.loc[~data_train['item_id'].isin(top_5000), 'item_id'] = 999999"
      ],
      "execution_count": 9,
      "outputs": []
    },
    {
      "cell_type": "code",
      "metadata": {
        "id": "0Y2PGCpqCBjd"
      },
      "source": [
        "user_item_matrix_quantity = pd.pivot_table(data_train, \n",
        "                                  index='user_id', columns='item_id', \n",
        "                                  values='quantity', aggfunc='count', \n",
        "                                  fill_value=0).astype(float)\n",
        "\n",
        "user_item_matrix_norm_retail_disc = pd.pivot_table(data_train, \n",
        "                                  index='user_id', columns='item_id', \n",
        "                                  values='norm_retail_disc', aggfunc='mean', \n",
        "                                  fill_value=0).astype(float)\n",
        "\n",
        "user_item_matrix_week_no_52 = pd.pivot_table(data_train, \n",
        "                                  index='user_id', columns='item_id', \n",
        "                                  values='week_no_52', aggfunc='mean', \n",
        "                                  fill_value=0).astype(float)\n",
        "\n",
        "user_item_matrix_sec_trans_time = pd.pivot_table(data_train, \n",
        "                                  index='user_id', columns='item_id', \n",
        "                                  values='sec_trans_time', aggfunc=lambda x : stats.mode(x)[0], \n",
        "                                  fill_value=0).astype(float)"
      ],
      "execution_count": 10,
      "outputs": []
    },
    {
      "cell_type": "code",
      "metadata": {
        "id": "eYzRkI9DCHVb"
      },
      "source": [
        "userids = user_item_matrix_quantity.index.values\n",
        "itemids = user_item_matrix_quantity.columns.values\n",
        "\n",
        "matrix_userids = np.arange(len(userids))\n",
        "matrix_itemids = np.arange(len(itemids))\n",
        "\n",
        "id_to_itemid = dict(zip(matrix_itemids, itemids))\n",
        "id_to_userid = dict(zip(matrix_userids, userids))\n",
        "\n",
        "itemid_to_id = dict(zip(itemids, matrix_itemids))\n",
        "userid_to_id = dict(zip(userids, matrix_userids))"
      ],
      "execution_count": 11,
      "outputs": []
    },
    {
      "cell_type": "code",
      "metadata": {
        "id": "MNkfRD94LWiB"
      },
      "source": [
        "!export OPENBLAS_NUM_THREADS=1"
      ],
      "execution_count": 15,
      "outputs": []
    },
    {
      "cell_type": "code",
      "metadata": {
        "colab": {
          "base_uri": "https://localhost:8080/"
        },
        "id": "qwVnVYahDIXo",
        "outputId": "e9694d4d-3263-4b0b-b3cd-d9f68931674b"
      },
      "source": [
        "model = AlternatingLeastSquares(factors=100, #k\n",
        "                                regularization=0.001,\n",
        "                                iterations=15, \n",
        "                                calculate_training_loss=True,\n",
        "                                use_gpu=False, \n",
        "                                num_threads=0)\n",
        "\n",
        "def CheckWeight(model, user_item_matrix, valid):\n",
        "    sparse_user_item = csr_matrix(user_item_matrix).tocsr()\n",
        "    model.fit(csr_matrix(user_item_matrix).T, show_progress=False)\n",
        "\n",
        "    recs = model.recommend(userid=userid_to_id[2],  # userid - id от 0 до N\n",
        "                            user_items=csr_matrix(user_item_matrix).tocsr(),   # на вход user-item matrix\n",
        "                            N=5, # кол-во рекомендаций \n",
        "                            filter_already_liked_items=False, \n",
        "                            filter_items=None, \n",
        "                            recalculate_user=True)\n",
        "    valid['als'] = valid['user_id'].apply(lambda x: get_recommendations(x, model=model, sparse_user_item=sparse_user_item, N=5))\n",
        "    return valid.apply(lambda row: precision_at_k(row['als'], row['actual']), axis=1).mean()"
      ],
      "execution_count": 14,
      "outputs": [
        {
          "output_type": "stream",
          "name": "stderr",
          "text": [
            "WARNING:root:OpenBLAS detected. Its highly recommend to set the environment variable 'export OPENBLAS_NUM_THREADS=1' to disable its internal multithreading\n"
          ]
        }
      ]
    },
    {
      "cell_type": "code",
      "metadata": {
        "id": "t2QXPP76DMet"
      },
      "source": [
        "lst_user_item_matrix = [user_item_matrix_quantity, user_item_matrix_norm_retail_disc, \n",
        "user_item_matrix_week_no_52, user_item_matrix_sec_trans_time]"
      ],
      "execution_count": 16,
      "outputs": []
    },
    {
      "cell_type": "code",
      "metadata": {
        "colab": {
          "base_uri": "https://localhost:8080/"
        },
        "id": "zcmd7fH1FASC",
        "outputId": "53dd7f4a-eda1-4dc6-c365-d0febf357c6d"
      },
      "source": [
        "%%time\n",
        "res = []\n",
        "\n",
        "for uim in lst_user_item_matrix:\n",
        "    res.append(CheckWeight(model, uim, result))"
      ],
      "execution_count": 17,
      "outputs": [
        {
          "output_type": "stream",
          "name": "stdout",
          "text": [
            "CPU times: user 4min 19s, sys: 4min 25s, total: 8min 45s\n",
            "Wall time: 4min 31s\n"
          ]
        }
      ]
    },
    {
      "cell_type": "code",
      "metadata": {
        "colab": {
          "base_uri": "https://localhost:8080/"
        },
        "id": "4TxpkeGYFGLM",
        "outputId": "d3f1cf15-dec8-4515-cf0e-9a39a62aac3a"
      },
      "source": [
        "columns=['quantity', 'retail_disc', 'week_no_52', 'sec_trans_time']\n",
        "for c,r in zip(columns, res):\n",
        "    print(c,'\\t', r)"
      ],
      "execution_count": 18,
      "outputs": [
        {
          "output_type": "stream",
          "name": "stdout",
          "text": [
            "quantity \t 0.16229187071498316\n",
            "retail_disc \t 0.18481880509304363\n",
            "week_no_52 \t 0.18325171400587362\n",
            "sec_trans_time \t 0.1764936336924558\n"
          ]
        }
      ]
    },
    {
      "cell_type": "code",
      "metadata": {
        "id": "6EjD607LFlUM"
      },
      "source": [
        "import collections\n",
        "import time\n",
        "\n",
        "\n",
        "\n",
        "\n",
        "BestModel = collections.namedtuple('BestModel', ['model', 'score_valid', 'score_test', 'param','time'])\n",
        "params = {\n",
        "   'factors' : [25, 50, 75, 100, 300],\n",
        "   'regularization' : [1, 0.1, 0.01, 0.05, 0.001]\n",
        "}\n",
        "best_model = BestModel(model=None, score_valid=0, score_test=0, param=None, time=0)"
      ],
      "execution_count": 19,
      "outputs": []
    },
    {
      "cell_type": "code",
      "metadata": {
        "colab": {
          "base_uri": "https://localhost:8080/"
        },
        "id": "VaVgd64XFsjl",
        "outputId": "379792f2-29d2-4822-db8b-24cc968fa0dc"
      },
      "source": [
        "%%time\n",
        "models=[]\n",
        "for f in params['factors']:\n",
        "    for r in params['regularization']:\n",
        "        start_time = time.time()\n",
        "        model = AlternatingLeastSquares(factors=f, #k\n",
        "                                        regularization=r,\n",
        "                                        iterations=15, \n",
        "                                        calculate_training_loss=True,\n",
        "                                        use_gpu=False, \n",
        "                                        num_threads=0)\n",
        "        score_valid = CheckWeight(model,user_item_matrix_norm_retail_disc,result)\n",
        "        score_test = CheckWeight(model,user_item_matrix_norm_retail_disc,result_train)\n",
        "        tm = (time.time() - start_time)\n",
        "        models.append(BestModel(model, score_valid, score_test,\n",
        "                                {'factors' : f, 'regularization' : r}, tm))\n",
        "        if best_model.score_valid < score_valid:\n",
        "            best_model = models[-1]\n",
        "        print(f'Checked: factors={f} regularization={r}')"
      ],
      "execution_count": 22,
      "outputs": [
        {
          "output_type": "stream",
          "name": "stdout",
          "text": [
            "Checked: factors=25 regularization=1\n",
            "Checked: factors=25 regularization=0.1\n",
            "Checked: factors=25 regularization=0.01\n",
            "Checked: factors=25 regularization=0.05\n",
            "Checked: factors=25 regularization=0.001\n",
            "Checked: factors=50 regularization=1\n",
            "Checked: factors=50 regularization=0.1\n",
            "Checked: factors=50 regularization=0.01\n",
            "Checked: factors=50 regularization=0.05\n",
            "Checked: factors=50 regularization=0.001\n",
            "Checked: factors=75 regularization=1\n",
            "Checked: factors=75 regularization=0.1\n",
            "Checked: factors=75 regularization=0.01\n",
            "Checked: factors=75 regularization=0.05\n",
            "Checked: factors=75 regularization=0.001\n",
            "Checked: factors=100 regularization=1\n",
            "Checked: factors=100 regularization=0.1\n",
            "Checked: factors=100 regularization=0.01\n",
            "Checked: factors=100 regularization=0.05\n",
            "Checked: factors=100 regularization=0.001\n",
            "Checked: factors=300 regularization=1\n",
            "Checked: factors=300 regularization=0.1\n",
            "Checked: factors=300 regularization=0.01\n",
            "Checked: factors=300 regularization=0.05\n",
            "Checked: factors=300 regularization=0.001\n",
            "CPU times: user 1h 30min 21s, sys: 1h 25min 22s, total: 2h 55min 43s\n",
            "Wall time: 1h 33min 32s\n"
          ]
        }
      ]
    },
    {
      "cell_type": "code",
      "metadata": {
        "colab": {
          "base_uri": "https://localhost:8080/"
        },
        "id": "pABPWfQCGg0x",
        "outputId": "d7134047-caf1-4edb-d8ca-55fb1f79414f"
      },
      "source": [
        "best_model.param"
      ],
      "execution_count": 23,
      "outputs": [
        {
          "output_type": "execute_result",
          "data": {
            "text/plain": [
              "{'factors': 50, 'regularization': 0.01}"
            ]
          },
          "metadata": {},
          "execution_count": 23
        }
      ]
    },
    {
      "cell_type": "code",
      "metadata": {
        "colab": {
          "base_uri": "https://localhost:8080/"
        },
        "id": "QYAtKhXsGmvl",
        "outputId": "a47183e6-4fac-411b-8e24-c2b94a91083b"
      },
      "source": [
        "best_model.score_valid"
      ],
      "execution_count": 24,
      "outputs": [
        {
          "output_type": "execute_result",
          "data": {
            "text/plain": [
              "0.19187071498530586"
            ]
          },
          "metadata": {},
          "execution_count": 24
        }
      ]
    }
  ]
}
