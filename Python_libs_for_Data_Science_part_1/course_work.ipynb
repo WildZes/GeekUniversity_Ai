{
 "cells": [
  {
   "cell_type": "code",
   "execution_count": 1,
   "metadata": {
    "_cell_guid": "b1076dfc-b9ad-4769-8c92-a6c4dae69d19",
    "_uuid": "8f2839f25d086af736a60e9eeb907d3b93b6e0e5",
    "execution": {
     "iopub.execute_input": "2020-12-09T11:32:11.202800Z",
     "iopub.status.busy": "2020-12-09T11:32:11.202099Z",
     "iopub.status.idle": "2020-12-09T11:32:11.211440Z",
     "shell.execute_reply": "2020-12-09T11:32:11.211993Z"
    },
    "papermill": {
     "duration": 0.064437,
     "end_time": "2020-12-09T11:32:11.212171",
     "exception": false,
     "start_time": "2020-12-09T11:32:11.147734",
     "status": "completed"
    },
    "tags": []
   },
   "outputs": [
    {
     "name": "stdout",
     "output_type": "stream",
     "text": [
      "/kaggle/input/realestatepriceprediction/sample_submission.csv\n",
      "/kaggle/input/realestatepriceprediction/train.csv\n",
      "/kaggle/input/realestatepriceprediction/test.csv\n"
     ]
    }
   ],
   "source": [
    "# This Python 3 environment comes with many helpful analytics libraries installed\n",
    "# It is defined by the kaggle/python Docker image: https://github.com/kaggle/docker-python\n",
    "# For example, here's several helpful packages to load\n",
    "\n",
    "import numpy as np # linear algebra\n",
    "import pandas as pd # data processing, CSV file I/O (e.g. pd.read_csv)\n",
    "\n",
    "# Input data files are available in the read-only \"../input/\" directory\n",
    "# For example, running this (by clicking run or pressing Shift+Enter) will list all files under the input directory\n",
    "\n",
    "import os\n",
    "for dirname, _, filenames in os.walk('/kaggle/input'):\n",
    "    for filename in filenames:\n",
    "        print(os.path.join(dirname, filename))\n",
    "\n",
    "# You can write up to 20GB to the current directory (/kaggle/working/) that gets preserved as output when you create a version using \"Save & Run All\" \n",
    "# You can also write temporary files to /kaggle/temp/, but they won't be saved outside of the current session"
   ]
  },
  {
   "cell_type": "code",
   "execution_count": 2,
   "metadata": {
    "_cell_guid": "79c7e3d0-c299-4dcb-8224-4455121ee9b0",
    "_uuid": "d629ff2d2480ee46fbb7e2d37f6b5fab8052498a",
    "execution": {
     "iopub.execute_input": "2020-12-09T11:32:11.321194Z",
     "iopub.status.busy": "2020-12-09T11:32:11.320454Z",
     "iopub.status.idle": "2020-12-09T11:32:12.747077Z",
     "shell.execute_reply": "2020-12-09T11:32:12.746461Z"
    },
    "papermill": {
     "duration": 1.485354,
     "end_time": "2020-12-09T11:32:12.747229",
     "exception": false,
     "start_time": "2020-12-09T11:32:11.261875",
     "status": "completed"
    },
    "tags": []
   },
   "outputs": [],
   "source": [
    "import random\n",
    "\n",
    "from sklearn.model_selection import train_test_split, cross_val_score, KFold, GridSearchCV\n",
    "from sklearn.preprocessing import StandardScaler, RobustScaler\n",
    "from sklearn.ensemble import RandomForestRegressor\n",
    "from sklearn.metrics import r2_score as r2\n",
    "\n",
    "from datetime import datetime\n",
    "\n",
    "import matplotlib\n",
    "import matplotlib.pyplot as plt\n",
    "import seaborn as sns\n",
    "%matplotlib inline\n",
    "\n",
    "import warnings\n",
    "warnings.filterwarnings('ignore')"
   ]
  },
  {
   "cell_type": "markdown",
   "metadata": {
    "papermill": {
     "duration": 0.049271,
     "end_time": "2020-12-09T11:32:12.845771",
     "exception": false,
     "start_time": "2020-12-09T11:32:12.796500",
     "status": "completed"
    },
    "tags": []
   },
   "source": [
    "# Пути к файлам"
   ]
  },
  {
   "cell_type": "code",
   "execution_count": 3,
   "metadata": {
    "execution": {
     "iopub.execute_input": "2020-12-09T11:32:12.965618Z",
     "iopub.status.busy": "2020-12-09T11:32:12.964902Z",
     "iopub.status.idle": "2020-12-09T11:32:12.968600Z",
     "shell.execute_reply": "2020-12-09T11:32:12.968015Z"
    },
    "papermill": {
     "duration": 0.062366,
     "end_time": "2020-12-09T11:32:12.968715",
     "exception": false,
     "start_time": "2020-12-09T11:32:12.906349",
     "status": "completed"
    },
    "tags": []
   },
   "outputs": [],
   "source": [
    "PATH_TO_TRAIN = '/kaggle/input/realestatepriceprediction/train.csv'\n",
    "PATH_TO_TEST = '/kaggle/input/realestatepriceprediction/test.csv'"
   ]
  },
  {
   "cell_type": "markdown",
   "metadata": {
    "papermill": {
     "duration": 0.049639,
     "end_time": "2020-12-09T11:32:13.068484",
     "exception": false,
     "start_time": "2020-12-09T11:32:13.018845",
     "status": "completed"
    },
    "tags": []
   },
   "source": [
    "# Описание данных\n",
    "\n",
    "* Id - идентификационный номер квартиры\n",
    "* DistrictId - идентификационный номер района\n",
    "* Rooms - количество комнат\n",
    "* Square - площадь\n",
    "* LifeSquare - жилая площадь\n",
    "* KitchenSquare - площадь кухни\n",
    "* Floor - этаж\n",
    "* HouseFloor - количество этажей в доме\n",
    "* HouseYear - год постройки дома\n",
    "* Ecology_1, Ecology_2, Ecology_3 - экологические показатели местности\n",
    "* Social_1, Social_2, Social_3 - социальные показатели местности\n",
    "* Healthcare_1, Helthcare_2 - показатели местности, связанные с охраной здоровья\n",
    "* Shops_1, Shops_2 - показатели, связанные с наличием магазинов, торговых центров\n",
    "* Price - цена квартиры"
   ]
  },
  {
   "cell_type": "markdown",
   "metadata": {
    "papermill": {
     "duration": 0.051913,
     "end_time": "2020-12-09T11:32:13.171520",
     "exception": false,
     "start_time": "2020-12-09T11:32:13.119607",
     "status": "completed"
    },
    "tags": []
   },
   "source": [
    "Не принципиально с точки зрения обработки данных, но Helthcare_2 явно должно нзываться Healthcare_2"
   ]
  },
  {
   "cell_type": "markdown",
   "metadata": {
    "papermill": {
     "duration": 0.04967,
     "end_time": "2020-12-09T11:32:13.270758",
     "exception": false,
     "start_time": "2020-12-09T11:32:13.221088",
     "status": "completed"
    },
    "tags": []
   },
   "source": [
    "# Начало работы с данными"
   ]
  },
  {
   "cell_type": "code",
   "execution_count": 4,
   "metadata": {
    "execution": {
     "iopub.execute_input": "2020-12-09T11:32:13.374040Z",
     "iopub.status.busy": "2020-12-09T11:32:13.373343Z",
     "iopub.status.idle": "2020-12-09T11:32:13.462614Z",
     "shell.execute_reply": "2020-12-09T11:32:13.462004Z"
    },
    "papermill": {
     "duration": 0.141855,
     "end_time": "2020-12-09T11:32:13.462734",
     "exception": false,
     "start_time": "2020-12-09T11:32:13.320879",
     "status": "completed"
    },
    "tags": []
   },
   "outputs": [
    {
     "name": "stdout",
     "output_type": "stream",
     "text": [
      "<class 'pandas.core.frame.DataFrame'>\n",
      "RangeIndex: 10000 entries, 0 to 9999\n",
      "Data columns (total 20 columns):\n",
      " #   Column         Non-Null Count  Dtype  \n",
      "---  ------         --------------  -----  \n",
      " 0   Id             10000 non-null  int64  \n",
      " 1   DistrictId     10000 non-null  int64  \n",
      " 2   Rooms          10000 non-null  float64\n",
      " 3   Square         10000 non-null  float64\n",
      " 4   LifeSquare     7887 non-null   float64\n",
      " 5   KitchenSquare  10000 non-null  float64\n",
      " 6   Floor          10000 non-null  int64  \n",
      " 7   HouseFloor     10000 non-null  float64\n",
      " 8   HouseYear      10000 non-null  int64  \n",
      " 9   Ecology_1      10000 non-null  float64\n",
      " 10  Ecology_2      10000 non-null  object \n",
      " 11  Ecology_3      10000 non-null  object \n",
      " 12  Social_1       10000 non-null  int64  \n",
      " 13  Social_2       10000 non-null  int64  \n",
      " 14  Social_3       10000 non-null  int64  \n",
      " 15  Healthcare_1   5202 non-null   float64\n",
      " 16  Helthcare_2    10000 non-null  int64  \n",
      " 17  Shops_1        10000 non-null  int64  \n",
      " 18  Shops_2        10000 non-null  object \n",
      " 19  Price          10000 non-null  float64\n",
      "dtypes: float64(8), int64(9), object(3)\n",
      "memory usage: 1.5+ MB\n",
      "None\n"
     ]
    }
   ],
   "source": [
    "ds_train = pd.read_csv(PATH_TO_TRAIN)\n",
    "print(ds_train.info())"
   ]
  },
  {
   "cell_type": "markdown",
   "metadata": {
    "papermill": {
     "duration": 0.050249,
     "end_time": "2020-12-09T11:32:13.564155",
     "exception": false,
     "start_time": "2020-12-09T11:32:13.513906",
     "status": "completed"
    },
    "tags": []
   },
   "source": [
    "Фичи LifeSquare и Healthcare_1 имеют пропуски  \n",
    "Фичи Ecology_2, Ecology_3 и Shops_2 имеют тип object"
   ]
  },
  {
   "cell_type": "code",
   "execution_count": 5,
   "metadata": {
    "execution": {
     "iopub.execute_input": "2020-12-09T11:32:13.674940Z",
     "iopub.status.busy": "2020-12-09T11:32:13.674075Z",
     "iopub.status.idle": "2020-12-09T11:32:13.714443Z",
     "shell.execute_reply": "2020-12-09T11:32:13.713794Z"
    },
    "papermill": {
     "duration": 0.097072,
     "end_time": "2020-12-09T11:32:13.714567",
     "exception": false,
     "start_time": "2020-12-09T11:32:13.617495",
     "status": "completed"
    },
    "tags": []
   },
   "outputs": [
    {
     "name": "stdout",
     "output_type": "stream",
     "text": [
      "<class 'pandas.core.frame.DataFrame'>\n",
      "RangeIndex: 5000 entries, 0 to 4999\n",
      "Data columns (total 19 columns):\n",
      " #   Column         Non-Null Count  Dtype  \n",
      "---  ------         --------------  -----  \n",
      " 0   Id             5000 non-null   int64  \n",
      " 1   DistrictId     5000 non-null   int64  \n",
      " 2   Rooms          5000 non-null   float64\n",
      " 3   Square         5000 non-null   float64\n",
      " 4   LifeSquare     3959 non-null   float64\n",
      " 5   KitchenSquare  5000 non-null   float64\n",
      " 6   Floor          5000 non-null   int64  \n",
      " 7   HouseFloor     5000 non-null   float64\n",
      " 8   HouseYear      5000 non-null   int64  \n",
      " 9   Ecology_1      5000 non-null   float64\n",
      " 10  Ecology_2      5000 non-null   object \n",
      " 11  Ecology_3      5000 non-null   object \n",
      " 12  Social_1       5000 non-null   int64  \n",
      " 13  Social_2       5000 non-null   int64  \n",
      " 14  Social_3       5000 non-null   int64  \n",
      " 15  Healthcare_1   2623 non-null   float64\n",
      " 16  Helthcare_2    5000 non-null   int64  \n",
      " 17  Shops_1        5000 non-null   int64  \n",
      " 18  Shops_2        5000 non-null   object \n",
      "dtypes: float64(7), int64(9), object(3)\n",
      "memory usage: 742.3+ KB\n",
      "None\n"
     ]
    }
   ],
   "source": [
    "ds_test = pd.read_csv(PATH_TO_TEST)\n",
    "print(ds_test.info())"
   ]
  },
  {
   "cell_type": "markdown",
   "metadata": {
    "papermill": {
     "duration": 0.050044,
     "end_time": "2020-12-09T11:32:13.815559",
     "exception": false,
     "start_time": "2020-12-09T11:32:13.765515",
     "status": "completed"
    },
    "tags": []
   },
   "source": [
    "Фичи LifeSquare и Healthcare_1 имеют пропуски  \n",
    "Фичи Ecology_2, Ecology_3 и Shops_2 имеют тип object"
   ]
  },
  {
   "cell_type": "code",
   "execution_count": 6,
   "metadata": {
    "execution": {
     "iopub.execute_input": "2020-12-09T11:32:13.924221Z",
     "iopub.status.busy": "2020-12-09T11:32:13.923118Z",
     "iopub.status.idle": "2020-12-09T11:32:13.959785Z",
     "shell.execute_reply": "2020-12-09T11:32:13.960602Z"
    },
    "papermill": {
     "duration": 0.093732,
     "end_time": "2020-12-09T11:32:13.960805",
     "exception": false,
     "start_time": "2020-12-09T11:32:13.867073",
     "status": "completed"
    },
    "tags": []
   },
   "outputs": [
    {
     "name": "stdout",
     "output_type": "stream",
     "text": [
      "<class 'pandas.core.frame.DataFrame'>\n",
      "RangeIndex: 10000 entries, 0 to 9999\n",
      "Data columns (total 20 columns):\n",
      " #   Column         Non-Null Count  Dtype  \n",
      "---  ------         --------------  -----  \n",
      " 0   Id             10000 non-null  object \n",
      " 1   DistrictId     10000 non-null  int64  \n",
      " 2   Rooms          10000 non-null  float64\n",
      " 3   Square         10000 non-null  float64\n",
      " 4   LifeSquare     7887 non-null   float64\n",
      " 5   KitchenSquare  10000 non-null  float64\n",
      " 6   Floor          10000 non-null  int64  \n",
      " 7   HouseFloor     10000 non-null  float64\n",
      " 8   HouseYear      10000 non-null  int64  \n",
      " 9   Ecology_1      10000 non-null  float64\n",
      " 10  Ecology_2      10000 non-null  object \n",
      " 11  Ecology_3      10000 non-null  object \n",
      " 12  Social_1       10000 non-null  int64  \n",
      " 13  Social_2       10000 non-null  int64  \n",
      " 14  Social_3       10000 non-null  int64  \n",
      " 15  Healthcare_1   5202 non-null   float64\n",
      " 16  Helthcare_2    10000 non-null  int64  \n",
      " 17  Shops_1        10000 non-null  int64  \n",
      " 18  Shops_2        10000 non-null  object \n",
      " 19  Price          10000 non-null  float64\n",
      "dtypes: float64(8), int64(8), object(4)\n",
      "memory usage: 1.5+ MB\n",
      "None\n"
     ]
    }
   ],
   "source": [
    "# Фича Id не имеет релевантного значения в предстоящем прогнозе, в связи с чем возможно выполнить:\n",
    "ds_train['Id'] = ds_train['Id'].astype(str)\n",
    "print(ds_train.info())"
   ]
  },
  {
   "cell_type": "markdown",
   "metadata": {
    "papermill": {
     "duration": 0.050207,
     "end_time": "2020-12-09T11:32:14.062894",
     "exception": false,
     "start_time": "2020-12-09T11:32:14.012687",
     "status": "completed"
    },
    "tags": []
   },
   "source": [
    "# 1. EDA"
   ]
  },
  {
   "cell_type": "code",
   "execution_count": 7,
   "metadata": {
    "execution": {
     "iopub.execute_input": "2020-12-09T11:32:14.171991Z",
     "iopub.status.busy": "2020-12-09T11:32:14.171275Z",
     "iopub.status.idle": "2020-12-09T11:32:14.480869Z",
     "shell.execute_reply": "2020-12-09T11:32:14.480153Z"
    },
    "papermill": {
     "duration": 0.367496,
     "end_time": "2020-12-09T11:32:14.480989",
     "exception": false,
     "start_time": "2020-12-09T11:32:14.113493",
     "status": "completed"
    },
    "tags": []
   },
   "outputs": [
    {
     "data": {
      "image/png": "[encoded data removed]",
      "text/plain": [
       "<Figure size 1152x576 with 1 Axes>"
      ]
     },
     "metadata": {
      "needs_background": "light"
     },
     "output_type": "display_data"
    }
   ],
   "source": [
    "plt.figure(figsize = (16, 8))\n",
    "\n",
    "ds_train['Price'].hist(bins=30)\n",
    "plt.ylabel('Count')\n",
    "plt.xlabel('Price')\n",
    "\n",
    "plt.title('Распределение цен')\n",
    "plt.show()"
   ]
  },
  {
   "cell_type": "markdown",
   "metadata": {
    "papermill": {
     "duration": 0.052699,
     "end_time": "2020-12-09T11:32:14.586165",
     "exception": false,
     "start_time": "2020-12-09T11:32:14.533466",
     "status": "completed"
    },
    "tags": []
   },
   "source": [
    "Цена имеет нормальное рпспределение и, можно сказать, что выбросы отсутствуют."
   ]
  },
  {
   "cell_type": "markdown",
   "metadata": {
    "papermill": {
     "duration": 0.061196,
     "end_time": "2020-12-09T11:32:14.700877",
     "exception": false,
     "start_time": "2020-12-09T11:32:14.639681",
     "status": "completed"
    },
    "tags": []
   },
   "source": [
    "### Определение количественных переменных"
   ]
  },
  {
   "cell_type": "code",
   "execution_count": 8,
   "metadata": {
    "execution": {
     "iopub.execute_input": "2020-12-09T11:32:14.834418Z",
     "iopub.status.busy": "2020-12-09T11:32:14.833298Z",
     "iopub.status.idle": "2020-12-09T11:32:14.993587Z",
     "shell.execute_reply": "2020-12-09T11:32:14.994202Z"
    },
    "papermill": {
     "duration": 0.228213,
     "end_time": "2020-12-09T11:32:14.994360",
     "exception": false,
     "start_time": "2020-12-09T11:32:14.766147",
     "status": "completed"
    },
    "tags": []
   },
   "outputs": [
    {
     "data": {
      "text/html": [
       "<div>\n",
       "<style scoped>\n",
       "    .dataframe tbody tr th:only-of-type {\n",
       "        vertical-align: middle;\n",
       "    }\n",
       "\n",
       "    .dataframe tbody tr th {\n",
       "        vertical-align: top;\n",
       "    }\n",
       "\n",
       "    .dataframe thead th {\n",
       "        text-align: right;\n",
       "    }\n",
       "</style>\n",
       "<table border=\"1\" class=\"dataframe\">\n",
       "  <thead>\n",
       "    <tr style=\"text-align: right;\">\n",
       "      <th></th>\n",
       "      <th>DistrictId</th>\n",
       "      <th>Rooms</th>\n",
       "      <th>Square</th>\n",
       "      <th>LifeSquare</th>\n",
       "      <th>KitchenSquare</th>\n",
       "      <th>Floor</th>\n",
       "      <th>HouseFloor</th>\n",
       "      <th>HouseYear</th>\n",
       "      <th>Ecology_1</th>\n",
       "      <th>Social_1</th>\n",
       "      <th>Social_2</th>\n",
       "      <th>Social_3</th>\n",
       "      <th>Healthcare_1</th>\n",
       "      <th>Helthcare_2</th>\n",
       "      <th>Shops_1</th>\n",
       "      <th>Price</th>\n",
       "    </tr>\n",
       "  </thead>\n",
       "  <tbody>\n",
       "    <tr>\n",
       "      <th>count</th>\n",
       "      <td>10000.000000</td>\n",
       "      <td>10000.000000</td>\n",
       "      <td>10000.000000</td>\n",
       "      <td>7887.000000</td>\n",
       "      <td>10000.000000</td>\n",
       "      <td>10000.000000</td>\n",
       "      <td>10000.000000</td>\n",
       "      <td>1.000000e+04</td>\n",
       "      <td>10000.000000</td>\n",
       "      <td>10000.000000</td>\n",
       "      <td>10000.000000</td>\n",
       "      <td>10000.000000</td>\n",
       "      <td>5202.000000</td>\n",
       "      <td>10000.000000</td>\n",
       "      <td>10000.000000</td>\n",
       "      <td>10000.000000</td>\n",
       "    </tr>\n",
       "    <tr>\n",
       "      <th>mean</th>\n",
       "      <td>50.400800</td>\n",
       "      <td>1.890500</td>\n",
       "      <td>56.315775</td>\n",
       "      <td>37.199645</td>\n",
       "      <td>6.273300</td>\n",
       "      <td>8.526700</td>\n",
       "      <td>12.609400</td>\n",
       "      <td>3.990166e+03</td>\n",
       "      <td>0.118858</td>\n",
       "      <td>24.687000</td>\n",
       "      <td>5352.157400</td>\n",
       "      <td>8.039200</td>\n",
       "      <td>1142.904460</td>\n",
       "      <td>1.319500</td>\n",
       "      <td>4.231300</td>\n",
       "      <td>214138.857399</td>\n",
       "    </tr>\n",
       "    <tr>\n",
       "      <th>std</th>\n",
       "      <td>43.587592</td>\n",
       "      <td>0.839512</td>\n",
       "      <td>21.058732</td>\n",
       "      <td>86.241209</td>\n",
       "      <td>28.560917</td>\n",
       "      <td>5.241148</td>\n",
       "      <td>6.775974</td>\n",
       "      <td>2.005003e+05</td>\n",
       "      <td>0.119025</td>\n",
       "      <td>17.532614</td>\n",
       "      <td>4006.799803</td>\n",
       "      <td>23.831875</td>\n",
       "      <td>1021.517264</td>\n",
       "      <td>1.493601</td>\n",
       "      <td>4.806341</td>\n",
       "      <td>92872.293865</td>\n",
       "    </tr>\n",
       "    <tr>\n",
       "      <th>min</th>\n",
       "      <td>0.000000</td>\n",
       "      <td>0.000000</td>\n",
       "      <td>1.136859</td>\n",
       "      <td>0.370619</td>\n",
       "      <td>0.000000</td>\n",
       "      <td>1.000000</td>\n",
       "      <td>0.000000</td>\n",
       "      <td>1.910000e+03</td>\n",
       "      <td>0.000000</td>\n",
       "      <td>0.000000</td>\n",
       "      <td>168.000000</td>\n",
       "      <td>0.000000</td>\n",
       "      <td>0.000000</td>\n",
       "      <td>0.000000</td>\n",
       "      <td>0.000000</td>\n",
       "      <td>59174.778028</td>\n",
       "    </tr>\n",
       "    <tr>\n",
       "      <th>25%</th>\n",
       "      <td>20.000000</td>\n",
       "      <td>1.000000</td>\n",
       "      <td>41.774881</td>\n",
       "      <td>22.769832</td>\n",
       "      <td>1.000000</td>\n",
       "      <td>4.000000</td>\n",
       "      <td>9.000000</td>\n",
       "      <td>1.974000e+03</td>\n",
       "      <td>0.017647</td>\n",
       "      <td>6.000000</td>\n",
       "      <td>1564.000000</td>\n",
       "      <td>0.000000</td>\n",
       "      <td>350.000000</td>\n",
       "      <td>0.000000</td>\n",
       "      <td>1.000000</td>\n",
       "      <td>153872.633942</td>\n",
       "    </tr>\n",
       "    <tr>\n",
       "      <th>50%</th>\n",
       "      <td>36.000000</td>\n",
       "      <td>2.000000</td>\n",
       "      <td>52.513310</td>\n",
       "      <td>32.781260</td>\n",
       "      <td>6.000000</td>\n",
       "      <td>7.000000</td>\n",
       "      <td>13.000000</td>\n",
       "      <td>1.977000e+03</td>\n",
       "      <td>0.075424</td>\n",
       "      <td>25.000000</td>\n",
       "      <td>5285.000000</td>\n",
       "      <td>2.000000</td>\n",
       "      <td>900.000000</td>\n",
       "      <td>1.000000</td>\n",
       "      <td>3.000000</td>\n",
       "      <td>192269.644879</td>\n",
       "    </tr>\n",
       "    <tr>\n",
       "      <th>75%</th>\n",
       "      <td>75.000000</td>\n",
       "      <td>2.000000</td>\n",
       "      <td>65.900625</td>\n",
       "      <td>45.128803</td>\n",
       "      <td>9.000000</td>\n",
       "      <td>12.000000</td>\n",
       "      <td>17.000000</td>\n",
       "      <td>2.001000e+03</td>\n",
       "      <td>0.195781</td>\n",
       "      <td>36.000000</td>\n",
       "      <td>7227.000000</td>\n",
       "      <td>5.000000</td>\n",
       "      <td>1548.000000</td>\n",
       "      <td>2.000000</td>\n",
       "      <td>6.000000</td>\n",
       "      <td>249135.462171</td>\n",
       "    </tr>\n",
       "    <tr>\n",
       "      <th>max</th>\n",
       "      <td>209.000000</td>\n",
       "      <td>19.000000</td>\n",
       "      <td>641.065193</td>\n",
       "      <td>7480.592129</td>\n",
       "      <td>2014.000000</td>\n",
       "      <td>42.000000</td>\n",
       "      <td>117.000000</td>\n",
       "      <td>2.005201e+07</td>\n",
       "      <td>0.521867</td>\n",
       "      <td>74.000000</td>\n",
       "      <td>19083.000000</td>\n",
       "      <td>141.000000</td>\n",
       "      <td>4849.000000</td>\n",
       "      <td>6.000000</td>\n",
       "      <td>23.000000</td>\n",
       "      <td>633233.466570</td>\n",
       "    </tr>\n",
       "  </tbody>\n",
       "</table>\n",
       "</div>"
      ],
      "text/plain": [
       "         DistrictId         Rooms        Square   LifeSquare  KitchenSquare  \\\n",
       "count  10000.000000  10000.000000  10000.000000  7887.000000   10000.000000   \n",
       "mean      50.400800      1.890500     56.315775    37.199645       6.273300   \n",
       "std       43.587592      0.839512     21.058732    86.241209      28.560917   \n",
       "min        0.000000      0.000000      1.136859     0.370619       0.000000   \n",
       "25%       20.000000      1.000000     41.774881    22.769832       1.000000   \n",
       "50%       36.000000      2.000000     52.513310    32.781260       6.000000   \n",
       "75%       75.000000      2.000000     65.900625    45.128803       9.000000   \n",
       "max      209.000000     19.000000    641.065193  7480.592129    2014.000000   \n",
       "\n",
       "              Floor    HouseFloor     HouseYear     Ecology_1      Social_1  \\\n",
       "count  10000.000000  10000.000000  1.000000e+04  10000.000000  10000.000000   \n",
       "mean       8.526700     12.609400  3.990166e+03      0.118858     24.687000   \n",
       "std        5.241148      6.775974  2.005003e+05      0.119025     17.532614   \n",
       "min        1.000000      0.000000  1.910000e+03      0.000000      0.000000   \n",
       "25%        4.000000      9.000000  1.974000e+03      0.017647      6.000000   \n",
       "50%        7.000000     13.000000  1.977000e+03      0.075424     25.000000   \n",
       "75%       12.000000     17.000000  2.001000e+03      0.195781     36.000000   \n",
       "max       42.000000    117.000000  2.005201e+07      0.521867     74.000000   \n",
       "\n",
       "           Social_2      Social_3  Healthcare_1   Helthcare_2       Shops_1  \\\n",
       "count  10000.000000  10000.000000   5202.000000  10000.000000  10000.000000   \n",
       "mean    5352.157400      8.039200   1142.904460      1.319500      4.231300   \n",
       "std     4006.799803     23.831875   1021.517264      1.493601      4.806341   \n",
       "min      168.000000      0.000000      0.000000      0.000000      0.000000   \n",
       "25%     1564.000000      0.000000    350.000000      0.000000      1.000000   \n",
       "50%     5285.000000      2.000000    900.000000      1.000000      3.000000   \n",
       "75%     7227.000000      5.000000   1548.000000      2.000000      6.000000   \n",
       "max    19083.000000    141.000000   4849.000000      6.000000     23.000000   \n",
       "\n",
       "               Price  \n",
       "count   10000.000000  \n",
       "mean   214138.857399  \n",
       "std     92872.293865  \n",
       "min     59174.778028  \n",
       "25%    153872.633942  \n",
       "50%    192269.644879  \n",
       "75%    249135.462171  \n",
       "max    633233.466570  "
      ]
     },
     "execution_count": 8,
     "metadata": {},
     "output_type": "execute_result"
    }
   ],
   "source": [
    "ds_train.describe()"
   ]
  },
  {
   "cell_type": "markdown",
   "metadata": {
    "papermill": {
     "duration": 0.052318,
     "end_time": "2020-12-09T11:32:15.100706",
     "exception": false,
     "start_time": "2020-12-09T11:32:15.048388",
     "status": "completed"
    },
    "tags": []
   },
   "source": [
    "Фичи LifeSquare и Healthcare_1 имеют пропуски."
   ]
  },
  {
   "cell_type": "code",
   "execution_count": 9,
   "metadata": {
    "execution": {
     "iopub.execute_input": "2020-12-09T11:32:15.215755Z",
     "iopub.status.busy": "2020-12-09T11:32:15.215054Z",
     "iopub.status.idle": "2020-12-09T11:32:15.220090Z",
     "shell.execute_reply": "2020-12-09T11:32:15.219511Z"
    },
    "papermill": {
     "duration": 0.067167,
     "end_time": "2020-12-09T11:32:15.220218",
     "exception": false,
     "start_time": "2020-12-09T11:32:15.153051",
     "status": "completed"
    },
    "tags": []
   },
   "outputs": [
    {
     "data": {
      "text/plain": [
       "['DistrictId',\n",
       " 'Rooms',\n",
       " 'Square',\n",
       " 'LifeSquare',\n",
       " 'KitchenSquare',\n",
       " 'Floor',\n",
       " 'HouseFloor',\n",
       " 'HouseYear',\n",
       " 'Ecology_1',\n",
       " 'Social_1',\n",
       " 'Social_2',\n",
       " 'Social_3',\n",
       " 'Healthcare_1',\n",
       " 'Helthcare_2',\n",
       " 'Shops_1',\n",
       " 'Price']"
      ]
     },
     "execution_count": 9,
     "metadata": {},
     "output_type": "execute_result"
    }
   ],
   "source": [
    "ds_train.select_dtypes(exclude='object').columns.tolist()"
   ]
  },
  {
   "cell_type": "markdown",
   "metadata": {
    "papermill": {
     "duration": 0.05278,
     "end_time": "2020-12-09T11:32:15.326779",
     "exception": false,
     "start_time": "2020-12-09T11:32:15.273999",
     "status": "completed"
    },
    "tags": []
   },
   "source": [
    "### Определение номинативных переменных и их категоризация"
   ]
  },
  {
   "cell_type": "code",
   "execution_count": 10,
   "metadata": {
    "execution": {
     "iopub.execute_input": "2020-12-09T11:32:15.442487Z",
     "iopub.status.busy": "2020-12-09T11:32:15.441762Z",
     "iopub.status.idle": "2020-12-09T11:32:15.446067Z",
     "shell.execute_reply": "2020-12-09T11:32:15.445367Z"
    },
    "papermill": {
     "duration": 0.066183,
     "end_time": "2020-12-09T11:32:15.446211",
     "exception": false,
     "start_time": "2020-12-09T11:32:15.380028",
     "status": "completed"
    },
    "tags": []
   },
   "outputs": [
    {
     "data": {
      "text/plain": [
       "['Id', 'Ecology_2', 'Ecology_3', 'Shops_2']"
      ]
     },
     "execution_count": 10,
     "metadata": {},
     "output_type": "execute_result"
    }
   ],
   "source": [
    "ds_train.select_dtypes(include='object').columns.tolist()"
   ]
  },
  {
   "cell_type": "code",
   "execution_count": 11,
   "metadata": {
    "execution": {
     "iopub.execute_input": "2020-12-09T11:32:15.567608Z",
     "iopub.status.busy": "2020-12-09T11:32:15.566873Z",
     "iopub.status.idle": "2020-12-09T11:32:15.576359Z",
     "shell.execute_reply": "2020-12-09T11:32:15.575583Z"
    },
    "papermill": {
     "duration": 0.076084,
     "end_time": "2020-12-09T11:32:15.576478",
     "exception": false,
     "start_time": "2020-12-09T11:32:15.500394",
     "status": "completed"
    },
    "tags": []
   },
   "outputs": [
    {
     "data": {
      "text/plain": [
       "12315    1\n",
       "12949    1\n",
       "12967    1\n",
       "5780     1\n",
       "11951    1\n",
       "        ..\n",
       "12358    1\n",
       "4318     1\n",
       "2317     1\n",
       "15903    1\n",
       "13825    1\n",
       "Name: Id, Length: 10000, dtype: int64"
      ]
     },
     "execution_count": 11,
     "metadata": {},
     "output_type": "execute_result"
    }
   ],
   "source": [
    "ds_train['Id'].value_counts()"
   ]
  },
  {
   "cell_type": "markdown",
   "metadata": {
    "papermill": {
     "duration": 0.054082,
     "end_time": "2020-12-09T11:32:15.684962",
     "exception": false,
     "start_time": "2020-12-09T11:32:15.630880",
     "status": "completed"
    },
    "tags": []
   },
   "source": [
    "Фичу Id возможно убрать из датасета, так как она не будет влиять на прогноз цены"
   ]
  },
  {
   "cell_type": "code",
   "execution_count": 12,
   "metadata": {
    "execution": {
     "iopub.execute_input": "2020-12-09T11:32:15.804580Z",
     "iopub.status.busy": "2020-12-09T11:32:15.803879Z",
     "iopub.status.idle": "2020-12-09T11:32:15.809003Z",
     "shell.execute_reply": "2020-12-09T11:32:15.809560Z"
    },
    "papermill": {
     "duration": 0.069644,
     "end_time": "2020-12-09T11:32:15.809716",
     "exception": false,
     "start_time": "2020-12-09T11:32:15.740072",
     "status": "completed"
    },
    "tags": []
   },
   "outputs": [
    {
     "data": {
      "text/plain": [
       "B    9903\n",
       "A      97\n",
       "Name: Ecology_2, dtype: int64"
      ]
     },
     "execution_count": 12,
     "metadata": {},
     "output_type": "execute_result"
    }
   ],
   "source": [
    "ds_train['Ecology_2'].value_counts()"
   ]
  },
  {
   "cell_type": "code",
   "execution_count": 13,
   "metadata": {
    "execution": {
     "iopub.execute_input": "2020-12-09T11:32:15.930773Z",
     "iopub.status.busy": "2020-12-09T11:32:15.930068Z",
     "iopub.status.idle": "2020-12-09T11:32:15.935268Z",
     "shell.execute_reply": "2020-12-09T11:32:15.934437Z"
    },
    "papermill": {
     "duration": 0.07081,
     "end_time": "2020-12-09T11:32:15.935397",
     "exception": false,
     "start_time": "2020-12-09T11:32:15.864587",
     "status": "completed"
    },
    "tags": []
   },
   "outputs": [
    {
     "data": {
      "text/plain": [
       "B    9725\n",
       "A     275\n",
       "Name: Ecology_3, dtype: int64"
      ]
     },
     "execution_count": 13,
     "metadata": {},
     "output_type": "execute_result"
    }
   ],
   "source": [
    "ds_train['Ecology_3'].value_counts()"
   ]
  },
  {
   "cell_type": "code",
   "execution_count": 14,
   "metadata": {
    "execution": {
     "iopub.execute_input": "2020-12-09T11:32:16.055197Z",
     "iopub.status.busy": "2020-12-09T11:32:16.054445Z",
     "iopub.status.idle": "2020-12-09T11:32:16.060126Z",
     "shell.execute_reply": "2020-12-09T11:32:16.060687Z"
    },
    "papermill": {
     "duration": 0.068414,
     "end_time": "2020-12-09T11:32:16.060834",
     "exception": false,
     "start_time": "2020-12-09T11:32:15.992420",
     "status": "completed"
    },
    "tags": []
   },
   "outputs": [
    {
     "data": {
      "text/plain": [
       "B    9175\n",
       "A     825\n",
       "Name: Shops_2, dtype: int64"
      ]
     },
     "execution_count": 14,
     "metadata": {},
     "output_type": "execute_result"
    }
   ],
   "source": [
    "ds_train['Shops_2'].value_counts()"
   ]
  },
  {
   "cell_type": "markdown",
   "metadata": {
    "papermill": {
     "duration": 0.056265,
     "end_time": "2020-12-09T11:32:16.173290",
     "exception": false,
     "start_time": "2020-12-09T11:32:16.117025",
     "status": "completed"
    },
    "tags": []
   },
   "source": [
    "# 2. Проверка данных на выбросы и подготовка обработки выбросов"
   ]
  },
  {
   "cell_type": "code",
   "execution_count": 15,
   "metadata": {
    "execution": {
     "iopub.execute_input": "2020-12-09T11:32:16.290322Z",
     "iopub.status.busy": "2020-12-09T11:32:16.289592Z",
     "iopub.status.idle": "2020-12-09T11:32:16.297667Z",
     "shell.execute_reply": "2020-12-09T11:32:16.298155Z"
    },
    "papermill": {
     "duration": 0.068367,
     "end_time": "2020-12-09T11:32:16.298321",
     "exception": false,
     "start_time": "2020-12-09T11:32:16.229954",
     "status": "completed"
    },
    "tags": []
   },
   "outputs": [
    {
     "data": {
      "text/plain": [
       "array([  0,   1,   2,   3,   4,   5,   6,   7,   8,   9,  10,  11,  12,\n",
       "        13,  14,  15,  16,  17,  18,  19,  20,  21,  22,  23,  24,  25,\n",
       "        26,  27,  28,  29,  30,  31,  32,  33,  34,  35,  36,  37,  38,\n",
       "        39,  40,  41,  42,  43,  44,  45,  46,  47,  48,  49,  50,  51,\n",
       "        52,  53,  54,  55,  56,  57,  58,  59,  60,  61,  62,  63,  64,\n",
       "        65,  66,  67,  68,  69,  70,  71,  72,  73,  74,  75,  76,  77,\n",
       "        78,  79,  80,  81,  82,  83,  84,  85,  86,  87,  88,  89,  90,\n",
       "        91,  92,  93,  94,  95,  96,  97,  98,  99, 100, 101, 102, 103,\n",
       "       104, 105, 106, 107, 108, 109, 110, 111, 112, 113, 114, 115, 116,\n",
       "       117, 118, 119, 120, 121, 122, 123, 124, 125, 126, 127, 128, 129,\n",
       "       130, 131, 132, 133, 134, 135, 136, 137, 138, 139, 140, 141, 142,\n",
       "       143, 144, 145, 146, 147, 148, 149, 150, 151, 152, 153, 154, 155,\n",
       "       156, 157, 158, 159, 160, 161, 162, 163, 164, 165, 166, 167, 168,\n",
       "       169, 170, 171, 172, 173, 174, 175, 176, 177, 178, 179, 180, 181,\n",
       "       182, 183, 184, 185, 186, 187, 188, 189, 190, 191, 192, 193, 194,\n",
       "       195, 196, 199, 200, 201, 202, 205, 207, 208, 209])"
      ]
     },
     "execution_count": 15,
     "metadata": {},
     "output_type": "execute_result"
    }
   ],
   "source": [
    "ds_train['DistrictId'].sort_values().unique()"
   ]
  },
  {
   "cell_type": "markdown",
   "metadata": {
    "papermill": {
     "duration": 0.055231,
     "end_time": "2020-12-09T11:32:16.409476",
     "exception": false,
     "start_time": "2020-12-09T11:32:16.354245",
     "status": "completed"
    },
    "tags": []
   },
   "source": [
    "Фича DistrictId может влиять на прогноз, так как цена может отличаться в зависимости от расположения недвижимости"
   ]
  },
  {
   "cell_type": "code",
   "execution_count": 16,
   "metadata": {
    "execution": {
     "iopub.execute_input": "2020-12-09T11:32:16.529162Z",
     "iopub.status.busy": "2020-12-09T11:32:16.528135Z",
     "iopub.status.idle": "2020-12-09T11:32:16.537331Z",
     "shell.execute_reply": "2020-12-09T11:32:16.537843Z"
    },
    "papermill": {
     "duration": 0.070957,
     "end_time": "2020-12-09T11:32:16.538008",
     "exception": false,
     "start_time": "2020-12-09T11:32:16.467051",
     "status": "completed"
    },
    "tags": []
   },
   "outputs": [
    {
     "data": {
      "text/plain": [
       "2.0     3880\n",
       "1.0     3705\n",
       "3.0     2235\n",
       "4.0      150\n",
       "5.0       18\n",
       "0.0        8\n",
       "10.0       2\n",
       "19.0       1\n",
       "6.0        1\n",
       "Name: Rooms, dtype: int64"
      ]
     },
     "execution_count": 16,
     "metadata": {},
     "output_type": "execute_result"
    }
   ],
   "source": [
    "ds_train['Rooms'].value_counts()"
   ]
  },
  {
   "cell_type": "code",
   "execution_count": 17,
   "metadata": {
    "execution": {
     "iopub.execute_input": "2020-12-09T11:32:16.656056Z",
     "iopub.status.busy": "2020-12-09T11:32:16.655047Z",
     "iopub.status.idle": "2020-12-09T11:32:16.660894Z",
     "shell.execute_reply": "2020-12-09T11:32:16.661430Z"
    },
    "papermill": {
     "duration": 0.066123,
     "end_time": "2020-12-09T11:32:16.661574",
     "exception": false,
     "start_time": "2020-12-09T11:32:16.595451",
     "status": "completed"
    },
    "tags": []
   },
   "outputs": [
    {
     "data": {
      "text/plain": [
       "2.0"
      ]
     },
     "execution_count": 17,
     "metadata": {},
     "output_type": "execute_result"
    }
   ],
   "source": [
    "ds_train['Rooms'].median()"
   ]
  },
  {
   "cell_type": "markdown",
   "metadata": {
    "papermill": {
     "duration": 0.057732,
     "end_time": "2020-12-09T11:32:16.775974",
     "exception": false,
     "start_time": "2020-12-09T11:32:16.718242",
     "status": "completed"
    },
    "tags": []
   },
   "source": [
    "Видно, что присутствуют показатели фичи, существенно отличающиеся от медианы. В соответствии с этим, минимальное количество комнат будет принято за 1 и максимальное за 6.\n",
    "Для отображения внесенных изменений надо создать фичу, которая отображает наличие выброса в строке (Rooms_outlier)"
   ]
  },
  {
   "cell_type": "code",
   "execution_count": 18,
   "metadata": {
    "execution": {
     "iopub.execute_input": "2020-12-09T11:32:16.895235Z",
     "iopub.status.busy": "2020-12-09T11:32:16.894156Z",
     "iopub.status.idle": "2020-12-09T11:32:16.947385Z",
     "shell.execute_reply": "2020-12-09T11:32:16.947888Z"
    },
    "papermill": {
     "duration": 0.114823,
     "end_time": "2020-12-09T11:32:16.948040",
     "exception": false,
     "start_time": "2020-12-09T11:32:16.833217",
     "status": "completed"
    },
    "tags": []
   },
   "outputs": [
    {
     "data": {
      "text/html": [
       "<div>\n",
       "<style scoped>\n",
       "    .dataframe tbody tr th:only-of-type {\n",
       "        vertical-align: middle;\n",
       "    }\n",
       "\n",
       "    .dataframe tbody tr th {\n",
       "        vertical-align: top;\n",
       "    }\n",
       "\n",
       "    .dataframe thead th {\n",
       "        text-align: right;\n",
       "    }\n",
       "</style>\n",
       "<table border=\"1\" class=\"dataframe\">\n",
       "  <thead>\n",
       "    <tr style=\"text-align: right;\">\n",
       "      <th></th>\n",
       "      <th>Id</th>\n",
       "      <th>DistrictId</th>\n",
       "      <th>Rooms</th>\n",
       "      <th>Square</th>\n",
       "      <th>LifeSquare</th>\n",
       "      <th>KitchenSquare</th>\n",
       "      <th>Floor</th>\n",
       "      <th>HouseFloor</th>\n",
       "      <th>HouseYear</th>\n",
       "      <th>Ecology_1</th>\n",
       "      <th>...</th>\n",
       "      <th>Ecology_3</th>\n",
       "      <th>Social_1</th>\n",
       "      <th>Social_2</th>\n",
       "      <th>Social_3</th>\n",
       "      <th>Healthcare_1</th>\n",
       "      <th>Helthcare_2</th>\n",
       "      <th>Shops_1</th>\n",
       "      <th>Shops_2</th>\n",
       "      <th>Price</th>\n",
       "      <th>Rooms_outlier</th>\n",
       "    </tr>\n",
       "  </thead>\n",
       "  <tbody>\n",
       "    <tr>\n",
       "      <th>0</th>\n",
       "      <td>14038</td>\n",
       "      <td>35</td>\n",
       "      <td>2.0</td>\n",
       "      <td>47.981561</td>\n",
       "      <td>29.442751</td>\n",
       "      <td>6.0</td>\n",
       "      <td>7</td>\n",
       "      <td>9.0</td>\n",
       "      <td>1969</td>\n",
       "      <td>0.089040</td>\n",
       "      <td>...</td>\n",
       "      <td>B</td>\n",
       "      <td>33</td>\n",
       "      <td>7976</td>\n",
       "      <td>5</td>\n",
       "      <td>NaN</td>\n",
       "      <td>0</td>\n",
       "      <td>11</td>\n",
       "      <td>B</td>\n",
       "      <td>184966.930730</td>\n",
       "      <td>0</td>\n",
       "    </tr>\n",
       "    <tr>\n",
       "      <th>1</th>\n",
       "      <td>15053</td>\n",
       "      <td>41</td>\n",
       "      <td>3.0</td>\n",
       "      <td>65.683640</td>\n",
       "      <td>40.049543</td>\n",
       "      <td>8.0</td>\n",
       "      <td>7</td>\n",
       "      <td>9.0</td>\n",
       "      <td>1978</td>\n",
       "      <td>0.000070</td>\n",
       "      <td>...</td>\n",
       "      <td>B</td>\n",
       "      <td>46</td>\n",
       "      <td>10309</td>\n",
       "      <td>1</td>\n",
       "      <td>240.0</td>\n",
       "      <td>1</td>\n",
       "      <td>16</td>\n",
       "      <td>B</td>\n",
       "      <td>300009.450063</td>\n",
       "      <td>0</td>\n",
       "    </tr>\n",
       "    <tr>\n",
       "      <th>2</th>\n",
       "      <td>4765</td>\n",
       "      <td>53</td>\n",
       "      <td>2.0</td>\n",
       "      <td>44.947953</td>\n",
       "      <td>29.197612</td>\n",
       "      <td>0.0</td>\n",
       "      <td>8</td>\n",
       "      <td>12.0</td>\n",
       "      <td>1968</td>\n",
       "      <td>0.049637</td>\n",
       "      <td>...</td>\n",
       "      <td>B</td>\n",
       "      <td>34</td>\n",
       "      <td>7759</td>\n",
       "      <td>0</td>\n",
       "      <td>229.0</td>\n",
       "      <td>1</td>\n",
       "      <td>3</td>\n",
       "      <td>B</td>\n",
       "      <td>220925.908524</td>\n",
       "      <td>0</td>\n",
       "    </tr>\n",
       "    <tr>\n",
       "      <th>3</th>\n",
       "      <td>5809</td>\n",
       "      <td>58</td>\n",
       "      <td>2.0</td>\n",
       "      <td>53.352981</td>\n",
       "      <td>52.731512</td>\n",
       "      <td>9.0</td>\n",
       "      <td>8</td>\n",
       "      <td>17.0</td>\n",
       "      <td>1977</td>\n",
       "      <td>0.437885</td>\n",
       "      <td>...</td>\n",
       "      <td>B</td>\n",
       "      <td>23</td>\n",
       "      <td>5735</td>\n",
       "      <td>3</td>\n",
       "      <td>1084.0</td>\n",
       "      <td>0</td>\n",
       "      <td>5</td>\n",
       "      <td>B</td>\n",
       "      <td>175616.227217</td>\n",
       "      <td>0</td>\n",
       "    </tr>\n",
       "    <tr>\n",
       "      <th>4</th>\n",
       "      <td>10783</td>\n",
       "      <td>99</td>\n",
       "      <td>1.0</td>\n",
       "      <td>39.649192</td>\n",
       "      <td>23.776169</td>\n",
       "      <td>7.0</td>\n",
       "      <td>11</td>\n",
       "      <td>12.0</td>\n",
       "      <td>1976</td>\n",
       "      <td>0.012339</td>\n",
       "      <td>...</td>\n",
       "      <td>B</td>\n",
       "      <td>35</td>\n",
       "      <td>5776</td>\n",
       "      <td>1</td>\n",
       "      <td>2078.0</td>\n",
       "      <td>2</td>\n",
       "      <td>4</td>\n",
       "      <td>B</td>\n",
       "      <td>150226.531644</td>\n",
       "      <td>0</td>\n",
       "    </tr>\n",
       "  </tbody>\n",
       "</table>\n",
       "<p>5 rows × 21 columns</p>\n",
       "</div>"
      ],
      "text/plain": [
       "      Id  DistrictId  Rooms     Square  LifeSquare  KitchenSquare  Floor  \\\n",
       "0  14038          35    2.0  47.981561   29.442751            6.0      7   \n",
       "1  15053          41    3.0  65.683640   40.049543            8.0      7   \n",
       "2   4765          53    2.0  44.947953   29.197612            0.0      8   \n",
       "3   5809          58    2.0  53.352981   52.731512            9.0      8   \n",
       "4  10783          99    1.0  39.649192   23.776169            7.0     11   \n",
       "\n",
       "   HouseFloor  HouseYear  Ecology_1  ... Ecology_3 Social_1  Social_2  \\\n",
       "0         9.0       1969   0.089040  ...         B       33      7976   \n",
       "1         9.0       1978   0.000070  ...         B       46     10309   \n",
       "2        12.0       1968   0.049637  ...         B       34      7759   \n",
       "3        17.0       1977   0.437885  ...         B       23      5735   \n",
       "4        12.0       1976   0.012339  ...         B       35      5776   \n",
       "\n",
       "   Social_3  Healthcare_1  Helthcare_2  Shops_1  Shops_2          Price  \\\n",
       "0         5           NaN            0       11        B  184966.930730   \n",
       "1         1         240.0            1       16        B  300009.450063   \n",
       "2         0         229.0            1        3        B  220925.908524   \n",
       "3         3        1084.0            0        5        B  175616.227217   \n",
       "4         1        2078.0            2        4        B  150226.531644   \n",
       "\n",
       "   Rooms_outlier  \n",
       "0              0  \n",
       "1              0  \n",
       "2              0  \n",
       "3              0  \n",
       "4              0  \n",
       "\n",
       "[5 rows x 21 columns]"
      ]
     },
     "execution_count": 18,
     "metadata": {},
     "output_type": "execute_result"
    }
   ],
   "source": [
    "ds_train['Rooms_outlier'] = 0\n",
    "ds_train.loc[(ds_train['Rooms'] == 0) | (ds_train['Rooms'] >= 6), 'Rooms_outlier'] = 1\n",
    "ds_train.head()"
   ]
  },
  {
   "cell_type": "code",
   "execution_count": 19,
   "metadata": {
    "execution": {
     "iopub.execute_input": "2020-12-09T11:32:17.070325Z",
     "iopub.status.busy": "2020-12-09T11:32:17.069305Z",
     "iopub.status.idle": "2020-12-09T11:32:17.101005Z",
     "shell.execute_reply": "2020-12-09T11:32:17.101518Z"
    },
    "papermill": {
     "duration": 0.093633,
     "end_time": "2020-12-09T11:32:17.101681",
     "exception": false,
     "start_time": "2020-12-09T11:32:17.008048",
     "status": "completed"
    },
    "tags": []
   },
   "outputs": [
    {
     "data": {
      "text/html": [
       "<div>\n",
       "<style scoped>\n",
       "    .dataframe tbody tr th:only-of-type {\n",
       "        vertical-align: middle;\n",
       "    }\n",
       "\n",
       "    .dataframe tbody tr th {\n",
       "        vertical-align: top;\n",
       "    }\n",
       "\n",
       "    .dataframe thead th {\n",
       "        text-align: right;\n",
       "    }\n",
       "</style>\n",
       "<table border=\"1\" class=\"dataframe\">\n",
       "  <thead>\n",
       "    <tr style=\"text-align: right;\">\n",
       "      <th></th>\n",
       "      <th>Id</th>\n",
       "      <th>DistrictId</th>\n",
       "      <th>Rooms</th>\n",
       "      <th>Square</th>\n",
       "      <th>LifeSquare</th>\n",
       "      <th>KitchenSquare</th>\n",
       "      <th>Floor</th>\n",
       "      <th>HouseFloor</th>\n",
       "      <th>HouseYear</th>\n",
       "      <th>Ecology_1</th>\n",
       "      <th>...</th>\n",
       "      <th>Ecology_3</th>\n",
       "      <th>Social_1</th>\n",
       "      <th>Social_2</th>\n",
       "      <th>Social_3</th>\n",
       "      <th>Healthcare_1</th>\n",
       "      <th>Helthcare_2</th>\n",
       "      <th>Shops_1</th>\n",
       "      <th>Shops_2</th>\n",
       "      <th>Price</th>\n",
       "      <th>Rooms_outlier</th>\n",
       "    </tr>\n",
       "  </thead>\n",
       "  <tbody>\n",
       "    <tr>\n",
       "      <th>377</th>\n",
       "      <td>5927</td>\n",
       "      <td>57</td>\n",
       "      <td>10.0</td>\n",
       "      <td>59.056975</td>\n",
       "      <td>36.223072</td>\n",
       "      <td>10.0</td>\n",
       "      <td>22</td>\n",
       "      <td>22.0</td>\n",
       "      <td>2002</td>\n",
       "      <td>0.090799</td>\n",
       "      <td>...</td>\n",
       "      <td>B</td>\n",
       "      <td>74</td>\n",
       "      <td>19083</td>\n",
       "      <td>2</td>\n",
       "      <td>NaN</td>\n",
       "      <td>5</td>\n",
       "      <td>15</td>\n",
       "      <td>B</td>\n",
       "      <td>317265.323792</td>\n",
       "      <td>1</td>\n",
       "    </tr>\n",
       "    <tr>\n",
       "      <th>1454</th>\n",
       "      <td>8491</td>\n",
       "      <td>1</td>\n",
       "      <td>19.0</td>\n",
       "      <td>42.006046</td>\n",
       "      <td>21.779288</td>\n",
       "      <td>7.0</td>\n",
       "      <td>17</td>\n",
       "      <td>17.0</td>\n",
       "      <td>2014</td>\n",
       "      <td>0.007122</td>\n",
       "      <td>...</td>\n",
       "      <td>B</td>\n",
       "      <td>1</td>\n",
       "      <td>264</td>\n",
       "      <td>0</td>\n",
       "      <td>NaN</td>\n",
       "      <td>0</td>\n",
       "      <td>1</td>\n",
       "      <td>B</td>\n",
       "      <td>78364.616704</td>\n",
       "      <td>1</td>\n",
       "    </tr>\n",
       "    <tr>\n",
       "      <th>2170</th>\n",
       "      <td>14003</td>\n",
       "      <td>99</td>\n",
       "      <td>6.0</td>\n",
       "      <td>59.414334</td>\n",
       "      <td>38.702244</td>\n",
       "      <td>6.0</td>\n",
       "      <td>7</td>\n",
       "      <td>9.0</td>\n",
       "      <td>1969</td>\n",
       "      <td>0.033494</td>\n",
       "      <td>...</td>\n",
       "      <td>B</td>\n",
       "      <td>66</td>\n",
       "      <td>10573</td>\n",
       "      <td>1</td>\n",
       "      <td>1322.0</td>\n",
       "      <td>3</td>\n",
       "      <td>8</td>\n",
       "      <td>B</td>\n",
       "      <td>229661.964416</td>\n",
       "      <td>1</td>\n",
       "    </tr>\n",
       "    <tr>\n",
       "      <th>8849</th>\n",
       "      <td>14865</td>\n",
       "      <td>9</td>\n",
       "      <td>10.0</td>\n",
       "      <td>60.871266</td>\n",
       "      <td>38.420681</td>\n",
       "      <td>10.0</td>\n",
       "      <td>3</td>\n",
       "      <td>2.0</td>\n",
       "      <td>1994</td>\n",
       "      <td>0.161532</td>\n",
       "      <td>...</td>\n",
       "      <td>B</td>\n",
       "      <td>25</td>\n",
       "      <td>5648</td>\n",
       "      <td>1</td>\n",
       "      <td>30.0</td>\n",
       "      <td>2</td>\n",
       "      <td>4</td>\n",
       "      <td>B</td>\n",
       "      <td>172329.270863</td>\n",
       "      <td>1</td>\n",
       "    </tr>\n",
       "  </tbody>\n",
       "</table>\n",
       "<p>4 rows × 21 columns</p>\n",
       "</div>"
      ],
      "text/plain": [
       "         Id  DistrictId  Rooms     Square  LifeSquare  KitchenSquare  Floor  \\\n",
       "377    5927          57   10.0  59.056975   36.223072           10.0     22   \n",
       "1454   8491           1   19.0  42.006046   21.779288            7.0     17   \n",
       "2170  14003          99    6.0  59.414334   38.702244            6.0      7   \n",
       "8849  14865           9   10.0  60.871266   38.420681           10.0      3   \n",
       "\n",
       "      HouseFloor  HouseYear  Ecology_1  ... Ecology_3 Social_1  Social_2  \\\n",
       "377         22.0       2002   0.090799  ...         B       74     19083   \n",
       "1454        17.0       2014   0.007122  ...         B        1       264   \n",
       "2170         9.0       1969   0.033494  ...         B       66     10573   \n",
       "8849         2.0       1994   0.161532  ...         B       25      5648   \n",
       "\n",
       "      Social_3  Healthcare_1  Helthcare_2  Shops_1  Shops_2          Price  \\\n",
       "377          2           NaN            5       15        B  317265.323792   \n",
       "1454         0           NaN            0        1        B   78364.616704   \n",
       "2170         1        1322.0            3        8        B  229661.964416   \n",
       "8849         1          30.0            2        4        B  172329.270863   \n",
       "\n",
       "      Rooms_outlier  \n",
       "377               1  \n",
       "1454              1  \n",
       "2170              1  \n",
       "8849              1  \n",
       "\n",
       "[4 rows x 21 columns]"
      ]
     },
     "execution_count": 19,
     "metadata": {},
     "output_type": "execute_result"
    }
   ],
   "source": [
    "ds_train.loc[ds_train['Rooms']>=6]"
   ]
  },
  {
   "cell_type": "code",
   "execution_count": 20,
   "metadata": {
    "execution": {
     "iopub.execute_input": "2020-12-09T11:32:17.222656Z",
     "iopub.status.busy": "2020-12-09T11:32:17.221923Z",
     "iopub.status.idle": "2020-12-09T11:32:17.231772Z",
     "shell.execute_reply": "2020-12-09T11:32:17.232333Z"
    },
    "papermill": {
     "duration": 0.072249,
     "end_time": "2020-12-09T11:32:17.232475",
     "exception": false,
     "start_time": "2020-12-09T11:32:17.160226",
     "status": "completed"
    },
    "tags": []
   },
   "outputs": [
    {
     "data": {
      "text/plain": [
       "count        22.000000\n",
       "mean     372063.185363\n",
       "std      151785.712547\n",
       "min       78364.616704\n",
       "25%      276360.884330\n",
       "50%      393471.656155\n",
       "75%      477602.307377\n",
       "max      622888.825328\n",
       "Name: Price, dtype: float64"
      ]
     },
     "execution_count": 20,
     "metadata": {},
     "output_type": "execute_result"
    }
   ],
   "source": [
    "ds_train.loc[ds_train['Rooms']>=5, 'Price'].describe()"
   ]
  },
  {
   "cell_type": "markdown",
   "metadata": {
    "papermill": {
     "duration": 0.058183,
     "end_time": "2020-12-09T11:32:17.349861",
     "exception": false,
     "start_time": "2020-12-09T11:32:17.291678",
     "status": "completed"
    },
    "tags": []
   },
   "source": [
    "Для коррекции выбросов, будет использован принцип замены 0 количества комнта на 1, а больше 6, в следствии незначительного количества строк, будет заменены на mean датасета."
   ]
  },
  {
   "cell_type": "code",
   "execution_count": 21,
   "metadata": {
    "execution": {
     "iopub.execute_input": "2020-12-09T11:32:17.503921Z",
     "iopub.status.busy": "2020-12-09T11:32:17.502892Z",
     "iopub.status.idle": "2020-12-09T11:32:17.513223Z",
     "shell.execute_reply": "2020-12-09T11:32:17.514102Z"
    },
    "papermill": {
     "duration": 0.096425,
     "end_time": "2020-12-09T11:32:17.514360",
     "exception": false,
     "start_time": "2020-12-09T11:32:17.417935",
     "status": "completed"
    },
    "tags": []
   },
   "outputs": [],
   "source": [
    "ds_train.loc[ds_train['Rooms']==0, 'Rooms'] = 1\n",
    "ds_train.loc[ds_train['Rooms']>=6, 'Rooms'] = ds_train['Rooms'].median()"
   ]
  },
  {
   "cell_type": "code",
   "execution_count": 22,
   "metadata": {
    "execution": {
     "iopub.execute_input": "2020-12-09T11:32:17.663915Z",
     "iopub.status.busy": "2020-12-09T11:32:17.663153Z",
     "iopub.status.idle": "2020-12-09T11:32:17.670751Z",
     "shell.execute_reply": "2020-12-09T11:32:17.671618Z"
    },
    "papermill": {
     "duration": 0.090725,
     "end_time": "2020-12-09T11:32:17.671851",
     "exception": false,
     "start_time": "2020-12-09T11:32:17.581126",
     "status": "completed"
    },
    "tags": []
   },
   "outputs": [
    {
     "data": {
      "text/plain": [
       "2.0    3884\n",
       "1.0    3713\n",
       "3.0    2235\n",
       "4.0     150\n",
       "5.0      18\n",
       "Name: Rooms, dtype: int64"
      ]
     },
     "execution_count": 22,
     "metadata": {},
     "output_type": "execute_result"
    }
   ],
   "source": [
    "ds_train['Rooms'].value_counts()"
   ]
  },
  {
   "cell_type": "code",
   "execution_count": 23,
   "metadata": {
    "execution": {
     "iopub.execute_input": "2020-12-09T11:32:17.807952Z",
     "iopub.status.busy": "2020-12-09T11:32:17.806838Z",
     "iopub.status.idle": "2020-12-09T11:32:17.817636Z",
     "shell.execute_reply": "2020-12-09T11:32:17.818254Z"
    },
    "papermill": {
     "duration": 0.078002,
     "end_time": "2020-12-09T11:32:17.818406",
     "exception": false,
     "start_time": "2020-12-09T11:32:17.740404",
     "status": "completed"
    },
    "tags": []
   },
   "outputs": [
    {
     "data": {
      "text/plain": [
       "1.0       2460\n",
       "8.0       1306\n",
       "5.0       1169\n",
       "10.0      1075\n",
       "6.0       1038\n",
       "9.0        843\n",
       "0.0        697\n",
       "7.0        609\n",
       "12.0       249\n",
       "11.0       233\n",
       "13.0        67\n",
       "14.0        51\n",
       "4.0         39\n",
       "15.0        31\n",
       "3.0         22\n",
       "16.0        16\n",
       "20.0        14\n",
       "17.0        12\n",
       "19.0        11\n",
       "18.0         6\n",
       "2.0          4\n",
       "22.0         3\n",
       "41.0         2\n",
       "112.0        2\n",
       "25.0         2\n",
       "43.0         2\n",
       "51.0         2\n",
       "37.0         2\n",
       "32.0         2\n",
       "30.0         2\n",
       "58.0         2\n",
       "72.0         1\n",
       "96.0         1\n",
       "66.0         1\n",
       "48.0         1\n",
       "40.0         1\n",
       "2014.0       1\n",
       "35.0         1\n",
       "60.0         1\n",
       "78.0         1\n",
       "27.0         1\n",
       "84.0         1\n",
       "62.0         1\n",
       "42.0         1\n",
       "63.0         1\n",
       "39.0         1\n",
       "1970.0       1\n",
       "36.0         1\n",
       "75.0         1\n",
       "26.0         1\n",
       "21.0         1\n",
       "29.0         1\n",
       "23.0         1\n",
       "73.0         1\n",
       "123.0        1\n",
       "31.0         1\n",
       "53.0         1\n",
       "54.0         1\n",
       "Name: KitchenSquare, dtype: int64"
      ]
     },
     "execution_count": 23,
     "metadata": {},
     "output_type": "execute_result"
    }
   ],
   "source": [
    "ds_train['KitchenSquare'].value_counts()"
   ]
  },
  {
   "cell_type": "code",
   "execution_count": 24,
   "metadata": {
    "execution": {
     "iopub.execute_input": "2020-12-09T11:32:17.950731Z",
     "iopub.status.busy": "2020-12-09T11:32:17.949596Z",
     "iopub.status.idle": "2020-12-09T11:32:17.957530Z",
     "shell.execute_reply": "2020-12-09T11:32:17.956770Z"
    },
    "papermill": {
     "duration": 0.074357,
     "end_time": "2020-12-09T11:32:17.957655",
     "exception": false,
     "start_time": "2020-12-09T11:32:17.883298",
     "status": "completed"
    },
    "tags": []
   },
   "outputs": [
    {
     "data": {
      "text/plain": [
       "0"
      ]
     },
     "execution_count": 24,
     "metadata": {},
     "output_type": "execute_result"
    }
   ],
   "source": [
    "ds_train['KitchenSquare'].isna().sum()"
   ]
  },
  {
   "cell_type": "code",
   "execution_count": 25,
   "metadata": {
    "execution": {
     "iopub.execute_input": "2020-12-09T11:32:18.093772Z",
     "iopub.status.busy": "2020-12-09T11:32:18.092676Z",
     "iopub.status.idle": "2020-12-09T11:32:18.098829Z",
     "shell.execute_reply": "2020-12-09T11:32:18.099427Z"
    },
    "papermill": {
     "duration": 0.076958,
     "end_time": "2020-12-09T11:32:18.099572",
     "exception": false,
     "start_time": "2020-12-09T11:32:18.022614",
     "status": "completed"
    },
    "tags": []
   },
   "outputs": [
    {
     "data": {
      "text/plain": [
       "(13.0, 0.0)"
      ]
     },
     "execution_count": 25,
     "metadata": {},
     "output_type": "execute_result"
    }
   ],
   "source": [
    "ds_train['KitchenSquare'].quantile(.975), ds_train['KitchenSquare'].quantile(.025)"
   ]
  },
  {
   "cell_type": "code",
   "execution_count": 26,
   "metadata": {
    "execution": {
     "iopub.execute_input": "2020-12-09T11:32:18.231422Z",
     "iopub.status.busy": "2020-12-09T11:32:18.230312Z",
     "iopub.status.idle": "2020-12-09T11:32:18.241403Z",
     "shell.execute_reply": "2020-12-09T11:32:18.240785Z"
    },
    "papermill": {
     "duration": 0.076927,
     "end_time": "2020-12-09T11:32:18.241524",
     "exception": false,
     "start_time": "2020-12-09T11:32:18.164597",
     "status": "completed"
    },
    "tags": []
   },
   "outputs": [
    {
     "data": {
      "text/plain": [
       "0.0    697\n",
       "Name: KitchenSquare, dtype: int64"
      ]
     },
     "execution_count": 26,
     "metadata": {},
     "output_type": "execute_result"
    }
   ],
   "source": [
    "ds_train.loc[ds_train['KitchenSquare']<1,'KitchenSquare'].value_counts()"
   ]
  },
  {
   "cell_type": "markdown",
   "metadata": {
    "papermill": {
     "duration": 0.066228,
     "end_time": "2020-12-09T11:32:18.374333",
     "exception": false,
     "start_time": "2020-12-09T11:32:18.308105",
     "status": "completed"
    },
    "tags": []
   },
   "source": [
    "Рассмотрение количества строк с площадью меньше 3 и 2 показало, что количество таких строк весьма велико, чтобы рассматривать их как выбросы. В связи с этим выбросом рассматривается только нулевая площадь."
   ]
  },
  {
   "cell_type": "code",
   "execution_count": 27,
   "metadata": {
    "execution": {
     "iopub.execute_input": "2020-12-09T11:32:18.532690Z",
     "iopub.status.busy": "2020-12-09T11:32:18.531474Z",
     "iopub.status.idle": "2020-12-09T11:32:18.564333Z",
     "shell.execute_reply": "2020-12-09T11:32:18.563390Z"
    },
    "papermill": {
     "duration": 0.108725,
     "end_time": "2020-12-09T11:32:18.564537",
     "exception": false,
     "start_time": "2020-12-09T11:32:18.455812",
     "status": "completed"
    },
    "tags": []
   },
   "outputs": [
    {
     "data": {
      "text/html": [
       "<div>\n",
       "<style scoped>\n",
       "    .dataframe tbody tr th:only-of-type {\n",
       "        vertical-align: middle;\n",
       "    }\n",
       "\n",
       "    .dataframe tbody tr th {\n",
       "        vertical-align: top;\n",
       "    }\n",
       "\n",
       "    .dataframe thead th {\n",
       "        text-align: right;\n",
       "    }\n",
       "</style>\n",
       "<table border=\"1\" class=\"dataframe\">\n",
       "  <thead>\n",
       "    <tr style=\"text-align: right;\">\n",
       "      <th></th>\n",
       "      <th>Id</th>\n",
       "      <th>DistrictId</th>\n",
       "      <th>Rooms</th>\n",
       "      <th>Square</th>\n",
       "      <th>LifeSquare</th>\n",
       "      <th>KitchenSquare</th>\n",
       "      <th>Floor</th>\n",
       "      <th>HouseFloor</th>\n",
       "      <th>HouseYear</th>\n",
       "      <th>Ecology_1</th>\n",
       "      <th>...</th>\n",
       "      <th>Social_1</th>\n",
       "      <th>Social_2</th>\n",
       "      <th>Social_3</th>\n",
       "      <th>Healthcare_1</th>\n",
       "      <th>Helthcare_2</th>\n",
       "      <th>Shops_1</th>\n",
       "      <th>Shops_2</th>\n",
       "      <th>Price</th>\n",
       "      <th>Rooms_outlier</th>\n",
       "      <th>KitchenSquare_outlier</th>\n",
       "    </tr>\n",
       "  </thead>\n",
       "  <tbody>\n",
       "    <tr>\n",
       "      <th>0</th>\n",
       "      <td>14038</td>\n",
       "      <td>35</td>\n",
       "      <td>2.0</td>\n",
       "      <td>47.981561</td>\n",
       "      <td>29.442751</td>\n",
       "      <td>6.0</td>\n",
       "      <td>7</td>\n",
       "      <td>9.0</td>\n",
       "      <td>1969</td>\n",
       "      <td>0.089040</td>\n",
       "      <td>...</td>\n",
       "      <td>33</td>\n",
       "      <td>7976</td>\n",
       "      <td>5</td>\n",
       "      <td>NaN</td>\n",
       "      <td>0</td>\n",
       "      <td>11</td>\n",
       "      <td>B</td>\n",
       "      <td>184966.930730</td>\n",
       "      <td>0</td>\n",
       "      <td>0</td>\n",
       "    </tr>\n",
       "    <tr>\n",
       "      <th>1</th>\n",
       "      <td>15053</td>\n",
       "      <td>41</td>\n",
       "      <td>3.0</td>\n",
       "      <td>65.683640</td>\n",
       "      <td>40.049543</td>\n",
       "      <td>8.0</td>\n",
       "      <td>7</td>\n",
       "      <td>9.0</td>\n",
       "      <td>1978</td>\n",
       "      <td>0.000070</td>\n",
       "      <td>...</td>\n",
       "      <td>46</td>\n",
       "      <td>10309</td>\n",
       "      <td>1</td>\n",
       "      <td>240.0</td>\n",
       "      <td>1</td>\n",
       "      <td>16</td>\n",
       "      <td>B</td>\n",
       "      <td>300009.450063</td>\n",
       "      <td>0</td>\n",
       "      <td>0</td>\n",
       "    </tr>\n",
       "    <tr>\n",
       "      <th>2</th>\n",
       "      <td>4765</td>\n",
       "      <td>53</td>\n",
       "      <td>2.0</td>\n",
       "      <td>44.947953</td>\n",
       "      <td>29.197612</td>\n",
       "      <td>0.0</td>\n",
       "      <td>8</td>\n",
       "      <td>12.0</td>\n",
       "      <td>1968</td>\n",
       "      <td>0.049637</td>\n",
       "      <td>...</td>\n",
       "      <td>34</td>\n",
       "      <td>7759</td>\n",
       "      <td>0</td>\n",
       "      <td>229.0</td>\n",
       "      <td>1</td>\n",
       "      <td>3</td>\n",
       "      <td>B</td>\n",
       "      <td>220925.908524</td>\n",
       "      <td>0</td>\n",
       "      <td>1</td>\n",
       "    </tr>\n",
       "    <tr>\n",
       "      <th>3</th>\n",
       "      <td>5809</td>\n",
       "      <td>58</td>\n",
       "      <td>2.0</td>\n",
       "      <td>53.352981</td>\n",
       "      <td>52.731512</td>\n",
       "      <td>9.0</td>\n",
       "      <td>8</td>\n",
       "      <td>17.0</td>\n",
       "      <td>1977</td>\n",
       "      <td>0.437885</td>\n",
       "      <td>...</td>\n",
       "      <td>23</td>\n",
       "      <td>5735</td>\n",
       "      <td>3</td>\n",
       "      <td>1084.0</td>\n",
       "      <td>0</td>\n",
       "      <td>5</td>\n",
       "      <td>B</td>\n",
       "      <td>175616.227217</td>\n",
       "      <td>0</td>\n",
       "      <td>0</td>\n",
       "    </tr>\n",
       "    <tr>\n",
       "      <th>4</th>\n",
       "      <td>10783</td>\n",
       "      <td>99</td>\n",
       "      <td>1.0</td>\n",
       "      <td>39.649192</td>\n",
       "      <td>23.776169</td>\n",
       "      <td>7.0</td>\n",
       "      <td>11</td>\n",
       "      <td>12.0</td>\n",
       "      <td>1976</td>\n",
       "      <td>0.012339</td>\n",
       "      <td>...</td>\n",
       "      <td>35</td>\n",
       "      <td>5776</td>\n",
       "      <td>1</td>\n",
       "      <td>2078.0</td>\n",
       "      <td>2</td>\n",
       "      <td>4</td>\n",
       "      <td>B</td>\n",
       "      <td>150226.531644</td>\n",
       "      <td>0</td>\n",
       "      <td>0</td>\n",
       "    </tr>\n",
       "  </tbody>\n",
       "</table>\n",
       "<p>5 rows × 22 columns</p>\n",
       "</div>"
      ],
      "text/plain": [
       "      Id  DistrictId  Rooms     Square  LifeSquare  KitchenSquare  Floor  \\\n",
       "0  14038          35    2.0  47.981561   29.442751            6.0      7   \n",
       "1  15053          41    3.0  65.683640   40.049543            8.0      7   \n",
       "2   4765          53    2.0  44.947953   29.197612            0.0      8   \n",
       "3   5809          58    2.0  53.352981   52.731512            9.0      8   \n",
       "4  10783          99    1.0  39.649192   23.776169            7.0     11   \n",
       "\n",
       "   HouseFloor  HouseYear  Ecology_1  ... Social_1 Social_2  Social_3  \\\n",
       "0         9.0       1969   0.089040  ...       33     7976         5   \n",
       "1         9.0       1978   0.000070  ...       46    10309         1   \n",
       "2        12.0       1968   0.049637  ...       34     7759         0   \n",
       "3        17.0       1977   0.437885  ...       23     5735         3   \n",
       "4        12.0       1976   0.012339  ...       35     5776         1   \n",
       "\n",
       "   Healthcare_1  Helthcare_2  Shops_1  Shops_2          Price Rooms_outlier  \\\n",
       "0           NaN            0       11        B  184966.930730             0   \n",
       "1         240.0            1       16        B  300009.450063             0   \n",
       "2         229.0            1        3        B  220925.908524             0   \n",
       "3        1084.0            0        5        B  175616.227217             0   \n",
       "4        2078.0            2        4        B  150226.531644             0   \n",
       "\n",
       "   KitchenSquare_outlier  \n",
       "0                      0  \n",
       "1                      0  \n",
       "2                      1  \n",
       "3                      0  \n",
       "4                      0  \n",
       "\n",
       "[5 rows x 22 columns]"
      ]
     },
     "execution_count": 27,
     "metadata": {},
     "output_type": "execute_result"
    }
   ],
   "source": [
    "ds_train['KitchenSquare_outlier'] = 0\n",
    "ds_train.loc[(ds_train['KitchenSquare'] == 0) | \\\n",
    "             (ds_train['KitchenSquare']>ds_train['KitchenSquare'].quantile(.975)), \\\n",
    "             'KitchenSquare_outlier'] = 1\n",
    "ds_train.head()"
   ]
  },
  {
   "cell_type": "code",
   "execution_count": 28,
   "metadata": {
    "execution": {
     "iopub.execute_input": "2020-12-09T11:32:18.702083Z",
     "iopub.status.busy": "2020-12-09T11:32:18.701462Z",
     "iopub.status.idle": "2020-12-09T11:32:18.715962Z",
     "shell.execute_reply": "2020-12-09T11:32:18.715330Z"
    },
    "papermill": {
     "duration": 0.082187,
     "end_time": "2020-12-09T11:32:18.716084",
     "exception": false,
     "start_time": "2020-12-09T11:32:18.633897",
     "status": "completed"
    },
    "tags": []
   },
   "outputs": [],
   "source": [
    "ds_train.loc[(ds_train['KitchenSquare']>ds_train['KitchenSquare'].quantile(.975)), \\\n",
    "             'KitchenSquare'] = ds_train['KitchenSquare'].median()\n",
    "\n",
    "ds_train.loc[ds_train['KitchenSquare']==0, 'KitchenSquare'] = ds_train['KitchenSquare'].median()"
   ]
  },
  {
   "cell_type": "code",
   "execution_count": 29,
   "metadata": {
    "execution": {
     "iopub.execute_input": "2020-12-09T11:32:18.851320Z",
     "iopub.status.busy": "2020-12-09T11:32:18.850561Z",
     "iopub.status.idle": "2020-12-09T11:32:18.858774Z",
     "shell.execute_reply": "2020-12-09T11:32:18.859910Z"
    },
    "papermill": {
     "duration": 0.080213,
     "end_time": "2020-12-09T11:32:18.860133",
     "exception": false,
     "start_time": "2020-12-09T11:32:18.779920",
     "status": "completed"
    },
    "tags": []
   },
   "outputs": [
    {
     "data": {
      "text/plain": [
       "1.0     2460\n",
       "6.0     1924\n",
       "8.0     1306\n",
       "5.0     1169\n",
       "10.0    1075\n",
       "9.0      843\n",
       "7.0      609\n",
       "12.0     249\n",
       "11.0     233\n",
       "13.0      67\n",
       "4.0       39\n",
       "3.0       22\n",
       "2.0        4\n",
       "Name: KitchenSquare, dtype: int64"
      ]
     },
     "execution_count": 29,
     "metadata": {},
     "output_type": "execute_result"
    }
   ],
   "source": [
    "ds_train['KitchenSquare'].value_counts()"
   ]
  },
  {
   "cell_type": "code",
   "execution_count": 30,
   "metadata": {
    "execution": {
     "iopub.execute_input": "2020-12-09T11:32:19.010478Z",
     "iopub.status.busy": "2020-12-09T11:32:19.009702Z",
     "iopub.status.idle": "2020-12-09T11:32:19.015874Z",
     "shell.execute_reply": "2020-12-09T11:32:19.016504Z"
    },
    "papermill": {
     "duration": 0.079846,
     "end_time": "2020-12-09T11:32:19.016652",
     "exception": false,
     "start_time": "2020-12-09T11:32:18.936806",
     "status": "completed"
    },
    "tags": []
   },
   "outputs": [
    {
     "data": {
      "text/plain": [
       "array([  0.,   1.,   2.,   3.,   4.,   5.,   6.,   7.,   8.,   9.,  10.,\n",
       "        11.,  12.,  13.,  14.,  15.,  16.,  17.,  18.,  19.,  20.,  21.,\n",
       "        22.,  23.,  24.,  25.,  26.,  27.,  28.,  29.,  30.,  31.,  32.,\n",
       "        36.,  37.,  38.,  39.,  40.,  44.,  45.,  47.,  48.,  99., 117.])"
      ]
     },
     "execution_count": 30,
     "metadata": {},
     "output_type": "execute_result"
    }
   ],
   "source": [
    "ds_train['HouseFloor'].sort_values().unique()"
   ]
  },
  {
   "cell_type": "code",
   "execution_count": 31,
   "metadata": {
    "execution": {
     "iopub.execute_input": "2020-12-09T11:32:19.152609Z",
     "iopub.status.busy": "2020-12-09T11:32:19.151755Z",
     "iopub.status.idle": "2020-12-09T11:32:19.160211Z",
     "shell.execute_reply": "2020-12-09T11:32:19.159603Z"
    },
    "papermill": {
     "duration": 0.077328,
     "end_time": "2020-12-09T11:32:19.160330",
     "exception": false,
     "start_time": "2020-12-09T11:32:19.083002",
     "status": "completed"
    },
    "tags": []
   },
   "outputs": [
    {
     "data": {
      "text/plain": [
       "array([ 1,  2,  3,  4,  5,  6,  7,  8,  9, 10, 11, 12, 13, 14, 15, 16, 17,\n",
       "       18, 19, 20, 21, 22, 23, 24, 25, 26, 27, 28, 31, 32, 33, 37, 42])"
      ]
     },
     "execution_count": 31,
     "metadata": {},
     "output_type": "execute_result"
    }
   ],
   "source": [
    "ds_train['Floor'].sort_values().unique()"
   ]
  },
  {
   "cell_type": "code",
   "execution_count": 32,
   "metadata": {
    "execution": {
     "iopub.execute_input": "2020-12-09T11:32:19.301105Z",
     "iopub.status.busy": "2020-12-09T11:32:19.300113Z",
     "iopub.status.idle": "2020-12-09T11:32:19.304485Z",
     "shell.execute_reply": "2020-12-09T11:32:19.305001Z"
    },
    "papermill": {
     "duration": 0.078996,
     "end_time": "2020-12-09T11:32:19.305272",
     "exception": false,
     "start_time": "2020-12-09T11:32:19.226276",
     "status": "completed"
    },
    "tags": []
   },
   "outputs": [
    {
     "data": {
      "text/plain": [
       "1825"
      ]
     },
     "execution_count": 32,
     "metadata": {},
     "output_type": "execute_result"
    }
   ],
   "source": [
    "(ds_train['Floor']>ds_train['HouseFloor']).sum()"
   ]
  },
  {
   "cell_type": "code",
   "execution_count": 33,
   "metadata": {
    "execution": {
     "iopub.execute_input": "2020-12-09T11:32:19.454919Z",
     "iopub.status.busy": "2020-12-09T11:32:19.454264Z",
     "iopub.status.idle": "2020-12-09T11:32:19.460793Z",
     "shell.execute_reply": "2020-12-09T11:32:19.460081Z"
    },
    "papermill": {
     "duration": 0.085036,
     "end_time": "2020-12-09T11:32:19.460908",
     "exception": false,
     "start_time": "2020-12-09T11:32:19.375872",
     "status": "completed"
    },
    "tags": []
   },
   "outputs": [],
   "source": [
    "ds_train['HouseFloor_outlier'] = 0\n",
    "ds_train.loc[ds_train['HouseFloor']==0, 'HouseFloor_outlier'] = 1\n",
    "ds_train.loc[ds_train['Floor']>ds_train['HouseFloor'], 'HouseFloor_outlier'] = 1"
   ]
  },
  {
   "cell_type": "code",
   "execution_count": 34,
   "metadata": {
    "execution": {
     "iopub.execute_input": "2020-12-09T11:32:19.596577Z",
     "iopub.status.busy": "2020-12-09T11:32:19.595554Z",
     "iopub.status.idle": "2020-12-09T11:32:19.606613Z",
     "shell.execute_reply": "2020-12-09T11:32:19.607253Z"
    },
    "papermill": {
     "duration": 0.081059,
     "end_time": "2020-12-09T11:32:19.607399",
     "exception": false,
     "start_time": "2020-12-09T11:32:19.526340",
     "status": "completed"
    },
    "tags": []
   },
   "outputs": [
    {
     "data": {
      "text/plain": [
       "Int64Index([   7,   14,   16,   21,   26,   35,   39,   44,   51,   67,\n",
       "            ...\n",
       "            9959, 9962, 9971, 9973, 9975, 9984, 9985, 9989, 9991, 9995],\n",
       "           dtype='int64', length=1610)"
      ]
     },
     "execution_count": 34,
     "metadata": {},
     "output_type": "execute_result"
    }
   ],
   "source": [
    "ds_train.loc[ds_train['HouseFloor']==0, 'HouseFloor'] = ds_train['HouseFloor'].median()\n",
    "floor_outliers = ds_train.loc[ds_train['Floor']>ds_train['HouseFloor']].index\n",
    "floor_outliers"
   ]
  },
  {
   "cell_type": "code",
   "execution_count": 35,
   "metadata": {
    "execution": {
     "iopub.execute_input": "2020-12-09T11:32:19.745145Z",
     "iopub.status.busy": "2020-12-09T11:32:19.744118Z",
     "iopub.status.idle": "2020-12-09T11:32:19.759754Z",
     "shell.execute_reply": "2020-12-09T11:32:19.760232Z"
    },
    "papermill": {
     "duration": 0.086857,
     "end_time": "2020-12-09T11:32:19.760382",
     "exception": false,
     "start_time": "2020-12-09T11:32:19.673525",
     "status": "completed"
    },
    "tags": []
   },
   "outputs": [
    {
     "data": {
      "text/plain": [
       "0"
      ]
     },
     "execution_count": 35,
     "metadata": {},
     "output_type": "execute_result"
    }
   ],
   "source": [
    "ds_train.loc[floor_outliers, 'Floor'] = ds_train.loc[floor_outliers, 'HouseFloor']\\\n",
    "                                                .apply(lambda x: random.randint(1, x))\n",
    "(ds_train['Floor']>ds_train['HouseFloor']).sum()"
   ]
  },
  {
   "cell_type": "code",
   "execution_count": 36,
   "metadata": {
    "execution": {
     "iopub.execute_input": "2020-12-09T11:32:19.900996Z",
     "iopub.status.busy": "2020-12-09T11:32:19.899878Z",
     "iopub.status.idle": "2020-12-09T11:32:19.909277Z",
     "shell.execute_reply": "2020-12-09T11:32:19.909780Z"
    },
    "papermill": {
     "duration": 0.082168,
     "end_time": "2020-12-09T11:32:19.909928",
     "exception": false,
     "start_time": "2020-12-09T11:32:19.827760",
     "status": "completed"
    },
    "tags": []
   },
   "outputs": [
    {
     "data": {
      "text/plain": [
       "1497    20052011\n",
       "4189        4968\n",
       "1499        2020\n",
       "5701        2020\n",
       "7076        2020\n",
       "          ...   \n",
       "7611        1916\n",
       "910         1914\n",
       "5111        1912\n",
       "2656        1912\n",
       "9317        1910\n",
       "Name: HouseYear, Length: 10000, dtype: int64"
      ]
     },
     "execution_count": 36,
     "metadata": {},
     "output_type": "execute_result"
    }
   ],
   "source": [
    "ds_train['HouseYear'].sort_values(ascending=False)"
   ]
  },
  {
   "cell_type": "code",
   "execution_count": 37,
   "metadata": {
    "execution": {
     "iopub.execute_input": "2020-12-09T11:32:20.051958Z",
     "iopub.status.busy": "2020-12-09T11:32:20.050906Z",
     "iopub.status.idle": "2020-12-09T11:32:20.068431Z",
     "shell.execute_reply": "2020-12-09T11:32:20.067738Z"
    },
    "papermill": {
     "duration": 0.090741,
     "end_time": "2020-12-09T11:32:20.068561",
     "exception": false,
     "start_time": "2020-12-09T11:32:19.977820",
     "status": "completed"
    },
    "tags": []
   },
   "outputs": [],
   "source": [
    "ds_train['HouseYear_outlier'] = 0\n",
    "ds_train.loc[ds_train['HouseYear']>datetime.today().year, 'HouseYear_outlier'] = 1\n",
    "ds_train.loc[ds_train['HouseYear']>datetime.today().year] = datetime.today().year"
   ]
  },
  {
   "cell_type": "code",
   "execution_count": 38,
   "metadata": {
    "execution": {
     "iopub.execute_input": "2020-12-09T11:32:20.211081Z",
     "iopub.status.busy": "2020-12-09T11:32:20.210006Z",
     "iopub.status.idle": "2020-12-09T11:32:20.240610Z",
     "shell.execute_reply": "2020-12-09T11:32:20.239913Z"
    },
    "papermill": {
     "duration": 0.104733,
     "end_time": "2020-12-09T11:32:20.240729",
     "exception": false,
     "start_time": "2020-12-09T11:32:20.135996",
     "status": "completed"
    },
    "tags": []
   },
   "outputs": [
    {
     "data": {
      "text/html": [
       "<div>\n",
       "<style scoped>\n",
       "    .dataframe tbody tr th:only-of-type {\n",
       "        vertical-align: middle;\n",
       "    }\n",
       "\n",
       "    .dataframe tbody tr th {\n",
       "        vertical-align: top;\n",
       "    }\n",
       "\n",
       "    .dataframe thead th {\n",
       "        text-align: right;\n",
       "    }\n",
       "</style>\n",
       "<table border=\"1\" class=\"dataframe\">\n",
       "  <thead>\n",
       "    <tr style=\"text-align: right;\">\n",
       "      <th></th>\n",
       "      <th>Id</th>\n",
       "      <th>DistrictId</th>\n",
       "      <th>Rooms</th>\n",
       "      <th>Square</th>\n",
       "      <th>LifeSquare</th>\n",
       "      <th>KitchenSquare</th>\n",
       "      <th>Floor</th>\n",
       "      <th>HouseFloor</th>\n",
       "      <th>HouseYear</th>\n",
       "      <th>Ecology_1</th>\n",
       "      <th>...</th>\n",
       "      <th>Healthcare_1</th>\n",
       "      <th>Helthcare_2</th>\n",
       "      <th>Shops_1</th>\n",
       "      <th>Shops_2</th>\n",
       "      <th>Price</th>\n",
       "      <th>Rooms_outlier</th>\n",
       "      <th>KitchenSquare_outlier</th>\n",
       "      <th>HouseFloor_outlier</th>\n",
       "      <th>HouseYear_outlier</th>\n",
       "      <th>LifeSquare_nan</th>\n",
       "    </tr>\n",
       "  </thead>\n",
       "  <tbody>\n",
       "    <tr>\n",
       "      <th>0</th>\n",
       "      <td>14038</td>\n",
       "      <td>35</td>\n",
       "      <td>2.0</td>\n",
       "      <td>47.981561</td>\n",
       "      <td>29.442751</td>\n",
       "      <td>6.0</td>\n",
       "      <td>7</td>\n",
       "      <td>9.0</td>\n",
       "      <td>1969</td>\n",
       "      <td>0.089040</td>\n",
       "      <td>...</td>\n",
       "      <td>NaN</td>\n",
       "      <td>0</td>\n",
       "      <td>11</td>\n",
       "      <td>B</td>\n",
       "      <td>184966.930730</td>\n",
       "      <td>0</td>\n",
       "      <td>0</td>\n",
       "      <td>0</td>\n",
       "      <td>0</td>\n",
       "      <td>0</td>\n",
       "    </tr>\n",
       "    <tr>\n",
       "      <th>1</th>\n",
       "      <td>15053</td>\n",
       "      <td>41</td>\n",
       "      <td>3.0</td>\n",
       "      <td>65.683640</td>\n",
       "      <td>40.049543</td>\n",
       "      <td>8.0</td>\n",
       "      <td>7</td>\n",
       "      <td>9.0</td>\n",
       "      <td>1978</td>\n",
       "      <td>0.000070</td>\n",
       "      <td>...</td>\n",
       "      <td>240.0</td>\n",
       "      <td>1</td>\n",
       "      <td>16</td>\n",
       "      <td>B</td>\n",
       "      <td>300009.450063</td>\n",
       "      <td>0</td>\n",
       "      <td>0</td>\n",
       "      <td>0</td>\n",
       "      <td>0</td>\n",
       "      <td>0</td>\n",
       "    </tr>\n",
       "    <tr>\n",
       "      <th>2</th>\n",
       "      <td>4765</td>\n",
       "      <td>53</td>\n",
       "      <td>2.0</td>\n",
       "      <td>44.947953</td>\n",
       "      <td>29.197612</td>\n",
       "      <td>6.0</td>\n",
       "      <td>8</td>\n",
       "      <td>12.0</td>\n",
       "      <td>1968</td>\n",
       "      <td>0.049637</td>\n",
       "      <td>...</td>\n",
       "      <td>229.0</td>\n",
       "      <td>1</td>\n",
       "      <td>3</td>\n",
       "      <td>B</td>\n",
       "      <td>220925.908524</td>\n",
       "      <td>0</td>\n",
       "      <td>1</td>\n",
       "      <td>0</td>\n",
       "      <td>0</td>\n",
       "      <td>0</td>\n",
       "    </tr>\n",
       "    <tr>\n",
       "      <th>3</th>\n",
       "      <td>5809</td>\n",
       "      <td>58</td>\n",
       "      <td>2.0</td>\n",
       "      <td>53.352981</td>\n",
       "      <td>52.731512</td>\n",
       "      <td>9.0</td>\n",
       "      <td>8</td>\n",
       "      <td>17.0</td>\n",
       "      <td>1977</td>\n",
       "      <td>0.437885</td>\n",
       "      <td>...</td>\n",
       "      <td>1084.0</td>\n",
       "      <td>0</td>\n",
       "      <td>5</td>\n",
       "      <td>B</td>\n",
       "      <td>175616.227217</td>\n",
       "      <td>0</td>\n",
       "      <td>0</td>\n",
       "      <td>0</td>\n",
       "      <td>0</td>\n",
       "      <td>0</td>\n",
       "    </tr>\n",
       "    <tr>\n",
       "      <th>4</th>\n",
       "      <td>10783</td>\n",
       "      <td>99</td>\n",
       "      <td>1.0</td>\n",
       "      <td>39.649192</td>\n",
       "      <td>23.776169</td>\n",
       "      <td>7.0</td>\n",
       "      <td>11</td>\n",
       "      <td>12.0</td>\n",
       "      <td>1976</td>\n",
       "      <td>0.012339</td>\n",
       "      <td>...</td>\n",
       "      <td>2078.0</td>\n",
       "      <td>2</td>\n",
       "      <td>4</td>\n",
       "      <td>B</td>\n",
       "      <td>150226.531644</td>\n",
       "      <td>0</td>\n",
       "      <td>0</td>\n",
       "      <td>0</td>\n",
       "      <td>0</td>\n",
       "      <td>0</td>\n",
       "    </tr>\n",
       "  </tbody>\n",
       "</table>\n",
       "<p>5 rows × 25 columns</p>\n",
       "</div>"
      ],
      "text/plain": [
       "      Id  DistrictId  Rooms     Square  LifeSquare  KitchenSquare  Floor  \\\n",
       "0  14038          35    2.0  47.981561   29.442751            6.0      7   \n",
       "1  15053          41    3.0  65.683640   40.049543            8.0      7   \n",
       "2   4765          53    2.0  44.947953   29.197612            6.0      8   \n",
       "3   5809          58    2.0  53.352981   52.731512            9.0      8   \n",
       "4  10783          99    1.0  39.649192   23.776169            7.0     11   \n",
       "\n",
       "   HouseFloor  HouseYear  Ecology_1  ... Healthcare_1 Helthcare_2  Shops_1  \\\n",
       "0         9.0       1969   0.089040  ...          NaN           0       11   \n",
       "1         9.0       1978   0.000070  ...        240.0           1       16   \n",
       "2        12.0       1968   0.049637  ...        229.0           1        3   \n",
       "3        17.0       1977   0.437885  ...       1084.0           0        5   \n",
       "4        12.0       1976   0.012339  ...       2078.0           2        4   \n",
       "\n",
       "   Shops_2          Price  Rooms_outlier  KitchenSquare_outlier  \\\n",
       "0        B  184966.930730              0                      0   \n",
       "1        B  300009.450063              0                      0   \n",
       "2        B  220925.908524              0                      1   \n",
       "3        B  175616.227217              0                      0   \n",
       "4        B  150226.531644              0                      0   \n",
       "\n",
       "   HouseFloor_outlier HouseYear_outlier  LifeSquare_nan  \n",
       "0                   0                 0               0  \n",
       "1                   0                 0               0  \n",
       "2                   0                 0               0  \n",
       "3                   0                 0               0  \n",
       "4                   0                 0               0  \n",
       "\n",
       "[5 rows x 25 columns]"
      ]
     },
     "execution_count": 38,
     "metadata": {},
     "output_type": "execute_result"
    }
   ],
   "source": [
    "ds_train['LifeSquare_nan'] = ds_train['LifeSquare'].isna() * 1\n",
    "ds_train.head()"
   ]
  },
  {
   "cell_type": "code",
   "execution_count": 39,
   "metadata": {
    "execution": {
     "iopub.execute_input": "2020-12-09T11:32:20.384094Z",
     "iopub.status.busy": "2020-12-09T11:32:20.383316Z",
     "iopub.status.idle": "2020-12-09T11:32:20.389422Z",
     "shell.execute_reply": "2020-12-09T11:32:20.388705Z"
    },
    "papermill": {
     "duration": 0.081062,
     "end_time": "2020-12-09T11:32:20.389542",
     "exception": false,
     "start_time": "2020-12-09T11:32:20.308480",
     "status": "completed"
    },
    "tags": []
   },
   "outputs": [],
   "source": [
    "ds_train.loc[ds_train['LifeSquare'].isna(), 'LifeSquare'] = \\\n",
    "ds_train.loc[ds_train['LifeSquare'].isna(), 'Square'] - \\\n",
    "ds_train.loc[ds_train['LifeSquare'].isna(), 'KitchenSquare'] - 3"
   ]
  },
  {
   "cell_type": "code",
   "execution_count": 40,
   "metadata": {
    "execution": {
     "iopub.execute_input": "2020-12-09T11:32:20.536138Z",
     "iopub.status.busy": "2020-12-09T11:32:20.535218Z",
     "iopub.status.idle": "2020-12-09T11:32:20.538320Z",
     "shell.execute_reply": "2020-12-09T11:32:20.537634Z"
    },
    "papermill": {
     "duration": 0.076989,
     "end_time": "2020-12-09T11:32:20.538440",
     "exception": false,
     "start_time": "2020-12-09T11:32:20.461451",
     "status": "completed"
    },
    "tags": []
   },
   "outputs": [],
   "source": [
    "# Не знаю как заполнить Healthcare_1, поэтому эта фича будет удалена\n",
    "# Для себя не понял зачем перечислял действия выше, когда их можно было сразу вынести в отделный класс"
   ]
  },
  {
   "cell_type": "markdown",
   "metadata": {
    "papermill": {
     "duration": 0.06807,
     "end_time": "2020-12-09T11:32:20.675075",
     "exception": false,
     "start_time": "2020-12-09T11:32:20.607005",
     "status": "completed"
    },
    "tags": []
   },
   "source": [
    "# 3. Создание класса обрабатывающего данные"
   ]
  },
  {
   "cell_type": "code",
   "execution_count": 41,
   "metadata": {
    "execution": {
     "iopub.execute_input": "2020-12-09T11:32:20.849240Z",
     "iopub.status.busy": "2020-12-09T11:32:20.848234Z",
     "iopub.status.idle": "2020-12-09T11:32:20.851241Z",
     "shell.execute_reply": "2020-12-09T11:32:20.850658Z"
    },
    "papermill": {
     "duration": 0.102921,
     "end_time": "2020-12-09T11:32:20.851369",
     "exception": false,
     "start_time": "2020-12-09T11:32:20.748448",
     "status": "completed"
    },
    "tags": []
   },
   "outputs": [],
   "source": [
    "class DataPreprocessing:\n",
    "    \"\"\"Подготовка исходных данных\"\"\"\n",
    "\n",
    "    def __init__(self):\n",
    "        \"\"\"Параметры класса\"\"\"\n",
    "        self.medians=None\n",
    "        self.kitchen_square_quantile = None\n",
    "        self.binary_to_numbers = None\n",
    "        \n",
    "    def fit(self, X):\n",
    "        \"\"\"Сохранение статистик\"\"\"       \n",
    "        # Расчет медиан\n",
    "        self.medians = X.median()\n",
    "        self.kitchen_square_quantile = X['KitchenSquare'].quantile(.975)\n",
    "        self.binary_to_numbers = {'A': 0, 'B': 1}\n",
    "    \n",
    "    def transform(self, X):\n",
    "        \"\"\"Трансформация данных\"\"\"\n",
    "\n",
    "        # Rooms\n",
    "        X['Rooms_outlier'] = 0\n",
    "        X.loc[(X['Rooms'] == 0) | (X['Rooms'] >= 6), 'Rooms_outlier'] = 1\n",
    "        \n",
    "        X.loc[X['Rooms'] == 0, 'Rooms'] = 1\n",
    "        X.loc[X['Rooms'] >= 6, 'Rooms'] = self.medians['Rooms']\n",
    "     \n",
    "        # KitchenSquare\n",
    "        condition = (X['KitchenSquare'] == 0) \\\n",
    "                    | (X['KitchenSquare'] > self.kitchen_square_quantile)\n",
    "        \n",
    "        X['KithcenSquare_outlier'] = 0\n",
    "        \n",
    "        X.loc[condition, 'KithcenSquare_outlier'] = 1\n",
    "        \n",
    "        X.loc[condition, 'KitchenSquare'] = self.medians['KitchenSquare']\n",
    "\n",
    "        X.loc[X['KitchenSquare'] == 0, 'KitchenSquare'] = self.medians['KitchenSquare']\n",
    "        \n",
    "        # HouseFloor, Floor\n",
    "        X['HouseFloor_outlier'] = 0\n",
    "        X.loc[X['HouseFloor'] == 0, 'HouseFloor_outlier'] = 1\n",
    "        X.loc[X['Floor'] > X['HouseFloor'], 'HouseFloor_outlier'] = 1\n",
    "        \n",
    "        X.loc[X['HouseFloor'] == 0, 'HouseFloor'] = self.medians['HouseFloor']\n",
    "        \n",
    "        floor_outliers = X.loc[X['Floor'] > X['HouseFloor']].index\n",
    "        X.loc[floor_outliers, 'Floor'] = X.loc[floor_outliers, 'HouseFloor']\\\n",
    "                                            .apply(lambda x: random.randint(1, x))\n",
    "        \n",
    "        # HouseYear\n",
    "        current_year = datetime.today().year\n",
    "        \n",
    "        X['HouseYear_outlier'] = 0\n",
    "        X.loc[X['HouseYear'] > current_year, 'HouseYear_outlier'] = 1\n",
    "        \n",
    "        X.loc[X['HouseYear'] > current_year, 'HouseYear'] = current_year\n",
    "        \n",
    "        # Healthcare_1.head()\n",
    "        if 'Healthcare_1' in X.columns:\n",
    "            X.drop('Healthcare_1', axis=1, inplace=True)\n",
    "            \n",
    "        # LifeSquare\n",
    "        X['LifeSquare_nan'] = X['LifeSquare'].isna() * 1\n",
    "        condition = (X['LifeSquare'].isna()) & \\\n",
    "                      (~X['Square'].isna()) & \\\n",
    "                      (~X['KitchenSquare'].isna())\n",
    "        \n",
    "        X.loc[condition, 'LifeSquare'] = X.loc[condition, 'Square'] - X.loc[condition, 'KitchenSquare'] - 3\n",
    "        \n",
    "        condition = (X['Square']<X['LifeSquare'])\n",
    "                    \n",
    "        X.loc[condition, 'LifeSquare'] = X.loc[condition, 'Square'].apply(lambda x : random.uniform(4,x)) - 3\n",
    "        \n",
    "        # Ecology_2\n",
    "        X['Ecology_2'] = X['Ecology_2'].map(self.binary_to_numbers)\n",
    "        \n",
    "        # Ecology_3\n",
    "        X['Ecology_3'] = X['Ecology_3'].map(self.binary_to_numbers)\n",
    "        \n",
    "        # Shops_2\n",
    "        X['Shops_2'] = X['Shops_2'].map(self.binary_to_numbers)\n",
    "                \n",
    "        X.fillna(self.medians, inplace=True)\n",
    "        \n",
    "        return X"
   ]
  },
  {
   "cell_type": "markdown",
   "metadata": {
    "papermill": {
     "duration": 0.067554,
     "end_time": "2020-12-09T11:32:20.987916",
     "exception": false,
     "start_time": "2020-12-09T11:32:20.920362",
     "status": "completed"
    },
    "tags": []
   },
   "source": [
    "# 4. Подготовка новых признаков"
   ]
  },
  {
   "cell_type": "code",
   "execution_count": 42,
   "metadata": {
    "execution": {
     "iopub.execute_input": "2020-12-09T11:32:21.156610Z",
     "iopub.status.busy": "2020-12-09T11:32:21.155914Z",
     "iopub.status.idle": "2020-12-09T11:32:21.160367Z",
     "shell.execute_reply": "2020-12-09T11:32:21.159785Z"
    },
    "papermill": {
     "duration": 0.102877,
     "end_time": "2020-12-09T11:32:21.160498",
     "exception": false,
     "start_time": "2020-12-09T11:32:21.057621",
     "status": "completed"
    },
    "tags": []
   },
   "outputs": [],
   "source": [
    "binary_to_numbers = {'A': 0, 'B': 1}\n",
    "\n",
    "ds_train['Ecology_2'] = ds_train['Ecology_2'].replace(binary_to_numbers)\n",
    "ds_train['Ecology_3'] = ds_train['Ecology_3'].replace(binary_to_numbers)\n",
    "ds_train['Shops_2'] = ds_train['Shops_2'].replace(binary_to_numbers)"
   ]
  },
  {
   "cell_type": "code",
   "execution_count": null,
   "metadata": {
    "papermill": {
     "duration": 0.067934,
     "end_time": "2020-12-09T11:32:21.296858",
     "exception": false,
     "start_time": "2020-12-09T11:32:21.228924",
     "status": "completed"
    },
    "tags": []
   },
   "outputs": [],
   "source": []
  },
  {
   "cell_type": "markdown",
   "metadata": {
    "papermill": {
     "duration": 0.069959,
     "end_time": "2020-12-09T11:32:21.436550",
     "exception": false,
     "start_time": "2020-12-09T11:32:21.366591",
     "status": "completed"
    },
    "tags": []
   },
   "source": [
    "Не вижу смысла в дальнейшей категоризации, так как числовые значения могут быть категорезированы по самим числам"
   ]
  },
  {
   "cell_type": "markdown",
   "metadata": {
    "papermill": {
     "duration": 0.068795,
     "end_time": "2020-12-09T11:32:21.572608",
     "exception": false,
     "start_time": "2020-12-09T11:32:21.503813",
     "status": "completed"
    },
    "tags": []
   },
   "source": [
    "# 5. Анализ проделанного"
   ]
  },
  {
   "cell_type": "code",
   "execution_count": 43,
   "metadata": {
    "execution": {
     "iopub.execute_input": "2020-12-09T11:32:21.717499Z",
     "iopub.status.busy": "2020-12-09T11:32:21.716819Z",
     "iopub.status.idle": "2020-12-09T11:32:21.720951Z",
     "shell.execute_reply": "2020-12-09T11:32:21.720453Z"
    },
    "papermill": {
     "duration": 0.077811,
     "end_time": "2020-12-09T11:32:21.721059",
     "exception": false,
     "start_time": "2020-12-09T11:32:21.643248",
     "status": "completed"
    },
    "tags": []
   },
   "outputs": [
    {
     "data": {
      "text/plain": [
       "['Id',\n",
       " 'DistrictId',\n",
       " 'Rooms',\n",
       " 'Square',\n",
       " 'LifeSquare',\n",
       " 'KitchenSquare',\n",
       " 'Floor',\n",
       " 'HouseFloor',\n",
       " 'HouseYear',\n",
       " 'Ecology_1',\n",
       " 'Ecology_2',\n",
       " 'Ecology_3',\n",
       " 'Social_1',\n",
       " 'Social_2',\n",
       " 'Social_3',\n",
       " 'Healthcare_1',\n",
       " 'Helthcare_2',\n",
       " 'Shops_1',\n",
       " 'Shops_2',\n",
       " 'Price',\n",
       " 'Rooms_outlier',\n",
       " 'KitchenSquare_outlier',\n",
       " 'HouseFloor_outlier',\n",
       " 'HouseYear_outlier',\n",
       " 'LifeSquare_nan']"
      ]
     },
     "execution_count": 43,
     "metadata": {},
     "output_type": "execute_result"
    }
   ],
   "source": [
    "all_features = ds_train.columns.tolist()\n",
    "all_features"
   ]
  },
  {
   "cell_type": "code",
   "execution_count": 44,
   "metadata": {
    "execution": {
     "iopub.execute_input": "2020-12-09T11:32:21.864986Z",
     "iopub.status.busy": "2020-12-09T11:32:21.864339Z",
     "iopub.status.idle": "2020-12-09T11:32:21.866895Z",
     "shell.execute_reply": "2020-12-09T11:32:21.867494Z"
    },
    "papermill": {
     "duration": 0.077791,
     "end_time": "2020-12-09T11:32:21.867658",
     "exception": false,
     "start_time": "2020-12-09T11:32:21.789867",
     "status": "completed"
    },
    "tags": []
   },
   "outputs": [],
   "source": [
    "old_features = all_features[:-6]\n",
    "\n",
    "new_features = all_features[-5:]\n",
    "\n",
    "target_name = 'Price'"
   ]
  },
  {
   "cell_type": "markdown",
   "metadata": {
    "papermill": {
     "duration": 0.069937,
     "end_time": "2020-12-09T11:32:22.011848",
     "exception": false,
     "start_time": "2020-12-09T11:32:21.941911",
     "status": "completed"
    },
    "tags": []
   },
   "source": [
    "# 6. Разбиение"
   ]
  },
  {
   "cell_type": "code",
   "execution_count": 45,
   "metadata": {
    "execution": {
     "iopub.execute_input": "2020-12-09T11:32:22.160385Z",
     "iopub.status.busy": "2020-12-09T11:32:22.159253Z",
     "iopub.status.idle": "2020-12-09T11:32:22.211930Z",
     "shell.execute_reply": "2020-12-09T11:32:22.211203Z"
    },
    "papermill": {
     "duration": 0.129408,
     "end_time": "2020-12-09T11:32:22.212052",
     "exception": false,
     "start_time": "2020-12-09T11:32:22.082644",
     "status": "completed"
    },
    "tags": []
   },
   "outputs": [],
   "source": [
    "train_df = pd.read_csv(PATH_TO_TRAIN)\n",
    "X_test = pd.read_csv(PATH_TO_TEST)\n",
    "\n",
    "\n",
    "X = train_df.drop(columns=target_name)\n",
    "y = train_df[target_name]"
   ]
  },
  {
   "cell_type": "code",
   "execution_count": 46,
   "metadata": {
    "execution": {
     "iopub.execute_input": "2020-12-09T11:32:22.356702Z",
     "iopub.status.busy": "2020-12-09T11:32:22.356005Z",
     "iopub.status.idle": "2020-12-09T11:32:22.361275Z",
     "shell.execute_reply": "2020-12-09T11:32:22.361750Z"
    },
    "papermill": {
     "duration": 0.080858,
     "end_time": "2020-12-09T11:32:22.361911",
     "exception": false,
     "start_time": "2020-12-09T11:32:22.281053",
     "status": "completed"
    },
    "tags": []
   },
   "outputs": [],
   "source": [
    "X_train, X_valid, y_train, y_valid = train_test_split(X, y, test_size=0.3, shuffle=True, random_state=42)"
   ]
  },
  {
   "cell_type": "code",
   "execution_count": 47,
   "metadata": {
    "execution": {
     "iopub.execute_input": "2020-12-09T11:32:22.509608Z",
     "iopub.status.busy": "2020-12-09T11:32:22.508727Z",
     "iopub.status.idle": "2020-12-09T11:32:22.517169Z",
     "shell.execute_reply": "2020-12-09T11:32:22.516627Z"
    },
    "papermill": {
     "duration": 0.086975,
     "end_time": "2020-12-09T11:32:22.517298",
     "exception": false,
     "start_time": "2020-12-09T11:32:22.430323",
     "status": "completed"
    },
    "tags": []
   },
   "outputs": [
    {
     "data": {
      "text/plain": [
       "['Id',\n",
       " 'DistrictId',\n",
       " 'Rooms',\n",
       " 'Square',\n",
       " 'LifeSquare',\n",
       " 'KitchenSquare',\n",
       " 'Floor',\n",
       " 'HouseFloor',\n",
       " 'HouseYear',\n",
       " 'Ecology_1',\n",
       " 'Ecology_2',\n",
       " 'Ecology_3',\n",
       " 'Social_1',\n",
       " 'Social_2',\n",
       " 'Social_3',\n",
       " 'Healthcare_1',\n",
       " 'Helthcare_2',\n",
       " 'Shops_1',\n",
       " 'Shops_2']"
      ]
     },
     "execution_count": 47,
     "metadata": {},
     "output_type": "execute_result"
    }
   ],
   "source": [
    "(X_train['Square']<X_train['LifeSquare']).sum()\n",
    "X_train.columns.tolist()"
   ]
  },
  {
   "cell_type": "code",
   "execution_count": 48,
   "metadata": {
    "execution": {
     "iopub.execute_input": "2020-12-09T11:32:22.661607Z",
     "iopub.status.busy": "2020-12-09T11:32:22.660830Z",
     "iopub.status.idle": "2020-12-09T11:32:22.772440Z",
     "shell.execute_reply": "2020-12-09T11:32:22.771817Z"
    },
    "papermill": {
     "duration": 0.186645,
     "end_time": "2020-12-09T11:32:22.772559",
     "exception": false,
     "start_time": "2020-12-09T11:32:22.585914",
     "status": "completed"
    },
    "tags": []
   },
   "outputs": [
    {
     "data": {
      "text/plain": [
       "((7000, 23), (3000, 23), (5000, 23))"
      ]
     },
     "execution_count": 48,
     "metadata": {},
     "output_type": "execute_result"
    }
   ],
   "source": [
    "pp = DataPreprocessing()\n",
    "pp.fit(X_train)\n",
    "\n",
    "X_train = pp.transform(X_train)\n",
    "X_valid = pp.transform(X_valid)\n",
    "X_test = pp.transform(X_test)\n",
    "\n",
    "X_train.shape, X_valid.shape, X_test.shape"
   ]
  },
  {
   "cell_type": "code",
   "execution_count": 49,
   "metadata": {
    "execution": {
     "iopub.execute_input": "2020-12-09T11:32:22.920761Z",
     "iopub.status.busy": "2020-12-09T11:32:22.919684Z",
     "iopub.status.idle": "2020-12-09T11:32:22.929705Z",
     "shell.execute_reply": "2020-12-09T11:32:22.929119Z"
    },
    "papermill": {
     "duration": 0.086426,
     "end_time": "2020-12-09T11:32:22.929827",
     "exception": false,
     "start_time": "2020-12-09T11:32:22.843401",
     "status": "completed"
    },
    "tags": []
   },
   "outputs": [
    {
     "data": {
      "text/plain": [
       "(0, 0, 0)"
      ]
     },
     "execution_count": 49,
     "metadata": {},
     "output_type": "execute_result"
    }
   ],
   "source": [
    "X_train.isna().sum().sum(), X_valid.isna().sum().sum(), X_test.isna().sum().sum()"
   ]
  },
  {
   "cell_type": "markdown",
   "metadata": {
    "papermill": {
     "duration": 0.073717,
     "end_time": "2020-12-09T11:32:23.073608",
     "exception": false,
     "start_time": "2020-12-09T11:32:22.999891",
     "status": "completed"
    },
    "tags": []
   },
   "source": [
    "# 7. Построение модели"
   ]
  },
  {
   "cell_type": "code",
   "execution_count": 50,
   "metadata": {
    "execution": {
     "iopub.execute_input": "2020-12-09T11:32:23.224086Z",
     "iopub.status.busy": "2020-12-09T11:32:23.222720Z",
     "iopub.status.idle": "2020-12-09T11:32:29.240293Z",
     "shell.execute_reply": "2020-12-09T11:32:29.239299Z"
    },
    "papermill": {
     "duration": 6.095972,
     "end_time": "2020-12-09T11:32:29.240417",
     "exception": false,
     "start_time": "2020-12-09T11:32:23.144445",
     "status": "completed"
    },
    "tags": []
   },
   "outputs": [
    {
     "data": {
      "text/plain": [
       "RandomForestRegressor(random_state=42)"
      ]
     },
     "execution_count": 50,
     "metadata": {},
     "output_type": "execute_result"
    }
   ],
   "source": [
    "rf_model = RandomForestRegressor(random_state=42, criterion='mse')\n",
    "rf_model.fit(X_train, y_train)"
   ]
  },
  {
   "cell_type": "code",
   "execution_count": 51,
   "metadata": {
    "execution": {
     "iopub.execute_input": "2020-12-09T11:32:29.399053Z",
     "iopub.status.busy": "2020-12-09T11:32:29.398028Z",
     "iopub.status.idle": "2020-12-09T11:32:29.401217Z",
     "shell.execute_reply": "2020-12-09T11:32:29.400681Z"
    },
    "papermill": {
     "duration": 0.089846,
     "end_time": "2020-12-09T11:32:29.401330",
     "exception": false,
     "start_time": "2020-12-09T11:32:29.311484",
     "status": "completed"
    },
    "tags": []
   },
   "outputs": [],
   "source": [
    "def evaluate_preds(train_true_values, train_pred_values, test_true_values, test_pred_values):\n",
    "    print(\"Train R2:\\t\" + str(round(r2(train_true_values, train_pred_values), 3)))\n",
    "    print(\"Test R2:\\t\" + str(round(r2(test_true_values, test_pred_values), 3)))\n",
    "    \n",
    "    plt.figure(figsize=(18,10))\n",
    "    \n",
    "    plt.subplot(121)\n",
    "    sns.scatterplot(x=train_pred_values, y=train_true_values)\n",
    "    plt.xlabel('Predicted values')\n",
    "    plt.ylabel('True values')\n",
    "    plt.title('Train sample prediction')\n",
    "    \n",
    "    plt.subplot(122)\n",
    "    sns.scatterplot(x=test_pred_values, y=test_true_values)\n",
    "    plt.xlabel('Predicted values')\n",
    "    plt.ylabel('True values')\n",
    "    plt.title('Test sample prediction')\n",
    "\n",
    "    plt.show()"
   ]
  },
  {
   "cell_type": "code",
   "execution_count": 52,
   "metadata": {
    "execution": {
     "iopub.execute_input": "2020-12-09T11:32:29.547106Z",
     "iopub.status.busy": "2020-12-09T11:32:29.546370Z",
     "iopub.status.idle": "2020-12-09T11:32:30.201043Z",
     "shell.execute_reply": "2020-12-09T11:32:30.201554Z"
    },
    "papermill": {
     "duration": 0.729677,
     "end_time": "2020-12-09T11:32:30.201715",
     "exception": false,
     "start_time": "2020-12-09T11:32:29.472038",
     "status": "completed"
    },
    "tags": []
   },
   "outputs": [
    {
     "name": "stdout",
     "output_type": "stream",
     "text": [
      "Train R2:\t0.961\n",
      "Test R2:\t0.704\n"
     ]
    },
    {
     "data": {
      "image/png": "[encoded data removed]",
      "text/plain": [
       "<Figure size 1296x720 with 2 Axes>"
      ]
     },
     "metadata": {
      "needs_background": "light"
     },
     "output_type": "display_data"
    }
   ],
   "source": [
    "y_train_preds = rf_model.predict(X_train)\n",
    "y_test_preds = rf_model.predict(X_valid)\n",
    "\n",
    "evaluate_preds(y_train, y_train_preds, y_valid, y_test_preds)"
   ]
  },
  {
   "cell_type": "markdown",
   "metadata": {
    "papermill": {
     "duration": 0.075816,
     "end_time": "2020-12-09T11:32:30.354812",
     "exception": false,
     "start_time": "2020-12-09T11:32:30.278996",
     "status": "completed"
    },
    "tags": []
   },
   "source": [
    "Кросс валидация"
   ]
  },
  {
   "cell_type": "code",
   "execution_count": 53,
   "metadata": {
    "execution": {
     "iopub.execute_input": "2020-12-09T11:32:30.514021Z",
     "iopub.status.busy": "2020-12-09T11:32:30.513378Z",
     "iopub.status.idle": "2020-12-09T11:32:42.648086Z",
     "shell.execute_reply": "2020-12-09T11:32:42.648705Z"
    },
    "papermill": {
     "duration": 12.214044,
     "end_time": "2020-12-09T11:32:42.648864",
     "exception": false,
     "start_time": "2020-12-09T11:32:30.434820",
     "status": "completed"
    },
    "tags": []
   },
   "outputs": [
    {
     "data": {
      "text/plain": [
       "array([0.70801813, 0.71353726, 0.73774488])"
      ]
     },
     "execution_count": 53,
     "metadata": {},
     "output_type": "execute_result"
    }
   ],
   "source": [
    "cv_score = cross_val_score(rf_model, X_train, y_train, scoring='r2', \\\n",
    "            cv=KFold(n_splits=3, shuffle=True, random_state=42))\n",
    "cv_score"
   ]
  },
  {
   "cell_type": "markdown",
   "metadata": {
    "papermill": {
     "duration": 0.075914,
     "end_time": "2020-12-09T11:32:42.811285",
     "exception": false,
     "start_time": "2020-12-09T11:32:42.735371",
     "status": "completed"
    },
    "tags": []
   },
   "source": [
    "Важность признаков"
   ]
  },
  {
   "cell_type": "code",
   "execution_count": 54,
   "metadata": {
    "execution": {
     "iopub.execute_input": "2020-12-09T11:32:42.977613Z",
     "iopub.status.busy": "2020-12-09T11:32:42.976930Z",
     "iopub.status.idle": "2020-12-09T11:32:43.021217Z",
     "shell.execute_reply": "2020-12-09T11:32:43.020492Z"
    },
    "papermill": {
     "duration": 0.124018,
     "end_time": "2020-12-09T11:32:43.021336",
     "exception": false,
     "start_time": "2020-12-09T11:32:42.897318",
     "status": "completed"
    },
    "tags": []
   },
   "outputs": [
    {
     "data": {
      "text/html": [
       "<div>\n",
       "<style scoped>\n",
       "    .dataframe tbody tr th:only-of-type {\n",
       "        vertical-align: middle;\n",
       "    }\n",
       "\n",
       "    .dataframe tbody tr th {\n",
       "        vertical-align: top;\n",
       "    }\n",
       "\n",
       "    .dataframe thead th {\n",
       "        text-align: right;\n",
       "    }\n",
       "</style>\n",
       "<table border=\"1\" class=\"dataframe\">\n",
       "  <thead>\n",
       "    <tr style=\"text-align: right;\">\n",
       "      <th></th>\n",
       "      <th>features</th>\n",
       "      <th>importance</th>\n",
       "    </tr>\n",
       "  </thead>\n",
       "  <tbody>\n",
       "    <tr>\n",
       "      <th>3</th>\n",
       "      <td>Square</td>\n",
       "      <td>0.393021</td>\n",
       "    </tr>\n",
       "    <tr>\n",
       "      <th>13</th>\n",
       "      <td>Social_2</td>\n",
       "      <td>0.104160</td>\n",
       "    </tr>\n",
       "    <tr>\n",
       "      <th>12</th>\n",
       "      <td>Social_1</td>\n",
       "      <td>0.089970</td>\n",
       "    </tr>\n",
       "    <tr>\n",
       "      <th>2</th>\n",
       "      <td>Rooms</td>\n",
       "      <td>0.067857</td>\n",
       "    </tr>\n",
       "    <tr>\n",
       "      <th>14</th>\n",
       "      <td>Social_3</td>\n",
       "      <td>0.061211</td>\n",
       "    </tr>\n",
       "    <tr>\n",
       "      <th>1</th>\n",
       "      <td>DistrictId</td>\n",
       "      <td>0.052147</td>\n",
       "    </tr>\n",
       "    <tr>\n",
       "      <th>9</th>\n",
       "      <td>Ecology_1</td>\n",
       "      <td>0.041741</td>\n",
       "    </tr>\n",
       "    <tr>\n",
       "      <th>4</th>\n",
       "      <td>LifeSquare</td>\n",
       "      <td>0.034671</td>\n",
       "    </tr>\n",
       "    <tr>\n",
       "      <th>8</th>\n",
       "      <td>HouseYear</td>\n",
       "      <td>0.033585</td>\n",
       "    </tr>\n",
       "    <tr>\n",
       "      <th>0</th>\n",
       "      <td>Id</td>\n",
       "      <td>0.027849</td>\n",
       "    </tr>\n",
       "    <tr>\n",
       "      <th>6</th>\n",
       "      <td>Floor</td>\n",
       "      <td>0.021572</td>\n",
       "    </tr>\n",
       "    <tr>\n",
       "      <th>5</th>\n",
       "      <td>KitchenSquare</td>\n",
       "      <td>0.020576</td>\n",
       "    </tr>\n",
       "    <tr>\n",
       "      <th>7</th>\n",
       "      <td>HouseFloor</td>\n",
       "      <td>0.019616</td>\n",
       "    </tr>\n",
       "    <tr>\n",
       "      <th>16</th>\n",
       "      <td>Shops_1</td>\n",
       "      <td>0.017508</td>\n",
       "    </tr>\n",
       "    <tr>\n",
       "      <th>15</th>\n",
       "      <td>Helthcare_2</td>\n",
       "      <td>0.007518</td>\n",
       "    </tr>\n",
       "    <tr>\n",
       "      <th>20</th>\n",
       "      <td>HouseFloor_outlier</td>\n",
       "      <td>0.002094</td>\n",
       "    </tr>\n",
       "    <tr>\n",
       "      <th>19</th>\n",
       "      <td>KithcenSquare_outlier</td>\n",
       "      <td>0.001304</td>\n",
       "    </tr>\n",
       "    <tr>\n",
       "      <th>22</th>\n",
       "      <td>LifeSquare_nan</td>\n",
       "      <td>0.001189</td>\n",
       "    </tr>\n",
       "    <tr>\n",
       "      <th>10</th>\n",
       "      <td>Ecology_2</td>\n",
       "      <td>0.000813</td>\n",
       "    </tr>\n",
       "    <tr>\n",
       "      <th>17</th>\n",
       "      <td>Shops_2</td>\n",
       "      <td>0.000787</td>\n",
       "    </tr>\n",
       "    <tr>\n",
       "      <th>11</th>\n",
       "      <td>Ecology_3</td>\n",
       "      <td>0.000746</td>\n",
       "    </tr>\n",
       "    <tr>\n",
       "      <th>18</th>\n",
       "      <td>Rooms_outlier</td>\n",
       "      <td>0.000054</td>\n",
       "    </tr>\n",
       "    <tr>\n",
       "      <th>21</th>\n",
       "      <td>HouseYear_outlier</td>\n",
       "      <td>0.000009</td>\n",
       "    </tr>\n",
       "  </tbody>\n",
       "</table>\n",
       "</div>"
      ],
      "text/plain": [
       "                 features  importance\n",
       "3                  Square    0.393021\n",
       "13               Social_2    0.104160\n",
       "12               Social_1    0.089970\n",
       "2                   Rooms    0.067857\n",
       "14               Social_3    0.061211\n",
       "1              DistrictId    0.052147\n",
       "9               Ecology_1    0.041741\n",
       "4              LifeSquare    0.034671\n",
       "8               HouseYear    0.033585\n",
       "0                      Id    0.027849\n",
       "6                   Floor    0.021572\n",
       "5           KitchenSquare    0.020576\n",
       "7              HouseFloor    0.019616\n",
       "16                Shops_1    0.017508\n",
       "15            Helthcare_2    0.007518\n",
       "20     HouseFloor_outlier    0.002094\n",
       "19  KithcenSquare_outlier    0.001304\n",
       "22         LifeSquare_nan    0.001189\n",
       "10              Ecology_2    0.000813\n",
       "17                Shops_2    0.000787\n",
       "11              Ecology_3    0.000746\n",
       "18          Rooms_outlier    0.000054\n",
       "21      HouseYear_outlier    0.000009"
      ]
     },
     "execution_count": 54,
     "metadata": {},
     "output_type": "execute_result"
    }
   ],
   "source": [
    "feature_importance = pd.DataFrame(zip(X_train.columns, rf_model.feature_importances_), \\\n",
    "                                 columns=['features', 'importance'])\n",
    "feature_importance.sort_values(by='importance', ascending=False)"
   ]
  },
  {
   "cell_type": "markdown",
   "metadata": {
    "papermill": {
     "duration": 0.080011,
     "end_time": "2020-12-09T11:32:43.181436",
     "exception": false,
     "start_time": "2020-12-09T11:32:43.101425",
     "status": "completed"
    },
    "tags": []
   },
   "source": [
    "Значимость признаков явно не соответствует реалиям рынка.\n",
    "Модель будет переделана, в случае недостаточной точности прогнозирования."
   ]
  },
  {
   "cell_type": "markdown",
   "metadata": {
    "papermill": {
     "duration": 0.07755,
     "end_time": "2020-12-09T11:32:43.336455",
     "exception": false,
     "start_time": "2020-12-09T11:32:43.258905",
     "status": "completed"
    },
    "tags": []
   },
   "source": [
    "# 8. Прогнозирование на тестовом датасете"
   ]
  },
  {
   "cell_type": "code",
   "execution_count": 55,
   "metadata": {
    "execution": {
     "iopub.execute_input": "2020-12-09T11:32:43.516143Z",
     "iopub.status.busy": "2020-12-09T11:32:43.515202Z",
     "iopub.status.idle": "2020-12-09T11:32:43.518832Z",
     "shell.execute_reply": "2020-12-09T11:32:43.519486Z"
    },
    "papermill": {
     "duration": 0.106334,
     "end_time": "2020-12-09T11:32:43.519627",
     "exception": false,
     "start_time": "2020-12-09T11:32:43.413293",
     "status": "completed"
    },
    "tags": []
   },
   "outputs": [
    {
     "data": {
      "text/html": [
       "<div>\n",
       "<style scoped>\n",
       "    .dataframe tbody tr th:only-of-type {\n",
       "        vertical-align: middle;\n",
       "    }\n",
       "\n",
       "    .dataframe tbody tr th {\n",
       "        vertical-align: top;\n",
       "    }\n",
       "\n",
       "    .dataframe thead th {\n",
       "        text-align: right;\n",
       "    }\n",
       "</style>\n",
       "<table border=\"1\" class=\"dataframe\">\n",
       "  <thead>\n",
       "    <tr style=\"text-align: right;\">\n",
       "      <th></th>\n",
       "      <th>Id</th>\n",
       "      <th>DistrictId</th>\n",
       "      <th>Rooms</th>\n",
       "      <th>Square</th>\n",
       "      <th>LifeSquare</th>\n",
       "      <th>KitchenSquare</th>\n",
       "      <th>Floor</th>\n",
       "      <th>HouseFloor</th>\n",
       "      <th>HouseYear</th>\n",
       "      <th>Ecology_1</th>\n",
       "      <th>...</th>\n",
       "      <th>Social_2</th>\n",
       "      <th>Social_3</th>\n",
       "      <th>Helthcare_2</th>\n",
       "      <th>Shops_1</th>\n",
       "      <th>Shops_2</th>\n",
       "      <th>Rooms_outlier</th>\n",
       "      <th>KithcenSquare_outlier</th>\n",
       "      <th>HouseFloor_outlier</th>\n",
       "      <th>HouseYear_outlier</th>\n",
       "      <th>LifeSquare_nan</th>\n",
       "    </tr>\n",
       "  </thead>\n",
       "  <tbody>\n",
       "    <tr>\n",
       "      <th>0</th>\n",
       "      <td>725</td>\n",
       "      <td>58</td>\n",
       "      <td>2.0</td>\n",
       "      <td>49.882643</td>\n",
       "      <td>33.432782</td>\n",
       "      <td>6.0</td>\n",
       "      <td>6</td>\n",
       "      <td>14.0</td>\n",
       "      <td>1972</td>\n",
       "      <td>0.310199</td>\n",
       "      <td>...</td>\n",
       "      <td>2748</td>\n",
       "      <td>1</td>\n",
       "      <td>0</td>\n",
       "      <td>0</td>\n",
       "      <td>1</td>\n",
       "      <td>0</td>\n",
       "      <td>0</td>\n",
       "      <td>0</td>\n",
       "      <td>0</td>\n",
       "      <td>0</td>\n",
       "    </tr>\n",
       "    <tr>\n",
       "      <th>1</th>\n",
       "      <td>15856</td>\n",
       "      <td>74</td>\n",
       "      <td>2.0</td>\n",
       "      <td>69.263183</td>\n",
       "      <td>65.263183</td>\n",
       "      <td>1.0</td>\n",
       "      <td>1</td>\n",
       "      <td>1.0</td>\n",
       "      <td>1977</td>\n",
       "      <td>0.075779</td>\n",
       "      <td>...</td>\n",
       "      <td>1437</td>\n",
       "      <td>3</td>\n",
       "      <td>0</td>\n",
       "      <td>2</td>\n",
       "      <td>1</td>\n",
       "      <td>0</td>\n",
       "      <td>0</td>\n",
       "      <td>1</td>\n",
       "      <td>0</td>\n",
       "      <td>1</td>\n",
       "    </tr>\n",
       "    <tr>\n",
       "      <th>2</th>\n",
       "      <td>5480</td>\n",
       "      <td>190</td>\n",
       "      <td>1.0</td>\n",
       "      <td>13.597819</td>\n",
       "      <td>6.517224</td>\n",
       "      <td>12.0</td>\n",
       "      <td>2</td>\n",
       "      <td>5.0</td>\n",
       "      <td>1909</td>\n",
       "      <td>0.000000</td>\n",
       "      <td>...</td>\n",
       "      <td>7538</td>\n",
       "      <td>87</td>\n",
       "      <td>5</td>\n",
       "      <td>5</td>\n",
       "      <td>1</td>\n",
       "      <td>0</td>\n",
       "      <td>0</td>\n",
       "      <td>0</td>\n",
       "      <td>0</td>\n",
       "      <td>0</td>\n",
       "    </tr>\n",
       "    <tr>\n",
       "      <th>3</th>\n",
       "      <td>15664</td>\n",
       "      <td>47</td>\n",
       "      <td>2.0</td>\n",
       "      <td>73.046609</td>\n",
       "      <td>51.940842</td>\n",
       "      <td>9.0</td>\n",
       "      <td>22</td>\n",
       "      <td>22.0</td>\n",
       "      <td>2007</td>\n",
       "      <td>0.101872</td>\n",
       "      <td>...</td>\n",
       "      <td>4583</td>\n",
       "      <td>3</td>\n",
       "      <td>3</td>\n",
       "      <td>3</td>\n",
       "      <td>1</td>\n",
       "      <td>0</td>\n",
       "      <td>0</td>\n",
       "      <td>0</td>\n",
       "      <td>0</td>\n",
       "      <td>0</td>\n",
       "    </tr>\n",
       "    <tr>\n",
       "      <th>4</th>\n",
       "      <td>14275</td>\n",
       "      <td>27</td>\n",
       "      <td>1.0</td>\n",
       "      <td>47.527111</td>\n",
       "      <td>43.387569</td>\n",
       "      <td>1.0</td>\n",
       "      <td>17</td>\n",
       "      <td>17.0</td>\n",
       "      <td>2017</td>\n",
       "      <td>0.072158</td>\n",
       "      <td>...</td>\n",
       "      <td>629</td>\n",
       "      <td>1</td>\n",
       "      <td>0</td>\n",
       "      <td>0</td>\n",
       "      <td>0</td>\n",
       "      <td>0</td>\n",
       "      <td>0</td>\n",
       "      <td>0</td>\n",
       "      <td>0</td>\n",
       "      <td>0</td>\n",
       "    </tr>\n",
       "  </tbody>\n",
       "</table>\n",
       "<p>5 rows × 23 columns</p>\n",
       "</div>"
      ],
      "text/plain": [
       "      Id  DistrictId  Rooms     Square  LifeSquare  KitchenSquare  Floor  \\\n",
       "0    725          58    2.0  49.882643   33.432782            6.0      6   \n",
       "1  15856          74    2.0  69.263183   65.263183            1.0      1   \n",
       "2   5480         190    1.0  13.597819    6.517224           12.0      2   \n",
       "3  15664          47    2.0  73.046609   51.940842            9.0     22   \n",
       "4  14275          27    1.0  47.527111   43.387569            1.0     17   \n",
       "\n",
       "   HouseFloor  HouseYear  Ecology_1  ...  Social_2  Social_3  Helthcare_2  \\\n",
       "0        14.0       1972   0.310199  ...      2748         1            0   \n",
       "1         1.0       1977   0.075779  ...      1437         3            0   \n",
       "2         5.0       1909   0.000000  ...      7538        87            5   \n",
       "3        22.0       2007   0.101872  ...      4583         3            3   \n",
       "4        17.0       2017   0.072158  ...       629         1            0   \n",
       "\n",
       "   Shops_1  Shops_2  Rooms_outlier  KithcenSquare_outlier  HouseFloor_outlier  \\\n",
       "0        0        1              0                      0                   0   \n",
       "1        2        1              0                      0                   1   \n",
       "2        5        1              0                      0                   0   \n",
       "3        3        1              0                      0                   0   \n",
       "4        0        0              0                      0                   0   \n",
       "\n",
       "   HouseYear_outlier  LifeSquare_nan  \n",
       "0                  0               0  \n",
       "1                  0               1  \n",
       "2                  0               0  \n",
       "3                  0               0  \n",
       "4                  0               0  \n",
       "\n",
       "[5 rows x 23 columns]"
      ]
     },
     "execution_count": 55,
     "metadata": {},
     "output_type": "execute_result"
    }
   ],
   "source": [
    "X_test.head()"
   ]
  },
  {
   "cell_type": "code",
   "execution_count": 56,
   "metadata": {
    "execution": {
     "iopub.execute_input": "2020-12-09T11:32:43.679890Z",
     "iopub.status.busy": "2020-12-09T11:32:43.678870Z",
     "iopub.status.idle": "2020-12-09T11:32:43.700327Z",
     "shell.execute_reply": "2020-12-09T11:32:43.699694Z"
    },
    "papermill": {
     "duration": 0.102863,
     "end_time": "2020-12-09T11:32:43.700449",
     "exception": false,
     "start_time": "2020-12-09T11:32:43.597586",
     "status": "completed"
    },
    "tags": []
   },
   "outputs": [
    {
     "data": {
      "text/html": [
       "<div>\n",
       "<style scoped>\n",
       "    .dataframe tbody tr th:only-of-type {\n",
       "        vertical-align: middle;\n",
       "    }\n",
       "\n",
       "    .dataframe tbody tr th {\n",
       "        vertical-align: top;\n",
       "    }\n",
       "\n",
       "    .dataframe thead th {\n",
       "        text-align: right;\n",
       "    }\n",
       "</style>\n",
       "<table border=\"1\" class=\"dataframe\">\n",
       "  <thead>\n",
       "    <tr style=\"text-align: right;\">\n",
       "      <th></th>\n",
       "      <th>Id</th>\n",
       "      <th>Price</th>\n",
       "    </tr>\n",
       "  </thead>\n",
       "  <tbody>\n",
       "    <tr>\n",
       "      <th>0</th>\n",
       "      <td>725</td>\n",
       "      <td>200000.0</td>\n",
       "    </tr>\n",
       "    <tr>\n",
       "      <th>1</th>\n",
       "      <td>15856</td>\n",
       "      <td>200000.0</td>\n",
       "    </tr>\n",
       "    <tr>\n",
       "      <th>2</th>\n",
       "      <td>5480</td>\n",
       "      <td>200000.0</td>\n",
       "    </tr>\n",
       "    <tr>\n",
       "      <th>3</th>\n",
       "      <td>15664</td>\n",
       "      <td>200000.0</td>\n",
       "    </tr>\n",
       "    <tr>\n",
       "      <th>4</th>\n",
       "      <td>14275</td>\n",
       "      <td>200000.0</td>\n",
       "    </tr>\n",
       "  </tbody>\n",
       "</table>\n",
       "</div>"
      ],
      "text/plain": [
       "      Id     Price\n",
       "0    725  200000.0\n",
       "1  15856  200000.0\n",
       "2   5480  200000.0\n",
       "3  15664  200000.0\n",
       "4  14275  200000.0"
      ]
     },
     "execution_count": 56,
     "metadata": {},
     "output_type": "execute_result"
    }
   ],
   "source": [
    "submit = pd.read_csv('/kaggle/input/realestatepriceprediction/sample_submission.csv')\n",
    "submit.head()"
   ]
  },
  {
   "cell_type": "code",
   "execution_count": 57,
   "metadata": {
    "execution": {
     "iopub.execute_input": "2020-12-09T11:32:43.864767Z",
     "iopub.status.busy": "2020-12-09T11:32:43.864013Z",
     "iopub.status.idle": "2020-12-09T11:32:44.002438Z",
     "shell.execute_reply": "2020-12-09T11:32:44.001868Z"
    },
    "papermill": {
     "duration": 0.223722,
     "end_time": "2020-12-09T11:32:44.002562",
     "exception": false,
     "start_time": "2020-12-09T11:32:43.778840",
     "status": "completed"
    },
    "tags": []
   },
   "outputs": [
    {
     "data": {
      "text/plain": [
       "array([162223.03443185, 220309.09446881, 196305.34640604, ...,\n",
       "       303882.24488174, 190138.01239672, 181937.54782396])"
      ]
     },
     "execution_count": 57,
     "metadata": {},
     "output_type": "execute_result"
    }
   ],
   "source": [
    "predictions = rf_model.predict(X_test)\n",
    "predictions"
   ]
  },
  {
   "cell_type": "code",
   "execution_count": 58,
   "metadata": {
    "execution": {
     "iopub.execute_input": "2020-12-09T11:32:44.174658Z",
     "iopub.status.busy": "2020-12-09T11:32:44.173962Z",
     "iopub.status.idle": "2020-12-09T11:32:44.179427Z",
     "shell.execute_reply": "2020-12-09T11:32:44.178855Z"
    },
    "papermill": {
     "duration": 0.095538,
     "end_time": "2020-12-09T11:32:44.179554",
     "exception": false,
     "start_time": "2020-12-09T11:32:44.084016",
     "status": "completed"
    },
    "tags": []
   },
   "outputs": [
    {
     "data": {
      "text/html": [
       "<div>\n",
       "<style scoped>\n",
       "    .dataframe tbody tr th:only-of-type {\n",
       "        vertical-align: middle;\n",
       "    }\n",
       "\n",
       "    .dataframe tbody tr th {\n",
       "        vertical-align: top;\n",
       "    }\n",
       "\n",
       "    .dataframe thead th {\n",
       "        text-align: right;\n",
       "    }\n",
       "</style>\n",
       "<table border=\"1\" class=\"dataframe\">\n",
       "  <thead>\n",
       "    <tr style=\"text-align: right;\">\n",
       "      <th></th>\n",
       "      <th>Id</th>\n",
       "      <th>Price</th>\n",
       "    </tr>\n",
       "  </thead>\n",
       "  <tbody>\n",
       "    <tr>\n",
       "      <th>0</th>\n",
       "      <td>725</td>\n",
       "      <td>162223.034432</td>\n",
       "    </tr>\n",
       "    <tr>\n",
       "      <th>1</th>\n",
       "      <td>15856</td>\n",
       "      <td>220309.094469</td>\n",
       "    </tr>\n",
       "    <tr>\n",
       "      <th>2</th>\n",
       "      <td>5480</td>\n",
       "      <td>196305.346406</td>\n",
       "    </tr>\n",
       "    <tr>\n",
       "      <th>3</th>\n",
       "      <td>15664</td>\n",
       "      <td>356726.098501</td>\n",
       "    </tr>\n",
       "    <tr>\n",
       "      <th>4</th>\n",
       "      <td>14275</td>\n",
       "      <td>139129.847532</td>\n",
       "    </tr>\n",
       "  </tbody>\n",
       "</table>\n",
       "</div>"
      ],
      "text/plain": [
       "      Id          Price\n",
       "0    725  162223.034432\n",
       "1  15856  220309.094469\n",
       "2   5480  196305.346406\n",
       "3  15664  356726.098501\n",
       "4  14275  139129.847532"
      ]
     },
     "execution_count": 58,
     "metadata": {},
     "output_type": "execute_result"
    }
   ],
   "source": [
    "submit['Price'] = predictions\n",
    "submit.head()"
   ]
  },
  {
   "cell_type": "code",
   "execution_count": 59,
   "metadata": {
    "execution": {
     "iopub.execute_input": "2020-12-09T11:32:44.344474Z",
     "iopub.status.busy": "2020-12-09T11:32:44.343795Z",
     "iopub.status.idle": "2020-12-09T11:32:44.647330Z",
     "shell.execute_reply": "2020-12-09T11:32:44.646727Z"
    },
    "papermill": {
     "duration": 0.388052,
     "end_time": "2020-12-09T11:32:44.647447",
     "exception": false,
     "start_time": "2020-12-09T11:32:44.259395",
     "status": "completed"
    },
    "tags": []
   },
   "outputs": [],
   "source": [
    "submit.to_csv('rf_submit.csv', index=False)"
   ]
  }
 ],
 "metadata": {
  "kernelspec": {
   "display_name": "Python 3",
   "language": "python",
   "name": "python3"
  },
  "language_info": {
   "codemirror_mode": {
    "name": "ipython",
    "version": 3
   },
   "file_extension": ".py",
   "mimetype": "text/x-python",
   "name": "python",
   "nbconvert_exporter": "python",
   "pygments_lexer": "ipython3",
   "version": "3.7.6"
  },
  "papermill": {
   "duration": 38.894169,
   "end_time": "2020-12-09T11:32:44.838897",
   "environment_variables": {},
   "exception": null,
   "input_path": "__notebook__.ipynb",
   "output_path": "__notebook__.ipynb",
   "parameters": {},
   "start_time": "2020-12-09T11:32:05.944728",
   "version": "2.1.0"
  }
 },
 "nbformat": 4,
 "nbformat_minor": 4
}
