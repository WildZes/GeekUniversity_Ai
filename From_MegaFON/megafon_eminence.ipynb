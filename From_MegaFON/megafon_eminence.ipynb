{
 "cells": [
  {
   "cell_type": "code",
   "execution_count": null,
   "metadata": {
    "colab": {
     "base_uri": "https://localhost:8080/",
     "height": 1000
    },
    "id": "Q7PsB0D_TBfS",
    "outputId": "b23bfba5-cf13-486c-d763-8fe3b6e49b3d"
   },
   "outputs": [
    {
     "name": "stdout",
     "output_type": "stream",
     "text": [
      "Collecting lightautoml\n",
      "  Downloading LightAutoML-0.3.2-py3-none-any.whl (294 kB)\n",
      "\u001b[K     |████████████████████████████████| 294 kB 5.0 MB/s \n",
      "\u001b[?25hCollecting dataclasses==0.6\n",
      "  Downloading dataclasses-0.6-py3-none-any.whl (14 kB)\n",
      "Requirement already satisfied: pandas>=1 in /usr/local/lib/python3.7/dist-packages (from lightautoml) (1.1.5)\n",
      "Collecting numpy>=1.20.0\n",
      "  Downloading numpy-1.21.4-cp37-cp37m-manylinux_2_12_x86_64.manylinux2010_x86_64.whl (15.7 MB)\n",
      "\u001b[K     |████████████████████████████████| 15.7 MB 35.6 MB/s \n",
      "\u001b[?25hCollecting catboost\n",
      "  Downloading catboost-1.0.3-cp37-none-manylinux1_x86_64.whl (76.3 MB)\n",
      "\u001b[K     |████████████████████████████████| 76.3 MB 1.2 MB/s \n",
      "\u001b[?25hCollecting lightgbm<3.0,>=2.3\n",
      "  Downloading lightgbm-2.3.1-py2.py3-none-manylinux1_x86_64.whl (1.2 MB)\n",
      "\u001b[K     |████████████████████████████████| 1.2 MB 39.5 MB/s \n",
      "\u001b[?25hRequirement already satisfied: pyyaml in /usr/local/lib/python3.7/dist-packages (from lightautoml) (3.13)\n",
      "Requirement already satisfied: seaborn in /usr/local/lib/python3.7/dist-packages (from lightautoml) (0.11.2)\n",
      "Collecting torch<1.9\n",
      "  Downloading torch-1.8.1-cp37-cp37m-manylinux1_x86_64.whl (804.1 MB)\n",
      "\u001b[K     |████████████████████████████████| 804.1 MB 2.5 kB/s \n",
      "\u001b[?25hCollecting cmaes\n",
      "  Downloading cmaes-0.8.2-py3-none-any.whl (15 kB)\n",
      "Collecting optuna\n",
      "  Downloading optuna-2.10.0-py3-none-any.whl (308 kB)\n",
      "\u001b[K     |████████████████████████████████| 308 kB 53.2 MB/s \n",
      "\u001b[?25hRequirement already satisfied: scikit-learn>=0.22 in /usr/local/lib/python3.7/dist-packages (from lightautoml) (1.0.1)\n",
      "Requirement already satisfied: scipy in /usr/local/lib/python3.7/dist-packages (from lightautoml) (1.4.1)\n",
      "Collecting json2html\n",
      "  Downloading json2html-1.3.0.tar.gz (7.0 kB)\n",
      "Requirement already satisfied: tqdm in /usr/local/lib/python3.7/dist-packages (from lightautoml) (4.62.3)\n",
      "Requirement already satisfied: jinja2 in /usr/local/lib/python3.7/dist-packages (from lightautoml) (2.11.3)\n",
      "Requirement already satisfied: torchvision in /usr/local/lib/python3.7/dist-packages (from lightautoml) (0.11.1+cu111)\n",
      "Collecting poetry-core<2.0.0,>=1.0.0\n",
      "  Downloading poetry_core-1.0.7-py2.py3-none-any.whl (424 kB)\n",
      "\u001b[K     |████████████████████████████████| 424 kB 49.2 MB/s \n",
      "\u001b[?25hCollecting autowoe>=1.2\n",
      "  Downloading AutoWoE-1.2.5-py3-none-any.whl (204 kB)\n",
      "\u001b[K     |████████████████████████████████| 204 kB 51.5 MB/s \n",
      "\u001b[?25hCollecting importlib-metadata<2.0,>=1.0\n",
      "  Downloading importlib_metadata-1.7.0-py2.py3-none-any.whl (31 kB)\n",
      "Requirement already satisfied: joblib in /usr/local/lib/python3.7/dist-packages (from lightautoml) (1.1.0)\n",
      "Requirement already satisfied: holidays in /usr/local/lib/python3.7/dist-packages (from lightautoml) (0.10.5.2)\n",
      "Requirement already satisfied: networkx in /usr/local/lib/python3.7/dist-packages (from lightautoml) (2.6.3)\n",
      "Collecting sphinx-rtd-theme\n",
      "  Downloading sphinx_rtd_theme-1.0.0-py2.py3-none-any.whl (2.8 MB)\n",
      "\u001b[K     |████████████████████████████████| 2.8 MB 27.6 MB/s \n",
      "\u001b[?25hRequirement already satisfied: pytz in /usr/local/lib/python3.7/dist-packages (from autowoe>=1.2->lightautoml) (2018.9)\n",
      "Requirement already satisfied: matplotlib in /usr/local/lib/python3.7/dist-packages (from autowoe>=1.2->lightautoml) (3.2.2)\n",
      "Requirement already satisfied: pytest in /usr/local/lib/python3.7/dist-packages (from autowoe>=1.2->lightautoml) (3.6.4)\n",
      "Requirement already satisfied: sphinx in /usr/local/lib/python3.7/dist-packages (from autowoe>=1.2->lightautoml) (1.8.6)\n",
      "Requirement already satisfied: zipp>=0.5 in /usr/local/lib/python3.7/dist-packages (from importlib-metadata<2.0,>=1.0->lightautoml) (3.6.0)\n",
      "Requirement already satisfied: python-dateutil>=2.7.3 in /usr/local/lib/python3.7/dist-packages (from pandas>=1->lightautoml) (2.8.2)\n",
      "Requirement already satisfied: six>=1.5 in /usr/local/lib/python3.7/dist-packages (from python-dateutil>=2.7.3->pandas>=1->lightautoml) (1.15.0)\n",
      "Requirement already satisfied: threadpoolctl>=2.0.0 in /usr/local/lib/python3.7/dist-packages (from scikit-learn>=0.22->lightautoml) (3.0.0)\n",
      "Requirement already satisfied: typing-extensions in /usr/local/lib/python3.7/dist-packages (from torch<1.9->lightautoml) (3.10.0.2)\n",
      "Requirement already satisfied: plotly in /usr/local/lib/python3.7/dist-packages (from catboost->lightautoml) (4.4.1)\n",
      "Requirement already satisfied: graphviz in /usr/local/lib/python3.7/dist-packages (from catboost->lightautoml) (0.10.1)\n",
      "Requirement already satisfied: korean-lunar-calendar in /usr/local/lib/python3.7/dist-packages (from holidays->lightautoml) (0.2.1)\n",
      "Requirement already satisfied: convertdate>=2.3.0 in /usr/local/lib/python3.7/dist-packages (from holidays->lightautoml) (2.3.2)\n",
      "Requirement already satisfied: hijri-converter in /usr/local/lib/python3.7/dist-packages (from holidays->lightautoml) (2.2.2)\n",
      "Requirement already satisfied: pymeeus<=1,>=0.3.13 in /usr/local/lib/python3.7/dist-packages (from convertdate>=2.3.0->holidays->lightautoml) (0.5.11)\n",
      "Requirement already satisfied: MarkupSafe>=0.23 in /usr/local/lib/python3.7/dist-packages (from jinja2->lightautoml) (2.0.1)\n",
      "Requirement already satisfied: kiwisolver>=1.0.1 in /usr/local/lib/python3.7/dist-packages (from matplotlib->autowoe>=1.2->lightautoml) (1.3.2)\n",
      "Requirement already satisfied: cycler>=0.10 in /usr/local/lib/python3.7/dist-packages (from matplotlib->autowoe>=1.2->lightautoml) (0.11.0)\n",
      "Requirement already satisfied: pyparsing!=2.0.4,!=2.1.2,!=2.1.6,>=2.0.1 in /usr/local/lib/python3.7/dist-packages (from matplotlib->autowoe>=1.2->lightautoml) (3.0.6)\n",
      "Requirement already satisfied: packaging>=20.0 in /usr/local/lib/python3.7/dist-packages (from optuna->lightautoml) (21.3)\n",
      "Requirement already satisfied: sqlalchemy>=1.1.0 in /usr/local/lib/python3.7/dist-packages (from optuna->lightautoml) (1.4.27)\n",
      "Collecting alembic\n",
      "  Downloading alembic-1.7.5-py3-none-any.whl (209 kB)\n",
      "\u001b[K     |████████████████████████████████| 209 kB 60.0 MB/s \n",
      "\u001b[?25hCollecting cliff\n",
      "  Downloading cliff-3.10.0-py3-none-any.whl (80 kB)\n",
      "\u001b[K     |████████████████████████████████| 80 kB 8.8 MB/s \n",
      "\u001b[?25hCollecting colorlog\n",
      "  Downloading colorlog-6.6.0-py2.py3-none-any.whl (11 kB)\n",
      "Requirement already satisfied: greenlet!=0.4.17 in /usr/local/lib/python3.7/dist-packages (from sqlalchemy>=1.1.0->optuna->lightautoml) (1.1.2)\n",
      "Collecting Mako\n",
      "  Downloading Mako-1.1.6-py2.py3-none-any.whl (75 kB)\n",
      "\u001b[K     |████████████████████████████████| 75 kB 3.6 MB/s \n",
      "\u001b[?25hRequirement already satisfied: importlib-resources in /usr/local/lib/python3.7/dist-packages (from alembic->optuna->lightautoml) (5.4.0)\n",
      "Collecting pbr!=2.1.0,>=2.0.0\n",
      "  Downloading pbr-5.8.0-py2.py3-none-any.whl (112 kB)\n",
      "\u001b[K     |████████████████████████████████| 112 kB 51.7 MB/s \n",
      "\u001b[?25hCollecting autopage>=0.4.0\n",
      "  Downloading autopage-0.4.0-py3-none-any.whl (20 kB)\n",
      "Collecting cmd2>=1.0.0\n",
      "  Downloading cmd2-2.3.3-py3-none-any.whl (149 kB)\n",
      "\u001b[K     |████████████████████████████████| 149 kB 64.1 MB/s \n",
      "\u001b[?25hCollecting stevedore>=2.0.1\n",
      "  Downloading stevedore-3.5.0-py3-none-any.whl (49 kB)\n",
      "\u001b[K     |████████████████████████████████| 49 kB 5.8 MB/s \n",
      "\u001b[?25hRequirement already satisfied: PrettyTable>=0.7.2 in /usr/local/lib/python3.7/dist-packages (from cliff->optuna->lightautoml) (2.4.0)\n",
      "Requirement already satisfied: attrs>=16.3.0 in /usr/local/lib/python3.7/dist-packages (from cmd2>=1.0.0->cliff->optuna->lightautoml) (21.2.0)\n",
      "Requirement already satisfied: wcwidth>=0.1.7 in /usr/local/lib/python3.7/dist-packages (from cmd2>=1.0.0->cliff->optuna->lightautoml) (0.2.5)\n",
      "Collecting pyperclip>=1.6\n",
      "  Downloading pyperclip-1.8.2.tar.gz (20 kB)\n",
      "Requirement already satisfied: retrying>=1.3.3 in /usr/local/lib/python3.7/dist-packages (from plotly->catboost->lightautoml) (1.3.3)\n",
      "Requirement already satisfied: setuptools in /usr/local/lib/python3.7/dist-packages (from pytest->autowoe>=1.2->lightautoml) (57.4.0)\n",
      "Requirement already satisfied: more-itertools>=4.0.0 in /usr/local/lib/python3.7/dist-packages (from pytest->autowoe>=1.2->lightautoml) (8.12.0)\n",
      "Requirement already satisfied: atomicwrites>=1.0 in /usr/local/lib/python3.7/dist-packages (from pytest->autowoe>=1.2->lightautoml) (1.4.0)\n",
      "Requirement already satisfied: pluggy<0.8,>=0.5 in /usr/local/lib/python3.7/dist-packages (from pytest->autowoe>=1.2->lightautoml) (0.7.1)\n",
      "Requirement already satisfied: py>=1.5.0 in /usr/local/lib/python3.7/dist-packages (from pytest->autowoe>=1.2->lightautoml) (1.11.0)\n",
      "Requirement already satisfied: sphinxcontrib-websupport in /usr/local/lib/python3.7/dist-packages (from sphinx->autowoe>=1.2->lightautoml) (1.2.4)\n",
      "Requirement already satisfied: snowballstemmer>=1.1 in /usr/local/lib/python3.7/dist-packages (from sphinx->autowoe>=1.2->lightautoml) (2.2.0)\n",
      "Requirement already satisfied: imagesize in /usr/local/lib/python3.7/dist-packages (from sphinx->autowoe>=1.2->lightautoml) (1.3.0)\n",
      "Requirement already satisfied: Pygments>=2.0 in /usr/local/lib/python3.7/dist-packages (from sphinx->autowoe>=1.2->lightautoml) (2.6.1)\n",
      "Requirement already satisfied: docutils<0.18,>=0.11 in /usr/local/lib/python3.7/dist-packages (from sphinx->autowoe>=1.2->lightautoml) (0.17.1)\n",
      "Requirement already satisfied: alabaster<0.8,>=0.7 in /usr/local/lib/python3.7/dist-packages (from sphinx->autowoe>=1.2->lightautoml) (0.7.12)\n",
      "Requirement already satisfied: babel!=2.0,>=1.3 in /usr/local/lib/python3.7/dist-packages (from sphinx->autowoe>=1.2->lightautoml) (2.9.1)\n",
      "Requirement already satisfied: requests>=2.0.0 in /usr/local/lib/python3.7/dist-packages (from sphinx->autowoe>=1.2->lightautoml) (2.23.0)\n",
      "Requirement already satisfied: certifi>=2017.4.17 in /usr/local/lib/python3.7/dist-packages (from requests>=2.0.0->sphinx->autowoe>=1.2->lightautoml) (2021.10.8)\n",
      "Requirement already satisfied: chardet<4,>=3.0.2 in /usr/local/lib/python3.7/dist-packages (from requests>=2.0.0->sphinx->autowoe>=1.2->lightautoml) (3.0.4)\n",
      "Requirement already satisfied: idna<3,>=2.5 in /usr/local/lib/python3.7/dist-packages (from requests>=2.0.0->sphinx->autowoe>=1.2->lightautoml) (2.10)\n",
      "Requirement already satisfied: urllib3!=1.25.0,!=1.25.1,<1.26,>=1.21.1 in /usr/local/lib/python3.7/dist-packages (from requests>=2.0.0->sphinx->autowoe>=1.2->lightautoml) (1.24.3)\n",
      "Requirement already satisfied: sphinxcontrib-serializinghtml in /usr/local/lib/python3.7/dist-packages (from sphinxcontrib-websupport->sphinx->autowoe>=1.2->lightautoml) (1.1.5)\n",
      "Requirement already satisfied: pillow!=8.3.0,>=5.3.0 in /usr/local/lib/python3.7/dist-packages (from torchvision->lightautoml) (7.1.2)\n",
      "Collecting torchvision\n",
      "  Downloading torchvision-0.11.1-cp37-cp37m-manylinux1_x86_64.whl (23.3 MB)\n",
      "\u001b[K     |████████████████████████████████| 23.3 MB 1.4 MB/s \n",
      "\u001b[?25h  Downloading torchvision-0.10.1-cp37-cp37m-manylinux1_x86_64.whl (22.1 MB)\n",
      "\u001b[K     |████████████████████████████████| 22.1 MB 78.9 MB/s \n",
      "\u001b[?25h  Downloading torchvision-0.10.0-cp37-cp37m-manylinux1_x86_64.whl (22.1 MB)\n",
      "\u001b[K     |████████████████████████████████| 22.1 MB 55.2 MB/s \n",
      "\u001b[?25h  Downloading torchvision-0.9.1-cp37-cp37m-manylinux1_x86_64.whl (17.4 MB)\n",
      "\u001b[K     |████████████████████████████████| 17.4 MB 79.6 MB/s \n",
      "\u001b[?25hBuilding wheels for collected packages: json2html, pyperclip\n",
      "  Building wheel for json2html (setup.py) ... \u001b[?25l\u001b[?25hdone\n",
      "  Created wheel for json2html: filename=json2html-1.3.0-py3-none-any.whl size=7609 sha256=ee913c6e80552492cdbb33222a3af27eb92183f2fc5faae1841b948675cdfbe2\n",
      "  Stored in directory: /root/.cache/pip/wheels/e5/99/37/e1839a5ad733e0d6abb7e0419fd913e8926ddf96408239ce01\n",
      "  Building wheel for pyperclip (setup.py) ... \u001b[?25l\u001b[?25hdone\n",
      "  Created wheel for pyperclip: filename=pyperclip-1.8.2-py3-none-any.whl size=11136 sha256=2e447e682406096867e95afa2321dab573fae91ad37e3304e68589aec5e68921\n",
      "  Stored in directory: /root/.cache/pip/wheels/9f/18/84/8f69f8b08169c7bae2dde6bd7daf0c19fca8c8e500ee620a28\n",
      "Successfully built json2html pyperclip\n",
      "Installing collected packages: numpy, pyperclip, pbr, importlib-metadata, stevedore, Mako, cmd2, autopage, torch, sphinx-rtd-theme, lightgbm, colorlog, cmaes, cliff, alembic, torchvision, poetry-core, optuna, json2html, dataclasses, catboost, autowoe, lightautoml\n",
      "  Attempting uninstall: numpy\n",
      "    Found existing installation: numpy 1.19.5\n",
      "    Uninstalling numpy-1.19.5:\n",
      "      Successfully uninstalled numpy-1.19.5\n",
      "  Attempting uninstall: importlib-metadata\n",
      "    Found existing installation: importlib-metadata 4.8.2\n",
      "    Uninstalling importlib-metadata-4.8.2:\n",
      "      Successfully uninstalled importlib-metadata-4.8.2\n",
      "  Attempting uninstall: torch\n",
      "    Found existing installation: torch 1.10.0+cu111\n",
      "    Uninstalling torch-1.10.0+cu111:\n",
      "      Successfully uninstalled torch-1.10.0+cu111\n",
      "  Attempting uninstall: lightgbm\n",
      "    Found existing installation: lightgbm 2.2.3\n",
      "    Uninstalling lightgbm-2.2.3:\n",
      "      Successfully uninstalled lightgbm-2.2.3\n",
      "  Attempting uninstall: torchvision\n",
      "    Found existing installation: torchvision 0.11.1+cu111\n",
      "    Uninstalling torchvision-0.11.1+cu111:\n",
      "      Successfully uninstalled torchvision-0.11.1+cu111\n",
      "\u001b[31mERROR: pip's dependency resolver does not currently take into account all the packages that are installed. This behaviour is the source of the following dependency conflicts.\n",
      "yellowbrick 1.3.post1 requires numpy<1.20,>=1.16.0, but you have numpy 1.21.4 which is incompatible.\n",
      "torchtext 0.11.0 requires torch==1.10.0, but you have torch 1.8.1 which is incompatible.\n",
      "torchaudio 0.10.0+cu111 requires torch==1.10.0, but you have torch 1.8.1 which is incompatible.\n",
      "markdown 3.3.6 requires importlib-metadata>=4.4; python_version < \"3.10\", but you have importlib-metadata 1.7.0 which is incompatible.\n",
      "datascience 0.10.6 requires folium==0.2.1, but you have folium 0.8.3 which is incompatible.\n",
      "albumentations 0.1.12 requires imgaug<0.2.7,>=0.2.5, but you have imgaug 0.2.9 which is incompatible.\u001b[0m\n",
      "Successfully installed Mako-1.1.6 alembic-1.7.5 autopage-0.4.0 autowoe-1.2.5 catboost-1.0.3 cliff-3.10.0 cmaes-0.8.2 cmd2-2.3.3 colorlog-6.6.0 dataclasses-0.6 importlib-metadata-1.7.0 json2html-1.3.0 lightautoml-0.3.2 lightgbm-2.3.1 numpy-1.21.4 optuna-2.10.0 pbr-5.8.0 poetry-core-1.0.7 pyperclip-1.8.2 sphinx-rtd-theme-1.0.0 stevedore-3.5.0 torch-1.8.1 torchvision-0.9.1\n"
     ]
    },
    {
     "data": {
      "application/vnd.colab-display-data+json": {
       "pip_warning": {
        "packages": [
         "dataclasses",
         "importlib_metadata",
         "numpy"
        ]
       }
      }
     },
     "metadata": {},
     "output_type": "display_data"
    }
   ],
   "source": [
    "#!python -m pip install dask[dataframe]\n",
    "#!pip install lightautoml"
   ]
  },
  {
   "cell_type": "code",
   "execution_count": 57,
   "metadata": {
    "id": "HKdRFAX-vggQ"
   },
   "outputs": [],
   "source": [
    "import pandas as pd\n",
    "from io import StringIO, BytesIO, TextIOWrapper\n",
    "import requests\n",
    "from zipfile import ZipFile\n",
    "import urllib\n",
    "import matplotlib.pyplot as plt\n",
    "%matplotlib inline\n",
    "import seaborn as sns\n",
    "import os\n",
    "from datetime import date\n",
    "from dask import dataframe as ddf\n",
    "from dask import array as da\n",
    "import numpy as np\n",
    "import pickle\n",
    "from lightautoml.tasks import Task\n",
    "from sklearn.metrics import accuracy_score, f1_score, auc\n",
    "from lightautoml.automl.presets.tabular_presets import TabularAutoML, TabularUtilizedAutoML\n",
    "import xgboost as xgb\n",
    "from sklearn.model_selection import train_test_split, KFold"
   ]
  },
  {
   "cell_type": "code",
   "execution_count": null,
   "metadata": {
    "id": "BWmQk6C9v980"
   },
   "outputs": [],
   "source": [
    "os_cpu = os.cpu_count()"
   ]
  },
  {
   "cell_type": "code",
   "execution_count": null,
   "metadata": {
    "colab": {
     "base_uri": "https://localhost:8080/",
     "height": 408
    },
    "id": "nR_igjfEryAI",
    "outputId": "61cabb7a-3c8f-41cb-a009-247f781cac34"
   },
   "outputs": [
    {
     "data": {
      "text/html": [
       "<div>\n",
       "<style scoped>\n",
       "    .dataframe tbody tr th:only-of-type {\n",
       "        vertical-align: middle;\n",
       "    }\n",
       "\n",
       "    .dataframe tbody tr th {\n",
       "        vertical-align: top;\n",
       "    }\n",
       "\n",
       "    .dataframe thead th {\n",
       "        text-align: right;\n",
       "    }\n",
       "</style>\n",
       "<table border=\"1\" class=\"dataframe\">\n",
       "  <thead>\n",
       "    <tr style=\"text-align: right;\">\n",
       "      <th></th>\n",
       "      <th>Unnamed: 0</th>\n",
       "      <th>id</th>\n",
       "      <th>vas_id</th>\n",
       "      <th>buy_time</th>\n",
       "      <th>target</th>\n",
       "    </tr>\n",
       "  </thead>\n",
       "  <tbody>\n",
       "    <tr>\n",
       "      <th>0</th>\n",
       "      <td>0</td>\n",
       "      <td>540968</td>\n",
       "      <td>8.0</td>\n",
       "      <td>1537131600</td>\n",
       "      <td>0.0</td>\n",
       "    </tr>\n",
       "    <tr>\n",
       "      <th>1</th>\n",
       "      <td>1</td>\n",
       "      <td>1454121</td>\n",
       "      <td>4.0</td>\n",
       "      <td>1531688400</td>\n",
       "      <td>0.0</td>\n",
       "    </tr>\n",
       "    <tr>\n",
       "      <th>2</th>\n",
       "      <td>2</td>\n",
       "      <td>2458816</td>\n",
       "      <td>1.0</td>\n",
       "      <td>1534107600</td>\n",
       "      <td>0.0</td>\n",
       "    </tr>\n",
       "    <tr>\n",
       "      <th>3</th>\n",
       "      <td>3</td>\n",
       "      <td>3535012</td>\n",
       "      <td>5.0</td>\n",
       "      <td>1535922000</td>\n",
       "      <td>0.0</td>\n",
       "    </tr>\n",
       "    <tr>\n",
       "      <th>4</th>\n",
       "      <td>4</td>\n",
       "      <td>1693214</td>\n",
       "      <td>1.0</td>\n",
       "      <td>1535922000</td>\n",
       "      <td>0.0</td>\n",
       "    </tr>\n",
       "    <tr>\n",
       "      <th>...</th>\n",
       "      <td>...</td>\n",
       "      <td>...</td>\n",
       "      <td>...</td>\n",
       "      <td>...</td>\n",
       "      <td>...</td>\n",
       "    </tr>\n",
       "    <tr>\n",
       "      <th>831648</th>\n",
       "      <td>831648</td>\n",
       "      <td>3812226</td>\n",
       "      <td>2.0</td>\n",
       "      <td>1546203600</td>\n",
       "      <td>0.0</td>\n",
       "    </tr>\n",
       "    <tr>\n",
       "      <th>831649</th>\n",
       "      <td>831649</td>\n",
       "      <td>2480469</td>\n",
       "      <td>2.0</td>\n",
       "      <td>1546203600</td>\n",
       "      <td>0.0</td>\n",
       "    </tr>\n",
       "    <tr>\n",
       "      <th>831650</th>\n",
       "      <td>831650</td>\n",
       "      <td>158236</td>\n",
       "      <td>2.0</td>\n",
       "      <td>1546203600</td>\n",
       "      <td>0.0</td>\n",
       "    </tr>\n",
       "    <tr>\n",
       "      <th>831651</th>\n",
       "      <td>831651</td>\n",
       "      <td>1825525</td>\n",
       "      <td>2.0</td>\n",
       "      <td>1546203600</td>\n",
       "      <td>0.0</td>\n",
       "    </tr>\n",
       "    <tr>\n",
       "      <th>831652</th>\n",
       "      <td>831652</td>\n",
       "      <td>3022610</td>\n",
       "      <td>2.0</td>\n",
       "      <td>1546203600</td>\n",
       "      <td>0.0</td>\n",
       "    </tr>\n",
       "  </tbody>\n",
       "</table>\n",
       "<p>831653 rows × 5 columns</p>\n",
       "</div>"
      ],
      "text/plain": [
       "        Unnamed: 0       id  vas_id    buy_time  target\n",
       "0                0   540968     8.0  1537131600     0.0\n",
       "1                1  1454121     4.0  1531688400     0.0\n",
       "2                2  2458816     1.0  1534107600     0.0\n",
       "3                3  3535012     5.0  1535922000     0.0\n",
       "4                4  1693214     1.0  1535922000     0.0\n",
       "...            ...      ...     ...         ...     ...\n",
       "831648      831648  3812226     2.0  1546203600     0.0\n",
       "831649      831649  2480469     2.0  1546203600     0.0\n",
       "831650      831650   158236     2.0  1546203600     0.0\n",
       "831651      831651  1825525     2.0  1546203600     0.0\n",
       "831652      831652  3022610     2.0  1546203600     0.0\n",
       "\n",
       "[831653 rows x 5 columns]"
      ]
     },
     "execution_count": 5,
     "metadata": {},
     "output_type": "execute_result"
    }
   ],
   "source": [
    "url = 'https://drive.google.com/file/d/1SoE3gMljG0I8bbke0Oi68GOHYiIszU6Y/view?usp=sharing'\n",
    "file_id = url.split('/')[-2]\n",
    "dwn_url = 'https://drive.google.com/uc?id=' + file_id\n",
    "train = pd.read_csv(dwn_url)\n",
    "train"
   ]
  },
  {
   "cell_type": "code",
   "execution_count": null,
   "metadata": {
    "colab": {
     "base_uri": "https://localhost:8080/",
     "height": 408
    },
    "id": "IzTLFF_ZvZ9D",
    "outputId": "73cc4994-79ba-43f6-9963-cb064d32b721"
   },
   "outputs": [
    {
     "data": {
      "text/html": [
       "<div>\n",
       "<style scoped>\n",
       "    .dataframe tbody tr th:only-of-type {\n",
       "        vertical-align: middle;\n",
       "    }\n",
       "\n",
       "    .dataframe tbody tr th {\n",
       "        vertical-align: top;\n",
       "    }\n",
       "\n",
       "    .dataframe thead th {\n",
       "        text-align: right;\n",
       "    }\n",
       "</style>\n",
       "<table border=\"1\" class=\"dataframe\">\n",
       "  <thead>\n",
       "    <tr style=\"text-align: right;\">\n",
       "      <th></th>\n",
       "      <th>Unnamed: 0</th>\n",
       "      <th>id</th>\n",
       "      <th>vas_id</th>\n",
       "      <th>buy_time</th>\n",
       "    </tr>\n",
       "  </thead>\n",
       "  <tbody>\n",
       "    <tr>\n",
       "      <th>0</th>\n",
       "      <td>0</td>\n",
       "      <td>3130519</td>\n",
       "      <td>2.0</td>\n",
       "      <td>1548018000</td>\n",
       "    </tr>\n",
       "    <tr>\n",
       "      <th>1</th>\n",
       "      <td>1</td>\n",
       "      <td>2000860</td>\n",
       "      <td>4.0</td>\n",
       "      <td>1548018000</td>\n",
       "    </tr>\n",
       "    <tr>\n",
       "      <th>2</th>\n",
       "      <td>2</td>\n",
       "      <td>1099444</td>\n",
       "      <td>2.0</td>\n",
       "      <td>1546808400</td>\n",
       "    </tr>\n",
       "    <tr>\n",
       "      <th>3</th>\n",
       "      <td>3</td>\n",
       "      <td>1343255</td>\n",
       "      <td>5.0</td>\n",
       "      <td>1547413200</td>\n",
       "    </tr>\n",
       "    <tr>\n",
       "      <th>4</th>\n",
       "      <td>4</td>\n",
       "      <td>1277040</td>\n",
       "      <td>2.0</td>\n",
       "      <td>1546808400</td>\n",
       "    </tr>\n",
       "    <tr>\n",
       "      <th>...</th>\n",
       "      <td>...</td>\n",
       "      <td>...</td>\n",
       "      <td>...</td>\n",
       "      <td>...</td>\n",
       "    </tr>\n",
       "    <tr>\n",
       "      <th>71226</th>\n",
       "      <td>71226</td>\n",
       "      <td>2502453</td>\n",
       "      <td>5.0</td>\n",
       "      <td>1548018000</td>\n",
       "    </tr>\n",
       "    <tr>\n",
       "      <th>71227</th>\n",
       "      <td>71227</td>\n",
       "      <td>1693213</td>\n",
       "      <td>2.0</td>\n",
       "      <td>1548018000</td>\n",
       "    </tr>\n",
       "    <tr>\n",
       "      <th>71228</th>\n",
       "      <td>71228</td>\n",
       "      <td>1891350</td>\n",
       "      <td>2.0</td>\n",
       "      <td>1548018000</td>\n",
       "    </tr>\n",
       "    <tr>\n",
       "      <th>71229</th>\n",
       "      <td>71229</td>\n",
       "      <td>2437172</td>\n",
       "      <td>2.0</td>\n",
       "      <td>1548018000</td>\n",
       "    </tr>\n",
       "    <tr>\n",
       "      <th>71230</th>\n",
       "      <td>71230</td>\n",
       "      <td>988236</td>\n",
       "      <td>2.0</td>\n",
       "      <td>1548018000</td>\n",
       "    </tr>\n",
       "  </tbody>\n",
       "</table>\n",
       "<p>71231 rows × 4 columns</p>\n",
       "</div>"
      ],
      "text/plain": [
       "       Unnamed: 0       id  vas_id    buy_time\n",
       "0               0  3130519     2.0  1548018000\n",
       "1               1  2000860     4.0  1548018000\n",
       "2               2  1099444     2.0  1546808400\n",
       "3               3  1343255     5.0  1547413200\n",
       "4               4  1277040     2.0  1546808400\n",
       "...           ...      ...     ...         ...\n",
       "71226       71226  2502453     5.0  1548018000\n",
       "71227       71227  1693213     2.0  1548018000\n",
       "71228       71228  1891350     2.0  1548018000\n",
       "71229       71229  2437172     2.0  1548018000\n",
       "71230       71230   988236     2.0  1548018000\n",
       "\n",
       "[71231 rows x 4 columns]"
      ]
     },
     "execution_count": 6,
     "metadata": {},
     "output_type": "execute_result"
    }
   ],
   "source": [
    "url = 'https://drive.google.com/file/d/1hV75oShmYKDsKGK05UXAaiJFLZWuRQ3m/view?usp=sharing'\n",
    "file_id = url.split('/')[-2]\n",
    "dwn_url = 'https://drive.google.com/uc?id=' + file_id\n",
    "test = pd.read_csv(dwn_url)\n",
    "test"
   ]
  },
  {
   "cell_type": "code",
   "execution_count": null,
   "metadata": {
    "id": "1tyDA68Bvb4P"
   },
   "outputs": [],
   "source": [
    "train.drop(['Unnamed: 0'], axis=1, inplace=True)\n",
    "test.drop(['Unnamed: 0'], axis=1, inplace=True)\n",
    "train['buy_time'] = train['buy_time'].apply(lambda data: date.fromtimestamp(data))\n",
    "test['buy_time'] = test['buy_time'].apply(lambda data: date.fromtimestamp(data))"
   ]
  },
  {
   "cell_type": "code",
   "execution_count": null,
   "metadata": {
    "colab": {
     "base_uri": "https://localhost:8080/"
    },
    "id": "QGVnSNkvjzjz",
    "outputId": "41934de4-0c91-4f40-9f3e-1850d0d7cc1a"
   },
   "outputs": [
    {
     "name": "stdout",
     "output_type": "stream",
     "text": [
      "<class 'pandas.core.frame.DataFrame'>\n",
      "RangeIndex: 831653 entries, 0 to 831652\n",
      "Data columns (total 4 columns):\n",
      " #   Column    Non-Null Count   Dtype  \n",
      "---  ------    --------------   -----  \n",
      " 0   id        831653 non-null  int64  \n",
      " 1   vas_id    831653 non-null  float64\n",
      " 2   buy_time  831653 non-null  object \n",
      " 3   target    831653 non-null  float64\n",
      "dtypes: float64(2), int64(1), object(1)\n",
      "memory usage: 25.4+ MB\n"
     ]
    }
   ],
   "source": [
    "train.info()"
   ]
  },
  {
   "cell_type": "code",
   "execution_count": null,
   "metadata": {
    "colab": {
     "base_uri": "https://localhost:8080/"
    },
    "id": "Gpiqz2fuj0yp",
    "outputId": "4ce9a1a3-05a4-42c7-d7c6-8e0912c4efe1"
   },
   "outputs": [
    {
     "name": "stdout",
     "output_type": "stream",
     "text": [
      "<class 'pandas.core.frame.DataFrame'>\n",
      "RangeIndex: 71231 entries, 0 to 71230\n",
      "Data columns (total 3 columns):\n",
      " #   Column    Non-Null Count  Dtype  \n",
      "---  ------    --------------  -----  \n",
      " 0   id        71231 non-null  int64  \n",
      " 1   vas_id    71231 non-null  float64\n",
      " 2   buy_time  71231 non-null  object \n",
      "dtypes: float64(1), int64(1), object(1)\n",
      "memory usage: 1.6+ MB\n"
     ]
    }
   ],
   "source": [
    "test.info()"
   ]
  },
  {
   "cell_type": "code",
   "execution_count": null,
   "metadata": {
    "colab": {
     "base_uri": "https://localhost:8080/"
    },
    "id": "puGkFQ8HUxmi",
    "outputId": "8ea812b9-ee18-43e2-8cd0-32cade669a59"
   },
   "outputs": [
    {
     "name": "stdout",
     "output_type": "stream",
     "text": [
      "Downloading...\n",
      "From: https://drive.google.com/uc?id=1d7ICyzw3OoY3OCJ5MZ0MXzsZ1hF7zdD9\n",
      "To: /content/features.csv.zip\n",
      "100% 2.39G/2.39G [00:27<00:00, 86.6MB/s]\n"
     ]
    }
   ],
   "source": [
    "!gdown --id  1d7ICyzw3OoY3OCJ5MZ0MXzsZ1hF7zdD9"
   ]
  },
  {
   "cell_type": "code",
   "execution_count": null,
   "metadata": {
    "colab": {
     "base_uri": "https://localhost:8080/"
    },
    "id": "9uM-3uHqa1BO",
    "outputId": "268768c8-e47d-4f0c-af31-3a8c048d0e40"
   },
   "outputs": [
    {
     "name": "stdout",
     "output_type": "stream",
     "text": [
      "Archive:  ./features.csv.zip\n",
      "  inflating: ./features.csv          \n"
     ]
    }
   ],
   "source": [
    "!find . -type f -name 'features.csv.zip' -exec unzip {}  'features.csv' -d \"./\" \\;"
   ]
  },
  {
   "cell_type": "code",
   "execution_count": null,
   "metadata": {
    "id": "K5LPtVFzy9HO"
   },
   "outputs": [],
   "source": [
    "dask_df = ddf.read_csv('features.csv', sep='\\t')"
   ]
  },
  {
   "cell_type": "code",
   "execution_count": null,
   "metadata": {
    "colab": {
     "base_uri": "https://localhost:8080/",
     "height": 622
    },
    "id": "JnBjfviN1Dgi",
    "outputId": "7fe231dc-a8d3-4bcf-fe20-eb1cc824b14b"
   },
   "outputs": [
    {
     "data": {
      "text/plain": [
       "<matplotlib.axes._subplots.AxesSubplot at 0x7fac3a626790>"
      ]
     },
     "execution_count": 23,
     "metadata": {},
     "output_type": "execute_result"
    },
    {
     "data": {
      "image/png": "[encoded data removed]",
      "text/plain": [
       "<Figure size 864x720 with 2 Axes>"
      ]
     },
     "metadata": {},
     "output_type": "display_data"
    }
   ],
   "source": [
    "# plt, ax = plt.subplots(figsize=(12, 10))\n",
    "# sns.heatmap(dask_df.corr(),ax=ax)"
   ]
  },
  {
   "cell_type": "code",
   "execution_count": null,
   "metadata": {
    "id": "UAgrwISkyTLh"
   },
   "outputs": [],
   "source": [
    "def truncate_features(df_features, train, test):\n",
    "    user_ids = np.unique(train['id'].append(test['id']))\n",
    "    df_features = df_features[df_features['id'].isin(user_ids)]\n",
    "\n",
    "    cols = df_features.columns\n",
    "    corr_threshold = 0.5\n",
    "    corr = df_features[cols].corr().abs().values\n",
    "    corr = corr.compute_chunk_sizes()\n",
    "    corr = da.triu(corr)\n",
    "    out = (corr != 1) & (corr > corr_threshold)\n",
    "    out = out.compute()\n",
    "    cols_to_remove = []\n",
    "    for o in out:\n",
    "      cols_to_remove += cols[o].to_list()\n",
    "    cols_to_remove = list(set(cols_to_remove))\n",
    "    if 'id' in cols_to_remove:\n",
    "      cols_to_remove = cols_to_remove.drop(['id'], axis=1)\n",
    "    df_features = df_features.drop(cols_to_remove, axis=1)\n",
    "\n",
    "    if 'Unnamed: 0' in df_features:\n",
    "        df_features = df_features.drop(columns='Unnamed: 0')\n",
    "    df_features = df_features.compute()\n",
    "\n",
    "    df_nunique = df_features.apply(lambda x: x.nunique(dropna=False))\n",
    "    const = df_nunique[df_nunique == 1].index.tolist()\n",
    "    df_features = df_features.drop(columns = const)\n",
    "    return df_features"
   ]
  },
  {
   "cell_type": "code",
   "execution_count": null,
   "metadata": {
    "id": "FFNF2OY_ytzM"
   },
   "outputs": [],
   "source": [
    "features = truncate_features(dask_df, train, test)"
   ]
  },
  {
   "cell_type": "code",
   "execution_count": null,
   "metadata": {
    "colab": {
     "base_uri": "https://localhost:8080/",
     "height": 200
    },
    "id": "H-iO1cUrVQnc",
    "outputId": "3d74b49d-e359-4f14-c133-f08e81856cec"
   },
   "outputs": [
    {
     "data": {
      "text/html": [
       "<div>\n",
       "<style scoped>\n",
       "    .dataframe tbody tr th:only-of-type {\n",
       "        vertical-align: middle;\n",
       "    }\n",
       "\n",
       "    .dataframe tbody tr th {\n",
       "        vertical-align: top;\n",
       "    }\n",
       "\n",
       "    .dataframe thead th {\n",
       "        text-align: right;\n",
       "    }\n",
       "</style>\n",
       "<table border=\"1\" class=\"dataframe\">\n",
       "  <thead>\n",
       "    <tr style=\"text-align: right;\">\n",
       "      <th></th>\n",
       "      <th>43</th>\n",
       "      <th>47</th>\n",
       "      <th>97</th>\n",
       "      <th>127</th>\n",
       "      <th>149</th>\n",
       "    </tr>\n",
       "  </thead>\n",
       "  <tbody>\n",
       "    <tr>\n",
       "      <th>13</th>\n",
       "      <td>276.621311</td>\n",
       "      <td>-6.994502</td>\n",
       "      <td>-0.348913</td>\n",
       "      <td>-0.060451</td>\n",
       "      <td>-0.007024</td>\n",
       "    </tr>\n",
       "    <tr>\n",
       "      <th>16</th>\n",
       "      <td>-0.028689</td>\n",
       "      <td>-7.909355</td>\n",
       "      <td>-0.348913</td>\n",
       "      <td>-0.060451</td>\n",
       "      <td>-0.007024</td>\n",
       "    </tr>\n",
       "    <tr>\n",
       "      <th>19</th>\n",
       "      <td>-119.662019</td>\n",
       "      <td>-7.997875</td>\n",
       "      <td>-0.348913</td>\n",
       "      <td>-0.040451</td>\n",
       "      <td>-0.007024</td>\n",
       "    </tr>\n",
       "    <tr>\n",
       "      <th>20</th>\n",
       "      <td>-117.462020</td>\n",
       "      <td>-7.152420</td>\n",
       "      <td>-0.348913</td>\n",
       "      <td>-0.060451</td>\n",
       "      <td>-0.007024</td>\n",
       "    </tr>\n",
       "    <tr>\n",
       "      <th>22</th>\n",
       "      <td>51.871321</td>\n",
       "      <td>-7.874517</td>\n",
       "      <td>-0.348913</td>\n",
       "      <td>-0.060451</td>\n",
       "      <td>-0.007024</td>\n",
       "    </tr>\n",
       "  </tbody>\n",
       "</table>\n",
       "</div>"
      ],
      "text/plain": [
       "            43        47        97       127       149\n",
       "13  276.621311 -6.994502 -0.348913 -0.060451 -0.007024\n",
       "16   -0.028689 -7.909355 -0.348913 -0.060451 -0.007024\n",
       "19 -119.662019 -7.997875 -0.348913 -0.040451 -0.007024\n",
       "20 -117.462020 -7.152420 -0.348913 -0.060451 -0.007024\n",
       "22   51.871321 -7.874517 -0.348913 -0.060451 -0.007024"
      ]
     },
     "execution_count": 23,
     "metadata": {},
     "output_type": "execute_result"
    }
   ],
   "source": [
    "features.head()"
   ]
  },
  {
   "cell_type": "code",
   "execution_count": null,
   "metadata": {
    "id": "vXmiDLZr73hf"
   },
   "outputs": [],
   "source": [
    "features = pd.read_csv('features.csv', sep='\\t',\n",
    "        usecols=['id', '43',\t'47',\t'97',\t'127',\t'149'])"
   ]
  },
  {
   "cell_type": "code",
   "execution_count": null,
   "metadata": {
    "id": "jfpG45Z1ixUS"
   },
   "outputs": [],
   "source": [
    "train = pd.merge_asof(train.sort_values(by=['id']),\n",
    "                      features.sort_values(by=['id']), \n",
    "                      on='id',\n",
    "                      direction='nearest')"
   ]
  },
  {
   "cell_type": "code",
   "execution_count": null,
   "metadata": {
    "id": "jDAch75rqhCv"
   },
   "outputs": [],
   "source": [
    "train_data, valid_data = train_test_split(train, \n",
    "                                          test_size=0.2,\n",
    "                                          random_state=42)"
   ]
  },
  {
   "cell_type": "code",
   "execution_count": null,
   "metadata": {
    "id": "4fKYJulBrBhk"
   },
   "outputs": [],
   "source": [
    "def f1_metric(y_true, y_pred):\n",
    "    return f1_score(y_true, (y_pred > 0.5).astype(int))\n",
    "\n",
    "task = Task('binary', metric = f1_metric)"
   ]
  },
  {
   "cell_type": "code",
   "execution_count": null,
   "metadata": {
    "id": "ELIKuPHhrIEE"
   },
   "outputs": [],
   "source": [
    "automl = TabularAutoML(task = task, \n",
    "                       timeout = 600,\n",
    "                       cpu_limit = os_cpu,\n",
    "                       general_params = {'use_algos': [['linear_l2', 'lgb', 'lgb_tuned']]})"
   ]
  },
  {
   "cell_type": "code",
   "execution_count": null,
   "metadata": {
    "colab": {
     "background_save": true
    },
    "id": "uBqqHdSDunSO"
   },
   "outputs": [],
   "source": [
    "train_pred = automl.fit_predict(train_data, roles = {'target': 'target', 'drop': 'buy_time'})\n",
    "valid_pred = automl.predict(valid_data)"
   ]
  },
  {
   "cell_type": "code",
   "execution_count": 35,
   "metadata": {
    "colab": {
     "base_uri": "https://localhost:8080/"
    },
    "id": "bwMOAWFgvFHE",
    "outputId": "6fe6379b-1b75-4e3f-d009-b007d38c6a48"
   },
   "outputs": [
    {
     "name": "stdout",
     "output_type": "stream",
     "text": [
      "TRAIN acc: 0.9273194032363277\n",
      "VALID acc: 0.9276623118961589\n",
      "f1_score acc: 0.4812709144833479\n"
     ]
    }
   ],
   "source": [
    "def acc_score(y_true, y_pred):\n",
    "    return accuracy_score(y_true, (y_pred > 0.5).astype(int))\n",
    "\n",
    "print('TRAIN acc: {}'.format(acc_score(train_data['target'].values, train_pred.data[:, 0])))\n",
    "print('VALID acc: {}'.format(acc_score(valid_data['target'].values, valid_pred.data[:, 0])))\n",
    "print('f1_score acc: {}'.format(f1_score(valid_data['target'], (valid_pred.data[:, 0].astype(int)), average='macro')))"
   ]
  },
  {
   "cell_type": "code",
   "execution_count": 36,
   "metadata": {
    "id": "iFZkaj81vRQW"
   },
   "outputs": [],
   "source": [
    "automl = TabularUtilizedAutoML(task = task, \n",
    "                       timeout = 600,\n",
    "                       cpu_limit = os_cpu,\n",
    "                       general_params = {'use_algos': [['linear_l2', 'lgb', 'cb'], ['lgb_tuned', 'cb']]})"
   ]
  },
  {
   "cell_type": "code",
   "execution_count": 37,
   "metadata": {
    "id": "SApwZGJ0xu2v"
   },
   "outputs": [],
   "source": [
    "train_pred = automl.fit_predict(train_data, roles = {'target': 'target', 'drop': 'buy_time'})\n",
    "valid_pred = automl.predict(valid_data)"
   ]
  },
  {
   "cell_type": "code",
   "execution_count": 38,
   "metadata": {
    "colab": {
     "base_uri": "https://localhost:8080/"
    },
    "id": "UAUnT6lExxFo",
    "outputId": "6f350e46-7ffe-4dae-ada0-558b6da678c2"
   },
   "outputs": [
    {
     "name": "stdout",
     "output_type": "stream",
     "text": [
      "TRAIN acc: 0.9274020699751399\n",
      "VALID acc: 0.9277705298471121\n",
      "f1_score acc: 0.4812709144833479\n"
     ]
    }
   ],
   "source": [
    "print('TRAIN acc: {}'.format(acc_score(train_data['target'].values, train_pred.data[:, 0])))\n",
    "print('VALID acc: {}'.format(acc_score(valid_data['target'].values, valid_pred.data[:, 0])))\n",
    "print('f1_score acc: {}'.format(f1_score(valid_data['target'], (valid_pred.data[:, 0].astype(int)), average='macro')))"
   ]
  },
  {
   "cell_type": "code",
   "execution_count": 40,
   "metadata": {
    "id": "tIOXP1acyTly"
   },
   "outputs": [],
   "source": [
    "train = pd.merge_asof(train.sort_values(by=['id']), \n",
    "                      features.sort_values(by=['id']), \n",
    "                      on='id', \n",
    "                      direction='backward')"
   ]
  },
  {
   "cell_type": "code",
   "execution_count": 41,
   "metadata": {
    "id": "ZD6pXNi1yadD"
   },
   "outputs": [],
   "source": [
    "train_data, valid_data = train_test_split(train, \n",
    "                                          test_size=0.2, \n",
    "                                          random_state=42)"
   ]
  },
  {
   "cell_type": "code",
   "execution_count": 42,
   "metadata": {
    "id": "ZyXdCjgzzBEu"
   },
   "outputs": [],
   "source": [
    "automl = TabularAutoML(task = task, \n",
    "                       timeout = 600,\n",
    "                       cpu_limit = os_cpu,\n",
    "                       general_params = {'use_algos': [['linear_l2', 'lgb', 'lgb_tuned']]})"
   ]
  },
  {
   "cell_type": "code",
   "execution_count": 43,
   "metadata": {
    "id": "2RmRd0uKzLUG"
   },
   "outputs": [],
   "source": [
    "train_pred = automl.fit_predict(train_data, roles = {'target': 'target', 'drop': 'buy_time'})\n",
    "valid_pred = automl.predict(valid_data)"
   ]
  },
  {
   "cell_type": "code",
   "execution_count": 44,
   "metadata": {
    "colab": {
     "base_uri": "https://localhost:8080/"
    },
    "id": "Ad99oKmMzVzm",
    "outputId": "54b872a0-1d04-4099-db53-47bc4de97898"
   },
   "outputs": [
    {
     "name": "stdout",
     "output_type": "stream",
     "text": [
      "TRAIN acc: 0.9272803244143437\n",
      "VALID acc: 0.9274759365361839\n",
      "f1_score acc: 0.481212669400995\n"
     ]
    }
   ],
   "source": [
    "print('TRAIN acc: {}'.format(acc_score(train_data['target'].values, train_pred.data[:, 0])))\n",
    "print('VALID acc: {}'.format(acc_score(valid_data['target'].values, valid_pred.data[:, 0])))\n",
    "print('f1_score acc: {}'.format(f1_score(valid_data['target'], (valid_pred.data[:, 0].astype(int)), average='macro')))"
   ]
  },
  {
   "cell_type": "code",
   "execution_count": 45,
   "metadata": {
    "id": "PEQG3Ah5zwti"
   },
   "outputs": [],
   "source": [
    "automl = TabularUtilizedAutoML(task = task, \n",
    "                       timeout = 600,\n",
    "                       cpu_limit = os_cpu,\n",
    "                       general_params = {'use_algos': [['linear_l2', 'lgb', 'cb'], ['lgb_tuned', 'cb']]})"
   ]
  },
  {
   "cell_type": "code",
   "execution_count": 46,
   "metadata": {
    "id": "ypY704bGz18o"
   },
   "outputs": [],
   "source": [
    "train_pred = automl.fit_predict(train_data, roles = {'target': 'target', 'drop': 'buy_time'})\n",
    "valid_pred = automl.predict(valid_data)"
   ]
  },
  {
   "cell_type": "code",
   "execution_count": 47,
   "metadata": {
    "colab": {
     "base_uri": "https://localhost:8080/"
    },
    "id": "1bfKsSuZz59Q",
    "outputId": "dd3df7fe-a882-4182-8a2c-319a281c4a5f"
   },
   "outputs": [
    {
     "name": "stdout",
     "output_type": "stream",
     "text": [
      "TRAIN acc: 0.9274712094294192\n",
      "VALID acc: 0.9272354522007322\n",
      "f1_score acc: 0.481212669400995\n"
     ]
    }
   ],
   "source": [
    "print('TRAIN acc: {}'.format(acc_score(train_data['target'].values, train_pred.data[:, 0])))\n",
    "print('VALID acc: {}'.format(acc_score(valid_data['target'].values, valid_pred.data[:, 0])))\n",
    "print('f1_score acc: {}'.format(f1_score(valid_data['target'], (valid_pred.data[:, 0].astype(int)), average='macro')))"
   ]
  },
  {
   "cell_type": "code",
   "execution_count": 48,
   "metadata": {
    "id": "lsL3r-at0Jy8"
   },
   "outputs": [],
   "source": [
    "train = pd.merge_asof(train.sort_values(by=['id']), \n",
    "                      features.sort_values(by=['id']),\n",
    "                      on='id', \n",
    "                      direction='forward')"
   ]
  },
  {
   "cell_type": "code",
   "execution_count": 49,
   "metadata": {
    "id": "rJ4ZGAMQ0RzV"
   },
   "outputs": [],
   "source": [
    "train_data, valid_data = train_test_split(train, \n",
    "                                          test_size=0.2,\n",
    "                                          random_state=42)"
   ]
  },
  {
   "cell_type": "code",
   "execution_count": 50,
   "metadata": {
    "id": "jrUAMG9z0ZU0"
   },
   "outputs": [],
   "source": [
    "automl = TabularAutoML(task = task, \n",
    "                       timeout = 600,\n",
    "                       cpu_limit = os_cpu,\n",
    "                       general_params = {'use_algos': [['linear_l2', 'lgb', 'lgb_tuned']]})"
   ]
  },
  {
   "cell_type": "code",
   "execution_count": 51,
   "metadata": {
    "id": "dfiFp30F0gFr"
   },
   "outputs": [],
   "source": [
    "train_pred = automl.fit_predict(train_data, roles = {'target': 'target', 'drop': 'buy_time'})"
   ]
  },
  {
   "cell_type": "code",
   "execution_count": 52,
   "metadata": {
    "id": "zgfXmJFf0mQ-"
   },
   "outputs": [],
   "source": [
    "valid_pred = automl.predict(valid_data)"
   ]
  },
  {
   "cell_type": "code",
   "execution_count": 53,
   "metadata": {
    "colab": {
     "base_uri": "https://localhost:8080/"
    },
    "id": "J9CStH4i0oc4",
    "outputId": "13c6ef9b-e226-4f0d-ee03-e991fe6cffcc"
   },
   "outputs": [
    {
     "name": "stdout",
     "output_type": "stream",
     "text": [
      "TRAIN acc: 0.9271570758219329\n",
      "VALID acc: 0.9275540939452056\n",
      "f1_score acc: 0.48126929674099483\n"
     ]
    }
   ],
   "source": [
    "print('TRAIN acc: {}'.format(acc_score(train_data['target'].values, train_pred.data[:, 0])))\n",
    "print('VALID acc: {}'.format(acc_score(valid_data['target'].values, valid_pred.data[:, 0])))\n",
    "print('f1_score acc: {}'.format(f1_score(valid_data['target'], (valid_pred.data[:, 0].astype(int)), average='macro')))"
   ]
  },
  {
   "cell_type": "code",
   "execution_count": 54,
   "metadata": {
    "id": "EvvO0Oew1AVM"
   },
   "outputs": [],
   "source": [
    "automl = TabularUtilizedAutoML(task = task, \n",
    "                       timeout = 600,\n",
    "                       cpu_limit = os_cpu,\n",
    "                       general_params = {'use_algos': [['linear_l2', 'lgb', 'cb'], ['lgb_tuned', 'cb']]})"
   ]
  },
  {
   "cell_type": "code",
   "execution_count": 55,
   "metadata": {
    "id": "CregKu1t1HcM"
   },
   "outputs": [],
   "source": [
    "train_pred = automl.fit_predict(train_data, roles = {'target': 'target', 'drop': 'buy_time'})\n",
    "valid_pred = automl.predict(valid_data)"
   ]
  },
  {
   "cell_type": "code",
   "execution_count": 58,
   "metadata": {
    "colab": {
     "base_uri": "https://localhost:8080/"
    },
    "id": "Af9XgWlP1Nun",
    "outputId": "d7d0c769-02ea-44b2-db1b-15b2d722b6b9"
   },
   "outputs": [
    {
     "name": "stdout",
     "output_type": "stream",
     "text": [
      "TRAIN acc: 0.9273825305641479\n",
      "VALID acc: 0.9277344571967944\n",
      "f1_score acc: 0.48126929674099483\n"
     ]
    }
   ],
   "source": [
    "print('TRAIN acc: {}'.format(acc_score(train_data['target'].values, train_pred.data[:, 0])))\n",
    "print('VALID acc: {}'.format(acc_score(valid_data['target'].values, valid_pred.data[:, 0])))\n",
    "print('f1_score acc: {}'.format(f1_score(valid_data['target'], (valid_pred.data[:, 0].astype(int)), average='macro')))"
   ]
  },
  {
   "cell_type": "code",
   "execution_count": 59,
   "metadata": {
    "id": "aDPUYCWZVt39"
   },
   "outputs": [],
   "source": [
    "X_train, X_test, y_train, y_test = train_test_split(train.drop(['target', 'buy_time'], axis=1),\n",
    "                                                    train['target'], test_size=0.2, shuffle=True,random_state=42)\n",
    "\n",
    "params = {\n",
    "        \"objective\": \"binary:logistic\",\n",
    "        \"booster\" : \"gbtree\",\n",
    "        \"eval_metric\": \"auc\",\n",
    "        \"seed\": 42,\n",
    "        'use_label_encoder': False\n",
    "    }"
   ]
  },
  {
   "cell_type": "code",
   "execution_count": 60,
   "metadata": {
    "colab": {
     "base_uri": "https://localhost:8080/"
    },
    "id": "O3Bmh5HQWdQM",
    "outputId": "0d687a63-a99a-46f3-e0aa-4da12db65473"
   },
   "outputs": [
    {
     "data": {
      "text/plain": [
       "XGBClassifier(eval_metric='auc', seed=42, use_label_encoder=False)"
      ]
     },
     "execution_count": 60,
     "metadata": {},
     "output_type": "execute_result"
    }
   ],
   "source": [
    "model = xgb.XGBClassifier(**params)\n",
    "\n",
    "model.fit(X_train, y_train.astype(int))"
   ]
  },
  {
   "cell_type": "code",
   "execution_count": 61,
   "metadata": {
    "colab": {
     "base_uri": "https://localhost:8080/"
    },
    "id": "kaL0MuDSWjbl",
    "outputId": "a8f87f52-3677-4405-abbf-2ad4c645297b"
   },
   "outputs": [
    {
     "name": "stdout",
     "output_type": "stream",
     "text": [
      "Train-score: 0.4817, Test-score: 0.4814\n"
     ]
    }
   ],
   "source": [
    "train_pred = model.predict(X_train)\n",
    "test_pred = model.predict(X_test)\n",
    "\n",
    "train_score = f1_score(y_train, train_pred, average='macro')\n",
    "test_score = f1_score(y_test, test_pred, average='macro')\n",
    "\n",
    "print(f\"Train-score: {round(train_score, 4)}, Test-score: {round(test_score, 4)}\")"
   ]
  },
  {
   "cell_type": "code",
   "execution_count": 62,
   "metadata": {
    "id": "6usnqWVGW87X"
   },
   "outputs": [],
   "source": [
    "def make_cross_validation(X: pd.DataFrame,\n",
    "                          y: pd.Series,\n",
    "                          estimator: object,\n",
    "                          metric: callable,\n",
    "                          cv_strategy):\n",
    "    \"\"\"\n",
    "    Кросс-валидация.\n",
    "\n",
    "    Parameters\n",
    "    ----------\n",
    "    X: pd.DataFrame\n",
    "        Матрица признаков.\n",
    "\n",
    "    y: pd.Series\n",
    "        Вектор целевой переменной.\n",
    "\n",
    "    estimator: callable\n",
    "        Объект модели для обучения.\n",
    "\n",
    "    metric: callable\n",
    "        Метрика для оценки качества решения.\n",
    "        Ожидается, что на вход будет передана функция,\n",
    "        которая принимает 2 аргумента: y_true, y_pred.\n",
    "\n",
    "    cv_strategy: cross-validation generator\n",
    "        Объект для описания стратегии кросс-валидации.\n",
    "        Ожидается, что на вход будет передан объект типа\n",
    "        KFold или StratifiedKFold.\n",
    "\n",
    "    Returns\n",
    "    -------\n",
    "    oof_score: float\n",
    "        Значение метрики качества на OOF-прогнозах.\n",
    "\n",
    "    fold_train_scores: List[float]\n",
    "        Значение метрики качества на каждом обучающем датасете кросс-валидации.\n",
    "\n",
    "    fold_valid_scores: List[float]\n",
    "        Значение метрики качества на каждом валидационном датасете кросс-валидации.\n",
    "\n",
    "    oof_predictions: np.array\n",
    "        Прогнозы на OOF.\n",
    "\n",
    "    \"\"\"\n",
    "    estimators, fold_train_scores, fold_valid_scores = [], [], []\n",
    "    oof_predictions = np.zeros(X.shape[0])\n",
    "\n",
    "    for fold_number, (train_idx, valid_idx) in enumerate(cv_strategy.split(X, y)):\n",
    "        x_train, x_valid = X.loc[train_idx], X.loc[valid_idx]\n",
    "        y_train, y_valid = y.loc[train_idx], y.loc[valid_idx]\n",
    "\n",
    "        estimator.fit(x_train, y_train)\n",
    "        y_train_pred = estimator.predict(x_train)\n",
    "        y_valid_pred = estimator.predict(x_valid)\n",
    "\n",
    "        fold_train_scores.append(metric(y_train, y_train_pred))\n",
    "        fold_valid_scores.append(metric(y_valid, y_valid_pred))\n",
    "        oof_predictions[valid_idx] = y_valid_pred\n",
    "\n",
    "        msg = (\n",
    "            f\"Fold: {fold_number+1}, train-observations = {len(train_idx)}, \"\n",
    "            f\"valid-observations = {len(valid_idx)}\\n\"\n",
    "            f\"train-score = {round(fold_train_scores[fold_number], 4)}, \"\n",
    "            f\"valid-score = {round(fold_valid_scores[fold_number], 4)}\" \n",
    "        )\n",
    "        print(msg)\n",
    "        print(\"=\"*69)\n",
    "        estimators.append(estimator)\n",
    "\n",
    "    oof_score = metric(y, oof_predictions)\n",
    "    print(f\"CV-results train: {round(np.mean(fold_train_scores), 4)} +/- {round(np.std(fold_train_scores), 3)}\")\n",
    "    print(f\"CV-results valid: {round(np.mean(fold_valid_scores), 4)} +/- {round(np.std(fold_valid_scores), 3)}\")\n",
    "    print(f\"OOF-score = {round(oof_score, 4)}\")\n",
    "\n",
    "    return estimators, oof_score, fold_train_scores, fold_valid_scores, oof_predictions"
   ]
  },
  {
   "cell_type": "code",
   "execution_count": 63,
   "metadata": {
    "colab": {
     "base_uri": "https://localhost:8080/"
    },
    "id": "uF05yJzqYb5a",
    "outputId": "c6dfb4f9-af67-4655-82b3-3a7778e703be"
   },
   "outputs": [
    {
     "name": "stdout",
     "output_type": "stream",
     "text": [
      "Fold: 1, train-observations = 748487, valid-observations = 83166\n",
      "train-score = 0.4827, valid-score = 0.5716\n",
      "=====================================================================\n",
      "Fold: 2, train-observations = 748487, valid-observations = 83166\n",
      "train-score = 0.4819, valid-score = 0.4756\n",
      "=====================================================================\n",
      "Fold: 3, train-observations = 748487, valid-observations = 83166\n",
      "train-score = 0.4824, valid-score = 0.4777\n",
      "=====================================================================\n",
      "Fold: 4, train-observations = 748488, valid-observations = 83165\n",
      "train-score = 0.4821, valid-score = 0.4786\n",
      "=====================================================================\n",
      "Fold: 5, train-observations = 748488, valid-observations = 83165\n",
      "train-score = 0.4819, valid-score = 0.4805\n",
      "=====================================================================\n",
      "Fold: 6, train-observations = 748488, valid-observations = 83165\n",
      "train-score = 0.4819, valid-score = 0.4819\n",
      "=====================================================================\n",
      "Fold: 7, train-observations = 748488, valid-observations = 83165\n",
      "train-score = 0.4815, valid-score = 0.4834\n",
      "=====================================================================\n",
      "Fold: 8, train-observations = 748488, valid-observations = 83165\n",
      "train-score = 0.4814, valid-score = 0.4849\n",
      "=====================================================================\n",
      "Fold: 9, train-observations = 748488, valid-observations = 83165\n",
      "train-score = 0.4811, valid-score = 0.4867\n",
      "=====================================================================\n",
      "Fold: 10, train-observations = 748488, valid-observations = 83165\n",
      "train-score = 0.481, valid-score = 0.4879\n",
      "=====================================================================\n",
      "CV-results train: 0.4818 +/- 0.001\n",
      "CV-results valid: 0.4909 +/- 0.027\n",
      "OOF-score = 0.4967\n"
     ]
    }
   ],
   "source": [
    "def f1_score_macro(true, pred):\n",
    "    return f1_score(true, pred.astype(int), average='macro')\n",
    "\n",
    "cv_strategy = KFold(n_splits=10)\n",
    "\n",
    "estimators, oof_score, fold_train_scores, fold_valid_scores, oof_predictions = make_cross_validation(\n",
    "    train.drop(['target', 'buy_time'], axis=1), \n",
    "    train['target'],\n",
    "    model, \n",
    "    metric=f1_score_macro, \n",
    "    cv_strategy=cv_strategy\n",
    ")"
   ]
  },
  {
   "cell_type": "code",
   "execution_count": 65,
   "metadata": {
    "colab": {
     "base_uri": "https://localhost:8080/"
    },
    "id": "ZRMXt75HZt_M",
    "outputId": "ed2a5d59-259b-4a99-8b39-6e43c949f585"
   },
   "outputs": [
    {
     "name": "stdout",
     "output_type": "stream",
     "text": [
      "Fold: 1, train-observations = 748487, valid-observations = 83166\n",
      "train-score = 0.4827, valid-score = 0.5716\n",
      "=====================================================================\n",
      "Fold: 2, train-observations = 748487, valid-observations = 83166\n",
      "train-score = 0.4819, valid-score = 0.4756\n",
      "=====================================================================\n",
      "Fold: 3, train-observations = 748487, valid-observations = 83166\n",
      "train-score = 0.4824, valid-score = 0.4777\n",
      "=====================================================================\n",
      "Fold: 4, train-observations = 748488, valid-observations = 83165\n",
      "train-score = 0.4821, valid-score = 0.4786\n",
      "=====================================================================\n",
      "Fold: 5, train-observations = 748488, valid-observations = 83165\n",
      "train-score = 0.4819, valid-score = 0.4805\n",
      "=====================================================================\n",
      "Fold: 6, train-observations = 748488, valid-observations = 83165\n",
      "train-score = 0.4819, valid-score = 0.4819\n",
      "=====================================================================\n",
      "Fold: 7, train-observations = 748488, valid-observations = 83165\n",
      "train-score = 0.4815, valid-score = 0.4834\n",
      "=====================================================================\n",
      "Fold: 8, train-observations = 748488, valid-observations = 83165\n",
      "train-score = 0.4814, valid-score = 0.4849\n",
      "=====================================================================\n",
      "Fold: 9, train-observations = 748488, valid-observations = 83165\n",
      "train-score = 0.4811, valid-score = 0.4867\n",
      "=====================================================================\n",
      "Fold: 10, train-observations = 748488, valid-observations = 83165\n",
      "train-score = 0.481, valid-score = 0.4879\n",
      "=====================================================================\n",
      "CV-results train: 0.4818 +/- 0.001\n",
      "CV-results valid: 0.4909 +/- 0.027\n",
      "OOF-score = 0.4967\n"
     ]
    }
   ],
   "source": [
    "def f1_score_macro_threshold(true, pred):\n",
    "    return f1_score(true, np.where(pred > 0.3, 1, 0), average='macro')\n",
    "\n",
    "estimators, oof_score, fold_train_scores, fold_valid_scores, oof_predictions = make_cross_validation(\n",
    "    train.drop(['target', 'buy_time'], axis=1), \n",
    "    train['target'],\n",
    "    model, \n",
    "    metric=f1_score_macro_threshold, \n",
    "    cv_strategy=cv_strategy\n",
    ")"
   ]
  },
  {
   "cell_type": "code",
   "execution_count": 66,
   "metadata": {
    "colab": {
     "base_uri": "https://localhost:8080/"
    },
    "id": "eLKFZZw9eS16",
    "outputId": "7dbbc114-0c09-4758-a567-27b3ee5063af"
   },
   "outputs": [
    {
     "name": "stdout",
     "output_type": "stream",
     "text": [
      "Fold: 1, train-observations = 748487, valid-observations = 83166\n",
      "train-score = 0.4827, valid-score = 0.5716\n",
      "=====================================================================\n",
      "Fold: 2, train-observations = 748487, valid-observations = 83166\n",
      "train-score = 0.4819, valid-score = 0.4756\n",
      "=====================================================================\n",
      "Fold: 3, train-observations = 748487, valid-observations = 83166\n",
      "train-score = 0.4824, valid-score = 0.4777\n",
      "=====================================================================\n",
      "Fold: 4, train-observations = 748488, valid-observations = 83165\n",
      "train-score = 0.4821, valid-score = 0.4786\n",
      "=====================================================================\n",
      "Fold: 5, train-observations = 748488, valid-observations = 83165\n",
      "train-score = 0.4819, valid-score = 0.4805\n",
      "=====================================================================\n",
      "Fold: 6, train-observations = 748488, valid-observations = 83165\n",
      "train-score = 0.4819, valid-score = 0.4819\n",
      "=====================================================================\n",
      "Fold: 7, train-observations = 748488, valid-observations = 83165\n",
      "train-score = 0.4815, valid-score = 0.4834\n",
      "=====================================================================\n",
      "Fold: 8, train-observations = 748488, valid-observations = 83165\n",
      "train-score = 0.4814, valid-score = 0.4849\n",
      "=====================================================================\n",
      "Fold: 9, train-observations = 748488, valid-observations = 83165\n",
      "train-score = 0.4811, valid-score = 0.4867\n",
      "=====================================================================\n",
      "Fold: 10, train-observations = 748488, valid-observations = 83165\n",
      "train-score = 0.481, valid-score = 0.4879\n",
      "=====================================================================\n",
      "CV-results train: 0.4818 +/- 0.001\n",
      "CV-results valid: 0.4909 +/- 0.027\n",
      "OOF-score = 0.4967\n"
     ]
    }
   ],
   "source": [
    "params = {\n",
    "        \"objective\": \"binary:logistic\",\n",
    "        \"booster\" : \"dart\",\n",
    "        \"eval_metric\": \"auc\",\n",
    "        \"seed\": 42,\n",
    "        'use_label_encoder': False\n",
    "    }\n",
    "\n",
    "model = xgb.XGBClassifier(**params)\n",
    "\n",
    "estimators, oof_score, fold_train_scores, fold_valid_scores, oof_predictions = make_cross_validation(\n",
    "    train.drop(['target', 'buy_time'], axis=1), \n",
    "    train['target'],\n",
    "    model, \n",
    "    metric=f1_score_macro, \n",
    "    cv_strategy=cv_strategy\n",
    ")"
   ]
  },
  {
   "cell_type": "code",
   "execution_count": 67,
   "metadata": {
    "colab": {
     "base_uri": "https://localhost:8080/"
    },
    "id": "OLawOi4Je4at",
    "outputId": "7ecc4ac6-88fc-486e-8686-b1c87b50ad7b"
   },
   "outputs": [
    {
     "name": "stdout",
     "output_type": "stream",
     "text": [
      "Fold: 1, train-observations = 748487, valid-observations = 83166\n",
      "train-score = 0.4827, valid-score = 0.5716\n",
      "=====================================================================\n",
      "Fold: 2, train-observations = 748487, valid-observations = 83166\n",
      "train-score = 0.4819, valid-score = 0.4756\n",
      "=====================================================================\n",
      "Fold: 3, train-observations = 748487, valid-observations = 83166\n",
      "train-score = 0.4824, valid-score = 0.4777\n",
      "=====================================================================\n",
      "Fold: 4, train-observations = 748488, valid-observations = 83165\n",
      "train-score = 0.4821, valid-score = 0.4786\n",
      "=====================================================================\n",
      "Fold: 5, train-observations = 748488, valid-observations = 83165\n",
      "train-score = 0.4819, valid-score = 0.4805\n",
      "=====================================================================\n",
      "Fold: 6, train-observations = 748488, valid-observations = 83165\n",
      "train-score = 0.4819, valid-score = 0.4819\n",
      "=====================================================================\n",
      "Fold: 7, train-observations = 748488, valid-observations = 83165\n",
      "train-score = 0.4815, valid-score = 0.4834\n",
      "=====================================================================\n",
      "Fold: 8, train-observations = 748488, valid-observations = 83165\n",
      "train-score = 0.4814, valid-score = 0.4849\n",
      "=====================================================================\n",
      "Fold: 9, train-observations = 748488, valid-observations = 83165\n",
      "train-score = 0.4811, valid-score = 0.4867\n",
      "=====================================================================\n",
      "Fold: 10, train-observations = 748488, valid-observations = 83165\n",
      "train-score = 0.481, valid-score = 0.4879\n",
      "=====================================================================\n",
      "CV-results train: 0.4818 +/- 0.001\n",
      "CV-results valid: 0.4909 +/- 0.027\n",
      "OOF-score = 0.4967\n"
     ]
    }
   ],
   "source": [
    "estimators, oof_score, fold_train_scores, fold_valid_scores, oof_predictions = make_cross_validation(\n",
    "    train.drop(['target', 'buy_time'], axis=1), \n",
    "    train['target'],\n",
    "    model, \n",
    "    metric=f1_score_macro_threshold, \n",
    "    cv_strategy=cv_strategy\n",
    ")"
   ]
  },
  {
   "cell_type": "code",
   "execution_count": 68,
   "metadata": {
    "id": "KGVt_NiTem4A"
   },
   "outputs": [],
   "source": [
    "url = 'https://drive.google.com/file/d/1SoE3gMljG0I8bbke0Oi68GOHYiIszU6Y/view?usp=sharing'\n",
    "file_id = url.split('/')[-2]\n",
    "dwn_url = 'https://drive.google.com/uc?id=' + file_id\n",
    "train = pd.read_csv(dwn_url)\n",
    "\n",
    "train.drop(['Unnamed: 0'], axis=1, inplace=True)\n",
    "train['buy_time'] = train['buy_time'].apply(lambda data: date.fromtimestamp(data))"
   ]
  },
  {
   "cell_type": "code",
   "execution_count": 69,
   "metadata": {
    "colab": {
     "base_uri": "https://localhost:8080/"
    },
    "id": "Pow7o7ddfMXQ",
    "outputId": "e353b88c-18cf-4ab0-82cc-2921dd7595c3"
   },
   "outputs": [
    {
     "data": {
      "text/plain": [
       "XGBClassifier(eval_metric='auc', seed=42, use_label_encoder=False)"
      ]
     },
     "execution_count": 69,
     "metadata": {},
     "output_type": "execute_result"
    }
   ],
   "source": [
    "params = {\n",
    "        \"objective\": \"binary:logistic\",\n",
    "        \"booster\" : \"gbtree\",\n",
    "        \"eval_metric\": \"auc\",\n",
    "        \"seed\": 42,\n",
    "        'use_label_encoder': False\n",
    "    }\n",
    "\n",
    "model = xgb.XGBClassifier(**params)\n",
    "\n",
    "model.fit(train.drop(['target', 'buy_time'], axis=1),\n",
    "          train['target']\n",
    "         )"
   ]
  },
  {
   "cell_type": "code",
   "execution_count": 70,
   "metadata": {
    "id": "KWZvGLZLfTTc"
   },
   "outputs": [],
   "source": [
    "train_pred = model.predict(train[['id', 'vas_id']])\n",
    "test_pred = model.predict(test.drop(['buy_time'], axis=1))"
   ]
  },
  {
   "cell_type": "code",
   "execution_count": 71,
   "metadata": {
    "colab": {
     "base_uri": "https://localhost:8080/"
    },
    "id": "WldRPG_RfUv5",
    "outputId": "642aa321-b43f-442f-e916-1a3d3359353c"
   },
   "outputs": [
    {
     "data": {
      "text/plain": [
       "0.48161573671789887"
      ]
     },
     "execution_count": 71,
     "metadata": {},
     "output_type": "execute_result"
    }
   ],
   "source": [
    "def f1_score_macro(true, pred):\n",
    "    return f1_score(true, pred.astype(int), average='macro')\n",
    "\n",
    "f1_score_macro(train['target'], train_pred)"
   ]
  },
  {
   "cell_type": "code",
   "execution_count": 72,
   "metadata": {
    "id": "gsz0VeLTfivm"
   },
   "outputs": [],
   "source": [
    "with open('model.pkl', 'wb') as file:\n",
    "    pickle.dump(model, file)"
   ]
  },
  {
   "cell_type": "code",
   "execution_count": 73,
   "metadata": {
    "id": "-cJHMmz1fpHX"
   },
   "outputs": [],
   "source": [
    "answer_test = test.copy()\n",
    "answer_test['target'] = test_pred.copy()"
   ]
  },
  {
   "cell_type": "code",
   "execution_count": 74,
   "metadata": {
    "id": "7H5Bs8CKfqT3"
   },
   "outputs": [],
   "source": [
    "answer_test.to_csv('answers_test.csv')"
   ]
  },
  {
   "cell_type": "code",
   "execution_count": null,
   "metadata": {
    "id": "UHrf5GVtfvYh"
   },
   "outputs": [],
   "source": []
  }
 ],
 "metadata": {
  "colab": {
   "collapsed_sections": [],
   "name": "megafon_eminence.ipynb",
   "provenance": []
  },
  "kernelspec": {
   "display_name": "Python 3",
   "language": "python",
   "name": "python3"
  },
  "language_info": {
   "codemirror_mode": {
    "name": "ipython",
    "version": 3
   },
   "file_extension": ".py",
   "mimetype": "text/x-python",
   "name": "python",
   "nbconvert_exporter": "python",
   "pygments_lexer": "ipython3",
   "version": "3.7.6"
  }
 },
 "nbformat": 4,
 "nbformat_minor": 1
}
